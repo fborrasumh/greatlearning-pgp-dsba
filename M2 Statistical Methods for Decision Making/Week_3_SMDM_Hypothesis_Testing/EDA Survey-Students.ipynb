{
 "cells": [
  {
   "cell_type": "code",
   "execution_count": 7,
   "metadata": {
    "ExecuteTime": {
     "end_time": "2020-05-12T11:47:55.417913Z",
     "start_time": "2020-05-12T11:47:55.409808Z"
    }
   },
   "outputs": [],
   "source": [
    "import numpy as np \n",
    "import pandas as pd \n",
    "import matplotlib as plt "
   ]
  },
  {
   "cell_type": "code",
   "execution_count": 16,
   "metadata": {},
   "outputs": [
    {
     "data": {
      "text/plain": [
       "(62, 14)"
      ]
     },
     "execution_count": 16,
     "metadata": {},
     "output_type": "execute_result"
    }
   ],
   "source": [
    "data = pd.read_csv('Survey-1.csv')\n",
    "data.shape"
   ]
  },
  {
   "cell_type": "markdown",
   "metadata": {},
   "source": [
    "'ID', 'Gender', 'Age', 'Class', 'Major', 'Grad Intention', 'GPA',\n",
    "       'Employment', 'Salary', 'Social Networking', 'Satisfaction', 'Spending',\n",
    "       'Computer', 'Text Messages'"
   ]
  },
  {
   "cell_type": "markdown",
   "metadata": {},
   "source": [
    "#### 2.1.1. Gender and Major"
   ]
  },
  {
   "cell_type": "code",
   "execution_count": 64,
   "metadata": {},
   "outputs": [
    {
     "name": "stdout",
     "output_type": "stream",
     "text": [
      "Major   Accounting  CIS  Economics/Finance  International Business  \\\n",
      "Gender                                                               \n",
      "Female           3    3                  7                       4   \n",
      "Male             4    1                  4                       2   \n",
      "\n",
      "Major   Management  Other  Retailing/Marketing  Undecided  \n",
      "Gender                                                     \n",
      "Female           4      3                    9          0  \n",
      "Male             6      4                    5          3  \n"
     ]
    }
   ],
   "source": [
    "data_211 = pd.crosstab(data['Gender'],data['Major'],margins = False) \n",
    "print(data_211) "
   ]
  },
  {
   "cell_type": "markdown",
   "metadata": {},
   "source": [
    "#### 2.1.2. Gender and Grad Intention"
   ]
  },
  {
   "cell_type": "code",
   "execution_count": 65,
   "metadata": {},
   "outputs": [
    {
     "name": "stdout",
     "output_type": "stream",
     "text": [
      "Grad Intention  No  Undecided  Yes\n",
      "Gender                            \n",
      "Female           9         13   11\n",
      "Male             3          9   17\n"
     ]
    }
   ],
   "source": [
    "data_212 = pd.crosstab(data['Gender'],data['Grad Intention'],margins = False) \n",
    "print(data_212) "
   ]
  },
  {
   "cell_type": "markdown",
   "metadata": {},
   "source": [
    "#### 2.1.3. Gender and Employment"
   ]
  },
  {
   "cell_type": "code",
   "execution_count": 66,
   "metadata": {},
   "outputs": [
    {
     "name": "stdout",
     "output_type": "stream",
     "text": [
      "Employment  Full-Time  Part-Time  Unemployed\n",
      "Gender                                      \n",
      "Female              3         24           6\n",
      "Male                7         19           3\n"
     ]
    }
   ],
   "source": [
    "data_213 = pd.crosstab(data['Gender'],data['Employment'],margins = False) \n",
    "print(data_213) "
   ]
  },
  {
   "cell_type": "markdown",
   "metadata": {},
   "source": [
    "#### 2.1.4. Gender and Computer"
   ]
  },
  {
   "cell_type": "code",
   "execution_count": 67,
   "metadata": {},
   "outputs": [
    {
     "name": "stdout",
     "output_type": "stream",
     "text": [
      "Computer  Desktop  Laptop  Tablet\n",
      "Gender                           \n",
      "Female          2      29       2\n",
      "Male            3      26       0\n"
     ]
    }
   ],
   "source": [
    "data_214 = pd.crosstab(data['Gender'],data['Computer'],margins = False) \n",
    "print(data_214) "
   ]
  },
  {
   "cell_type": "markdown",
   "metadata": {},
   "source": [
    "#### 2.2.1. What is the probability that a randomly selected CMSU student will be male?"
   ]
  },
  {
   "cell_type": "code",
   "execution_count": 94,
   "metadata": {},
   "outputs": [
    {
     "name": "stdout",
     "output_type": "stream",
     "text": [
      "Probability that a randomly selected CMSU student will be male is  46.77 %\n"
     ]
    }
   ],
   "source": [
    "prob221 = round(data.groupby('Gender').count()['ID']['Male']/data.shape[0]*100,2)\n",
    "print('Probability that a randomly selected CMSU student will be male is ',prob221,'%')"
   ]
  },
  {
   "cell_type": "markdown",
   "metadata": {},
   "source": [
    "#### 2.2.2. What is the probability that a randomly selected CMSU student will be female?"
   ]
  },
  {
   "cell_type": "code",
   "execution_count": 95,
   "metadata": {},
   "outputs": [
    {
     "name": "stdout",
     "output_type": "stream",
     "text": [
      "Probability that a randomly selected CMSU student will be Female is  53.23 %\n"
     ]
    }
   ],
   "source": [
    "prob222 = round(data.groupby('Gender').count()['ID']['Female']/data.shape[0]*100,2)\n",
    "print('Probability that a randomly selected CMSU student will be Female is ',prob222,'%')"
   ]
  },
  {
   "cell_type": "markdown",
   "metadata": {},
   "source": [
    "#### 2.3.1. Find the conditional probability of different majors among the male students in CMSU."
   ]
  },
  {
   "cell_type": "code",
   "execution_count": 144,
   "metadata": {},
   "outputs": [
    {
     "name": "stdout",
     "output_type": "stream",
     "text": [
      "The conditional probability of different majors among the male students in CMSU is as below\n",
      " Accounting:  57.14 \n",
      " CIS:  25.0 \n",
      " Economics/Finance:  36.36 \n",
      " International Business:  33.33 \n",
      " Management:  60.0 \n",
      " Other:  57.14 \n",
      " Retailing/Marketing:  35.71 \n",
      " Undecided:  100.0\n"
     ]
    }
   ],
   "source": [
    "print('The conditional probability of different majors among the male students in CMSU is as below\\n Accounting: ',round(data.groupby(['Major','Gender'])['Gender'].count()[1]/data.groupby('Major').count()['ID']['Accounting']*100,2),\n",
    "'\\n CIS: ',round(data.groupby(['Major','Gender'])['Gender'].count()[3]/data.groupby('Major').count()['ID']['CIS']*100,2),\n",
    "'\\n Economics/Finance: ',round(data.groupby(['Major','Gender'])['Gender'].count()[5]/data.groupby('Major').count()['ID']['Economics/Finance']*100,2),\n",
    "'\\n International Business: ',round(data.groupby(['Major','Gender'])['Gender'].count()[7]/data.groupby('Major').count()['ID']['International Business']*100,2),\n",
    "'\\n Management: ',round(data.groupby(['Major','Gender'])['Gender'].count()[9]/data.groupby('Major').count()['ID']['Management']*100,2),\n",
    "'\\n Other: ',round(data.groupby(['Major','Gender'])['Gender'].count()[11]/data.groupby('Major').count()['ID']['Other']*100,2),\n",
    "'\\n Retailing/Marketing: ',round(data.groupby(['Major','Gender'])['Gender'].count()[13]/data.groupby('Major').count()['ID']['Retailing/Marketing']*100,2),\n",
    "'\\n Undecided: ',round(data.groupby(['Major','Gender'])['Gender'].count()[14]/data.groupby('Major').count()['ID']['Undecided']*100,2))"
   ]
  },
  {
   "cell_type": "markdown",
   "metadata": {},
   "source": [
    "#### 2.3.2 Find the conditional probability of different majors among the female students of CMSU."
   ]
  },
  {
   "cell_type": "code",
   "execution_count": 146,
   "metadata": {},
   "outputs": [
    {
     "name": "stdout",
     "output_type": "stream",
     "text": [
      "The conditional probability of different majors among the female students in CMSU is as below\n",
      " Accounting:  42.86 \n",
      " CIS:  75.0 \n",
      " Economics/Finance:  63.64 \n",
      " International Business:  66.67 \n",
      " Management:  40.0 \n",
      " Other:  42.86 \n",
      " Retailing/Marketing:  64.29 \n",
      " Undecided:  0.0\n"
     ]
    }
   ],
   "source": [
    "print('The conditional probability of different majors among the female students in CMSU is as below\\n Accounting: ',round(data.groupby(['Major','Gender'])['Gender'].count()[0]/data.groupby('Major').count()['ID']['Accounting']*100,2),\n",
    "'\\n CIS: ',round(data.groupby(['Major','Gender'])['Gender'].count()[2]/data.groupby('Major').count()['ID']['CIS']*100,2),\n",
    "'\\n Economics/Finance: ',round(data.groupby(['Major','Gender'])['Gender'].count()[4]/data.groupby('Major').count()['ID']['Economics/Finance']*100,2),\n",
    "'\\n International Business: ',round(data.groupby(['Major','Gender'])['Gender'].count()[6]/data.groupby('Major').count()['ID']['International Business']*100,2),\n",
    "'\\n Management: ',round(data.groupby(['Major','Gender'])['Gender'].count()[8]/data.groupby('Major').count()['ID']['Management']*100,2),\n",
    "'\\n Other: ',round(data.groupby(['Major','Gender'])['Gender'].count()[10]/data.groupby('Major').count()['ID']['Other']*100,2),\n",
    "'\\n Retailing/Marketing: ',round(data.groupby(['Major','Gender'])['Gender'].count()[12]/data.groupby('Major').count()['ID']['Retailing/Marketing']*100,2),\n",
    "'\\n Undecided: ',round(0/data.groupby('Major').count()['ID']['Undecided']*100,2))"
   ]
  },
  {
   "cell_type": "markdown",
   "metadata": {},
   "source": [
    "#### 2.4.1. Find the probability That a randomly chosen student is a male and intends to graduate."
   ]
  },
  {
   "cell_type": "code",
   "execution_count": 22,
   "metadata": {},
   "outputs": [
    {
     "name": "stdout",
     "output_type": "stream",
     "text": [
      "probability That a randomly chosen student is a male and intends to graduate is 58.62\n"
     ]
    }
   ],
   "source": [
    "total_males = data.groupby('Gender').count()['ID']['Male'];\n",
    "intention_graducation = data.groupby(['Gender','Grad Intention'])['Gender'].count()['Male']['Yes'];\n",
    "prob241 = intention_graducation/total_males*100\n",
    "print(\"Probability That a randomly chosen student is a male and intends to graduate is\",round(prob241,2))"
   ]
  },
  {
   "cell_type": "markdown",
   "metadata": {},
   "source": [
    "#### 2.4.2 Find the probability that a randomly selected student is a female and does NOT have a laptop."
   ]
  },
  {
   "cell_type": "code",
   "execution_count": 47,
   "metadata": {},
   "outputs": [
    {
     "name": "stdout",
     "output_type": "stream",
     "text": [
      "The probability that a randomly selected student is a female and does NOT have a laptop 12.12\n"
     ]
    }
   ],
   "source": [
    "total_females = data.groupby('Gender').count()['ID']['Female']\n",
    "total_females_withlaptop = data.groupby(['Gender','Computer'])['Gender'].count()['Female']['Laptop']\n",
    "prob242 = round((1-(total_females_withlaptop/total_females))*100,2)\n",
    "print(\"The probability that a randomly selected student is a female and does NOT have a laptop\",prob242)"
   ]
  },
  {
   "cell_type": "markdown",
   "metadata": {},
   "source": [
    "#### 2.5.1. Find the probability that a randomly chosen student is either a male or has full-time employment?"
   ]
  },
  {
   "cell_type": "code",
   "execution_count": 39,
   "metadata": {},
   "outputs": [
    {
     "name": "stdout",
     "output_type": "stream",
     "text": [
      "The probability that a randomly chosen student is either a male or has full-time employment is 14.32\n"
     ]
    }
   ],
   "source": [
    "total_males = data.groupby('Gender').count()['ID']['Male']\n",
    "total_males_fulltimeemploy = data.groupby(['Gender','Employment'])['Gender'].count()['Male']['Full-Time']\n",
    "print('The probability that a randomly chosen student is either a male or has full-time employment is',round((1/total_males)+(1/total_males_fulltimeemploy)*100,2))"
   ]
  },
  {
   "cell_type": "markdown",
   "metadata": {},
   "source": [
    "#### 2.5.2. Find the conditional probability that given a female student is randomly chosen, she is majoring in international business or management."
   ]
  },
  {
   "cell_type": "code",
   "execution_count": 15,
   "metadata": {},
   "outputs": [
    {
     "name": "stdout",
     "output_type": "stream",
     "text": [
      "The conditional probability that given a female student is randomly chosen, she is majoring in international business or management is 24.0\n"
     ]
    }
   ],
   "source": [
    "total_females = data.groupby('Gender').count()['ID']['Female']\n",
    "total_females_interBiz = data.groupby(['Gender','Major'])['Gender'].count()['Female']['International Business']\n",
    "total_females_manage = data.groupby(['Gender','Major'])['Gender'].count()['Female']['Management']\n",
    "print('The conditional probability that given a female student is randomly chosen, she is majoring in international business or management is',(round((total_females_interBiz+total_females_manage)/total_females,2)*100))"
   ]
  },
  {
   "cell_type": "markdown",
   "metadata": {},
   "source": [
    "#### 2.6.1. If a student is chosen randomly, what is the probability that his/her GPA is less than 3?"
   ]
  },
  {
   "cell_type": "code",
   "execution_count": 49,
   "metadata": {},
   "outputs": [
    {
     "name": "stdout",
     "output_type": "stream",
     "text": [
      "If a student is chosen randomly, the probability that his/her GPA is less than 3 is 27.0\n"
     ]
    }
   ],
   "source": [
    "total_student = data.shape[0]\n",
    "tatal_students_less3gpa = data[data['GPA'] < 3]['ID'].count()\n",
    "print('If a student is chosen randomly, the probability that his/her GPA is less than 3 is',round((tatal_students_less3gpa / total_student),2)*100)\n"
   ]
  },
  {
   "cell_type": "markdown",
   "metadata": {},
   "source": [
    "#### 2.6.2. Find the conditional probability that a randomly selected male earns 50 or more. Find the conditional probability that a randomly selected female earns 50 or more."
   ]
  },
  {
   "cell_type": "code",
   "execution_count": 68,
   "metadata": {},
   "outputs": [
    {
     "name": "stdout",
     "output_type": "stream",
     "text": [
      "The conditional probability that a randomly selected male earns 50 or more is 48.28\n"
     ]
    }
   ],
   "source": [
    "total_males = data.groupby('Gender').count()['ID']['Male']\n",
    "tatal_students_salarygt50 = data[(data['Salary'] > 49.99) & (data['Gender'] == 'Male')].count()[0]\n",
    "print(\"The conditional probability that a randomly selected male earns 50 or more is\",round((tatal_students_salarygt50/total_males)*100,2))"
   ]
  },
  {
   "cell_type": "code",
   "execution_count": 69,
   "metadata": {},
   "outputs": [
    {
     "name": "stdout",
     "output_type": "stream",
     "text": [
      "The conditional probability that a randomly selected female earns 50 or more is 54.55\n"
     ]
    }
   ],
   "source": [
    "total_males = data.groupby('Gender').count()['ID']['Female']\n",
    "tatal_students_salarygt50 = data[(data['Salary'] > 49.99) & (data['Gender'] == 'Female')].count()[0]\n",
    "print(\"The conditional probability that a randomly selected female earns 50 or more is\",round((tatal_students_salarygt50/total_males)*100,2))"
   ]
  },
  {
   "cell_type": "markdown",
   "metadata": {},
   "source": [
    "#### 2.8. Note that there are four numerical (continuous) variables in the data set, GPA, Salary, Spending, and Text Messages. For each of them comment whether they follow a normal distribution. Write a note summarizing your conclusions."
   ]
  },
  {
   "cell_type": "code",
   "execution_count": 81,
   "metadata": {},
   "outputs": [
    {
     "data": {
      "image/png": "[encoded data removed]",
      "text/plain": [
       "<Figure size 1080x864 with 4 Axes>"
      ]
     },
     "metadata": {
      "needs_background": "light"
     },
     "output_type": "display_data"
    }
   ],
   "source": [
    "data[['GPA','Salary','Spending','Text Messages']].hist(figsize=(15,12));"
   ]
  },
  {
   "cell_type": "code",
   "execution_count": null,
   "metadata": {},
   "outputs": [],
   "source": []
  }
 ],
 "metadata": {
  "kernelspec": {
   "display_name": "Python 3",
   "language": "python",
   "name": "python3"
  },
  "language_info": {
   "codemirror_mode": {
    "name": "ipython",
    "version": 3
   },
   "file_extension": ".py",
   "mimetype": "text/x-python",
   "name": "python",
   "nbconvert_exporter": "python",
   "pygments_lexer": "ipython3",
   "version": "3.7.6"
  },
  "toc": {
   "base_numbering": 1,
   "nav_menu": {},
   "number_sections": true,
   "sideBar": true,
   "skip_h1_title": false,
   "title_cell": "Table of Contents",
   "title_sidebar": "Contents",
   "toc_cell": false,
   "toc_position": {},
   "toc_section_display": true,
   "toc_window_display": false
  },
  "varInspector": {
   "cols": {
    "lenName": 16,
    "lenType": 16,
    "lenVar": 40
   },
   "kernels_config": {
    "python": {
     "delete_cmd_postfix": "",
     "delete_cmd_prefix": "del ",
     "library": "var_list.py",
     "varRefreshCmd": "print(var_dic_list())"
    },
    "r": {
     "delete_cmd_postfix": ") ",
     "delete_cmd_prefix": "rm(",
     "library": "var_list.r",
     "varRefreshCmd": "cat(var_dic_list()) "
    }
   },
   "types_to_exclude": [
    "module",
    "function",
    "builtin_function_or_method",
    "instance",
    "_Feature"
   ],
   "window_display": false
  }
 },
 "nbformat": 4,
 "nbformat_minor": 2
}
