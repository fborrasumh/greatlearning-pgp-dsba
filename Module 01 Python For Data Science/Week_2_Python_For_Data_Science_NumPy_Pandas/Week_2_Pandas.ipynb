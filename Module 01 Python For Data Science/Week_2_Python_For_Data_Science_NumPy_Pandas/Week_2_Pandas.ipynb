{
 "cells": [
  {
   "cell_type": "code",
   "execution_count": 4,
   "metadata": {},
   "outputs": [],
   "source": [
    "import numpy as np\n",
    "import pandas as pd"
   ]
  },
  {
   "cell_type": "code",
   "execution_count": 7,
   "metadata": {},
   "outputs": [],
   "source": [
    "mylist=[1,2,3.1,4,5]\n",
    "myarray=np.array(mylist)"
   ]
  },
  {
   "cell_type": "code",
   "execution_count": 13,
   "metadata": {
    "tags": []
   },
   "outputs": [
    {
     "output_type": "stream",
     "name": "stdout",
     "text": "0    1.0\n1    2.0\n2    3.1\n3    4.0\n4    5.0\ndtype: float64 \n 0    1.0\n1    2.0\n2    3.1\n3    4.0\n4    5.0\ndtype: float64 \n first     1.0\nsecond    2.0\nthird     3.1\nforth     4.0\nfifth     5.0\ndtype: float64\n"
    }
   ],
   "source": [
    "myseries1=pd.Series(data=mylist)\n",
    "myseries2=pd.Series(data=myarray)\n",
    "mylabels=['first','second','third','forth','fifth']\n",
    "myseries3=pd.Series(data=mylist,index=mylabels)\n",
    "print(myseries1,'\\n',myseries2,'\\n',myseries3)"
   ]
  },
  {
   "cell_type": "code",
   "execution_count": 17,
   "metadata": {
    "tags": []
   },
   "outputs": [
    {
     "output_type": "stream",
     "name": "stdout",
     "text": "fifth    NaN\nfirst    NaN\nfive     NaN\nforth    NaN\nfour     NaN\none      NaN\nsecond   NaN\nthird    NaN\nthree    NaN\ntwo      NaN\ndtype: float64\n"
    }
   ],
   "source": [
    "myseries4=pd.Series([1,2,3,4,5],['one','two','three','four','five'])\n",
    "print(myseries3+myseries4)"
   ]
  },
  {
   "cell_type": "code",
   "execution_count": 20,
   "metadata": {},
   "outputs": [
    {
     "output_type": "execute_result",
     "data": {
      "text/plain": "          0    1\none     1.0  NaN\ntwo     2.0  NaN\nthree   3.0  NaN\nfour    4.0  NaN\nfive    5.0  NaN\nfirst   NaN  1.0\nsecond  NaN  2.0\nthird   NaN  3.1\nforth   NaN  4.0\nfifth   NaN  5.0",
      "text/html": "<div>\n<style scoped>\n    .dataframe tbody tr th:only-of-type {\n        vertical-align: middle;\n    }\n\n    .dataframe tbody tr th {\n        vertical-align: top;\n    }\n\n    .dataframe thead th {\n        text-align: right;\n    }\n</style>\n<table border=\"1\" class=\"dataframe\">\n  <thead>\n    <tr style=\"text-align: right;\">\n      <th></th>\n      <th>0</th>\n      <th>1</th>\n    </tr>\n  </thead>\n  <tbody>\n    <tr>\n      <th>one</th>\n      <td>1.0</td>\n      <td>NaN</td>\n    </tr>\n    <tr>\n      <th>two</th>\n      <td>2.0</td>\n      <td>NaN</td>\n    </tr>\n    <tr>\n      <th>three</th>\n      <td>3.0</td>\n      <td>NaN</td>\n    </tr>\n    <tr>\n      <th>four</th>\n      <td>4.0</td>\n      <td>NaN</td>\n    </tr>\n    <tr>\n      <th>five</th>\n      <td>5.0</td>\n      <td>NaN</td>\n    </tr>\n    <tr>\n      <th>first</th>\n      <td>NaN</td>\n      <td>1.0</td>\n    </tr>\n    <tr>\n      <th>second</th>\n      <td>NaN</td>\n      <td>2.0</td>\n    </tr>\n    <tr>\n      <th>third</th>\n      <td>NaN</td>\n      <td>3.1</td>\n    </tr>\n    <tr>\n      <th>forth</th>\n      <td>NaN</td>\n      <td>4.0</td>\n    </tr>\n    <tr>\n      <th>fifth</th>\n      <td>NaN</td>\n      <td>5.0</td>\n    </tr>\n  </tbody>\n</table>\n</div>"
     },
     "metadata": {},
     "execution_count": 20
    }
   ],
   "source": [
    "df1 = pd.concat([myseries4,myseries3],axis=1,sort=False)\n",
    "df1"
   ]
  },
  {
   "cell_type": "code",
   "execution_count": 23,
   "metadata": {},
   "outputs": [
    {
     "output_type": "execute_result",
     "data": {
      "text/plain": "          0         1         2         3         4\n0  1.818844  0.247649 -0.307451  0.146550  0.762101\n1  0.563775  0.417790  0.536830  0.166455  0.652604\n2 -0.028378 -0.771922 -0.586059 -0.369446  0.949667\n3 -0.734324  0.110766  0.791847  0.012157 -0.394968\n4 -1.682466  0.093241  0.939853 -2.146856  0.639860",
      "text/html": "<div>\n<style scoped>\n    .dataframe tbody tr th:only-of-type {\n        vertical-align: middle;\n    }\n\n    .dataframe tbody tr th {\n        vertical-align: top;\n    }\n\n    .dataframe thead th {\n        text-align: right;\n    }\n</style>\n<table border=\"1\" class=\"dataframe\">\n  <thead>\n    <tr style=\"text-align: right;\">\n      <th></th>\n      <th>0</th>\n      <th>1</th>\n      <th>2</th>\n      <th>3</th>\n      <th>4</th>\n    </tr>\n  </thead>\n  <tbody>\n    <tr>\n      <th>0</th>\n      <td>1.818844</td>\n      <td>0.247649</td>\n      <td>-0.307451</td>\n      <td>0.146550</td>\n      <td>0.762101</td>\n    </tr>\n    <tr>\n      <th>1</th>\n      <td>0.563775</td>\n      <td>0.417790</td>\n      <td>0.536830</td>\n      <td>0.166455</td>\n      <td>0.652604</td>\n    </tr>\n    <tr>\n      <th>2</th>\n      <td>-0.028378</td>\n      <td>-0.771922</td>\n      <td>-0.586059</td>\n      <td>-0.369446</td>\n      <td>0.949667</td>\n    </tr>\n    <tr>\n      <th>3</th>\n      <td>-0.734324</td>\n      <td>0.110766</td>\n      <td>0.791847</td>\n      <td>0.012157</td>\n      <td>-0.394968</td>\n    </tr>\n    <tr>\n      <th>4</th>\n      <td>-1.682466</td>\n      <td>0.093241</td>\n      <td>0.939853</td>\n      <td>-2.146856</td>\n      <td>0.639860</td>\n    </tr>\n  </tbody>\n</table>\n</div>"
     },
     "metadata": {},
     "execution_count": 23
    }
   ],
   "source": [
    "df2 = pd.DataFrame(np.random.randn(5,5))\n",
    "df2"
   ]
  },
  {
   "cell_type": "code",
   "execution_count": 28,
   "metadata": {},
   "outputs": [
    {
     "output_type": "execute_result",
     "data": {
      "text/plain": "          1c        2c        3c        4c        5c\n1r -1.191954  0.928743 -0.722547 -0.630100 -0.377382\n2r  2.081956 -0.156313 -0.566144  0.693742 -1.693138\n3r -0.826936  1.154003 -1.099493  1.304615  2.567018\n4r  0.205647 -1.852375  1.243721  0.620811  0.785214\n5r  1.348710 -1.524598 -0.092266  0.427600 -0.411211",
      "text/html": "<div>\n<style scoped>\n    .dataframe tbody tr th:only-of-type {\n        vertical-align: middle;\n    }\n\n    .dataframe tbody tr th {\n        vertical-align: top;\n    }\n\n    .dataframe thead th {\n        text-align: right;\n    }\n</style>\n<table border=\"1\" class=\"dataframe\">\n  <thead>\n    <tr style=\"text-align: right;\">\n      <th></th>\n      <th>1c</th>\n      <th>2c</th>\n      <th>3c</th>\n      <th>4c</th>\n      <th>5c</th>\n    </tr>\n  </thead>\n  <tbody>\n    <tr>\n      <th>1r</th>\n      <td>-1.191954</td>\n      <td>0.928743</td>\n      <td>-0.722547</td>\n      <td>-0.630100</td>\n      <td>-0.377382</td>\n    </tr>\n    <tr>\n      <th>2r</th>\n      <td>2.081956</td>\n      <td>-0.156313</td>\n      <td>-0.566144</td>\n      <td>0.693742</td>\n      <td>-1.693138</td>\n    </tr>\n    <tr>\n      <th>3r</th>\n      <td>-0.826936</td>\n      <td>1.154003</td>\n      <td>-1.099493</td>\n      <td>1.304615</td>\n      <td>2.567018</td>\n    </tr>\n    <tr>\n      <th>4r</th>\n      <td>0.205647</td>\n      <td>-1.852375</td>\n      <td>1.243721</td>\n      <td>0.620811</td>\n      <td>0.785214</td>\n    </tr>\n    <tr>\n      <th>5r</th>\n      <td>1.348710</td>\n      <td>-1.524598</td>\n      <td>-0.092266</td>\n      <td>0.427600</td>\n      <td>-0.411211</td>\n    </tr>\n  </tbody>\n</table>\n</div>"
     },
     "metadata": {},
     "execution_count": 28
    }
   ],
   "source": [
    "df3 = pd.DataFrame(np.random.randn(5,5),('1r','2r','3r','4r','5r'),('1c','2c','3c','4c','5c'))\n",
    "df3\n",
    "# df3[['1c','3c']]"
   ]
  },
  {
   "cell_type": "code",
   "execution_count": 31,
   "metadata": {},
   "outputs": [
    {
     "output_type": "execute_result",
     "data": {
      "text/plain": "1c   -1.191954\n2c    0.928743\n3c   -0.722547\n4c   -0.630100\n5c   -0.377382\nName: 1r, dtype: float64"
     },
     "metadata": {},
     "execution_count": 31
    }
   ],
   "source": [
    "df3.loc['1r']"
   ]
  },
  {
   "cell_type": "code",
   "execution_count": 33,
   "metadata": {},
   "outputs": [
    {
     "output_type": "execute_result",
     "data": {
      "text/plain": "1c   -0.826936\n2c    1.154003\n3c   -1.099493\n4c    1.304615\n5c    2.567018\nName: 3r, dtype: float64"
     },
     "metadata": {},
     "execution_count": 33
    }
   ],
   "source": [
    "df3.iloc[2] # 2nd row"
   ]
  },
  {
   "cell_type": "code",
   "execution_count": 37,
   "metadata": {},
   "outputs": [
    {
     "output_type": "execute_result",
     "data": {
      "text/plain": "          1c        3c\n1r -1.191954 -0.722547\n3r -0.826936 -1.099493",
      "text/html": "<div>\n<style scoped>\n    .dataframe tbody tr th:only-of-type {\n        vertical-align: middle;\n    }\n\n    .dataframe tbody tr th {\n        vertical-align: top;\n    }\n\n    .dataframe thead th {\n        text-align: right;\n    }\n</style>\n<table border=\"1\" class=\"dataframe\">\n  <thead>\n    <tr style=\"text-align: right;\">\n      <th></th>\n      <th>1c</th>\n      <th>3c</th>\n    </tr>\n  </thead>\n  <tbody>\n    <tr>\n      <th>1r</th>\n      <td>-1.191954</td>\n      <td>-0.722547</td>\n    </tr>\n    <tr>\n      <th>3r</th>\n      <td>-0.826936</td>\n      <td>-1.099493</td>\n    </tr>\n  </tbody>\n</table>\n</div>"
     },
     "metadata": {},
     "execution_count": 37
    }
   ],
   "source": [
    "df3.loc[['1r','3r'],['1c','3c']]"
   ]
  },
  {
   "cell_type": "code",
   "execution_count": 39,
   "metadata": {},
   "outputs": [
    {
     "output_type": "execute_result",
     "data": {
      "text/plain": "          1c        2c        3c        4c        5c        6c\n1r -1.191954  0.928743 -0.722547 -0.630100 -0.377382  0.172531\n2r  2.081956 -0.156313 -0.566144  0.693742 -1.693138 -1.474638\n3r -0.826936  1.154003 -1.099493  1.304615  2.567018  0.421047\n4r  0.205647 -1.852375  1.243721  0.620811  0.785214 -0.608669\n5r  1.348710 -1.524598 -0.092266  0.427600 -0.411211 -0.288188",
      "text/html": "<div>\n<style scoped>\n    .dataframe tbody tr th:only-of-type {\n        vertical-align: middle;\n    }\n\n    .dataframe tbody tr th {\n        vertical-align: top;\n    }\n\n    .dataframe thead th {\n        text-align: right;\n    }\n</style>\n<table border=\"1\" class=\"dataframe\">\n  <thead>\n    <tr style=\"text-align: right;\">\n      <th></th>\n      <th>1c</th>\n      <th>2c</th>\n      <th>3c</th>\n      <th>4c</th>\n      <th>5c</th>\n      <th>6c</th>\n    </tr>\n  </thead>\n  <tbody>\n    <tr>\n      <th>1r</th>\n      <td>-1.191954</td>\n      <td>0.928743</td>\n      <td>-0.722547</td>\n      <td>-0.630100</td>\n      <td>-0.377382</td>\n      <td>0.172531</td>\n    </tr>\n    <tr>\n      <th>2r</th>\n      <td>2.081956</td>\n      <td>-0.156313</td>\n      <td>-0.566144</td>\n      <td>0.693742</td>\n      <td>-1.693138</td>\n      <td>-1.474638</td>\n    </tr>\n    <tr>\n      <th>3r</th>\n      <td>-0.826936</td>\n      <td>1.154003</td>\n      <td>-1.099493</td>\n      <td>1.304615</td>\n      <td>2.567018</td>\n      <td>0.421047</td>\n    </tr>\n    <tr>\n      <th>4r</th>\n      <td>0.205647</td>\n      <td>-1.852375</td>\n      <td>1.243721</td>\n      <td>0.620811</td>\n      <td>0.785214</td>\n      <td>-0.608669</td>\n    </tr>\n    <tr>\n      <th>5r</th>\n      <td>1.348710</td>\n      <td>-1.524598</td>\n      <td>-0.092266</td>\n      <td>0.427600</td>\n      <td>-0.411211</td>\n      <td>-0.288188</td>\n    </tr>\n  </tbody>\n</table>\n</div>"
     },
     "metadata": {},
     "execution_count": 39
    }
   ],
   "source": [
    "df3['6c']=np.random.randn(5,1)\n",
    "df3"
   ]
  },
  {
   "cell_type": "code",
   "execution_count": 42,
   "metadata": {},
   "outputs": [
    {
     "output_type": "execute_result",
     "data": {
      "text/plain": "          2c        3c        4c        5c        6c\n1r  0.928743 -0.722547 -0.630100 -0.377382  0.172531\n2r -0.156313 -0.566144  0.693742 -1.693138 -1.474638\n3r  1.154003 -1.099493  1.304615  2.567018  0.421047\n4r -1.852375  1.243721  0.620811  0.785214 -0.608669\n5r -1.524598 -0.092266  0.427600 -0.411211 -0.288188",
      "text/html": "<div>\n<style scoped>\n    .dataframe tbody tr th:only-of-type {\n        vertical-align: middle;\n    }\n\n    .dataframe tbody tr th {\n        vertical-align: top;\n    }\n\n    .dataframe thead th {\n        text-align: right;\n    }\n</style>\n<table border=\"1\" class=\"dataframe\">\n  <thead>\n    <tr style=\"text-align: right;\">\n      <th></th>\n      <th>2c</th>\n      <th>3c</th>\n      <th>4c</th>\n      <th>5c</th>\n      <th>6c</th>\n    </tr>\n  </thead>\n  <tbody>\n    <tr>\n      <th>1r</th>\n      <td>0.928743</td>\n      <td>-0.722547</td>\n      <td>-0.630100</td>\n      <td>-0.377382</td>\n      <td>0.172531</td>\n    </tr>\n    <tr>\n      <th>2r</th>\n      <td>-0.156313</td>\n      <td>-0.566144</td>\n      <td>0.693742</td>\n      <td>-1.693138</td>\n      <td>-1.474638</td>\n    </tr>\n    <tr>\n      <th>3r</th>\n      <td>1.154003</td>\n      <td>-1.099493</td>\n      <td>1.304615</td>\n      <td>2.567018</td>\n      <td>0.421047</td>\n    </tr>\n    <tr>\n      <th>4r</th>\n      <td>-1.852375</td>\n      <td>1.243721</td>\n      <td>0.620811</td>\n      <td>0.785214</td>\n      <td>-0.608669</td>\n    </tr>\n    <tr>\n      <th>5r</th>\n      <td>-1.524598</td>\n      <td>-0.092266</td>\n      <td>0.427600</td>\n      <td>-0.411211</td>\n      <td>-0.288188</td>\n    </tr>\n  </tbody>\n</table>\n</div>"
     },
     "metadata": {},
     "execution_count": 42
    }
   ],
   "source": [
    "df4 = df3.drop('1c',axis=1)\n",
    "df4"
   ]
  },
  {
   "cell_type": "code",
   "execution_count": 46,
   "metadata": {},
   "outputs": [
    {
     "output_type": "execute_result",
     "data": {
      "text/plain": "   level_0 index        2c        3c        4c        5c        6c\n0        0    1r  0.928743 -0.722547 -0.630100 -0.377382  0.172531\n1        1    2r -0.156313 -0.566144  0.693742 -1.693138 -1.474638\n2        2    3r  1.154003 -1.099493  1.304615  2.567018  0.421047\n3        3    4r -1.852375  1.243721  0.620811  0.785214 -0.608669\n4        4    5r -1.524598 -0.092266  0.427600 -0.411211 -0.288188",
      "text/html": "<div>\n<style scoped>\n    .dataframe tbody tr th:only-of-type {\n        vertical-align: middle;\n    }\n\n    .dataframe tbody tr th {\n        vertical-align: top;\n    }\n\n    .dataframe thead th {\n        text-align: right;\n    }\n</style>\n<table border=\"1\" class=\"dataframe\">\n  <thead>\n    <tr style=\"text-align: right;\">\n      <th></th>\n      <th>level_0</th>\n      <th>index</th>\n      <th>2c</th>\n      <th>3c</th>\n      <th>4c</th>\n      <th>5c</th>\n      <th>6c</th>\n    </tr>\n  </thead>\n  <tbody>\n    <tr>\n      <th>0</th>\n      <td>0</td>\n      <td>1r</td>\n      <td>0.928743</td>\n      <td>-0.722547</td>\n      <td>-0.630100</td>\n      <td>-0.377382</td>\n      <td>0.172531</td>\n    </tr>\n    <tr>\n      <th>1</th>\n      <td>1</td>\n      <td>2r</td>\n      <td>-0.156313</td>\n      <td>-0.566144</td>\n      <td>0.693742</td>\n      <td>-1.693138</td>\n      <td>-1.474638</td>\n    </tr>\n    <tr>\n      <th>2</th>\n      <td>2</td>\n      <td>3r</td>\n      <td>1.154003</td>\n      <td>-1.099493</td>\n      <td>1.304615</td>\n      <td>2.567018</td>\n      <td>0.421047</td>\n    </tr>\n    <tr>\n      <th>3</th>\n      <td>3</td>\n      <td>4r</td>\n      <td>-1.852375</td>\n      <td>1.243721</td>\n      <td>0.620811</td>\n      <td>0.785214</td>\n      <td>-0.608669</td>\n    </tr>\n    <tr>\n      <th>4</th>\n      <td>4</td>\n      <td>5r</td>\n      <td>-1.524598</td>\n      <td>-0.092266</td>\n      <td>0.427600</td>\n      <td>-0.411211</td>\n      <td>-0.288188</td>\n    </tr>\n  </tbody>\n</table>\n</div>"
     },
     "metadata": {},
     "execution_count": 46
    }
   ],
   "source": [
    "df4.reset_index(inplace=True)\n",
    "df4"
   ]
  },
  {
   "cell_type": "code",
   "execution_count": 55,
   "metadata": {},
   "outputs": [
    {
     "output_type": "execute_result",
     "data": {
      "text/plain": "  category color  customer important isnonveg   sales\n0     cat1   NaN         1         y      NaN  124.00\n1     cat2   NaN         2         n      NaN  253.00\n2     cat3   NaN         3         n      NaN   55.54\n3     cat4   NaN         4         y      NaN   89.00\n0      NaN    c1         5       NaN        y  124.00\n1      NaN    c2         6       NaN        n  253.00\n2      NaN    c3         7       NaN        n   55.54\n3      NaN    c4         8       NaN        y   89.00",
      "text/html": "<div>\n<style scoped>\n    .dataframe tbody tr th:only-of-type {\n        vertical-align: middle;\n    }\n\n    .dataframe tbody tr th {\n        vertical-align: top;\n    }\n\n    .dataframe thead th {\n        text-align: right;\n    }\n</style>\n<table border=\"1\" class=\"dataframe\">\n  <thead>\n    <tr style=\"text-align: right;\">\n      <th></th>\n      <th>category</th>\n      <th>color</th>\n      <th>customer</th>\n      <th>important</th>\n      <th>isnonveg</th>\n      <th>sales</th>\n    </tr>\n  </thead>\n  <tbody>\n    <tr>\n      <th>0</th>\n      <td>cat1</td>\n      <td>NaN</td>\n      <td>1</td>\n      <td>y</td>\n      <td>NaN</td>\n      <td>124.00</td>\n    </tr>\n    <tr>\n      <th>1</th>\n      <td>cat2</td>\n      <td>NaN</td>\n      <td>2</td>\n      <td>n</td>\n      <td>NaN</td>\n      <td>253.00</td>\n    </tr>\n    <tr>\n      <th>2</th>\n      <td>cat3</td>\n      <td>NaN</td>\n      <td>3</td>\n      <td>n</td>\n      <td>NaN</td>\n      <td>55.54</td>\n    </tr>\n    <tr>\n      <th>3</th>\n      <td>cat4</td>\n      <td>NaN</td>\n      <td>4</td>\n      <td>y</td>\n      <td>NaN</td>\n      <td>89.00</td>\n    </tr>\n    <tr>\n      <th>0</th>\n      <td>NaN</td>\n      <td>c1</td>\n      <td>5</td>\n      <td>NaN</td>\n      <td>y</td>\n      <td>124.00</td>\n    </tr>\n    <tr>\n      <th>1</th>\n      <td>NaN</td>\n      <td>c2</td>\n      <td>6</td>\n      <td>NaN</td>\n      <td>n</td>\n      <td>253.00</td>\n    </tr>\n    <tr>\n      <th>2</th>\n      <td>NaN</td>\n      <td>c3</td>\n      <td>7</td>\n      <td>NaN</td>\n      <td>n</td>\n      <td>55.54</td>\n    </tr>\n    <tr>\n      <th>3</th>\n      <td>NaN</td>\n      <td>c4</td>\n      <td>8</td>\n      <td>NaN</td>\n      <td>y</td>\n      <td>89.00</td>\n    </tr>\n  </tbody>\n</table>\n</div>"
     },
     "metadata": {},
     "execution_count": 55
    }
   ],
   "source": [
    "# Combine dataframe combine, join, merge\n",
    "df7 = pd.DataFrame({\n",
    "    \"customer\":[1,2,3,4],\n",
    "    \"category\":['cat1','cat2','cat3','cat4'],\n",
    "    \"important\":['y','n','n','y'],\n",
    "    \"sales\":[124,253,55.54,89] })\n",
    "df8 = pd.DataFrame({\n",
    "    \"customer\":[5,6,7,8],\n",
    "    \"color\":['c1','c2','c3','c4'],\n",
    "    \"isnonveg\":['y','n','n','y'],\n",
    "    \"sales\":[124,253,55.54,89] })\n",
    "pd.concat([df7,df8],axis=0,sort=True)"
   ]
  },
  {
   "cell_type": "code",
   "execution_count": 56,
   "metadata": {},
   "outputs": [
    {
     "output_type": "execute_result",
     "data": {
      "text/plain": "   customer category important   sales  customer color isnonveg   sales\n0         1     cat1         y  124.00         5    c1        y  124.00\n1         2     cat2         n  253.00         6    c2        n  253.00\n2         3     cat3         n   55.54         7    c3        n   55.54\n3         4     cat4         y   89.00         8    c4        y   89.00",
      "text/html": "<div>\n<style scoped>\n    .dataframe tbody tr th:only-of-type {\n        vertical-align: middle;\n    }\n\n    .dataframe tbody tr th {\n        vertical-align: top;\n    }\n\n    .dataframe thead th {\n        text-align: right;\n    }\n</style>\n<table border=\"1\" class=\"dataframe\">\n  <thead>\n    <tr style=\"text-align: right;\">\n      <th></th>\n      <th>customer</th>\n      <th>category</th>\n      <th>important</th>\n      <th>sales</th>\n      <th>customer</th>\n      <th>color</th>\n      <th>isnonveg</th>\n      <th>sales</th>\n    </tr>\n  </thead>\n  <tbody>\n    <tr>\n      <th>0</th>\n      <td>1</td>\n      <td>cat1</td>\n      <td>y</td>\n      <td>124.00</td>\n      <td>5</td>\n      <td>c1</td>\n      <td>y</td>\n      <td>124.00</td>\n    </tr>\n    <tr>\n      <th>1</th>\n      <td>2</td>\n      <td>cat2</td>\n      <td>n</td>\n      <td>253.00</td>\n      <td>6</td>\n      <td>c2</td>\n      <td>n</td>\n      <td>253.00</td>\n    </tr>\n    <tr>\n      <th>2</th>\n      <td>3</td>\n      <td>cat3</td>\n      <td>n</td>\n      <td>55.54</td>\n      <td>7</td>\n      <td>c3</td>\n      <td>n</td>\n      <td>55.54</td>\n    </tr>\n    <tr>\n      <th>3</th>\n      <td>4</td>\n      <td>cat4</td>\n      <td>y</td>\n      <td>89.00</td>\n      <td>8</td>\n      <td>c4</td>\n      <td>y</td>\n      <td>89.00</td>\n    </tr>\n  </tbody>\n</table>\n</div>"
     },
     "metadata": {},
     "execution_count": 56
    }
   ],
   "source": [
    "pd.concat([df7,df8],axis=1,sort=True)"
   ]
  },
  {
   "cell_type": "code",
   "execution_count": 58,
   "metadata": {},
   "outputs": [
    {
     "output_type": "execute_result",
     "data": {
      "text/plain": "   customer category important   sales color isnonveg\n0         1     cat1         y  124.00   NaN      NaN\n1         2     cat2         n  253.00   NaN      NaN\n2         3     cat3         n   55.54   NaN      NaN\n3         4     cat4         y   89.00   NaN      NaN\n0         5      NaN       NaN  124.00    c1        y\n1         6      NaN       NaN  253.00    c2        n\n2         7      NaN       NaN   55.54    c3        n\n3         8      NaN       NaN   89.00    c4        y",
      "text/html": "<div>\n<style scoped>\n    .dataframe tbody tr th:only-of-type {\n        vertical-align: middle;\n    }\n\n    .dataframe tbody tr th {\n        vertical-align: top;\n    }\n\n    .dataframe thead th {\n        text-align: right;\n    }\n</style>\n<table border=\"1\" class=\"dataframe\">\n  <thead>\n    <tr style=\"text-align: right;\">\n      <th></th>\n      <th>customer</th>\n      <th>category</th>\n      <th>important</th>\n      <th>sales</th>\n      <th>color</th>\n      <th>isnonveg</th>\n    </tr>\n  </thead>\n  <tbody>\n    <tr>\n      <th>0</th>\n      <td>1</td>\n      <td>cat1</td>\n      <td>y</td>\n      <td>124.00</td>\n      <td>NaN</td>\n      <td>NaN</td>\n    </tr>\n    <tr>\n      <th>1</th>\n      <td>2</td>\n      <td>cat2</td>\n      <td>n</td>\n      <td>253.00</td>\n      <td>NaN</td>\n      <td>NaN</td>\n    </tr>\n    <tr>\n      <th>2</th>\n      <td>3</td>\n      <td>cat3</td>\n      <td>n</td>\n      <td>55.54</td>\n      <td>NaN</td>\n      <td>NaN</td>\n    </tr>\n    <tr>\n      <th>3</th>\n      <td>4</td>\n      <td>cat4</td>\n      <td>y</td>\n      <td>89.00</td>\n      <td>NaN</td>\n      <td>NaN</td>\n    </tr>\n    <tr>\n      <th>0</th>\n      <td>5</td>\n      <td>NaN</td>\n      <td>NaN</td>\n      <td>124.00</td>\n      <td>c1</td>\n      <td>y</td>\n    </tr>\n    <tr>\n      <th>1</th>\n      <td>6</td>\n      <td>NaN</td>\n      <td>NaN</td>\n      <td>253.00</td>\n      <td>c2</td>\n      <td>n</td>\n    </tr>\n    <tr>\n      <th>2</th>\n      <td>7</td>\n      <td>NaN</td>\n      <td>NaN</td>\n      <td>55.54</td>\n      <td>c3</td>\n      <td>n</td>\n    </tr>\n    <tr>\n      <th>3</th>\n      <td>8</td>\n      <td>NaN</td>\n      <td>NaN</td>\n      <td>89.00</td>\n      <td>c4</td>\n      <td>y</td>\n    </tr>\n  </tbody>\n</table>\n</div>"
     },
     "metadata": {},
     "execution_count": 58
    }
   ],
   "source": [
    "pd.concat([df7,df8],axis=0,sort=False)"
   ]
  },
  {
   "cell_type": "code",
   "execution_count": 62,
   "metadata": {},
   "outputs": [
    {
     "output_type": "execute_result",
     "data": {
      "text/plain": "   customer category important  sales_x color isnonveg  sales_y\n0         1     cat1         y   124.00   NaN      NaN      NaN\n1         2     cat2         n   253.00   NaN      NaN      NaN\n2         3     cat3         n    55.54   NaN      NaN      NaN\n3         4     cat4         y    89.00   NaN      NaN      NaN",
      "text/html": "<div>\n<style scoped>\n    .dataframe tbody tr th:only-of-type {\n        vertical-align: middle;\n    }\n\n    .dataframe tbody tr th {\n        vertical-align: top;\n    }\n\n    .dataframe thead th {\n        text-align: right;\n    }\n</style>\n<table border=\"1\" class=\"dataframe\">\n  <thead>\n    <tr style=\"text-align: right;\">\n      <th></th>\n      <th>customer</th>\n      <th>category</th>\n      <th>important</th>\n      <th>sales_x</th>\n      <th>color</th>\n      <th>isnonveg</th>\n      <th>sales_y</th>\n    </tr>\n  </thead>\n  <tbody>\n    <tr>\n      <th>0</th>\n      <td>1</td>\n      <td>cat1</td>\n      <td>y</td>\n      <td>124.00</td>\n      <td>NaN</td>\n      <td>NaN</td>\n      <td>NaN</td>\n    </tr>\n    <tr>\n      <th>1</th>\n      <td>2</td>\n      <td>cat2</td>\n      <td>n</td>\n      <td>253.00</td>\n      <td>NaN</td>\n      <td>NaN</td>\n      <td>NaN</td>\n    </tr>\n    <tr>\n      <th>2</th>\n      <td>3</td>\n      <td>cat3</td>\n      <td>n</td>\n      <td>55.54</td>\n      <td>NaN</td>\n      <td>NaN</td>\n      <td>NaN</td>\n    </tr>\n    <tr>\n      <th>3</th>\n      <td>4</td>\n      <td>cat4</td>\n      <td>y</td>\n      <td>89.00</td>\n      <td>NaN</td>\n      <td>NaN</td>\n      <td>NaN</td>\n    </tr>\n  </tbody>\n</table>\n</div>"
     },
     "metadata": {},
     "execution_count": 62
    }
   ],
   "source": [
    "# pd.merge(df7,df8,how='inner',on='customer')\n",
    "# pd.merge(df7,df8,how='outer',on='customer')\n",
    "pd.merge(df7,df8,how='left',on='customer')"
   ]
  },
  {
   "cell_type": "code",
   "execution_count": 73,
   "metadata": {},
   "outputs": [
    {
     "output_type": "execute_result",
     "data": {
      "text/plain": "    Q3     Q4\nI7   7  55.54\nI8   8  89.00",
      "text/html": "<div>\n<style scoped>\n    .dataframe tbody tr th:only-of-type {\n        vertical-align: middle;\n    }\n\n    .dataframe tbody tr th {\n        vertical-align: top;\n    }\n\n    .dataframe thead th {\n        text-align: right;\n    }\n</style>\n<table border=\"1\" class=\"dataframe\">\n  <thead>\n    <tr style=\"text-align: right;\">\n      <th></th>\n      <th>Q3</th>\n      <th>Q4</th>\n    </tr>\n  </thead>\n  <tbody>\n    <tr>\n      <th>I7</th>\n      <td>7</td>\n      <td>55.54</td>\n    </tr>\n    <tr>\n      <th>I8</th>\n      <td>8</td>\n      <td>89.00</td>\n    </tr>\n  </tbody>\n</table>\n</div>"
     },
     "metadata": {},
     "execution_count": 73
    }
   ],
   "source": [
    "df9 = pd.DataFrame({\n",
    "    \"Q1\":[1,2,3,4],\n",
    "    \"Q2\":[124,253,55.54,89]},\n",
    "    index=['I0','I1','I2','I3'])\n",
    "df10 = pd.DataFrame({\n",
    "    \"Q3\":[5,6,7,8],\n",
    "    \"Q4\":[124,253,55.54,89]},\n",
    "    index=['I5','I6','I7','I8'])\n",
    "# df9.join(df10,how='outer')\n",
    "df9\n",
    "df10 = df10[(df10['Q3']!=5)&(df10['Q3']!=6)]\n",
    "df10"
   ]
  },
  {
   "cell_type": "code",
   "execution_count": 74,
   "metadata": {},
   "outputs": [],
   "source": [
    "def profit(s):\n",
    "    return s*0.5"
   ]
  },
  {
   "cell_type": "code",
   "execution_count": 76,
   "metadata": {},
   "outputs": [
    {
     "output_type": "execute_result",
     "data": {
      "text/plain": "I7    27.77\nI8    44.50\nName: Q4, dtype: float64"
     },
     "metadata": {},
     "execution_count": 76
    }
   ],
   "source": [
    "df10['Q4'].apply(profit)"
   ]
  },
  {
   "cell_type": "code",
   "execution_count": 78,
   "metadata": {},
   "outputs": [
    {
     "output_type": "execute_result",
     "data": {
      "text/plain": "     Q3     Q4\nI7  3.5  27.77\nI8  4.0  44.50",
      "text/html": "<div>\n<style scoped>\n    .dataframe tbody tr th:only-of-type {\n        vertical-align: middle;\n    }\n\n    .dataframe tbody tr th {\n        vertical-align: top;\n    }\n\n    .dataframe thead th {\n        text-align: right;\n    }\n</style>\n<table border=\"1\" class=\"dataframe\">\n  <thead>\n    <tr style=\"text-align: right;\">\n      <th></th>\n      <th>Q3</th>\n      <th>Q4</th>\n    </tr>\n  </thead>\n  <tbody>\n    <tr>\n      <th>I7</th>\n      <td>3.5</td>\n      <td>27.77</td>\n    </tr>\n    <tr>\n      <th>I8</th>\n      <td>4.0</td>\n      <td>44.50</td>\n    </tr>\n  </tbody>\n</table>\n</div>"
     },
     "metadata": {},
     "execution_count": 78
    }
   ],
   "source": [
    "df10.applymap(profit)"
   ]
  },
  {
   "cell_type": "code",
   "execution_count": 80,
   "metadata": {},
   "outputs": [
    {
     "output_type": "execute_result",
     "data": {
      "text/plain": "Q3     15.00\nQ4    144.54\ndtype: float64"
     },
     "metadata": {},
     "execution_count": 80
    }
   ],
   "source": [
    "df10.apply(sum)"
   ]
  },
  {
   "cell_type": "code",
   "execution_count": 85,
   "metadata": {},
   "outputs": [
    {
     "output_type": "execute_result",
     "data": {
      "text/plain": "    Q1      Q2\nI2   3   55.54\nI3   4   89.00\nI0   1  124.00\nI1   2  253.00",
      "text/html": "<div>\n<style scoped>\n    .dataframe tbody tr th:only-of-type {\n        vertical-align: middle;\n    }\n\n    .dataframe tbody tr th {\n        vertical-align: top;\n    }\n\n    .dataframe thead th {\n        text-align: right;\n    }\n</style>\n<table border=\"1\" class=\"dataframe\">\n  <thead>\n    <tr style=\"text-align: right;\">\n      <th></th>\n      <th>Q1</th>\n      <th>Q2</th>\n    </tr>\n  </thead>\n  <tbody>\n    <tr>\n      <th>I2</th>\n      <td>3</td>\n      <td>55.54</td>\n    </tr>\n    <tr>\n      <th>I3</th>\n      <td>4</td>\n      <td>89.00</td>\n    </tr>\n    <tr>\n      <th>I0</th>\n      <td>1</td>\n      <td>124.00</td>\n    </tr>\n    <tr>\n      <th>I1</th>\n      <td>2</td>\n      <td>253.00</td>\n    </tr>\n  </tbody>\n</table>\n</div>"
     },
     "metadata": {},
     "execution_count": 85
    }
   ],
   "source": [
    "df9.sort_values(by='Q2',inplace=True)\n",
    "df9"
   ]
  },
  {
   "cell_type": "code",
   "execution_count": 92,
   "metadata": {},
   "outputs": [
    {
     "output_type": "execute_result",
     "data": {
      "text/plain": "   customer  product1\np1        1     21.10\np2        2     32.60\np3        1     42.46\np4        2     33.20\np5        1     76.50\np6        2     42.43\np7        1     66.90",
      "text/html": "<div>\n<style scoped>\n    .dataframe tbody tr th:only-of-type {\n        vertical-align: middle;\n    }\n\n    .dataframe tbody tr th {\n        vertical-align: top;\n    }\n\n    .dataframe thead th {\n        text-align: right;\n    }\n</style>\n<table border=\"1\" class=\"dataframe\">\n  <thead>\n    <tr style=\"text-align: right;\">\n      <th></th>\n      <th>customer</th>\n      <th>product1</th>\n    </tr>\n  </thead>\n  <tbody>\n    <tr>\n      <th>p1</th>\n      <td>1</td>\n      <td>21.10</td>\n    </tr>\n    <tr>\n      <th>p2</th>\n      <td>2</td>\n      <td>32.60</td>\n    </tr>\n    <tr>\n      <th>p3</th>\n      <td>1</td>\n      <td>42.46</td>\n    </tr>\n    <tr>\n      <th>p4</th>\n      <td>2</td>\n      <td>33.20</td>\n    </tr>\n    <tr>\n      <th>p5</th>\n      <td>1</td>\n      <td>76.50</td>\n    </tr>\n    <tr>\n      <th>p6</th>\n      <td>2</td>\n      <td>42.43</td>\n    </tr>\n    <tr>\n      <th>p7</th>\n      <td>1</td>\n      <td>66.90</td>\n    </tr>\n  </tbody>\n</table>\n</div>"
     },
     "metadata": {},
     "execution_count": 92
    }
   ],
   "source": [
    "mydict = {\n",
    "    'customer':['1','2','1','2','1','2','1'],\n",
    "    'product1':[1.1,2.6,2.6,3.2,6.5,2.3,6.9],\n",
    "    'product1':[21.1,12.6,32.6,13.42,16.45,21.33,16.9],\n",
    "    'product1':[21.1,32.6,42.46,33.2,76.5,42.43,66.9]\n",
    "    }\n",
    "df6 = pd.DataFrame(mydict,index=['p1','p2','p3','p4','p5','p6','p7'])\n",
    "df6"
   ]
  },
  {
   "cell_type": "code",
   "execution_count": 95,
   "metadata": {},
   "outputs": [
    {
     "output_type": "execute_result",
     "data": {
      "text/plain": "         product1                                                         \n            count       mean        std   min    25%    50%     75%    max\ncustomer                                                                  \n1             4.0  51.740000  24.952029  21.1  37.12  54.68  69.300  76.50\n2             3.0  36.076667   5.510321  32.6  32.90  33.20  37.815  42.43",
      "text/html": "<div>\n<style scoped>\n    .dataframe tbody tr th:only-of-type {\n        vertical-align: middle;\n    }\n\n    .dataframe tbody tr th {\n        vertical-align: top;\n    }\n\n    .dataframe thead tr th {\n        text-align: left;\n    }\n\n    .dataframe thead tr:last-of-type th {\n        text-align: right;\n    }\n</style>\n<table border=\"1\" class=\"dataframe\">\n  <thead>\n    <tr>\n      <th></th>\n      <th colspan=\"8\" halign=\"left\">product1</th>\n    </tr>\n    <tr>\n      <th></th>\n      <th>count</th>\n      <th>mean</th>\n      <th>std</th>\n      <th>min</th>\n      <th>25%</th>\n      <th>50%</th>\n      <th>75%</th>\n      <th>max</th>\n    </tr>\n    <tr>\n      <th>customer</th>\n      <th></th>\n      <th></th>\n      <th></th>\n      <th></th>\n      <th></th>\n      <th></th>\n      <th></th>\n      <th></th>\n    </tr>\n  </thead>\n  <tbody>\n    <tr>\n      <th>1</th>\n      <td>4.0</td>\n      <td>51.740000</td>\n      <td>24.952029</td>\n      <td>21.1</td>\n      <td>37.12</td>\n      <td>54.68</td>\n      <td>69.300</td>\n      <td>76.50</td>\n    </tr>\n    <tr>\n      <th>2</th>\n      <td>3.0</td>\n      <td>36.076667</td>\n      <td>5.510321</td>\n      <td>32.6</td>\n      <td>32.90</td>\n      <td>33.20</td>\n      <td>37.815</td>\n      <td>42.43</td>\n    </tr>\n  </tbody>\n</table>\n</div>"
     },
     "metadata": {},
     "execution_count": 95
    }
   ],
   "source": [
    "group_data = df6.groupby('customer')\n",
    "group_data.describe()"
   ]
  },
  {
   "cell_type": "code",
   "execution_count": 97,
   "metadata": {},
   "outputs": [],
   "source": [
    "df6.to_csv('week_02_df6.csv',index=True)"
   ]
  },
  {
   "cell_type": "code",
   "execution_count": 100,
   "metadata": {},
   "outputs": [
    {
     "output_type": "execute_result",
     "data": {
      "text/plain": "    customer  product1\np1         1     21.10\np2         2     32.60\np3         1     42.46\np4         2     33.20\np5         1     76.50\np6         2     42.43\np7         1     66.90",
      "text/html": "<div>\n<style scoped>\n    .dataframe tbody tr th:only-of-type {\n        vertical-align: middle;\n    }\n\n    .dataframe tbody tr th {\n        vertical-align: top;\n    }\n\n    .dataframe thead th {\n        text-align: right;\n    }\n</style>\n<table border=\"1\" class=\"dataframe\">\n  <thead>\n    <tr style=\"text-align: right;\">\n      <th></th>\n      <th>customer</th>\n      <th>product1</th>\n    </tr>\n  </thead>\n  <tbody>\n    <tr>\n      <th>p1</th>\n      <td>1</td>\n      <td>21.10</td>\n    </tr>\n    <tr>\n      <th>p2</th>\n      <td>2</td>\n      <td>32.60</td>\n    </tr>\n    <tr>\n      <th>p3</th>\n      <td>1</td>\n      <td>42.46</td>\n    </tr>\n    <tr>\n      <th>p4</th>\n      <td>2</td>\n      <td>33.20</td>\n    </tr>\n    <tr>\n      <th>p5</th>\n      <td>1</td>\n      <td>76.50</td>\n    </tr>\n    <tr>\n      <th>p6</th>\n      <td>2</td>\n      <td>42.43</td>\n    </tr>\n    <tr>\n      <th>p7</th>\n      <td>1</td>\n      <td>66.90</td>\n    </tr>\n  </tbody>\n</table>\n</div>"
     },
     "metadata": {},
     "execution_count": 100
    }
   ],
   "source": [
    "new_df6 = pd.read_csv('week_02_df6.csv',index_col=0)\n",
    "new_df6"
   ]
  },
  {
   "cell_type": "code",
   "execution_count": 112,
   "metadata": {
    "tags": []
   },
   "outputs": [
    {
     "output_type": "execute_result",
     "data": {
      "text/plain": "9"
     },
     "metadata": {},
     "execution_count": 112
    }
   ],
   "source": [
    "demo_array=np.arange(0,10)\n",
    "# demo_array\n",
    "# demo_array <3\n",
    "# demo_array[demo_array <6]\n",
    "# np.max(demo_array)"
   ]
  },
  {
   "cell_type": "code",
   "execution_count": 114,
   "metadata": {},
   "outputs": [
    {
     "output_type": "execute_result",
     "data": {
      "text/plain": "array([[35, 74],\n       [37, 37],\n       [39, 93]])"
     },
     "metadata": {},
     "execution_count": 114
    }
   ],
   "source": [
    "demo_matrix = np.array(([13,35,74,48], [23,37,37,38],[73,39,93,39]))\n",
    "demo_matrix[:, (1,2)]"
   ]
  },
  {
   "cell_type": "code",
   "execution_count": 116,
   "metadata": {},
   "outputs": [
    {
     "output_type": "execute_result",
     "data": {
      "text/plain": "39"
     },
     "metadata": {},
     "execution_count": 116
    }
   ],
   "source": [
    "demo_matrix = np.array(([13,35,74,48], [23,37,37,38],[73,39,93,39]))\n",
    "demo_matrix[2,3]"
   ]
  },
  {
   "cell_type": "code",
   "execution_count": 124,
   "metadata": {},
   "outputs": [
    {
     "output_type": "execute_result",
     "data": {
      "text/plain": "array([101, 101, 101, 101, 101, 101, 101])"
     },
     "metadata": {},
     "execution_count": 124
    }
   ],
   "source": [
    "demo_array = np.arange(10,21)\n",
    "subset_demo_array = demo_array[0:7]\n",
    "subset_demo_array[:]= 101\n",
    "subset_demo_array"
   ]
  },
  {
   "cell_type": "code",
   "execution_count": 123,
   "metadata": {},
   "outputs": [
    {
     "output_type": "execute_result",
     "data": {
      "text/plain": "[12]"
     },
     "metadata": {},
     "execution_count": 123
    }
   ],
   "source": [
    "test_array = [10, 11.5, 12, 13.5, 14,15]\n",
    "test_array[2:3]"
   ]
  },
  {
   "cell_type": "code",
   "execution_count": 126,
   "metadata": {},
   "outputs": [
    {
     "output_type": "execute_result",
     "data": {
      "text/plain": "array([ 0,  6, 12, 18])"
     },
     "metadata": {},
     "execution_count": 126
    }
   ],
   "source": [
    "np.arange(0,22,6)"
   ]
  },
  {
   "cell_type": "code",
   "execution_count": 128,
   "metadata": {},
   "outputs": [
    {
     "output_type": "execute_result",
     "data": {
      "text/plain": "array([[12, 34, 55],\n       [66, 45, 77],\n       [45, 77, 88]])"
     },
     "metadata": {},
     "execution_count": 128
    }
   ],
   "source": [
    "list_l =[[12,34,55,],[66,45,77],[45,77,88]]\n",
    "np.array(list_l)"
   ]
  },
  {
   "cell_type": "code",
   "execution_count": 130,
   "metadata": {},
   "outputs": [
    {
     "output_type": "execute_result",
     "data": {
      "text/plain": "a    10\nb    15\nc    20\nd    25\ndtype: int64"
     },
     "metadata": {},
     "execution_count": 130
    }
   ],
   "source": [
    "score = [10, 15, 20, 25]\n",
    "pd.Series(data=score, index = ['a','b','c','d'])"
   ]
  },
  {
   "cell_type": "code",
   "execution_count": 135,
   "metadata": {},
   "outputs": [
    {
     "output_type": "execute_result",
     "data": {
      "text/plain": "       prodname profit\nprodID                \n101           X   2738\n102           Y   2727\n103           Z   3497\n104           X   7347",
      "text/html": "<div>\n<style scoped>\n    .dataframe tbody tr th:only-of-type {\n        vertical-align: middle;\n    }\n\n    .dataframe tbody tr th {\n        vertical-align: top;\n    }\n\n    .dataframe thead th {\n        text-align: right;\n    }\n</style>\n<table border=\"1\" class=\"dataframe\">\n  <thead>\n    <tr style=\"text-align: right;\">\n      <th></th>\n      <th>prodname</th>\n      <th>profit</th>\n    </tr>\n    <tr>\n      <th>prodID</th>\n      <th></th>\n      <th></th>\n    </tr>\n  </thead>\n  <tbody>\n    <tr>\n      <th>101</th>\n      <td>X</td>\n      <td>2738</td>\n    </tr>\n    <tr>\n      <th>102</th>\n      <td>Y</td>\n      <td>2727</td>\n    </tr>\n    <tr>\n      <th>103</th>\n      <td>Z</td>\n      <td>3497</td>\n    </tr>\n    <tr>\n      <th>104</th>\n      <td>X</td>\n      <td>7347</td>\n    </tr>\n  </tbody>\n</table>\n</div>"
     },
     "metadata": {},
     "execution_count": 135
    }
   ],
   "source": [
    "data = {'prodID': ['101', '102', '103', '104', '104'],\n",
    "\n",
    "                    'prodname': ['X', 'Y', 'Z', 'X', 'W'],\n",
    "\n",
    "                     'profit': ['2738', '2727', '3497', '7347', '3743']}\n",
    "\n",
    "dataframe = pd.DataFrame(data)\n",
    "\n",
    "dataframe\n",
    "\n",
    "grouped_data = dataframe.groupby('prodID')\n",
    "\n",
    "grouped_data.max()"
   ]
  },
  {
   "cell_type": "code",
   "execution_count": 137,
   "metadata": {
    "tags": []
   },
   "outputs": [
    {
     "output_type": "stream",
     "name": "stdout",
     "text": "[10 13 16 19]\n"
    }
   ],
   "source": [
    "vec=np.arange(10,20,3)\n",
    "print(vec)"
   ]
  },
  {
   "cell_type": "code",
   "execution_count": 139,
   "metadata": {
    "tags": []
   },
   "outputs": [
    {
     "output_type": "stream",
     "name": "stdout",
     "text": "[10. 15. 20.]\n"
    }
   ],
   "source": [
    "vec=np.linspace(10,20,3)\n",
    "print(vec)"
   ]
  },
  {
   "cell_type": "code",
   "execution_count": 141,
   "metadata": {
    "tags": []
   },
   "outputs": [
    {
     "output_type": "stream",
     "name": "stdout",
     "text": "[[ 0  1  2]\n [ 3  4  5]\n [ 6  7  8]\n [ 9 10 11]]\n"
    }
   ],
   "source": [
    "vec1=np.arange(0,12)\n",
    "vec2=vec1.reshape(4,3)\n",
    "print (vec2)"
   ]
  },
  {
   "cell_type": "code",
   "execution_count": 143,
   "metadata": {
    "tags": []
   },
   "outputs": [
    {
     "output_type": "stream",
     "name": "stdout",
     "text": "[ 7  8  9 10]\n"
    }
   ],
   "source": [
    "vec= np.array([4,7,8,9,10,6,1])\n",
    "print(vec[vec>6])"
   ]
  },
  {
   "cell_type": "code",
   "execution_count": 145,
   "metadata": {
    "tags": []
   },
   "outputs": [
    {
     "output_type": "stream",
     "name": "stdout",
     "text": "[4 2 2 2 2 6 1]\n"
    }
   ],
   "source": [
    "vec1= np.array([4,7,8,9,10,6,1])\n",
    "vec1[vec1>6]=2\n",
    "print(vec1)"
   ]
  }
 ],
 "metadata": {
  "language_info": {
   "codemirror_mode": {
    "name": "ipython",
    "version": 3
   },
   "file_extension": ".py",
   "mimetype": "text/x-python",
   "name": "python",
   "nbconvert_exporter": "python",
   "pygments_lexer": "ipython3",
   "version": 3
  },
  "orig_nbformat": 2,
  "kernelspec": {
   "name": "python_defaultSpec_1594995827713",
   "display_name": "Python 3.7.6 64-bit ('KING': virtualenv)"
  }
 },
 "nbformat": 4,
 "nbformat_minor": 2
}