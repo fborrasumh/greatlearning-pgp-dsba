{
 "cells": [
  {
   "cell_type": "code",
   "execution_count": 2,
   "metadata": {},
   "outputs": [],
   "source": [
    "import numpy as np"
   ]
  },
  {
   "cell_type": "code",
   "execution_count": 60,
   "metadata": {
    "tags": []
   },
   "outputs": [
    {
     "name": "stdout",
     "output_type": "stream",
     "text": [
      "[[1 2 3]\n",
      " [4 5 6]\n",
      " [7 8 9]]\n",
      "[4 5 6]\n",
      "[[1 4 7]\n",
      " [2 5 8]\n",
      " [3 6 9]]\n"
     ]
    }
   ],
   "source": [
    "vectorA = np.array ([[1,2,3],[4,5,6],[7,8,9]])\n",
    "print(vectorA) # horizontal\n",
    "print(vectorA[1])\n",
    "print(vectorA.T) # TRANSPOSE -vertical"
   ]
  },
  {
   "cell_type": "code",
   "execution_count": 61,
   "metadata": {
    "tags": []
   },
   "outputs": [
    {
     "name": "stdout",
     "output_type": "stream",
     "text": [
      "[[1 2 3]\n",
      " [4 5 6]\n",
      " [7 8 9]] \n",
      "0th element=\n",
      " [1 2 3] \n",
      "Element 0:1=\n",
      " [[1 2 3]\n",
      " [4 5 6]]\n",
      "[0 1 2 3 4 5 6 7 8 9] \n",
      " [0]\n"
     ]
    }
   ],
   "source": [
    "vactorA = np.arange(0,10)\n",
    "print(vectorA,'\\n0th element=\\n',vectorA[0],'\\nElement 0:1=\\n',vectorA[0:2])\n",
    "# vactorA = np.arange(0,30,2)\n",
    "print(vactorA,'\\n',vactorA[np.arange(0,1,5)]) # Question"
   ]
  },
  {
   "cell_type": "code",
   "execution_count": 41,
   "metadata": {
    "tags": []
   },
   "outputs": [
    {
     "name": "stdout",
     "output_type": "stream",
     "text": [
      "[0.         0.55555556 1.11111111 1.66666667 2.22222222 2.77777778\n",
      " 3.33333333 3.88888889 4.44444444 5.        ]\n",
      "[[1 2 3 4 5 6 7 8 9]]\n"
     ]
    }
   ],
   "source": [
    "vactorA = np.linspace(0,5,10) # Starting from 0 to 5, give me 10 equal parts\n",
    "print(vactorA)\n",
    "print(vectorA.reshape(1,9))"
   ]
  },
  {
   "cell_type": "code",
   "execution_count": 59,
   "metadata": {
    "tags": []
   },
   "outputs": [
    {
     "name": "stdout",
     "output_type": "stream",
     "text": [
      "[[1 2 3]\n",
      " [4 5 6]\n",
      " [7 8 9]]\n",
      "[[1 2 3]\n",
      " [4 5 6]\n",
      " [7 8 9]]\n",
      "[[1. 0. 0. 0. 0.]\n",
      " [0. 1. 0. 0. 0.]\n",
      " [0. 0. 1. 0. 0.]\n",
      " [0. 0. 0. 1. 0.]\n",
      " [0. 0. 0. 0. 1.]]\n"
     ]
    }
   ],
   "source": [
    "vactorA = np.zeros([5,3])\n",
    "print(vectorA)\n",
    "vactorA = np.ones([5,3])\n",
    "print(vectorA)\n",
    "vectorA = np.eye(5)\n",
    "print(vectorA)"
   ]
  },
  {
   "cell_type": "code",
   "execution_count": 23,
   "metadata": {
    "tags": []
   },
   "outputs": [
    {
     "name": "stdout",
     "output_type": "stream",
     "text": [
      "---vector---\n",
      " vectorA \n",
      " [0 1 2 3 4 5 6 7 8 9] \n",
      " vectorB\n",
      " [0 1 2 3 4 5 6 7 8 9] ------\n",
      "---vector addition---\n",
      " [ 0  2  4  6  8 10 12 14 16 18] ------\n",
      "---vector multiplication---\n",
      " [ 0  1  4  9 16 25 36 49 64 81] ------\n",
      "---vector division---\n",
      " [       inf 1.         0.5        0.33333333 0.25       0.2\n",
      " 0.16666667 0.14285714 0.125      0.11111111] ------\n",
      "---vector sqrt---\n",
      " [0.         1.         1.41421356 1.73205081 2.         2.23606798\n",
      " 2.44948974 2.64575131 2.82842712 3.        ] ------\n",
      "---vector mutual-multiplication---\n",
      " 285 ------\n"
     ]
    }
   ],
   "source": [
    "vector1 = np.arange(0,10)\n",
    "vector2 = np.arange(0,10)\n",
    "print('---vector---\\n vectorA \\n',vector1 ,'\\n vectorB\\n',vector2,'------')\n",
    "print('---vector addition---\\n',(vector1+vector2),'------')\n",
    "print('---vector multiplication---\\n',vector1*vector2,'------')\n",
    "print('---vector division---\\n',1/vector1,'------')\n",
    "print('---vector sqrt---\\n',np.sqrt(vector1),'------')\n",
    "print('---vector mutual-multiplication---\\n',np.matmul(vector1,vector2),'------') # Question"
   ]
  },
  {
   "cell_type": "code",
   "execution_count": 27,
   "metadata": {
    "tags": []
   },
   "outputs": [
    {
     "name": "stdout",
     "output_type": "stream",
     "text": [
      "['1' '2' '3' 'Blue' 'black' 'blue' 'pink' 'rEd' 'red']\n"
     ]
    }
   ],
   "source": [
    "vectorColor = np.array(['red',1,2,3,'rEd',1,2,3,'Blue','black','pink','blue'])\n",
    "print(np.unique(vectorColor))"
   ]
  },
  {
   "cell_type": "code",
   "execution_count": 28,
   "metadata": {
    "tags": []
   },
   "outputs": [
    {
     "name": "stdout",
     "output_type": "stream",
     "text": [
      "---Random Variables---\n",
      " uniformRandomSamples \n",
      " [[0.12686709 0.24804372 0.20876652 0.51027694 0.74845018]\n",
      " [0.21092188 0.31682707 0.84443771 0.39541074 0.80277039]\n",
      " [0.47763408 0.37162785 0.78817343 0.85908491 0.01549653]\n",
      " [0.72288632 0.01959985 0.86778719 0.6067957  0.46605894]\n",
      " [0.22493122 0.32570817 0.57682472 0.29481424 0.03526682]] \n",
      " standardRandomSamples\n",
      " [[-0.42869955  1.68432145 -2.19551989 -0.26044136  0.27332362]\n",
      " [ 0.96636984  0.73235216  1.22049571 -1.95919513  0.41942256]\n",
      " [ 1.26632257  0.9225325  -0.18652501 -0.11546404  0.35920106]\n",
      " [-0.05512461 -0.78198477  0.50351657  1.77202777  1.06293586]\n",
      " [ 1.54397835  0.39131473  0.23271975  0.51938161  0.82189056]] ------\n"
     ]
    }
   ],
   "source": [
    "uniformRandomSamples = np.random.rand(5,5)\n",
    "standardRandomSamples = np.random.randn(5,5)\n",
    "print('---Random Variables---\\n uniformRandomSamples \\n',uniformRandomSamples ,'\\n standardRandomSamples\\n',standardRandomSamples,'------')\n"
   ]
  },
  {
   "cell_type": "code",
   "execution_count": 38,
   "metadata": {
    "tags": []
   },
   "outputs": [
    {
     "name": "stdout",
     "output_type": "stream",
     "text": [
      "---Statistics Operation---\n",
      " Mean = 0.442618487782219 \n",
      " Standard Daviation= 0.2733075931111982 \n",
      " Min= 0.015496534364560555 \n",
      " Max= 0.8677871864832831 \n",
      "------\n"
     ]
    }
   ],
   "source": [
    "print('---Statistics Operation---\\n Mean =',np.mean(uniformRandomSamples),\n",
    "'\\n Standard Daviation=',np.std(uniformRandomSamples),\n",
    "'\\n Min=',np.min(uniformRandomSamples),\n",
    "'\\n Max=',np.max(uniformRandomSamples),'\\n------')"
   ]
  },
  {
   "cell_type": "code",
   "execution_count": 74,
   "metadata": {
    "tags": []
   },
   "outputs": [
    {
     "name": "stdout",
     "output_type": "stream",
     "text": [
      "[0.81773847 0.91614911 0.15280825 0.35861907 0.03075205 0.33798197\n",
      " 0.75833598 0.54846143 0.07459221 0.65171235 0.99762001 0.47589237\n",
      " 0.78647707 0.73197307 0.04257735 0.68082629 0.96072033 0.29673887\n",
      " 0.47169791]\n",
      "[0.81773847 0.91614911 0.15280825 7.         7.         0.33798197\n",
      " 0.75833598 0.54846143 0.07459221 0.65171235 0.99762001 0.47589237\n",
      " 0.78647707 0.73197307 0.04257735 0.68082629 0.96072033 0.29673887\n",
      " 0.47169791]\n",
      "[0.81773847 0.91614911 0.15280825 8.         8.         0.33798197\n",
      " 0.75833598 0.54846143 0.07459221 0.65171235 0.99762001 0.47589237\n",
      " 0.78647707 0.73197307 0.04257735 0.68082629 0.96072033 0.29673887\n",
      " 0.47169791]\n"
     ]
    }
   ],
   "source": [
    "rand_vec = np.random.rand(19)\n",
    "print(rand_vec)\n",
    "rand_vec[3:5]=7\n",
    "print(rand_vec)\n",
    "rand_vec[3:5]=[8,8]\n",
    "print(rand_vec)"
   ]
  },
  {
   "cell_type": "code",
   "execution_count": 100,
   "metadata": {
    "tags": []
   },
   "outputs": [
    {
     "name": "stdout",
     "output_type": "stream",
     "text": [
      "[ True  True  True  True  True False False False False False  True  True\n",
      "  True False False] \n",
      " [0.63191033 1.41786713 0.71627713 0.44926147 0.10243671 0.37013107\n",
      " 1.18264966 2.15736263]\n"
     ]
    }
   ],
   "source": [
    "rand_vec = np.random.randn(15)\n",
    "print(rand_vec>0,'\\n',rand_vec[rand_vec>0])"
   ]
  },
  {
   "cell_type": "code",
   "execution_count": 109,
   "metadata": {
    "tags": []
   },
   "outputs": [
    {
     "name": "stdout",
     "output_type": "stream",
     "text": [
      "[ 0.63191033  1.41786713  0.71627713  0.44926147  0.10243671 -0.39926313\n",
      " -0.72575087 -0.16982995 -0.30084814 -0.47935427  0.37013107  1.18264966\n",
      "  2.15736263 -0.72418677 -0.70320359] \n",
      " \n",
      " [0. 1. 2. 3. 4. 5. 6. 7. 8. 9.]\n"
     ]
    }
   ],
   "source": [
    "np.save('week_02_numpy',rand_vec)\n",
    "np.savez('week_02_numpy',rand_vec,rand_vec1,rand_vec2)\n",
    "np.savetxt('week_02_numpy.txt',vector1,delimiter=',')\n",
    "load_vec = np.load('week_02_numpy.npy')\n",
    "load_vecZip = np.load('week_02_numpy.npz')\n",
    "load_vecText = np.loadtxt('week_02_numpy.txt',delimiter=',')\n",
    "print(load_vec,'\\n','\\n',load_vecText)"
   ]
  }
 ],
 "metadata": {
  "kernelspec": {
   "display_name": "Python 3",
   "language": "python",
   "name": "python3"
  },
  "language_info": {
   "codemirror_mode": {
    "name": "ipython",
    "version": 3
   },
   "file_extension": ".py",
   "mimetype": "text/x-python",
   "name": "python",
   "nbconvert_exporter": "python",
   "pygments_lexer": "ipython3",
   "version": "3.7.6"
  }
 },
 "nbformat": 4,
 "nbformat_minor": 2
}
