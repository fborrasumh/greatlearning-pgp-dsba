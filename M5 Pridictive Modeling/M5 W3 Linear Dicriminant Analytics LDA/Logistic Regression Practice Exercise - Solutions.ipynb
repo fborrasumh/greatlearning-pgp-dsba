{
 "cells": [
  {
   "cell_type": "markdown",
   "metadata": {},
   "source": [
    "# Logistic Regression Practice Exercise\n",
    "## Chemotherapy for Stage B/C colon cancer\n",
    "Description\n",
    "These are data from one of the first successful trials of adjuvant chemotherapy for colon cancer. Levamisole is a low-toxicity compound previously used to treat worm infestations in animals; 5-FU is a moderately toxic (as these things go) chemotherapy agent. There are two records per person, one for recurrence and one for death\n",
    "\n",
    "**Attribute Information**\n",
    "- id:\tid\n",
    "- study:\t1 for all patients\n",
    "- sex:\t1=male\n",
    "- age:\tin years\n",
    "- obstruct:\tobstruction of colon by tumour\n",
    "- perfor:\tperforation of colon\n",
    "- adhere:\tadherence to nearby organs\n",
    "- nodes:\tnumber of lymph nodes with detectable cancer\n",
    "- time:\tdays until event or censoring\n",
    "- status:\tcensoring status\n",
    "- differ:\tdifferentiation of tumour (1=well, 2=moderate, 3=poor)\n",
    "- extent:\tExtent of local spread (1=submucosa, 2=muscle, 3=serosa, 4=contiguous structures)\n",
    "- surg:\ttime from surgery to registration (0=short, 1=long)\n",
    "- node4:\tmore than 4 positive lymph nodes\n",
    "- etype:\tevent type: 1=recurrence,2=death"
   ]
  },
  {
   "cell_type": "markdown",
   "metadata": {},
   "source": [
    "**Loading Libraries**"
   ]
  },
  {
   "cell_type": "code",
   "execution_count": 1,
   "metadata": {},
   "outputs": [],
   "source": [
    "import pandas as pd\n",
    "from sklearn.linear_model import LogisticRegression\n",
    "# importing ploting libraries\n",
    "import matplotlib.pyplot as plt   \n",
    "#importing seaborn for statistical plots\n",
    "import seaborn as sns\n",
    "#Let us break the X and y dataframes into training set and test set. For this we will use\n",
    "#Sklearn package's data splitting function which is based on random function\n",
    "from sklearn.model_selection import train_test_split\n",
    "import numpy as np\n",
    "# calculate accuracy measures and confusion matrix\n",
    "from sklearn import metrics"
   ]
  },
  {
   "cell_type": "markdown",
   "metadata": {},
   "source": [
    "**Question 1: Import the Dataset**"
   ]
  },
  {
   "cell_type": "code",
   "execution_count": 2,
   "metadata": {},
   "outputs": [],
   "source": [
    "df=pd.read_csv('colon.csv').drop('Unnamed: 0',axis=1)"
   ]
  },
  {
   "cell_type": "markdown",
   "metadata": {},
   "source": [
    "**Question 2: Get the Dimensionality of the Dataset.**"
   ]
  },
  {
   "cell_type": "code",
   "execution_count": 3,
   "metadata": {},
   "outputs": [
    {
     "data": {
      "text/plain": [
       "(1858, 15)"
      ]
     },
     "execution_count": 3,
     "metadata": {},
     "output_type": "execute_result"
    }
   ],
   "source": [
    "df.shape"
   ]
  },
  {
   "cell_type": "markdown",
   "metadata": {},
   "source": [
    "**Question 3: How many Missing Values are there? Drop all missing values.**"
   ]
  },
  {
   "cell_type": "code",
   "execution_count": 4,
   "metadata": {},
   "outputs": [],
   "source": [
    "df.isnull().sum()\n",
    "df=df.dropna()"
   ]
  },
  {
   "cell_type": "markdown",
   "metadata": {},
   "source": [
    "**Question 4: Generate the five point summary of the data set.**"
   ]
  },
  {
   "cell_type": "code",
   "execution_count": 5,
   "metadata": {},
   "outputs": [
    {
     "data": {
      "text/html": [
       "<div>\n",
       "<style scoped>\n",
       "    .dataframe tbody tr th:only-of-type {\n",
       "        vertical-align: middle;\n",
       "    }\n",
       "\n",
       "    .dataframe tbody tr th {\n",
       "        vertical-align: top;\n",
       "    }\n",
       "\n",
       "    .dataframe thead th {\n",
       "        text-align: right;\n",
       "    }\n",
       "</style>\n",
       "<table border=\"1\" class=\"dataframe\">\n",
       "  <thead>\n",
       "    <tr style=\"text-align: right;\">\n",
       "      <th></th>\n",
       "      <th>count</th>\n",
       "      <th>mean</th>\n",
       "      <th>std</th>\n",
       "      <th>min</th>\n",
       "      <th>25%</th>\n",
       "      <th>50%</th>\n",
       "      <th>75%</th>\n",
       "      <th>max</th>\n",
       "    </tr>\n",
       "  </thead>\n",
       "  <tbody>\n",
       "    <tr>\n",
       "      <th>id</th>\n",
       "      <td>1776.0</td>\n",
       "      <td>466.506757</td>\n",
       "      <td>269.321338</td>\n",
       "      <td>1.0</td>\n",
       "      <td>234.75</td>\n",
       "      <td>466.5</td>\n",
       "      <td>700.25</td>\n",
       "      <td>929.0</td>\n",
       "    </tr>\n",
       "    <tr>\n",
       "      <th>study</th>\n",
       "      <td>1776.0</td>\n",
       "      <td>1.000000</td>\n",
       "      <td>0.000000</td>\n",
       "      <td>1.0</td>\n",
       "      <td>1.00</td>\n",
       "      <td>1.0</td>\n",
       "      <td>1.00</td>\n",
       "      <td>1.0</td>\n",
       "    </tr>\n",
       "    <tr>\n",
       "      <th>sex</th>\n",
       "      <td>1776.0</td>\n",
       "      <td>0.518018</td>\n",
       "      <td>0.499816</td>\n",
       "      <td>0.0</td>\n",
       "      <td>0.00</td>\n",
       "      <td>1.0</td>\n",
       "      <td>1.00</td>\n",
       "      <td>1.0</td>\n",
       "    </tr>\n",
       "    <tr>\n",
       "      <th>age</th>\n",
       "      <td>1776.0</td>\n",
       "      <td>59.810811</td>\n",
       "      <td>11.911137</td>\n",
       "      <td>18.0</td>\n",
       "      <td>53.00</td>\n",
       "      <td>61.0</td>\n",
       "      <td>69.00</td>\n",
       "      <td>85.0</td>\n",
       "    </tr>\n",
       "    <tr>\n",
       "      <th>obstruct</th>\n",
       "      <td>1776.0</td>\n",
       "      <td>0.192568</td>\n",
       "      <td>0.394427</td>\n",
       "      <td>0.0</td>\n",
       "      <td>0.00</td>\n",
       "      <td>0.0</td>\n",
       "      <td>0.00</td>\n",
       "      <td>1.0</td>\n",
       "    </tr>\n",
       "    <tr>\n",
       "      <th>perfor</th>\n",
       "      <td>1776.0</td>\n",
       "      <td>0.030405</td>\n",
       "      <td>0.171748</td>\n",
       "      <td>0.0</td>\n",
       "      <td>0.00</td>\n",
       "      <td>0.0</td>\n",
       "      <td>0.00</td>\n",
       "      <td>1.0</td>\n",
       "    </tr>\n",
       "    <tr>\n",
       "      <th>adhere</th>\n",
       "      <td>1776.0</td>\n",
       "      <td>0.144144</td>\n",
       "      <td>0.351335</td>\n",
       "      <td>0.0</td>\n",
       "      <td>0.00</td>\n",
       "      <td>0.0</td>\n",
       "      <td>0.00</td>\n",
       "      <td>1.0</td>\n",
       "    </tr>\n",
       "    <tr>\n",
       "      <th>nodes</th>\n",
       "      <td>1776.0</td>\n",
       "      <td>3.663288</td>\n",
       "      <td>3.539129</td>\n",
       "      <td>0.0</td>\n",
       "      <td>1.00</td>\n",
       "      <td>2.0</td>\n",
       "      <td>5.00</td>\n",
       "      <td>33.0</td>\n",
       "    </tr>\n",
       "    <tr>\n",
       "      <th>status</th>\n",
       "      <td>1776.0</td>\n",
       "      <td>0.493243</td>\n",
       "      <td>0.500095</td>\n",
       "      <td>0.0</td>\n",
       "      <td>0.00</td>\n",
       "      <td>0.0</td>\n",
       "      <td>1.00</td>\n",
       "      <td>1.0</td>\n",
       "    </tr>\n",
       "    <tr>\n",
       "      <th>differ</th>\n",
       "      <td>1776.0</td>\n",
       "      <td>2.061937</td>\n",
       "      <td>0.510833</td>\n",
       "      <td>1.0</td>\n",
       "      <td>2.00</td>\n",
       "      <td>2.0</td>\n",
       "      <td>2.00</td>\n",
       "      <td>3.0</td>\n",
       "    </tr>\n",
       "    <tr>\n",
       "      <th>extent</th>\n",
       "      <td>1776.0</td>\n",
       "      <td>2.884009</td>\n",
       "      <td>0.478322</td>\n",
       "      <td>1.0</td>\n",
       "      <td>3.00</td>\n",
       "      <td>3.0</td>\n",
       "      <td>3.00</td>\n",
       "      <td>4.0</td>\n",
       "    </tr>\n",
       "    <tr>\n",
       "      <th>surg</th>\n",
       "      <td>1776.0</td>\n",
       "      <td>0.268018</td>\n",
       "      <td>0.443052</td>\n",
       "      <td>0.0</td>\n",
       "      <td>0.00</td>\n",
       "      <td>0.0</td>\n",
       "      <td>1.00</td>\n",
       "      <td>1.0</td>\n",
       "    </tr>\n",
       "    <tr>\n",
       "      <th>node4</th>\n",
       "      <td>1776.0</td>\n",
       "      <td>0.264640</td>\n",
       "      <td>0.441265</td>\n",
       "      <td>0.0</td>\n",
       "      <td>0.00</td>\n",
       "      <td>0.0</td>\n",
       "      <td>1.00</td>\n",
       "      <td>1.0</td>\n",
       "    </tr>\n",
       "    <tr>\n",
       "      <th>time</th>\n",
       "      <td>1776.0</td>\n",
       "      <td>1542.555180</td>\n",
       "      <td>946.741234</td>\n",
       "      <td>8.0</td>\n",
       "      <td>573.00</td>\n",
       "      <td>1856.0</td>\n",
       "      <td>2331.00</td>\n",
       "      <td>3329.0</td>\n",
       "    </tr>\n",
       "    <tr>\n",
       "      <th>etype</th>\n",
       "      <td>1776.0</td>\n",
       "      <td>1.500000</td>\n",
       "      <td>0.500141</td>\n",
       "      <td>1.0</td>\n",
       "      <td>1.00</td>\n",
       "      <td>1.5</td>\n",
       "      <td>2.00</td>\n",
       "      <td>2.0</td>\n",
       "    </tr>\n",
       "  </tbody>\n",
       "</table>\n",
       "</div>"
      ],
      "text/plain": [
       "           count         mean         std   min     25%     50%      75%  \\\n",
       "id        1776.0   466.506757  269.321338   1.0  234.75   466.5   700.25   \n",
       "study     1776.0     1.000000    0.000000   1.0    1.00     1.0     1.00   \n",
       "sex       1776.0     0.518018    0.499816   0.0    0.00     1.0     1.00   \n",
       "age       1776.0    59.810811   11.911137  18.0   53.00    61.0    69.00   \n",
       "obstruct  1776.0     0.192568    0.394427   0.0    0.00     0.0     0.00   \n",
       "perfor    1776.0     0.030405    0.171748   0.0    0.00     0.0     0.00   \n",
       "adhere    1776.0     0.144144    0.351335   0.0    0.00     0.0     0.00   \n",
       "nodes     1776.0     3.663288    3.539129   0.0    1.00     2.0     5.00   \n",
       "status    1776.0     0.493243    0.500095   0.0    0.00     0.0     1.00   \n",
       "differ    1776.0     2.061937    0.510833   1.0    2.00     2.0     2.00   \n",
       "extent    1776.0     2.884009    0.478322   1.0    3.00     3.0     3.00   \n",
       "surg      1776.0     0.268018    0.443052   0.0    0.00     0.0     1.00   \n",
       "node4     1776.0     0.264640    0.441265   0.0    0.00     0.0     1.00   \n",
       "time      1776.0  1542.555180  946.741234   8.0  573.00  1856.0  2331.00   \n",
       "etype     1776.0     1.500000    0.500141   1.0    1.00     1.5     2.00   \n",
       "\n",
       "             max  \n",
       "id         929.0  \n",
       "study        1.0  \n",
       "sex          1.0  \n",
       "age         85.0  \n",
       "obstruct     1.0  \n",
       "perfor       1.0  \n",
       "adhere       1.0  \n",
       "nodes       33.0  \n",
       "status       1.0  \n",
       "differ       3.0  \n",
       "extent       4.0  \n",
       "surg         1.0  \n",
       "node4        1.0  \n",
       "time      3329.0  \n",
       "etype        2.0  "
      ]
     },
     "execution_count": 5,
     "metadata": {},
     "output_type": "execute_result"
    }
   ],
   "source": [
    "df.describe().T"
   ]
  },
  {
   "cell_type": "markdown",
   "metadata": {},
   "source": [
    "**Question 5: How many levels are there in the Dependent Variable?**"
   ]
  },
  {
   "cell_type": "code",
   "execution_count": 6,
   "metadata": {},
   "outputs": [
    {
     "data": {
      "text/plain": [
       "2    888\n",
       "1    888\n",
       "Name: etype, dtype: int64"
      ]
     },
     "execution_count": 6,
     "metadata": {},
     "output_type": "execute_result"
    }
   ],
   "source": [
    "df.etype.value_counts()"
   ]
  },
  {
   "cell_type": "markdown",
   "metadata": {},
   "source": [
    "**Question 6: With reference to the previous question, plot the levels of the dependent variable in a plot of your choice.**"
   ]
  },
  {
   "cell_type": "code",
   "execution_count": 7,
   "metadata": {},
   "outputs": [
    {
     "data": {
      "image/png": "[encoded data removed]",
      "text/plain": [
       "<Figure size 432x288 with 1 Axes>"
      ]
     },
     "metadata": {
      "needs_background": "light"
     },
     "output_type": "display_data"
    }
   ],
   "source": [
    "sns.countplot(df.etype)\n",
    "plt.grid()\n",
    "plt.show()"
   ]
  },
  {
   "cell_type": "markdown",
   "metadata": {},
   "source": [
    "**Question 7: Drop the dependent variable from the Data Set and store it seperately. Then split your data into train and test data sets. The test data size should be 30% of the total data. Use random_state=7.**"
   ]
  },
  {
   "cell_type": "code",
   "execution_count": 8,
   "metadata": {},
   "outputs": [],
   "source": [
    "X = df.drop('etype',axis=1)\n",
    "Y = df.etype\n",
    "test_size = 0.30\n",
    "seed = 7\n",
    "X_train, X_test, y_train, y_test = train_test_split(X, Y, test_size=test_size, random_state=seed)"
   ]
  },
  {
   "cell_type": "markdown",
   "metadata": {},
   "source": [
    "**Question 8: Formulate a logistic regression model on the train data.**"
   ]
  },
  {
   "cell_type": "code",
   "execution_count": 9,
   "metadata": {},
   "outputs": [],
   "source": [
    "model = LogisticRegression(max_iter=1000)\n",
    "model.fit(X_train, y_train)\n",
    "y_predict = model.predict(X_test)"
   ]
  },
  {
   "cell_type": "markdown",
   "metadata": {},
   "source": [
    "**Question 9: Get the Model Score.**"
   ]
  },
  {
   "cell_type": "code",
   "execution_count": 10,
   "metadata": {},
   "outputs": [
    {
     "name": "stdout",
     "output_type": "stream",
     "text": [
      "Accuracy Score is  0.5684803001876173\n"
     ]
    }
   ],
   "source": [
    "model_score = model.score(X_test, y_test)\n",
    "print('Accuracy Score is ',model_score)"
   ]
  },
  {
   "cell_type": "markdown",
   "metadata": {},
   "source": [
    "**Question 10: Generate the Confusion Matrix and Classification Report. What are your observations and recommendations?**"
   ]
  },
  {
   "cell_type": "code",
   "execution_count": 11,
   "metadata": {},
   "outputs": [
    {
     "name": "stdout",
     "output_type": "stream",
     "text": [
      "Confusion Matrix \n",
      " [[143 115]\n",
      " [115 160]] \n",
      "\n",
      "Classification Report \n",
      "               precision    recall  f1-score   support\n",
      "\n",
      "           1       0.55      0.55      0.55       258\n",
      "           2       0.58      0.58      0.58       275\n",
      "\n",
      "    accuracy                           0.57       533\n",
      "   macro avg       0.57      0.57      0.57       533\n",
      "weighted avg       0.57      0.57      0.57       533\n",
      "\n"
     ]
    }
   ],
   "source": [
    "print('Confusion Matrix','\\n',metrics.confusion_matrix(y_test, y_predict),'\\n')\n",
    "print('Classification Report','\\n',metrics.classification_report(y_test, y_predict))"
   ]
  },
  {
   "cell_type": "markdown",
   "metadata": {},
   "source": [
    "\n"
   ]
  },
  {
   "cell_type": "markdown",
   "metadata": {},
   "source": [
    "## Try other techniques like CART RF ANN to improve upon accuracy and play around the model tuning techniques"
   ]
  }
 ],
 "metadata": {
  "kernelspec": {
   "display_name": "Python 3",
   "language": "python",
   "name": "python3"
  },
  "language_info": {
   "codemirror_mode": {
    "name": "ipython",
    "version": 3
   },
   "file_extension": ".py",
   "mimetype": "text/x-python",
   "name": "python",
   "nbconvert_exporter": "python",
   "pygments_lexer": "ipython3",
   "version": "3.7.6"
  }
 },
 "nbformat": 4,
 "nbformat_minor": 2
}
