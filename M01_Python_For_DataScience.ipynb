{
 "cells": [
  {
   "cell_type": "code",
   "execution_count": 5,
   "metadata": {
    "tags": []
   },
   "outputs": [
    {
     "output_type": "stream",
     "name": "stdout",
     "text": "a is 3 a*3= 9 a+3= 6 a/3= 1.0\n"
    }
   ],
   "source": [
    "a=3\n",
    "print('a is',a,'a*3=',a*3,'a+3=',a+3,'a/3=',a/3)"
   ]
  },
  {
   "cell_type": "code",
   "execution_count": 6,
   "metadata": {
    "tags": []
   },
   "outputs": [
    {
     "output_type": "stream",
     "name": "stdout",
     "text": "a is of type <class 'int'> and c is of type <class 'float'>\n"
    }
   ],
   "source": [
    "a = 24\n",
    "b=7\n",
    "c=a/b\n",
    "print(\"a is of type\",type(a), \"and c is of type\", type(c) )"
   ]
  },
  {
   "cell_type": "code",
   "execution_count": 69,
   "metadata": {
    "tags": []
   },
   "outputs": [
    {
     "output_type": "stream",
     "name": "stdout",
     "text": "size= 3 \n1st Total of 1+1 \n2nd 2 \n3rd 2.0 \n-1 2.0 \n-2 2 \n-3 Total of 1+1\n['Total of 1+1', 2, 2.0, [1, '2', 3.0]]\nlistA 4th elementZ [1, '2', 3.0] & Its 3rd element is 3.0\n--- LIST COPY OPERATION ---listB= [1, '2', 3.0]  assigned to listC. listC= [1, '2', 3.0]\nListB assignment impact ListC ['Hi', '2', 3.0] & ['Hi', '2', 3.0]\n--- TRYING AGAIN --- ListB assignment now DONT impact ListC ['Shreyansh', '2', 3.0] & ['Hi', '2', 3.0]\n[3, 4, 5] & [5, 6]\n"
    }
   ],
   "source": [
    "# list\n",
    "listA = [\"Total of 1+1\",2,2.0]\n",
    "print('size=',len(listA),'\\n1st',listA[0],'\\n2nd',listA[1],'\\n3rd',listA[2],'\\n-1',listA[-1],'\\n-2',listA[-2],'\\n-3',listA[-3])\n",
    "listB = [1,'2',3.0]\n",
    "listA.append(listB)\n",
    "print(listA)\n",
    "print('listA 4th elementZ',listA[3],'& Its 3rd element is',listA[3][2])\n",
    "# list copy operation\n",
    "listC=listB\n",
    "print('--- LIST COPY OPERATION ---listB=',listB,' assigned to listC. listC=',listC)\n",
    "listB[0]='Hi' \n",
    "print('ListB assignment impact ListC',listB,'&',listC) # ListB's assignment impact ListA\n",
    "listC = listB.copy()\n",
    "listB[0]='Shreyansh' \n",
    "print('--- TRYING AGAIN --- ListB assignment now DONT impact ListC',listB,'&',listC) # ListB's assignment impact ListA\n",
    "listD=[1,2,3,4,5,6,7]\n",
    "print(listD[2:5],'&',listD[-3:-1])"
   ]
  },
  {
   "cell_type": "code",
   "execution_count": 52,
   "metadata": {
    "tags": []
   },
   "outputs": [
    {
     "output_type": "stream",
     "name": "stdout",
     "text": "tupleA= {1, 2, 3, 4} \ntupleB= (5, 2, 3, 4)\n"
    }
   ],
   "source": [
    "# tuple # --- same as list but you cant change its values ---\n",
    "tupleA = {1,2,3,4}\n",
    "# tupleA[0]=5 ERROR 'tuple object does not support object assignment'\n",
    "# workaround --- cast tuple as list, do opration, cast it back to tuple\n",
    "list_TupleA = list(tupleA)\n",
    "list_TupleA[0]=5\n",
    "tupleB = tuple(list_TupleA)\n",
    "print('tupleA=',tupleA,'\\ntupleB=',tupleB)"
   ]
  },
  {
   "cell_type": "code",
   "execution_count": 58,
   "metadata": {
    "tags": []
   },
   "outputs": [
    {
     "output_type": "stream",
     "name": "stdout",
     "text": "setA= {1, 3.0, -4, '2'}\n{3.0, 5, '2', -4} & True\n"
    }
   ],
   "source": [
    "#Set Changable,Unordered,No-duplicate\n",
    "setA = {1,'2',3.0,-4,'2',1,1,3}\n",
    "print('setA=',setA)\n",
    "#ERROR print('setA=',setA,' setA[0]',setA[0]) ---Unordered so setA[0] not possiable\n",
    "setA.add(5)\n",
    "setA.remove(1)\n",
    "print(setA,'&','2' in setA) "
   ]
  },
  {
   "cell_type": "code",
   "execution_count": 61,
   "metadata": {
    "tags": []
   },
   "outputs": [
    {
     "output_type": "stream",
     "name": "stdout",
     "text": "{'rollno': '1', 'studentname': 'Shreyansh', 'subject': 'maths', 'marks': '75'}\nMy name is Shreyansh ,my roll-no is 1 in subject maths  my score is 75\n"
    }
   ],
   "source": [
    "#Dictionary Changable,Unordered but indexed\n",
    "dictA = {\"rollno\":\"1\",\"studentname\":\"Shreyansh\",\"subject\":\"maths\",\"marks\":\"75\"}\n",
    "print(dictA)\n",
    "print('My name is',dictA[\"studentname\"],',my roll-no is',dictA[\"rollno\"],'in subject',dictA[\"subject\"],' my score is',dictA['marks'])"
   ]
  },
  {
   "cell_type": "code",
   "execution_count": 2,
   "metadata": {},
   "outputs": [
    {
     "output_type": "execute_result",
     "data": {
      "text/plain": "tuple"
     },
     "metadata": {},
     "execution_count": 2
    }
   ],
   "source": [
    "X= (10,\"Range\", \"DSBA\", -54, 11, 12)\n",
    "type(X)"
   ]
  },
  {
   "cell_type": "code",
   "execution_count": 1,
   "metadata": {
    "tags": []
   },
   "outputs": [
    {
     "output_type": "stream",
     "name": "stdout",
     "text": "i= 0 ,counter= 0\ni= 1 ,counter= 1\ni= 3 ,counter= 2\ni= 4 ,counter= 3\ni= 6 ,counter= 4\ni= 7 ,counter= 5\ni= 8 ,counter= 6\ni= 9 ,counter= 7\ni= 15 ,counter= 8\ni= 24 ,counter= 9\ni= 52 ,counter= 10\ni= 36 ,counter= 11\ni= 54 ,counter= 12\nOutside loop\n"
    }
   ],
   "source": [
    "# Loops - Flow control\n",
    "counter = 0\n",
    "listIDs = [0,1,3,4,6,7,8,9,15,24,52,36,54]\n",
    "for i in listIDs:\n",
    "    print('i=',i,',counter=',counter)\n",
    "    counter+=1\n",
    "print('Outside loop') #Tabbing decide loops scope"
   ]
  },
  {
   "cell_type": "code",
   "execution_count": 6,
   "metadata": {
    "tags": []
   },
   "outputs": [
    {
     "output_type": "stream",
     "name": "stdout",
     "text": "i= 1\ni= 2\ni= 3\noutside\n"
    }
   ],
   "source": [
    "i = 1\n",
    "while (i<4):\n",
    "    print('i=',i)\n",
    "    i+=1\n",
    "print('outside')"
   ]
  },
  {
   "cell_type": "code",
   "execution_count": 7,
   "metadata": {
    "tags": []
   },
   "outputs": [
    {
     "output_type": "stream",
     "name": "stdout",
     "text": "range(0, 6)\n"
    }
   ],
   "source": []
  },
  {
   "cell_type": "code",
   "execution_count": null,
   "metadata": {},
   "outputs": [],
   "source": []
  }
 ],
 "metadata": {
  "kernelspec": {
   "display_name": "Python 3",
   "language": "python",
   "name": "python3"
  },
  "language_info": {
   "codemirror_mode": {
    "name": "ipython",
    "version": 3
   },
   "file_extension": ".py",
   "mimetype": "text/x-python",
   "name": "python",
   "nbconvert_exporter": "python",
   "pygments_lexer": "ipython3",
   "version": "3.7.6"
  }
 },
 "nbformat": 4,
 "nbformat_minor": 4
}