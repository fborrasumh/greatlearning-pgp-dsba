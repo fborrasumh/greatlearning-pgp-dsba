{
 "cells": [
  {
   "cell_type": "code",
   "execution_count": 5,
   "metadata": {
    "tags": []
   },
   "outputs": [
    {
     "output_type": "stream",
     "name": "stdout",
     "text": "a is 3 a*3= 9 a+3= 6 a/3= 1.0\n"
    }
   ],
   "source": [
    "a=3\n",
    "print('a is',a,'a*3=',a*3,'a+3=',a+3,'a/3=',a/3)"
   ]
  },
  {
   "cell_type": "code",
   "execution_count": 6,
   "metadata": {
    "tags": []
   },
   "outputs": [
    {
     "output_type": "stream",
     "name": "stdout",
     "text": "a is of type <class 'int'> and c is of type <class 'float'>\n"
    }
   ],
   "source": [
    "a = 24\n",
    "b=7\n",
    "c=a/b\n",
    "print(\"a is of type\",type(a), \"and c is of type\", type(c) )"
   ]
  },
  {
   "cell_type": "code",
   "execution_count": 48,
   "metadata": {
    "tags": []
   },
   "outputs": [
    {
     "output_type": "stream",
     "name": "stdout",
     "text": "size= 3 \n1st Total of 1+1 \n2nd 2 \n3rd 2.0 \n-1 2.0 \n-2 2 \n-3 Total of 1+1\n['Total of 1+1', 2, 2.0, [1, '2', 3.0]]\nlistA 4th elementZ [1, '2', 3.0] & Its 3rd element is 3.0\n--- LIST COPY OPERATION ---\nlistB= [1, '2', 3.0]  assigned to listC. listC= [1, '2', 3.0]\nListB assignment impact ListC\n ['Hi', '2', 3.0] \n ['Hi', '2', 3.0]\n--- TRYING AGAIN ---\nListB assignment impact ListC\n ['Shreyansh', '2', 3.0] \n ['Hi', '2', 3.0]\n"
    }
   ],
   "source": [
    "# list\n",
    "listA = [\"Total of 1+1\",2,2.0]\n",
    "print('size=',len(listA),'\\n1st',listA[0],'\\n2nd',listA[1],'\\n3rd',listA[2],'\\n-1',listA[-1],'\\n-2',listA[-2],'\\n-3',listA[-3])\n",
    "listB = [1,'2',3.0]\n",
    "listA.append(listB)\n",
    "print(listA)\n",
    "print('listA 4th elementZ',listA[3],'& Its 3rd element is',listA[3][2])\n",
    "# list copy operation\n",
    "listC=listB\n",
    "print('--- LIST COPY OPERATION ---\\nlistB=',listB,' assigned to listC. listC=',listC)\n",
    "listB[0]='Hi' \n",
    "print('ListB assignment impact ListC\\n',listB,'\\n',listC) # ListB's assignment impact ListA\n",
    "print('--- TRYING AGAIN ---')\n",
    "listC = listB.copy()\n",
    "listB[0]='Shreyansh' \n",
    "print('ListB assignment impact ListC\\n',listB,'\\n',listC) # ListB's assignment impact ListA"
   ]
  },
  {
   "cell_type": "code",
   "execution_count": 52,
   "metadata": {
    "tags": []
   },
   "outputs": [
    {
     "output_type": "stream",
     "name": "stdout",
     "text": "tupleA= {1, 2, 3, 4} \ntupleB= (5, 2, 3, 4)\n"
    }
   ],
   "source": [
    "# tuple # --- same as list but you cant change its values ---\n",
    "tupleA = {1,2,3,4}\n",
    "# tupleA[0]=5 ERROR 'tuple object does not support object assignment'\n",
    "# workaround --- cast tuple as list, do opration, cast it back to tuple\n",
    "list_TupleA = list(tupleA)\n",
    "list_TupleA[0]=5\n",
    "tupleB = tuple(list_TupleA)\n",
    "print('tupleA=',tupleA,'\\ntupleB=',tupleB)# tuple # --- same as list but you cant change its values ---"
   ]
  },
  {
   "cell_type": "code",
   "execution_count": null,
   "metadata": {},
   "outputs": [],
   "source": []
  }
 ],
 "metadata": {
  "kernelspec": {
   "display_name": "Python 3",
   "language": "python",
   "name": "python3"
  },
  "language_info": {
   "codemirror_mode": {
    "name": "ipython",
    "version": 3
   },
   "file_extension": ".py",
   "mimetype": "text/x-python",
   "name": "python",
   "nbconvert_exporter": "python",
   "pygments_lexer": "ipython3",
   "version": "3.7.6"
  }
 },
 "nbformat": 4,
 "nbformat_minor": 4
}