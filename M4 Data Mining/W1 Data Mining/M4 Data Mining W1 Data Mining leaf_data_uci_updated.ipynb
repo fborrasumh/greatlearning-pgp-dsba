{
 "cells": [
  {
   "cell_type": "markdown",
   "metadata": {},
   "source": [
    "# Bank dataset\n",
    "\n",
    "We have a transaction details of 515 banks which include number of DD taken, Withdrawals, Deposits, Area of the branch and Average Walk-Ins. Profile the banks into segments and come up with recommendations for each segment."
   ]
  },
  {
   "cell_type": "markdown",
   "metadata": {},
   "source": [
    "# Import libraries and load data"
   ]
  },
  {
   "cell_type": "code",
   "execution_count": 64,
   "metadata": {
    "ExecuteTime": {
     "end_time": "2020-08-08T10:56:19.518535Z",
     "start_time": "2020-08-08T10:56:18.129008Z"
    }
   },
   "outputs": [],
   "source": [
    "import pandas as pd\n",
    "from sklearn.cluster import KMeans \n",
    "import matplotlib.pyplot as plt\n",
    "import seaborn as sns"
   ]
  },
  {
   "cell_type": "code",
   "execution_count": 65,
   "metadata": {
    "ExecuteTime": {
     "end_time": "2020-08-08T10:56:19.525514Z",
     "start_time": "2020-08-08T10:56:19.519501Z"
    }
   },
   "outputs": [],
   "source": [
    "data_df = pd.read_csv(\"leaf_data_uci_updated.csv\")"
   ]
  },
  {
   "cell_type": "markdown",
   "metadata": {},
   "source": [
    "# Checking the data"
   ]
  },
  {
   "cell_type": "code",
   "execution_count": 66,
   "metadata": {
    "ExecuteTime": {
     "end_time": "2020-08-08T10:56:19.708225Z",
     "start_time": "2020-08-08T10:56:19.527480Z"
    }
   },
   "outputs": [
    {
     "data": {
      "text/html": [
       "<div>\n",
       "<style scoped>\n",
       "    .dataframe tbody tr th:only-of-type {\n",
       "        vertical-align: middle;\n",
       "    }\n",
       "\n",
       "    .dataframe tbody tr th {\n",
       "        vertical-align: top;\n",
       "    }\n",
       "\n",
       "    .dataframe thead th {\n",
       "        text-align: right;\n",
       "    }\n",
       "</style>\n",
       "<table border=\"1\" class=\"dataframe\">\n",
       "  <thead>\n",
       "    <tr style=\"text-align: right;\">\n",
       "      <th></th>\n",
       "      <th>Eccentricity</th>\n",
       "      <th>Aspect Ratio</th>\n",
       "      <th>Elongation</th>\n",
       "      <th>Solidity</th>\n",
       "      <th>Stochastic Convexity</th>\n",
       "      <th>Isoperimetric Factor</th>\n",
       "      <th>Maximal Indentation Depth</th>\n",
       "      <th>Lobedness</th>\n",
       "      <th>Average Intensity</th>\n",
       "      <th>Average Contrast</th>\n",
       "      <th>Smoothness</th>\n",
       "      <th>Third moment</th>\n",
       "      <th>Uniformity</th>\n",
       "      <th>Entropy</th>\n",
       "    </tr>\n",
       "  </thead>\n",
       "  <tbody>\n",
       "    <tr>\n",
       "      <th>0</th>\n",
       "      <td>0.72694</td>\n",
       "      <td>1.4742</td>\n",
       "      <td>0.32396</td>\n",
       "      <td>0.98535</td>\n",
       "      <td>1.00000</td>\n",
       "      <td>0.83592</td>\n",
       "      <td>0.004657</td>\n",
       "      <td>0.003947</td>\n",
       "      <td>0.047790</td>\n",
       "      <td>0.127950</td>\n",
       "      <td>0.016108</td>\n",
       "      <td>0.005232</td>\n",
       "      <td>0.000275</td>\n",
       "      <td>1.17560</td>\n",
       "    </tr>\n",
       "    <tr>\n",
       "      <th>1</th>\n",
       "      <td>0.74173</td>\n",
       "      <td>1.5257</td>\n",
       "      <td>0.36116</td>\n",
       "      <td>0.98152</td>\n",
       "      <td>0.99825</td>\n",
       "      <td>0.79867</td>\n",
       "      <td>0.005242</td>\n",
       "      <td>0.005002</td>\n",
       "      <td>0.024160</td>\n",
       "      <td>0.090476</td>\n",
       "      <td>0.008119</td>\n",
       "      <td>0.002708</td>\n",
       "      <td>0.000075</td>\n",
       "      <td>0.69659</td>\n",
       "    </tr>\n",
       "    <tr>\n",
       "      <th>2</th>\n",
       "      <td>0.76722</td>\n",
       "      <td>1.5725</td>\n",
       "      <td>0.38998</td>\n",
       "      <td>0.97755</td>\n",
       "      <td>1.00000</td>\n",
       "      <td>0.80812</td>\n",
       "      <td>0.007457</td>\n",
       "      <td>0.010121</td>\n",
       "      <td>0.011897</td>\n",
       "      <td>0.057445</td>\n",
       "      <td>0.003289</td>\n",
       "      <td>0.000921</td>\n",
       "      <td>0.000038</td>\n",
       "      <td>0.44348</td>\n",
       "    </tr>\n",
       "    <tr>\n",
       "      <th>3</th>\n",
       "      <td>0.73797</td>\n",
       "      <td>1.4597</td>\n",
       "      <td>0.35376</td>\n",
       "      <td>0.97566</td>\n",
       "      <td>1.00000</td>\n",
       "      <td>0.81697</td>\n",
       "      <td>0.006877</td>\n",
       "      <td>0.008607</td>\n",
       "      <td>0.015950</td>\n",
       "      <td>0.065491</td>\n",
       "      <td>0.004271</td>\n",
       "      <td>0.001154</td>\n",
       "      <td>0.000066</td>\n",
       "      <td>0.58785</td>\n",
       "    </tr>\n",
       "    <tr>\n",
       "      <th>4</th>\n",
       "      <td>0.82301</td>\n",
       "      <td>1.7707</td>\n",
       "      <td>0.44462</td>\n",
       "      <td>0.97698</td>\n",
       "      <td>1.00000</td>\n",
       "      <td>0.75493</td>\n",
       "      <td>0.007428</td>\n",
       "      <td>0.010042</td>\n",
       "      <td>0.007938</td>\n",
       "      <td>0.045339</td>\n",
       "      <td>0.002051</td>\n",
       "      <td>0.000560</td>\n",
       "      <td>0.000023</td>\n",
       "      <td>0.34214</td>\n",
       "    </tr>\n",
       "  </tbody>\n",
       "</table>\n",
       "</div>"
      ],
      "text/plain": [
       "   Eccentricity  Aspect Ratio  Elongation  Solidity  Stochastic Convexity  \\\n",
       "0       0.72694        1.4742     0.32396   0.98535               1.00000   \n",
       "1       0.74173        1.5257     0.36116   0.98152               0.99825   \n",
       "2       0.76722        1.5725     0.38998   0.97755               1.00000   \n",
       "3       0.73797        1.4597     0.35376   0.97566               1.00000   \n",
       "4       0.82301        1.7707     0.44462   0.97698               1.00000   \n",
       "\n",
       "   Isoperimetric Factor  Maximal Indentation Depth  Lobedness  \\\n",
       "0               0.83592                   0.004657   0.003947   \n",
       "1               0.79867                   0.005242   0.005002   \n",
       "2               0.80812                   0.007457   0.010121   \n",
       "3               0.81697                   0.006877   0.008607   \n",
       "4               0.75493                   0.007428   0.010042   \n",
       "\n",
       "   Average Intensity   Average Contrast  Smoothness   Third moment  \\\n",
       "0           0.047790           0.127950    0.016108       0.005232   \n",
       "1           0.024160           0.090476    0.008119       0.002708   \n",
       "2           0.011897           0.057445    0.003289       0.000921   \n",
       "3           0.015950           0.065491    0.004271       0.001154   \n",
       "4           0.007938           0.045339    0.002051       0.000560   \n",
       "\n",
       "   Uniformity  Entropy  \n",
       "0    0.000275  1.17560  \n",
       "1    0.000075  0.69659  \n",
       "2    0.000038  0.44348  \n",
       "3    0.000066  0.58785  \n",
       "4    0.000023  0.34214  "
      ]
     },
     "execution_count": 66,
     "metadata": {},
     "output_type": "execute_result"
    }
   ],
   "source": [
    "data_df.head()"
   ]
  },
  {
   "cell_type": "code",
   "execution_count": 67,
   "metadata": {
    "ExecuteTime": {
     "end_time": "2020-08-08T10:56:19.820965Z",
     "start_time": "2020-08-08T10:56:19.709191Z"
    }
   },
   "outputs": [
    {
     "data": {
      "text/plain": [
       "(340, 14)"
      ]
     },
     "execution_count": 67,
     "metadata": {},
     "output_type": "execute_result"
    }
   ],
   "source": [
    "data_df.shape"
   ]
  },
  {
   "cell_type": "code",
   "execution_count": 68,
   "metadata": {
    "ExecuteTime": {
     "end_time": "2020-08-08T10:56:19.904715Z",
     "start_time": "2020-08-08T10:56:19.821943Z"
    }
   },
   "outputs": [
    {
     "name": "stdout",
     "output_type": "stream",
     "text": [
      "<class 'pandas.core.frame.DataFrame'>\n",
      "RangeIndex: 340 entries, 0 to 339\n",
      "Data columns (total 14 columns):\n",
      " #   Column                     Non-Null Count  Dtype  \n",
      "---  ------                     --------------  -----  \n",
      " 0   Eccentricity               340 non-null    float64\n",
      " 1   Aspect Ratio               340 non-null    float64\n",
      " 2   Elongation                 340 non-null    float64\n",
      " 3   Solidity                   340 non-null    float64\n",
      " 4   Stochastic Convexity       340 non-null    float64\n",
      " 5   Isoperimetric Factor       340 non-null    float64\n",
      " 6   Maximal Indentation Depth  340 non-null    float64\n",
      " 7   Lobedness                  340 non-null    float64\n",
      " 8   Average Intensity          340 non-null    float64\n",
      " 9    Average Contrast          340 non-null    float64\n",
      " 10  Smoothness                 340 non-null    float64\n",
      " 11   Third moment              340 non-null    float64\n",
      " 12  Uniformity                 340 non-null    float64\n",
      " 13  Entropy                    340 non-null    float64\n",
      "dtypes: float64(14)\n",
      "memory usage: 37.3 KB\n"
     ]
    }
   ],
   "source": [
    "data_df.info()"
   ]
  },
  {
   "cell_type": "markdown",
   "metadata": {},
   "source": [
    "# Checking Summary Statistic"
   ]
  },
  {
   "cell_type": "code",
   "execution_count": 69,
   "metadata": {
    "ExecuteTime": {
     "end_time": "2020-08-08T10:56:20.008460Z",
     "start_time": "2020-08-08T10:56:19.906710Z"
    }
   },
   "outputs": [
    {
     "data": {
      "text/html": [
       "<div>\n",
       "<style scoped>\n",
       "    .dataframe tbody tr th:only-of-type {\n",
       "        vertical-align: middle;\n",
       "    }\n",
       "\n",
       "    .dataframe tbody tr th {\n",
       "        vertical-align: top;\n",
       "    }\n",
       "\n",
       "    .dataframe thead th {\n",
       "        text-align: right;\n",
       "    }\n",
       "</style>\n",
       "<table border=\"1\" class=\"dataframe\">\n",
       "  <thead>\n",
       "    <tr style=\"text-align: right;\">\n",
       "      <th></th>\n",
       "      <th>Eccentricity</th>\n",
       "      <th>Aspect Ratio</th>\n",
       "      <th>Elongation</th>\n",
       "      <th>Solidity</th>\n",
       "      <th>Stochastic Convexity</th>\n",
       "      <th>Isoperimetric Factor</th>\n",
       "      <th>Maximal Indentation Depth</th>\n",
       "      <th>Lobedness</th>\n",
       "      <th>Average Intensity</th>\n",
       "      <th>Average Contrast</th>\n",
       "      <th>Smoothness</th>\n",
       "      <th>Third moment</th>\n",
       "      <th>Uniformity</th>\n",
       "      <th>Entropy</th>\n",
       "    </tr>\n",
       "  </thead>\n",
       "  <tbody>\n",
       "    <tr>\n",
       "      <th>count</th>\n",
       "      <td>340.000000</td>\n",
       "      <td>340.000000</td>\n",
       "      <td>340.000000</td>\n",
       "      <td>340.000000</td>\n",
       "      <td>340.000000</td>\n",
       "      <td>340.000000</td>\n",
       "      <td>340.000000</td>\n",
       "      <td>340.000000</td>\n",
       "      <td>340.000000</td>\n",
       "      <td>340.000000</td>\n",
       "      <td>340.000000</td>\n",
       "      <td>340.000000</td>\n",
       "      <td>340.000000</td>\n",
       "      <td>340.000000</td>\n",
       "    </tr>\n",
       "    <tr>\n",
       "      <th>mean</th>\n",
       "      <td>0.719854</td>\n",
       "      <td>1.902051</td>\n",
       "      <td>0.513760</td>\n",
       "      <td>0.919101</td>\n",
       "      <td>0.975867</td>\n",
       "      <td>0.531234</td>\n",
       "      <td>0.034647</td>\n",
       "      <td>0.284499</td>\n",
       "      <td>0.051209</td>\n",
       "      <td>0.124535</td>\n",
       "      <td>0.017491</td>\n",
       "      <td>0.005678</td>\n",
       "      <td>0.000356</td>\n",
       "      <td>1.162630</td>\n",
       "    </tr>\n",
       "    <tr>\n",
       "      <th>std</th>\n",
       "      <td>0.208311</td>\n",
       "      <td>0.888783</td>\n",
       "      <td>0.195583</td>\n",
       "      <td>0.075247</td>\n",
       "      <td>0.032506</td>\n",
       "      <td>0.217532</td>\n",
       "      <td>0.031502</td>\n",
       "      <td>0.365318</td>\n",
       "      <td>0.035518</td>\n",
       "      <td>0.051860</td>\n",
       "      <td>0.013189</td>\n",
       "      <td>0.004495</td>\n",
       "      <td>0.000336</td>\n",
       "      <td>0.584854</td>\n",
       "    </tr>\n",
       "    <tr>\n",
       "      <th>min</th>\n",
       "      <td>0.117080</td>\n",
       "      <td>1.006600</td>\n",
       "      <td>0.107610</td>\n",
       "      <td>0.761323</td>\n",
       "      <td>0.915575</td>\n",
       "      <td>0.078376</td>\n",
       "      <td>0.002837</td>\n",
       "      <td>0.001464</td>\n",
       "      <td>0.005022</td>\n",
       "      <td>0.033415</td>\n",
       "      <td>0.001115</td>\n",
       "      <td>0.000229</td>\n",
       "      <td>0.000007</td>\n",
       "      <td>0.169400</td>\n",
       "    </tr>\n",
       "    <tr>\n",
       "      <th>25%</th>\n",
       "      <td>0.550622</td>\n",
       "      <td>1.211300</td>\n",
       "      <td>0.349623</td>\n",
       "      <td>0.890667</td>\n",
       "      <td>0.966230</td>\n",
       "      <td>0.346818</td>\n",
       "      <td>0.009521</td>\n",
       "      <td>0.016500</td>\n",
       "      <td>0.022843</td>\n",
       "      <td>0.083362</td>\n",
       "      <td>0.006901</td>\n",
       "      <td>0.002080</td>\n",
       "      <td>0.000102</td>\n",
       "      <td>0.718900</td>\n",
       "    </tr>\n",
       "    <tr>\n",
       "      <th>50%</th>\n",
       "      <td>0.763450</td>\n",
       "      <td>1.570750</td>\n",
       "      <td>0.501855</td>\n",
       "      <td>0.948130</td>\n",
       "      <td>0.992980</td>\n",
       "      <td>0.579160</td>\n",
       "      <td>0.023860</td>\n",
       "      <td>0.103615</td>\n",
       "      <td>0.042087</td>\n",
       "      <td>0.119375</td>\n",
       "      <td>0.014050</td>\n",
       "      <td>0.004447</td>\n",
       "      <td>0.000239</td>\n",
       "      <td>1.077450</td>\n",
       "    </tr>\n",
       "    <tr>\n",
       "      <th>75%</th>\n",
       "      <td>0.895097</td>\n",
       "      <td>2.343100</td>\n",
       "      <td>0.633373</td>\n",
       "      <td>0.976897</td>\n",
       "      <td>1.000000</td>\n",
       "      <td>0.700712</td>\n",
       "      <td>0.047834</td>\n",
       "      <td>0.416433</td>\n",
       "      <td>0.073046</td>\n",
       "      <td>0.163795</td>\n",
       "      <td>0.026127</td>\n",
       "      <td>0.008307</td>\n",
       "      <td>0.000516</td>\n",
       "      <td>1.554575</td>\n",
       "    </tr>\n",
       "    <tr>\n",
       "      <th>max</th>\n",
       "      <td>0.998710</td>\n",
       "      <td>4.040800</td>\n",
       "      <td>0.948340</td>\n",
       "      <td>0.993880</td>\n",
       "      <td>1.000000</td>\n",
       "      <td>0.858160</td>\n",
       "      <td>0.105303</td>\n",
       "      <td>1.016331</td>\n",
       "      <td>0.148349</td>\n",
       "      <td>0.280810</td>\n",
       "      <td>0.054967</td>\n",
       "      <td>0.017648</td>\n",
       "      <td>0.001137</td>\n",
       "      <td>2.708500</td>\n",
       "    </tr>\n",
       "  </tbody>\n",
       "</table>\n",
       "</div>"
      ],
      "text/plain": [
       "       Eccentricity  Aspect Ratio  Elongation    Solidity  \\\n",
       "count    340.000000    340.000000  340.000000  340.000000   \n",
       "mean       0.719854      1.902051    0.513760    0.919101   \n",
       "std        0.208311      0.888783    0.195583    0.075247   \n",
       "min        0.117080      1.006600    0.107610    0.761323   \n",
       "25%        0.550622      1.211300    0.349623    0.890667   \n",
       "50%        0.763450      1.570750    0.501855    0.948130   \n",
       "75%        0.895097      2.343100    0.633373    0.976897   \n",
       "max        0.998710      4.040800    0.948340    0.993880   \n",
       "\n",
       "       Stochastic Convexity  Isoperimetric Factor  Maximal Indentation Depth  \\\n",
       "count            340.000000            340.000000                 340.000000   \n",
       "mean               0.975867              0.531234                   0.034647   \n",
       "std                0.032506              0.217532                   0.031502   \n",
       "min                0.915575              0.078376                   0.002837   \n",
       "25%                0.966230              0.346818                   0.009521   \n",
       "50%                0.992980              0.579160                   0.023860   \n",
       "75%                1.000000              0.700712                   0.047834   \n",
       "max                1.000000              0.858160                   0.105303   \n",
       "\n",
       "        Lobedness  Average Intensity   Average Contrast  Smoothness  \\\n",
       "count  340.000000         340.000000         340.000000  340.000000   \n",
       "mean     0.284499           0.051209           0.124535    0.017491   \n",
       "std      0.365318           0.035518           0.051860    0.013189   \n",
       "min      0.001464           0.005022           0.033415    0.001115   \n",
       "25%      0.016500           0.022843           0.083362    0.006901   \n",
       "50%      0.103615           0.042087           0.119375    0.014050   \n",
       "75%      0.416433           0.073046           0.163795    0.026127   \n",
       "max      1.016331           0.148349           0.280810    0.054967   \n",
       "\n",
       "        Third moment  Uniformity     Entropy  \n",
       "count     340.000000  340.000000  340.000000  \n",
       "mean        0.005678    0.000356    1.162630  \n",
       "std         0.004495    0.000336    0.584854  \n",
       "min         0.000229    0.000007    0.169400  \n",
       "25%         0.002080    0.000102    0.718900  \n",
       "50%         0.004447    0.000239    1.077450  \n",
       "75%         0.008307    0.000516    1.554575  \n",
       "max         0.017648    0.001137    2.708500  "
      ]
     },
     "execution_count": 69,
     "metadata": {},
     "output_type": "execute_result"
    }
   ],
   "source": [
    "data_df.describe()"
   ]
  },
  {
   "cell_type": "markdown",
   "metadata": {},
   "source": [
    "# Checking for Duplicates"
   ]
  },
  {
   "cell_type": "code",
   "execution_count": 70,
   "metadata": {
    "ExecuteTime": {
     "end_time": "2020-08-08T10:56:20.109120Z",
     "start_time": "2020-08-08T10:56:20.009457Z"
    }
   },
   "outputs": [
    {
     "data": {
      "text/plain": [
       "0"
      ]
     },
     "execution_count": 70,
     "metadata": {},
     "output_type": "execute_result"
    }
   ],
   "source": [
    "data_df.duplicated().sum()"
   ]
  },
  {
   "cell_type": "markdown",
   "metadata": {},
   "source": [
    "There are no Duplicates in the dataset"
   ]
  },
  {
   "cell_type": "markdown",
   "metadata": {},
   "source": [
    "# Scaling the data"
   ]
  },
  {
   "cell_type": "code",
   "execution_count": 71,
   "metadata": {
    "ExecuteTime": {
     "end_time": "2020-08-08T10:56:20.189350Z",
     "start_time": "2020-08-08T10:56:20.113109Z"
    }
   },
   "outputs": [],
   "source": [
    "# importing the StandardScaler Module\n",
    "from sklearn.preprocessing import StandardScaler"
   ]
  },
  {
   "cell_type": "code",
   "execution_count": 72,
   "metadata": {
    "ExecuteTime": {
     "end_time": "2020-08-08T10:56:20.263877Z",
     "start_time": "2020-08-08T10:56:20.191345Z"
    }
   },
   "outputs": [],
   "source": [
    "# Creating an object for the StandardScaler function\n",
    "X = StandardScaler()"
   ]
  },
  {
   "cell_type": "code",
   "execution_count": 73,
   "metadata": {
    "ExecuteTime": {
     "end_time": "2020-08-08T10:56:20.341645Z",
     "start_time": "2020-08-08T10:56:20.264866Z"
    }
   },
   "outputs": [],
   "source": [
    "scaled_df = pd.DataFrame(X.fit_transform(data_df),columns=data_df.columns)"
   ]
  },
  {
   "cell_type": "code",
   "execution_count": 74,
   "metadata": {
    "ExecuteTime": {
     "end_time": "2020-08-08T10:56:20.433515Z",
     "start_time": "2020-08-08T10:56:20.342523Z"
    }
   },
   "outputs": [
    {
     "data": {
      "text/html": [
       "<div>\n",
       "<style scoped>\n",
       "    .dataframe tbody tr th:only-of-type {\n",
       "        vertical-align: middle;\n",
       "    }\n",
       "\n",
       "    .dataframe tbody tr th {\n",
       "        vertical-align: top;\n",
       "    }\n",
       "\n",
       "    .dataframe thead th {\n",
       "        text-align: right;\n",
       "    }\n",
       "</style>\n",
       "<table border=\"1\" class=\"dataframe\">\n",
       "  <thead>\n",
       "    <tr style=\"text-align: right;\">\n",
       "      <th></th>\n",
       "      <th>Eccentricity</th>\n",
       "      <th>Aspect Ratio</th>\n",
       "      <th>Elongation</th>\n",
       "      <th>Solidity</th>\n",
       "      <th>Stochastic Convexity</th>\n",
       "      <th>Isoperimetric Factor</th>\n",
       "      <th>Maximal Indentation Depth</th>\n",
       "      <th>Lobedness</th>\n",
       "      <th>Average Intensity</th>\n",
       "      <th>Average Contrast</th>\n",
       "      <th>Smoothness</th>\n",
       "      <th>Third moment</th>\n",
       "      <th>Uniformity</th>\n",
       "      <th>Entropy</th>\n",
       "    </tr>\n",
       "  </thead>\n",
       "  <tbody>\n",
       "    <tr>\n",
       "      <th>0</th>\n",
       "      <td>0.034066</td>\n",
       "      <td>-0.482099</td>\n",
       "      <td>-0.971865</td>\n",
       "      <td>0.881718</td>\n",
       "      <td>0.743486</td>\n",
       "      <td>1.402718</td>\n",
       "      <td>-0.953401</td>\n",
       "      <td>-0.769100</td>\n",
       "      <td>-0.096417</td>\n",
       "      <td>0.065951</td>\n",
       "      <td>-0.105019</td>\n",
       "      <td>-0.099339</td>\n",
       "      <td>-0.241076</td>\n",
       "      <td>0.022209</td>\n",
       "    </tr>\n",
       "    <tr>\n",
       "      <th>1</th>\n",
       "      <td>0.105170</td>\n",
       "      <td>-0.424069</td>\n",
       "      <td>-0.781384</td>\n",
       "      <td>0.830744</td>\n",
       "      <td>0.689571</td>\n",
       "      <td>1.231226</td>\n",
       "      <td>-0.934782</td>\n",
       "      <td>-0.766208</td>\n",
       "      <td>-0.762703</td>\n",
       "      <td>-0.657718</td>\n",
       "      <td>-0.711617</td>\n",
       "      <td>-0.661808</td>\n",
       "      <td>-0.836779</td>\n",
       "      <td>-0.798023</td>\n",
       "    </tr>\n",
       "    <tr>\n",
       "      <th>2</th>\n",
       "      <td>0.227715</td>\n",
       "      <td>-0.371335</td>\n",
       "      <td>-0.633812</td>\n",
       "      <td>0.777907</td>\n",
       "      <td>0.743486</td>\n",
       "      <td>1.274732</td>\n",
       "      <td>-0.864365</td>\n",
       "      <td>-0.752173</td>\n",
       "      <td>-1.108478</td>\n",
       "      <td>-1.295588</td>\n",
       "      <td>-1.078407</td>\n",
       "      <td>-1.060062</td>\n",
       "      <td>-0.946702</td>\n",
       "      <td>-1.231436</td>\n",
       "    </tr>\n",
       "    <tr>\n",
       "      <th>3</th>\n",
       "      <td>0.087093</td>\n",
       "      <td>-0.498437</td>\n",
       "      <td>-0.819275</td>\n",
       "      <td>0.752752</td>\n",
       "      <td>0.743486</td>\n",
       "      <td>1.315476</td>\n",
       "      <td>-0.882820</td>\n",
       "      <td>-0.756324</td>\n",
       "      <td>-0.994197</td>\n",
       "      <td>-1.140210</td>\n",
       "      <td>-1.003871</td>\n",
       "      <td>-1.007984</td>\n",
       "      <td>-0.862100</td>\n",
       "      <td>-0.984224</td>\n",
       "    </tr>\n",
       "    <tr>\n",
       "      <th>4</th>\n",
       "      <td>0.495931</td>\n",
       "      <td>-0.148005</td>\n",
       "      <td>-0.354030</td>\n",
       "      <td>0.770320</td>\n",
       "      <td>0.743486</td>\n",
       "      <td>1.029856</td>\n",
       "      <td>-0.865297</td>\n",
       "      <td>-0.752390</td>\n",
       "      <td>-1.220111</td>\n",
       "      <td>-1.529370</td>\n",
       "      <td>-1.172391</td>\n",
       "      <td>-1.140460</td>\n",
       "      <td>-0.989599</td>\n",
       "      <td>-1.404965</td>\n",
       "    </tr>\n",
       "    <tr>\n",
       "      <th>...</th>\n",
       "      <td>...</td>\n",
       "      <td>...</td>\n",
       "      <td>...</td>\n",
       "      <td>...</td>\n",
       "      <td>...</td>\n",
       "      <td>...</td>\n",
       "      <td>...</td>\n",
       "      <td>...</td>\n",
       "      <td>...</td>\n",
       "      <td>...</td>\n",
       "      <td>...</td>\n",
       "      <td>...</td>\n",
       "      <td>...</td>\n",
       "      <td>...</td>\n",
       "    </tr>\n",
       "    <tr>\n",
       "      <th>335</th>\n",
       "      <td>-1.656859</td>\n",
       "      <td>-0.856758</td>\n",
       "      <td>1.554005</td>\n",
       "      <td>-2.099910</td>\n",
       "      <td>-1.857519</td>\n",
       "      <td>-1.869163</td>\n",
       "      <td>1.818855</td>\n",
       "      <td>2.006228</td>\n",
       "      <td>1.795295</td>\n",
       "      <td>1.623596</td>\n",
       "      <td>1.838507</td>\n",
       "      <td>1.708123</td>\n",
       "      <td>1.384125</td>\n",
       "      <td>1.481987</td>\n",
       "    </tr>\n",
       "    <tr>\n",
       "      <th>336</th>\n",
       "      <td>-2.111561</td>\n",
       "      <td>-0.920759</td>\n",
       "      <td>1.225989</td>\n",
       "      <td>-2.099910</td>\n",
       "      <td>-1.857519</td>\n",
       "      <td>-1.815621</td>\n",
       "      <td>1.409899</td>\n",
       "      <td>2.006228</td>\n",
       "      <td>2.537994</td>\n",
       "      <td>1.810722</td>\n",
       "      <td>2.125916</td>\n",
       "      <td>1.409096</td>\n",
       "      <td>2.327487</td>\n",
       "      <td>2.128913</td>\n",
       "    </tr>\n",
       "    <tr>\n",
       "      <th>337</th>\n",
       "      <td>-1.761569</td>\n",
       "      <td>-0.979353</td>\n",
       "      <td>1.370795</td>\n",
       "      <td>-2.099910</td>\n",
       "      <td>-1.857519</td>\n",
       "      <td>-1.824046</td>\n",
       "      <td>1.752190</td>\n",
       "      <td>2.006228</td>\n",
       "      <td>1.309833</td>\n",
       "      <td>1.593085</td>\n",
       "      <td>1.792795</td>\n",
       "      <td>2.327344</td>\n",
       "      <td>0.289506</td>\n",
       "      <td>0.909035</td>\n",
       "    </tr>\n",
       "    <tr>\n",
       "      <th>338</th>\n",
       "      <td>-0.576786</td>\n",
       "      <td>-0.855631</td>\n",
       "      <td>1.032077</td>\n",
       "      <td>-2.099910</td>\n",
       "      <td>-1.857519</td>\n",
       "      <td>-1.720736</td>\n",
       "      <td>2.246205</td>\n",
       "      <td>2.006228</td>\n",
       "      <td>-0.023134</td>\n",
       "      <td>0.218510</td>\n",
       "      <td>0.047836</td>\n",
       "      <td>0.114057</td>\n",
       "      <td>-0.271551</td>\n",
       "      <td>-0.017175</td>\n",
       "    </tr>\n",
       "    <tr>\n",
       "      <th>339</th>\n",
       "      <td>-1.191821</td>\n",
       "      <td>-0.914900</td>\n",
       "      <td>1.742643</td>\n",
       "      <td>-2.099910</td>\n",
       "      <td>-1.857519</td>\n",
       "      <td>-2.084870</td>\n",
       "      <td>2.246205</td>\n",
       "      <td>2.006228</td>\n",
       "      <td>0.868387</td>\n",
       "      <td>1.222116</td>\n",
       "      <td>1.259208</td>\n",
       "      <td>1.739987</td>\n",
       "      <td>-0.080868</td>\n",
       "      <td>0.684375</td>\n",
       "    </tr>\n",
       "  </tbody>\n",
       "</table>\n",
       "<p>340 rows × 14 columns</p>\n",
       "</div>"
      ],
      "text/plain": [
       "     Eccentricity  Aspect Ratio  Elongation  Solidity  Stochastic Convexity  \\\n",
       "0        0.034066     -0.482099   -0.971865  0.881718              0.743486   \n",
       "1        0.105170     -0.424069   -0.781384  0.830744              0.689571   \n",
       "2        0.227715     -0.371335   -0.633812  0.777907              0.743486   \n",
       "3        0.087093     -0.498437   -0.819275  0.752752              0.743486   \n",
       "4        0.495931     -0.148005   -0.354030  0.770320              0.743486   \n",
       "..            ...           ...         ...       ...                   ...   \n",
       "335     -1.656859     -0.856758    1.554005 -2.099910             -1.857519   \n",
       "336     -2.111561     -0.920759    1.225989 -2.099910             -1.857519   \n",
       "337     -1.761569     -0.979353    1.370795 -2.099910             -1.857519   \n",
       "338     -0.576786     -0.855631    1.032077 -2.099910             -1.857519   \n",
       "339     -1.191821     -0.914900    1.742643 -2.099910             -1.857519   \n",
       "\n",
       "     Isoperimetric Factor  Maximal Indentation Depth  Lobedness  \\\n",
       "0                1.402718                  -0.953401  -0.769100   \n",
       "1                1.231226                  -0.934782  -0.766208   \n",
       "2                1.274732                  -0.864365  -0.752173   \n",
       "3                1.315476                  -0.882820  -0.756324   \n",
       "4                1.029856                  -0.865297  -0.752390   \n",
       "..                    ...                        ...        ...   \n",
       "335             -1.869163                   1.818855   2.006228   \n",
       "336             -1.815621                   1.409899   2.006228   \n",
       "337             -1.824046                   1.752190   2.006228   \n",
       "338             -1.720736                   2.246205   2.006228   \n",
       "339             -2.084870                   2.246205   2.006228   \n",
       "\n",
       "     Average Intensity   Average Contrast  Smoothness   Third moment  \\\n",
       "0            -0.096417           0.065951   -0.105019      -0.099339   \n",
       "1            -0.762703          -0.657718   -0.711617      -0.661808   \n",
       "2            -1.108478          -1.295588   -1.078407      -1.060062   \n",
       "3            -0.994197          -1.140210   -1.003871      -1.007984   \n",
       "4            -1.220111          -1.529370   -1.172391      -1.140460   \n",
       "..                 ...                ...         ...            ...   \n",
       "335           1.795295           1.623596    1.838507       1.708123   \n",
       "336           2.537994           1.810722    2.125916       1.409096   \n",
       "337           1.309833           1.593085    1.792795       2.327344   \n",
       "338          -0.023134           0.218510    0.047836       0.114057   \n",
       "339           0.868387           1.222116    1.259208       1.739987   \n",
       "\n",
       "     Uniformity   Entropy  \n",
       "0     -0.241076  0.022209  \n",
       "1     -0.836779 -0.798023  \n",
       "2     -0.946702 -1.231436  \n",
       "3     -0.862100 -0.984224  \n",
       "4     -0.989599 -1.404965  \n",
       "..          ...       ...  \n",
       "335    1.384125  1.481987  \n",
       "336    2.327487  2.128913  \n",
       "337    0.289506  0.909035  \n",
       "338   -0.271551 -0.017175  \n",
       "339   -0.080868  0.684375  \n",
       "\n",
       "[340 rows x 14 columns]"
      ]
     },
     "execution_count": 74,
     "metadata": {},
     "output_type": "execute_result"
    }
   ],
   "source": [
    "scaled_df"
   ]
  },
  {
   "cell_type": "markdown",
   "metadata": {},
   "source": [
    "# Creating Clusters using KMeans"
   ]
  },
  {
   "cell_type": "markdown",
   "metadata": {},
   "source": [
    "### Forming 2 Clusters with K=2"
   ]
  },
  {
   "cell_type": "code",
   "execution_count": 75,
   "metadata": {
    "ExecuteTime": {
     "end_time": "2020-08-08T10:56:20.511273Z",
     "start_time": "2020-08-08T10:56:20.435479Z"
    }
   },
   "outputs": [],
   "source": [
    "# Create K Means cluster and store the result in the object k_means\n",
    "k_means = KMeans(n_clusters = 2,random_state=1)"
   ]
  },
  {
   "cell_type": "code",
   "execution_count": 76,
   "metadata": {
    "ExecuteTime": {
     "end_time": "2020-08-08T10:56:20.657152Z",
     "start_time": "2020-08-08T10:56:20.512271Z"
    }
   },
   "outputs": [
    {
     "data": {
      "text/plain": [
       "KMeans(n_clusters=2, random_state=1)"
      ]
     },
     "execution_count": 76,
     "metadata": {},
     "output_type": "execute_result"
    }
   ],
   "source": [
    "# Fit K means on the scaled_df\n",
    "k_means.fit(scaled_df)"
   ]
  },
  {
   "cell_type": "markdown",
   "metadata": {},
   "source": [
    "### Cluster Output for all the observations"
   ]
  },
  {
   "cell_type": "code",
   "execution_count": 77,
   "metadata": {
    "ExecuteTime": {
     "end_time": "2020-08-08T10:56:20.681085Z",
     "start_time": "2020-08-08T10:56:20.659145Z"
    }
   },
   "outputs": [
    {
     "data": {
      "text/plain": [
       "array([1, 1, 1, 1, 1, 1, 1, 1, 1, 1, 1, 1, 1, 1, 1, 1, 1, 1, 1, 1, 1, 1,\n",
       "       1, 1, 1, 1, 1, 1, 1, 1, 1, 1, 1, 1, 1, 1, 1, 1, 1, 1, 0, 0, 0, 0,\n",
       "       0, 0, 0, 0, 0, 0, 0, 0, 0, 0, 0, 0, 0, 0, 0, 0, 1, 0, 1, 1, 1, 1,\n",
       "       1, 1, 1, 1, 1, 1, 1, 1, 1, 1, 1, 1, 0, 1, 1, 1, 1, 1, 1, 1, 1, 1,\n",
       "       1, 1, 1, 1, 1, 1, 1, 1, 1, 1, 1, 1, 1, 1, 1, 1, 1, 1, 1, 1, 0, 0,\n",
       "       0, 0, 0, 0, 0, 0, 0, 0, 0, 0, 0, 0, 0, 0, 1, 1, 1, 1, 1, 1, 1, 1,\n",
       "       1, 1, 1, 1, 1, 1, 1, 1, 1, 1, 1, 1, 1, 1, 1, 1, 1, 1, 1, 1, 1, 1,\n",
       "       1, 1, 1, 1, 1, 1, 1, 0, 0, 0, 0, 0, 0, 0, 0, 0, 0, 1, 1, 1, 1, 0,\n",
       "       0, 1, 1, 1, 1, 0, 1, 1, 1, 0, 0, 0, 0, 1, 1, 0, 0, 0, 1, 1, 1, 1,\n",
       "       1, 1, 1, 1, 1, 1, 1, 1, 1, 1, 1, 1, 1, 1, 1, 1, 1, 1, 1, 1, 1, 1,\n",
       "       1, 1, 1, 1, 1, 1, 1, 1, 1, 1, 1, 1, 1, 1, 1, 1, 1, 1, 1, 1, 1, 1,\n",
       "       1, 1, 1, 1, 1, 1, 1, 1, 1, 1, 1, 1, 1, 1, 1, 1, 1, 1, 1, 1, 1, 1,\n",
       "       1, 1, 1, 1, 1, 1, 1, 1, 1, 1, 1, 0, 0, 0, 1, 0, 0, 0, 0, 0, 0, 0,\n",
       "       1, 1, 1, 1, 1, 1, 1, 1, 1, 1, 1, 1, 1, 1, 1, 1, 1, 1, 1, 1, 1, 1,\n",
       "       0, 0, 0, 0, 0, 1, 1, 1, 0, 0, 0, 1, 1, 1, 1, 1, 1, 1, 1, 1, 1, 1,\n",
       "       0, 0, 0, 0, 0, 0, 0, 0, 0, 0])"
      ]
     },
     "execution_count": 77,
     "metadata": {},
     "output_type": "execute_result"
    }
   ],
   "source": [
    "# Get the labels\n",
    "k_means.labels_"
   ]
  },
  {
   "cell_type": "markdown",
   "metadata": {},
   "source": [
    "### Within Cluster Sum of Squares"
   ]
  },
  {
   "cell_type": "code",
   "execution_count": 78,
   "metadata": {
    "ExecuteTime": {
     "end_time": "2020-08-08T10:56:20.791790Z",
     "start_time": "2020-08-08T10:56:20.683080Z"
    }
   },
   "outputs": [
    {
     "data": {
      "text/plain": [
       "3412.257118426089"
      ]
     },
     "execution_count": 78,
     "metadata": {},
     "output_type": "execute_result"
    }
   ],
   "source": [
    "k_means.inertia_"
   ]
  },
  {
   "cell_type": "markdown",
   "metadata": {},
   "source": [
    "### Forming clusters with K = 1,3,4,5,6 and comparing the WSS"
   ]
  },
  {
   "cell_type": "code",
   "execution_count": 79,
   "metadata": {
    "ExecuteTime": {
     "end_time": "2020-08-08T10:56:21.463973Z",
     "start_time": "2020-08-08T10:56:20.793784Z"
    }
   },
   "outputs": [
    {
     "data": {
      "text/plain": [
       "4759.999999999998"
      ]
     },
     "execution_count": 79,
     "metadata": {},
     "output_type": "execute_result"
    }
   ],
   "source": [
    "k_means = KMeans(n_clusters = 1,random_state=1)\n",
    "k_means.fit(scaled_df)\n",
    "k_means.inertia_"
   ]
  },
  {
   "cell_type": "code",
   "execution_count": 80,
   "metadata": {
    "ExecuteTime": {
     "end_time": "2020-08-08T10:56:21.554242Z",
     "start_time": "2020-08-08T10:56:21.467962Z"
    }
   },
   "outputs": [
    {
     "data": {
      "text/plain": [
       "2389.2847622446275"
      ]
     },
     "execution_count": 80,
     "metadata": {},
     "output_type": "execute_result"
    }
   ],
   "source": [
    "k_means = KMeans(n_clusters = 3,random_state=1)\n",
    "k_means.fit(scaled_df)\n",
    "k_means.inertia_"
   ]
  },
  {
   "cell_type": "code",
   "execution_count": 81,
   "metadata": {
    "ExecuteTime": {
     "end_time": "2020-08-08T10:56:21.675917Z",
     "start_time": "2020-08-08T10:56:21.556236Z"
    }
   },
   "outputs": [
    {
     "data": {
      "text/plain": [
       "1895.5346689676153"
      ]
     },
     "execution_count": 81,
     "metadata": {},
     "output_type": "execute_result"
    }
   ],
   "source": [
    "k_means = KMeans(n_clusters = 4,random_state=1)\n",
    "k_means.fit(scaled_df)\n",
    "k_means.inertia_"
   ]
  },
  {
   "cell_type": "code",
   "execution_count": 82,
   "metadata": {
    "ExecuteTime": {
     "end_time": "2020-08-08T10:56:21.807564Z",
     "start_time": "2020-08-08T10:56:21.677911Z"
    }
   },
   "outputs": [
    {
     "data": {
      "text/plain": [
       "1672.488493930572"
      ]
     },
     "execution_count": 82,
     "metadata": {},
     "output_type": "execute_result"
    }
   ],
   "source": [
    "k_means = KMeans(n_clusters = 5,random_state=1)\n",
    "k_means.fit(scaled_df)\n",
    "k_means.inertia_"
   ]
  },
  {
   "cell_type": "code",
   "execution_count": 83,
   "metadata": {
    "ExecuteTime": {
     "end_time": "2020-08-08T10:56:21.983095Z",
     "start_time": "2020-08-08T10:56:21.809558Z"
    }
   },
   "outputs": [
    {
     "data": {
      "text/plain": [
       "1444.588242104043"
      ]
     },
     "execution_count": 83,
     "metadata": {},
     "output_type": "execute_result"
    }
   ],
   "source": [
    "k_means = KMeans(n_clusters = 6,random_state=1)\n",
    "k_means.fit(scaled_df)\n",
    "k_means.inertia_"
   ]
  },
  {
   "cell_type": "markdown",
   "metadata": {},
   "source": [
    "WSS reduces as K keeps increasing"
   ]
  },
  {
   "cell_type": "code",
   "execution_count": 84,
   "metadata": {},
   "outputs": [
    {
     "data": {
      "text/plain": [
       "1895.2525135696264"
      ]
     },
     "execution_count": 84,
     "metadata": {},
     "output_type": "execute_result"
    }
   ],
   "source": [
    "k_means = KMeans(n_clusters = 4,random_state=0)\n",
    "k_means.fit(scaled_df)\n",
    "k_means.inertia_"
   ]
  },
  {
   "cell_type": "markdown",
   "metadata": {},
   "source": [
    "### Calculating WSS for other values of K - Elbow Method"
   ]
  },
  {
   "cell_type": "code",
   "execution_count": 39,
   "metadata": {
    "ExecuteTime": {
     "end_time": "2020-08-08T10:56:21.993069Z",
     "start_time": "2020-08-08T10:56:21.987085Z"
    }
   },
   "outputs": [],
   "source": [
    "wss =[] "
   ]
  },
  {
   "cell_type": "code",
   "execution_count": 40,
   "metadata": {
    "ExecuteTime": {
     "end_time": "2020-08-08T10:56:24.526954Z",
     "start_time": "2020-08-08T10:56:21.998066Z"
    }
   },
   "outputs": [],
   "source": [
    "for i in range(1,11):\n",
    "    KM = KMeans(n_clusters=i,random_state=1)\n",
    "    KM.fit(scaled_df)\n",
    "    wss.append(KM.inertia_)"
   ]
  },
  {
   "cell_type": "code",
   "execution_count": 41,
   "metadata": {
    "ExecuteTime": {
     "end_time": "2020-08-08T10:56:24.541914Z",
     "start_time": "2020-08-08T10:56:24.534933Z"
    }
   },
   "outputs": [
    {
     "data": {
      "text/plain": [
       "[4759.999999999998,\n",
       " 3412.257118426089,\n",
       " 2389.2847622446275,\n",
       " 1895.5346689676153,\n",
       " 1672.488493930572,\n",
       " 1444.588242104043,\n",
       " 1257.5854552886256,\n",
       " 1135.0669760285068,\n",
       " 1033.4497551369154,\n",
       " 955.7857112708227]"
      ]
     },
     "execution_count": 41,
     "metadata": {},
     "output_type": "execute_result"
    }
   ],
   "source": [
    "wss"
   ]
  },
  {
   "cell_type": "code",
   "execution_count": 42,
   "metadata": {
    "ExecuteTime": {
     "end_time": "2020-08-08T10:56:24.619007Z",
     "start_time": "2020-08-08T10:56:24.546903Z"
    }
   },
   "outputs": [],
   "source": [
    "a=[1,2,3,4,5,6,7,8,9,10]"
   ]
  },
  {
   "cell_type": "code",
   "execution_count": 43,
   "metadata": {
    "ExecuteTime": {
     "end_time": "2020-08-08T10:56:24.961094Z",
     "start_time": "2020-08-08T10:56:24.622998Z"
    },
    "scrolled": true
   },
   "outputs": [
    {
     "name": "stderr",
     "output_type": "stream",
     "text": [
      "C:\\Users\\King\\anaconda3\\lib\\site-packages\\seaborn\\_decorators.py:43: FutureWarning: Pass the following variables as keyword args: x, y. From version 0.12, the only valid positional argument will be `data`, and passing other arguments without an explicit keyword will result in an error or misinterpretation.\n",
      "  FutureWarning\n"
     ]
    },
    {
     "data": {
      "text/plain": [
       "<AxesSubplot:>"
      ]
     },
     "execution_count": 43,
     "metadata": {},
     "output_type": "execute_result"
    },
    {
     "data": {
      "image/png": "[encoded data removed]",
      "text/plain": [
       "<Figure size 432x288 with 1 Axes>"
      ]
     },
     "metadata": {
      "needs_background": "light"
     },
     "output_type": "display_data"
    }
   ],
   "source": [
    "sns.pointplot(a, wss)"
   ]
  },
  {
   "cell_type": "code",
   "execution_count": 44,
   "metadata": {
    "ExecuteTime": {
     "end_time": "2020-08-08T10:56:25.212994Z",
     "start_time": "2020-08-08T10:56:24.963088Z"
    }
   },
   "outputs": [
    {
     "data": {
      "text/plain": [
       "[<matplotlib.lines.Line2D at 0x27057897c88>]"
      ]
     },
     "execution_count": 44,
     "metadata": {},
     "output_type": "execute_result"
    },
    {
     "data": {
      "image/png": "[encoded data removed]",
      "text/plain": [
       "<Figure size 432x288 with 1 Axes>"
      ]
     },
     "metadata": {
      "needs_background": "light"
     },
     "output_type": "display_data"
    }
   ],
   "source": [
    "plt.plot(range(1,11), wss)"
   ]
  },
  {
   "cell_type": "markdown",
   "metadata": {},
   "source": [
    "# KMeans with K=2"
   ]
  },
  {
   "cell_type": "code",
   "execution_count": 45,
   "metadata": {
    "ExecuteTime": {
     "end_time": "2020-08-08T10:56:25.496748Z",
     "start_time": "2020-08-08T10:56:25.214988Z"
    }
   },
   "outputs": [],
   "source": [
    "k_means = KMeans(n_clusters = 2,random_state=0)\n",
    "k_means.fit(scaled_df)\n",
    "labels = k_means.labels_"
   ]
  },
  {
   "cell_type": "markdown",
   "metadata": {},
   "source": [
    "### Cluster evaluation for 2 clusters: the silhouette score"
   ]
  },
  {
   "cell_type": "code",
   "execution_count": 47,
   "metadata": {
    "ExecuteTime": {
     "end_time": "2020-08-08T10:56:25.506721Z",
     "start_time": "2020-08-08T10:56:25.500737Z"
    }
   },
   "outputs": [],
   "source": [
    "from sklearn.metrics import silhouette_samples, silhouette_score"
   ]
  },
  {
   "cell_type": "code",
   "execution_count": 48,
   "metadata": {
    "ExecuteTime": {
     "end_time": "2020-08-08T10:56:25.701213Z",
     "start_time": "2020-08-08T10:56:25.510710Z"
    }
   },
   "outputs": [
    {
     "data": {
      "text/plain": [
       "0.342615963664137"
      ]
     },
     "execution_count": 48,
     "metadata": {},
     "output_type": "execute_result"
    }
   ],
   "source": [
    "# Calculating silhouette_score\n",
    "silhouette_score(scaled_df,labels,random_state=1)"
   ]
  },
  {
   "cell_type": "markdown",
   "metadata": {},
   "source": [
    "# KMeans with K=2"
   ]
  },
  {
   "cell_type": "code",
   "execution_count": 49,
   "metadata": {
    "ExecuteTime": {
     "end_time": "2020-08-08T10:56:25.925966Z",
     "start_time": "2020-08-08T10:56:25.704205Z"
    }
   },
   "outputs": [],
   "source": [
    "k_means = KMeans(n_clusters = 2,random_state=0)\n",
    "k_means.fit(scaled_df)\n",
    "labels = k_means.labels_"
   ]
  },
  {
   "cell_type": "markdown",
   "metadata": {},
   "source": [
    "### Cluster evaluation for 4 clusters"
   ]
  },
  {
   "cell_type": "code",
   "execution_count": 50,
   "metadata": {
    "ExecuteTime": {
     "end_time": "2020-08-08T10:56:25.933945Z",
     "start_time": "2020-08-08T10:56:25.929955Z"
    }
   },
   "outputs": [],
   "source": [
    "#from sklearn.metrics import silhouette_samples, silhouette_score"
   ]
  },
  {
   "cell_type": "code",
   "execution_count": 51,
   "metadata": {
    "ExecuteTime": {
     "end_time": "2020-08-08T10:56:26.026804Z",
     "start_time": "2020-08-08T10:56:25.937934Z"
    }
   },
   "outputs": [
    {
     "data": {
      "text/plain": [
       "0.342615963664137"
      ]
     },
     "execution_count": 51,
     "metadata": {},
     "output_type": "execute_result"
    }
   ],
   "source": [
    "silhouette_score(scaled_df,labels,random_state=1)"
   ]
  },
  {
   "cell_type": "markdown",
   "metadata": {},
   "source": [
    "silhouette score is better for 4 clusters than for 3 clusters. So, final clusters will be 4"
   ]
  },
  {
   "cell_type": "markdown",
   "metadata": {},
   "source": [
    "Appending Clusters to the original dataset"
   ]
  },
  {
   "cell_type": "code",
   "execution_count": 52,
   "metadata": {
    "ExecuteTime": {
     "end_time": "2020-08-08T10:56:26.106807Z",
     "start_time": "2020-08-08T10:56:26.029790Z"
    }
   },
   "outputs": [
    {
     "data": {
      "text/html": [
       "<div>\n",
       "<style scoped>\n",
       "    .dataframe tbody tr th:only-of-type {\n",
       "        vertical-align: middle;\n",
       "    }\n",
       "\n",
       "    .dataframe tbody tr th {\n",
       "        vertical-align: top;\n",
       "    }\n",
       "\n",
       "    .dataframe thead th {\n",
       "        text-align: right;\n",
       "    }\n",
       "</style>\n",
       "<table border=\"1\" class=\"dataframe\">\n",
       "  <thead>\n",
       "    <tr style=\"text-align: right;\">\n",
       "      <th></th>\n",
       "      <th>Eccentricity</th>\n",
       "      <th>Aspect Ratio</th>\n",
       "      <th>Elongation</th>\n",
       "      <th>Solidity</th>\n",
       "      <th>Stochastic Convexity</th>\n",
       "      <th>Isoperimetric Factor</th>\n",
       "      <th>Maximal Indentation Depth</th>\n",
       "      <th>Lobedness</th>\n",
       "      <th>Average Intensity</th>\n",
       "      <th>Average Contrast</th>\n",
       "      <th>Smoothness</th>\n",
       "      <th>Third moment</th>\n",
       "      <th>Uniformity</th>\n",
       "      <th>Entropy</th>\n",
       "      <th>Clus_kmeans4</th>\n",
       "    </tr>\n",
       "  </thead>\n",
       "  <tbody>\n",
       "    <tr>\n",
       "      <th>0</th>\n",
       "      <td>0.72694</td>\n",
       "      <td>1.4742</td>\n",
       "      <td>0.32396</td>\n",
       "      <td>0.98535</td>\n",
       "      <td>1.00000</td>\n",
       "      <td>0.83592</td>\n",
       "      <td>0.004657</td>\n",
       "      <td>0.003947</td>\n",
       "      <td>0.047790</td>\n",
       "      <td>0.127950</td>\n",
       "      <td>0.016108</td>\n",
       "      <td>0.005232</td>\n",
       "      <td>0.000275</td>\n",
       "      <td>1.17560</td>\n",
       "      <td>0</td>\n",
       "    </tr>\n",
       "    <tr>\n",
       "      <th>1</th>\n",
       "      <td>0.74173</td>\n",
       "      <td>1.5257</td>\n",
       "      <td>0.36116</td>\n",
       "      <td>0.98152</td>\n",
       "      <td>0.99825</td>\n",
       "      <td>0.79867</td>\n",
       "      <td>0.005242</td>\n",
       "      <td>0.005002</td>\n",
       "      <td>0.024160</td>\n",
       "      <td>0.090476</td>\n",
       "      <td>0.008119</td>\n",
       "      <td>0.002708</td>\n",
       "      <td>0.000075</td>\n",
       "      <td>0.69659</td>\n",
       "      <td>0</td>\n",
       "    </tr>\n",
       "    <tr>\n",
       "      <th>2</th>\n",
       "      <td>0.76722</td>\n",
       "      <td>1.5725</td>\n",
       "      <td>0.38998</td>\n",
       "      <td>0.97755</td>\n",
       "      <td>1.00000</td>\n",
       "      <td>0.80812</td>\n",
       "      <td>0.007457</td>\n",
       "      <td>0.010121</td>\n",
       "      <td>0.011897</td>\n",
       "      <td>0.057445</td>\n",
       "      <td>0.003289</td>\n",
       "      <td>0.000921</td>\n",
       "      <td>0.000038</td>\n",
       "      <td>0.44348</td>\n",
       "      <td>0</td>\n",
       "    </tr>\n",
       "    <tr>\n",
       "      <th>3</th>\n",
       "      <td>0.73797</td>\n",
       "      <td>1.4597</td>\n",
       "      <td>0.35376</td>\n",
       "      <td>0.97566</td>\n",
       "      <td>1.00000</td>\n",
       "      <td>0.81697</td>\n",
       "      <td>0.006877</td>\n",
       "      <td>0.008607</td>\n",
       "      <td>0.015950</td>\n",
       "      <td>0.065491</td>\n",
       "      <td>0.004271</td>\n",
       "      <td>0.001154</td>\n",
       "      <td>0.000066</td>\n",
       "      <td>0.58785</td>\n",
       "      <td>0</td>\n",
       "    </tr>\n",
       "    <tr>\n",
       "      <th>4</th>\n",
       "      <td>0.82301</td>\n",
       "      <td>1.7707</td>\n",
       "      <td>0.44462</td>\n",
       "      <td>0.97698</td>\n",
       "      <td>1.00000</td>\n",
       "      <td>0.75493</td>\n",
       "      <td>0.007428</td>\n",
       "      <td>0.010042</td>\n",
       "      <td>0.007938</td>\n",
       "      <td>0.045339</td>\n",
       "      <td>0.002051</td>\n",
       "      <td>0.000560</td>\n",
       "      <td>0.000023</td>\n",
       "      <td>0.34214</td>\n",
       "      <td>0</td>\n",
       "    </tr>\n",
       "  </tbody>\n",
       "</table>\n",
       "</div>"
      ],
      "text/plain": [
       "   Eccentricity  Aspect Ratio  Elongation  Solidity  Stochastic Convexity  \\\n",
       "0       0.72694        1.4742     0.32396   0.98535               1.00000   \n",
       "1       0.74173        1.5257     0.36116   0.98152               0.99825   \n",
       "2       0.76722        1.5725     0.38998   0.97755               1.00000   \n",
       "3       0.73797        1.4597     0.35376   0.97566               1.00000   \n",
       "4       0.82301        1.7707     0.44462   0.97698               1.00000   \n",
       "\n",
       "   Isoperimetric Factor  Maximal Indentation Depth  Lobedness  \\\n",
       "0               0.83592                   0.004657   0.003947   \n",
       "1               0.79867                   0.005242   0.005002   \n",
       "2               0.80812                   0.007457   0.010121   \n",
       "3               0.81697                   0.006877   0.008607   \n",
       "4               0.75493                   0.007428   0.010042   \n",
       "\n",
       "   Average Intensity   Average Contrast  Smoothness   Third moment  \\\n",
       "0           0.047790           0.127950    0.016108       0.005232   \n",
       "1           0.024160           0.090476    0.008119       0.002708   \n",
       "2           0.011897           0.057445    0.003289       0.000921   \n",
       "3           0.015950           0.065491    0.004271       0.001154   \n",
       "4           0.007938           0.045339    0.002051       0.000560   \n",
       "\n",
       "   Uniformity  Entropy  Clus_kmeans4  \n",
       "0    0.000275  1.17560             0  \n",
       "1    0.000075  0.69659             0  \n",
       "2    0.000038  0.44348             0  \n",
       "3    0.000066  0.58785             0  \n",
       "4    0.000023  0.34214             0  "
      ]
     },
     "execution_count": 52,
     "metadata": {},
     "output_type": "execute_result"
    }
   ],
   "source": [
    "data_df[\"Clus_kmeans4\"] = labels\n",
    "data_df.head()"
   ]
  },
  {
   "cell_type": "markdown",
   "metadata": {},
   "source": [
    "# Cluster Profiling"
   ]
  },
  {
   "cell_type": "code",
   "execution_count": 53,
   "metadata": {
    "ExecuteTime": {
     "end_time": "2020-08-08T10:56:26.185574Z",
     "start_time": "2020-08-08T10:56:26.110774Z"
    }
   },
   "outputs": [
    {
     "data": {
      "text/plain": [
       "0    259\n",
       "1     81\n",
       "Name: Clus_kmeans4, dtype: int64"
      ]
     },
     "execution_count": 53,
     "metadata": {},
     "output_type": "execute_result"
    }
   ],
   "source": [
    "data_df.Clus_kmeans4.value_counts().sort_index()"
   ]
  },
  {
   "cell_type": "code",
   "execution_count": 54,
   "metadata": {
    "ExecuteTime": {
     "end_time": "2020-08-08T10:56:26.285306Z",
     "start_time": "2020-08-08T10:56:26.188565Z"
    }
   },
   "outputs": [
    {
     "data": {
      "text/html": [
       "<div>\n",
       "<style scoped>\n",
       "    .dataframe tbody tr th:only-of-type {\n",
       "        vertical-align: middle;\n",
       "    }\n",
       "\n",
       "    .dataframe tbody tr th {\n",
       "        vertical-align: top;\n",
       "    }\n",
       "\n",
       "    .dataframe thead th {\n",
       "        text-align: right;\n",
       "    }\n",
       "</style>\n",
       "<table border=\"1\" class=\"dataframe\">\n",
       "  <thead>\n",
       "    <tr style=\"text-align: right;\">\n",
       "      <th></th>\n",
       "      <th>Eccentricity</th>\n",
       "      <th>Aspect Ratio</th>\n",
       "      <th>Elongation</th>\n",
       "      <th>Solidity</th>\n",
       "      <th>Stochastic Convexity</th>\n",
       "      <th>Isoperimetric Factor</th>\n",
       "      <th>Maximal Indentation Depth</th>\n",
       "      <th>Lobedness</th>\n",
       "      <th>Average Intensity</th>\n",
       "      <th>Average Contrast</th>\n",
       "      <th>Smoothness</th>\n",
       "      <th>Third moment</th>\n",
       "      <th>Uniformity</th>\n",
       "      <th>Entropy</th>\n",
       "      <th>freq</th>\n",
       "    </tr>\n",
       "    <tr>\n",
       "      <th>Clus_kmeans4</th>\n",
       "      <th></th>\n",
       "      <th></th>\n",
       "      <th></th>\n",
       "      <th></th>\n",
       "      <th></th>\n",
       "      <th></th>\n",
       "      <th></th>\n",
       "      <th></th>\n",
       "      <th></th>\n",
       "      <th></th>\n",
       "      <th></th>\n",
       "      <th></th>\n",
       "      <th></th>\n",
       "      <th></th>\n",
       "      <th></th>\n",
       "    </tr>\n",
       "  </thead>\n",
       "  <tbody>\n",
       "    <tr>\n",
       "      <th>0</th>\n",
       "      <td>0.742849</td>\n",
       "      <td>1.924542</td>\n",
       "      <td>0.462009</td>\n",
       "      <td>0.955379</td>\n",
       "      <td>0.992359</td>\n",
       "      <td>0.620862</td>\n",
       "      <td>0.019937</td>\n",
       "      <td>0.108086</td>\n",
       "      <td>0.054176</td>\n",
       "      <td>0.128885</td>\n",
       "      <td>0.018551</td>\n",
       "      <td>0.005972</td>\n",
       "      <td>0.000392</td>\n",
       "      <td>1.202431</td>\n",
       "      <td>259</td>\n",
       "    </tr>\n",
       "    <tr>\n",
       "      <th>1</th>\n",
       "      <td>0.646327</td>\n",
       "      <td>1.830133</td>\n",
       "      <td>0.679237</td>\n",
       "      <td>0.803102</td>\n",
       "      <td>0.923135</td>\n",
       "      <td>0.244643</td>\n",
       "      <td>0.081680</td>\n",
       "      <td>0.848586</td>\n",
       "      <td>0.041724</td>\n",
       "      <td>0.110625</td>\n",
       "      <td>0.014103</td>\n",
       "      <td>0.004740</td>\n",
       "      <td>0.000239</td>\n",
       "      <td>1.035365</td>\n",
       "      <td>81</td>\n",
       "    </tr>\n",
       "  </tbody>\n",
       "</table>\n",
       "</div>"
      ],
      "text/plain": [
       "              Eccentricity  Aspect Ratio  Elongation  Solidity  \\\n",
       "Clus_kmeans4                                                     \n",
       "0                 0.742849      1.924542    0.462009  0.955379   \n",
       "1                 0.646327      1.830133    0.679237  0.803102   \n",
       "\n",
       "              Stochastic Convexity  Isoperimetric Factor  \\\n",
       "Clus_kmeans4                                               \n",
       "0                         0.992359              0.620862   \n",
       "1                         0.923135              0.244643   \n",
       "\n",
       "              Maximal Indentation Depth  Lobedness  Average Intensity  \\\n",
       "Clus_kmeans4                                                            \n",
       "0                              0.019937   0.108086           0.054176   \n",
       "1                              0.081680   0.848586           0.041724   \n",
       "\n",
       "               Average Contrast  Smoothness   Third moment  Uniformity  \\\n",
       "Clus_kmeans4                                                             \n",
       "0                      0.128885    0.018551       0.005972    0.000392   \n",
       "1                      0.110625    0.014103       0.004740    0.000239   \n",
       "\n",
       "               Entropy  freq  \n",
       "Clus_kmeans4                  \n",
       "0             1.202431   259  \n",
       "1             1.035365    81  "
      ]
     },
     "execution_count": 54,
     "metadata": {},
     "output_type": "execute_result"
    }
   ],
   "source": [
    "clust_profile=data_df\n",
    "clust_profile=clust_profile.groupby('Clus_kmeans4').mean()\n",
    "clust_profile['freq']=data_df.Clus_kmeans4.value_counts().sort_index()\n",
    "clust_profile"
   ]
  },
  {
   "cell_type": "markdown",
   "metadata": {},
   "source": [
    "- Cluster 0: Medium size bank with less withdrawal,walkin, DD but highest Deposit\n",
    "- Cluster 1: Medium size bank with less walkins and deposits and high withdrawals\n",
    "- Cluster 2: Small size bank with less deposit but highest walkins and Withdrawals, and large DD\n",
    "- Cluster 3: Large size bank with more number of walkins and highest DD, but less Deposits"
   ]
  },
  {
   "cell_type": "markdown",
   "metadata": {},
   "source": [
    "# Some Recommendations"
   ]
  },
  {
   "cell_type": "markdown",
   "metadata": {},
   "source": [
    "1. The banks in Cluster 3 has high DD and Withdrawals, but less Deposit.  So it needs to improve in making the customers Deposit more. Relatively large number of customers are visiting these banks. So, can promote various deposit schemes to these customers.\n",
    "\n",
    "\n",
    "2. Customers in Cluster 3 seems to prefer payment through DD as these banks record the highest DD rate. Banks can check if DD is being made to other banks or to the same bank, and can look to create DD schemes for their own bank, so that customers will open their account with these banks and use the DD payment scheme.\n",
    "\n",
    "\n",
    "3. Customers preferring DD payment can go to banks either in Cluster 3 (if they need large space which can manage large crowd probably with more infrastructure facilities), or Cluster 2 (if they want small space where probably quick transaction can happen due to less crowd holding capacity) \n",
    "\n",
    "\n",
    "4. Size of the bank doesn't matter in accomodating large group of customers inside the bank, as Cluster 2 though having the least Branch Area, has the highest daily walk ins. So, banks don't need to invest more in occupying large land space. This could mean Customers are visiting throughout the day rather than a large group of customers visiting during a period.\n",
    "\n",
    "\n",
    "5. Cluster 0 has large area and the proportion of withdrawals and deposits is almost equal. Most of these customers could be having a savings account since the withdrawals as well as DD are less when compared to other clusters. Customers visiting these banks are also lesser than other clusters. These banks can look bringing in more customers and increase the bank deposit by introducing various deposit schemes.\n",
    "\n",
    "\n",
    "6. Deposit is again less, while the withdrawals are much higher for Cluster 1. These banks can also look to introducing new deposit schemes.\n",
    "\n",
    "\n",
    "7. Banks in cluster 1 and 2, needs to focus on their infrastructure and banking facilities, since the area is lesser than cluster 0 and 3 , whereas daily walkins is the highest. These banks can also look for opportunities to cross-sell products to the customers.\n"
   ]
  },
  {
   "cell_type": "code",
   "execution_count": 39,
   "metadata": {
    "ExecuteTime": {
     "end_time": "2020-08-08T10:56:26.373071Z",
     "start_time": "2020-08-08T10:56:26.289296Z"
    }
   },
   "outputs": [],
   "source": [
    "data_df.to_csv('km.csv')"
   ]
  },
  {
   "cell_type": "code",
   "execution_count": 55,
   "metadata": {},
   "outputs": [
    {
     "ename": "SyntaxError",
     "evalue": "invalid syntax (<ipython-input-55-72dcbd59079b>, line 3)",
     "output_type": "error",
     "traceback": [
      "\u001b[1;36m  File \u001b[1;32m\"<ipython-input-55-72dcbd59079b>\"\u001b[1;36m, line \u001b[1;32m3\u001b[0m\n\u001b[1;33m    for n_clusters=2\u001b[0m\n\u001b[1;37m                  ^\u001b[0m\n\u001b[1;31mSyntaxError\u001b[0m\u001b[1;31m:\u001b[0m invalid syntax\n"
     ]
    }
   ],
   "source": [
    "np.random.seed(7)\n",
    "array=np.array(np.random.rand(20)).reshape(10,2)\n",
    "for n_clusters=2"
   ]
  },
  {
   "cell_type": "code",
   "execution_count": 58,
   "metadata": {},
   "outputs": [
    {
     "ename": "ValueError",
     "evalue": "zero-dimensional arrays cannot be concatenated",
     "output_type": "error",
     "traceback": [
      "\u001b[1;31m---------------------------------------------------------------------------\u001b[0m",
      "\u001b[1;31mValueError\u001b[0m                                Traceback (most recent call last)",
      "\u001b[1;32m<ipython-input-58-f6076a164beb>\u001b[0m in \u001b[0;36m<module>\u001b[1;34m\u001b[0m\n\u001b[0;32m      8\u001b[0m \u001b[0mX\u001b[0m\u001b[1;33m=\u001b[0m \u001b[0mnp\u001b[0m\u001b[1;33m.\u001b[0m\u001b[0mrandom\u001b[0m\u001b[1;33m.\u001b[0m\u001b[0mseed\u001b[0m\u001b[1;33m(\u001b[0m\u001b[1;36m7\u001b[0m\u001b[1;33m)\u001b[0m\u001b[1;33m\u001b[0m\u001b[1;33m\u001b[0m\u001b[0m\n\u001b[0;32m      9\u001b[0m \u001b[0mY\u001b[0m\u001b[1;33m=\u001b[0m \u001b[0mnp\u001b[0m\u001b[1;33m.\u001b[0m\u001b[0marray\u001b[0m\u001b[1;33m(\u001b[0m\u001b[0mnp\u001b[0m\u001b[1;33m.\u001b[0m\u001b[0mrandom\u001b[0m\u001b[1;33m.\u001b[0m\u001b[0mrand\u001b[0m\u001b[1;33m(\u001b[0m\u001b[1;36m20\u001b[0m\u001b[1;33m)\u001b[0m\u001b[1;33m)\u001b[0m\u001b[1;33m.\u001b[0m\u001b[0mreshape\u001b[0m\u001b[1;33m(\u001b[0m\u001b[1;36m10\u001b[0m\u001b[1;33m,\u001b[0m\u001b[1;36m2\u001b[0m\u001b[1;33m)\u001b[0m\u001b[1;33m\u001b[0m\u001b[1;33m\u001b[0m\u001b[0m\n\u001b[1;32m---> 10\u001b[1;33m \u001b[0mZ\u001b[0m\u001b[1;33m=\u001b[0m \u001b[0mnp\u001b[0m\u001b[1;33m.\u001b[0m\u001b[0mconcatenate\u001b[0m\u001b[1;33m(\u001b[0m\u001b[1;33m(\u001b[0m\u001b[0mX\u001b[0m\u001b[1;33m,\u001b[0m\u001b[0mY\u001b[0m\u001b[1;33m)\u001b[0m\u001b[1;33m)\u001b[0m\u001b[1;33m\u001b[0m\u001b[1;33m\u001b[0m\u001b[0m\n\u001b[0m\u001b[0;32m     11\u001b[0m \u001b[0mZ\u001b[0m\u001b[1;33m=\u001b[0m\u001b[0mpd\u001b[0m\u001b[1;33m.\u001b[0m\u001b[0mDataFrame\u001b[0m\u001b[1;33m(\u001b[0m\u001b[0mZ\u001b[0m\u001b[1;33m)\u001b[0m \u001b[1;31m#converting into data frame for ease\u001b[0m\u001b[1;33m\u001b[0m\u001b[1;33m\u001b[0m\u001b[0m\n",
      "\u001b[1;32m<__array_function__ internals>\u001b[0m in \u001b[0;36mconcatenate\u001b[1;34m(*args, **kwargs)\u001b[0m\n",
      "\u001b[1;31mValueError\u001b[0m: zero-dimensional arrays cannot be concatenated"
     ]
    }
   ],
   "source": [
    "import pandas as pd\n",
    "import numpy as np\n",
    "import seaborn as sns\n",
    "from sklearn.cluster import KMeans\n",
    "from sklearn.metrics import silhouette_score\n",
    "%matplotlib inline\n",
    "\n",
    "X= np.random.seed(7)\n",
    "Y= np.array(np.random.rand(20)).reshape(10,2)\n",
    "Z= np.concatenate((X,Y))\n",
    "Z=pd.DataFrame(Z) #converting into data frame for ease"
   ]
  },
  {
   "cell_type": "code",
   "execution_count": 63,
   "metadata": {},
   "outputs": [
    {
     "name": "stdout",
     "output_type": "stream",
     "text": [
      "Silhouetter Score: 0.681\n"
     ]
    }
   ],
   "source": [
    "from sklearn import datasets\n",
    "from sklearn.cluster import KMeans\n",
    "#\n",
    "# Load IRIS dataset\n",
    "#\n",
    "iris = datasets.load_iris()\n",
    "X = iris.data\n",
    "y = iris.target\n",
    "#\n",
    "# Instantiate the KMeans models\n",
    "#\n",
    "km = KMeans(n_clusters=2, random_state=20)\n",
    "#\n",
    "# Fit the KMeans model\n",
    "#\n",
    "km.fit_predict(X)\n",
    "#\n",
    "# Calculate Silhoutte Score\n",
    "#\n",
    "score = silhouette_score(X, km.labels_, metric='euclidean')\n",
    "#\n",
    "# Print the score\n",
    "#\n",
    "print('Silhouetter Score: %.3f' % score)"
   ]
  },
  {
   "cell_type": "code",
   "execution_count": null,
   "metadata": {},
   "outputs": [],
   "source": []
  },
  {
   "cell_type": "code",
   "execution_count": null,
   "metadata": {},
   "outputs": [],
   "source": []
  },
  {
   "cell_type": "code",
   "execution_count": null,
   "metadata": {},
   "outputs": [],
   "source": []
  }
 ],
 "metadata": {
  "kernelspec": {
   "display_name": "Python 3",
   "language": "python",
   "name": "python3"
  },
  "language_info": {
   "codemirror_mode": {
    "name": "ipython",
    "version": 3
   },
   "file_extension": ".py",
   "mimetype": "text/x-python",
   "name": "python",
   "nbconvert_exporter": "python",
   "pygments_lexer": "ipython3",
   "version": "3.7.6"
  },
  "toc": {
   "base_numbering": 1,
   "nav_menu": {},
   "number_sections": true,
   "sideBar": true,
   "skip_h1_title": false,
   "title_cell": "Table of Contents",
   "title_sidebar": "Contents",
   "toc_cell": false,
   "toc_position": {},
   "toc_section_display": true,
   "toc_window_display": false
  },
  "varInspector": {
   "cols": {
    "lenName": 16,
    "lenType": 16,
    "lenVar": 40
   },
   "kernels_config": {
    "python": {
     "delete_cmd_postfix": "",
     "delete_cmd_prefix": "del ",
     "library": "var_list.py",
     "varRefreshCmd": "print(var_dic_list())"
    },
    "r": {
     "delete_cmd_postfix": ") ",
     "delete_cmd_prefix": "rm(",
     "library": "var_list.r",
     "varRefreshCmd": "cat(var_dic_list()) "
    }
   },
   "types_to_exclude": [
    "module",
    "function",
    "builtin_function_or_method",
    "instance",
    "_Feature"
   ],
   "window_display": false
  }
 },
 "nbformat": 4,
 "nbformat_minor": 2
}
