{
 "cells": [
  {
   "cell_type": "code",
   "execution_count": 2,
   "metadata": {},
   "outputs": [
    {
     "name": "stderr",
     "output_type": "stream",
     "text": [
      "In C:\\Users\\King\\anaconda3\\lib\\site-packages\\matplotlib\\mpl-data\\stylelib\\_classic_test.mplstyle: \n",
      "The text.latex.preview rcparam was deprecated in Matplotlib 3.3 and will be removed two minor releases later.\n",
      "In C:\\Users\\King\\anaconda3\\lib\\site-packages\\matplotlib\\mpl-data\\stylelib\\_classic_test.mplstyle: \n",
      "The mathtext.fallback_to_cm rcparam was deprecated in Matplotlib 3.3 and will be removed two minor releases later.\n",
      "In C:\\Users\\King\\anaconda3\\lib\\site-packages\\matplotlib\\mpl-data\\stylelib\\_classic_test.mplstyle: Support for setting the 'mathtext.fallback_to_cm' rcParam is deprecated since 3.3 and will be removed two minor releases later; use 'mathtext.fallback : 'cm' instead.\n",
      "In C:\\Users\\King\\anaconda3\\lib\\site-packages\\matplotlib\\mpl-data\\stylelib\\_classic_test.mplstyle: \n",
      "The validate_bool_maybe_none function was deprecated in Matplotlib 3.3 and will be removed two minor releases later.\n",
      "In C:\\Users\\King\\anaconda3\\lib\\site-packages\\matplotlib\\mpl-data\\stylelib\\_classic_test.mplstyle: \n",
      "The savefig.jpeg_quality rcparam was deprecated in Matplotlib 3.3 and will be removed two minor releases later.\n",
      "In C:\\Users\\King\\anaconda3\\lib\\site-packages\\matplotlib\\mpl-data\\stylelib\\_classic_test.mplstyle: \n",
      "The keymap.all_axes rcparam was deprecated in Matplotlib 3.3 and will be removed two minor releases later.\n",
      "In C:\\Users\\King\\anaconda3\\lib\\site-packages\\matplotlib\\mpl-data\\stylelib\\_classic_test.mplstyle: \n",
      "The animation.avconv_path rcparam was deprecated in Matplotlib 3.3 and will be removed two minor releases later.\n",
      "In C:\\Users\\King\\anaconda3\\lib\\site-packages\\matplotlib\\mpl-data\\stylelib\\_classic_test.mplstyle: \n",
      "The animation.avconv_args rcparam was deprecated in Matplotlib 3.3 and will be removed two minor releases later.\n"
     ]
    }
   ],
   "source": [
    "import pandas as pd\n",
    "import numpy as np\n",
    "import seaborn as sns\n",
    "import matplotlib.pyplot as plt\n",
    "from sklearn.preprocessing import StandardScaler\n",
    "from sklearn.decomposition import PCA"
   ]
  },
  {
   "cell_type": "code",
   "execution_count": 4,
   "metadata": {},
   "outputs": [],
   "source": [
    "wine=pd.read_csv('Redwine+Quality.csv')"
   ]
  },
  {
   "cell_type": "code",
   "execution_count": 5,
   "metadata": {},
   "outputs": [],
   "source": [
    "wine.drop('Unnamed: 0',axis=1,inplace=True)"
   ]
  },
  {
   "cell_type": "code",
   "execution_count": 6,
   "metadata": {},
   "outputs": [
    {
     "data": {
      "text/html": [
       "<div>\n",
       "<style scoped>\n",
       "    .dataframe tbody tr th:only-of-type {\n",
       "        vertical-align: middle;\n",
       "    }\n",
       "\n",
       "    .dataframe tbody tr th {\n",
       "        vertical-align: top;\n",
       "    }\n",
       "\n",
       "    .dataframe thead th {\n",
       "        text-align: right;\n",
       "    }\n",
       "</style>\n",
       "<table border=\"1\" class=\"dataframe\">\n",
       "  <thead>\n",
       "    <tr style=\"text-align: right;\">\n",
       "      <th></th>\n",
       "      <th>Tartaric Acid</th>\n",
       "      <th>Grape Density</th>\n",
       "      <th>Citric Acid</th>\n",
       "      <th>Residual.sugar</th>\n",
       "      <th>Sodium chloride</th>\n",
       "      <th>Free.sulfur.dioxide</th>\n",
       "      <th>Bound.sulfur.dioxide</th>\n",
       "      <th>Alcohol Density</th>\n",
       "      <th>PH Levels</th>\n",
       "      <th>Potassium chloride</th>\n",
       "      <th>Alcohol Content</th>\n",
       "    </tr>\n",
       "  </thead>\n",
       "  <tbody>\n",
       "    <tr>\n",
       "      <th>0</th>\n",
       "      <td>7.4</td>\n",
       "      <td>0.70</td>\n",
       "      <td>0.00</td>\n",
       "      <td>1.9</td>\n",
       "      <td>0.076</td>\n",
       "      <td>11.0</td>\n",
       "      <td>34.0</td>\n",
       "      <td>0.9978</td>\n",
       "      <td>3.51</td>\n",
       "      <td>0.56</td>\n",
       "      <td>9.4</td>\n",
       "    </tr>\n",
       "    <tr>\n",
       "      <th>1</th>\n",
       "      <td>7.8</td>\n",
       "      <td>0.88</td>\n",
       "      <td>0.00</td>\n",
       "      <td>2.6</td>\n",
       "      <td>0.098</td>\n",
       "      <td>25.0</td>\n",
       "      <td>67.0</td>\n",
       "      <td>0.9968</td>\n",
       "      <td>3.20</td>\n",
       "      <td>0.68</td>\n",
       "      <td>9.8</td>\n",
       "    </tr>\n",
       "    <tr>\n",
       "      <th>2</th>\n",
       "      <td>7.8</td>\n",
       "      <td>0.76</td>\n",
       "      <td>0.04</td>\n",
       "      <td>2.3</td>\n",
       "      <td>0.092</td>\n",
       "      <td>15.0</td>\n",
       "      <td>54.0</td>\n",
       "      <td>0.9970</td>\n",
       "      <td>3.26</td>\n",
       "      <td>0.65</td>\n",
       "      <td>9.8</td>\n",
       "    </tr>\n",
       "    <tr>\n",
       "      <th>3</th>\n",
       "      <td>11.2</td>\n",
       "      <td>0.28</td>\n",
       "      <td>0.56</td>\n",
       "      <td>1.9</td>\n",
       "      <td>0.075</td>\n",
       "      <td>17.0</td>\n",
       "      <td>60.0</td>\n",
       "      <td>0.9980</td>\n",
       "      <td>3.16</td>\n",
       "      <td>0.58</td>\n",
       "      <td>9.8</td>\n",
       "    </tr>\n",
       "    <tr>\n",
       "      <th>4</th>\n",
       "      <td>7.4</td>\n",
       "      <td>0.70</td>\n",
       "      <td>0.00</td>\n",
       "      <td>1.9</td>\n",
       "      <td>0.076</td>\n",
       "      <td>11.0</td>\n",
       "      <td>34.0</td>\n",
       "      <td>0.9978</td>\n",
       "      <td>3.51</td>\n",
       "      <td>0.56</td>\n",
       "      <td>9.4</td>\n",
       "    </tr>\n",
       "  </tbody>\n",
       "</table>\n",
       "</div>"
      ],
      "text/plain": [
       "   Tartaric Acid  Grape Density  Citric Acid  Residual.sugar  Sodium chloride  \\\n",
       "0            7.4           0.70         0.00             1.9            0.076   \n",
       "1            7.8           0.88         0.00             2.6            0.098   \n",
       "2            7.8           0.76         0.04             2.3            0.092   \n",
       "3           11.2           0.28         0.56             1.9            0.075   \n",
       "4            7.4           0.70         0.00             1.9            0.076   \n",
       "\n",
       "   Free.sulfur.dioxide  Bound.sulfur.dioxide  Alcohol Density  PH Levels  \\\n",
       "0                 11.0                  34.0           0.9978       3.51   \n",
       "1                 25.0                  67.0           0.9968       3.20   \n",
       "2                 15.0                  54.0           0.9970       3.26   \n",
       "3                 17.0                  60.0           0.9980       3.16   \n",
       "4                 11.0                  34.0           0.9978       3.51   \n",
       "\n",
       "   Potassium chloride  Alcohol Content  \n",
       "0                0.56              9.4  \n",
       "1                0.68              9.8  \n",
       "2                0.65              9.8  \n",
       "3                0.58              9.8  \n",
       "4                0.56              9.4  "
      ]
     },
     "execution_count": 6,
     "metadata": {},
     "output_type": "execute_result"
    }
   ],
   "source": [
    "wine.head()"
   ]
  },
  {
   "cell_type": "code",
   "execution_count": 7,
   "metadata": {},
   "outputs": [
    {
     "data": {
      "text/plain": [
       "(1599, 11)"
      ]
     },
     "execution_count": 7,
     "metadata": {},
     "output_type": "execute_result"
    }
   ],
   "source": [
    "wine.shape"
   ]
  },
  {
   "cell_type": "code",
   "execution_count": 11,
   "metadata": {},
   "outputs": [],
   "source": [
    "X_std = StandardScaler().fit_transform(wine)"
   ]
  },
  {
   "cell_type": "code",
   "execution_count": 13,
   "metadata": {},
   "outputs": [
    {
     "name": "stdout",
     "output_type": "stream",
     "text": [
      "Covariance matrix \n",
      "[[ 1.00062578 -0.25629118  0.67212377  0.11484855  0.09376383 -0.15389043\n",
      "  -0.11325227  0.66846534 -0.68340559  0.18312019 -0.06170686]\n",
      " [-0.25629118  1.00062578 -0.55284143  0.00191908  0.06133613 -0.0105104\n",
      "   0.07651786  0.02204002  0.23508431 -0.26115001 -0.20241462]\n",
      " [ 0.67212377 -0.55284143  1.00062578  0.14366701  0.20395046 -0.06101629\n",
      "   0.03555526  0.36517555 -0.54224326  0.31296577  0.10997202]\n",
      " [ 0.11484855  0.00191908  0.14366701  1.00062578  0.05564433  0.18716605\n",
      "   0.20315493  0.3555057  -0.08570602  0.00553058  0.04210177]\n",
      " [ 0.09376383  0.06133613  0.20395046  0.05564433  1.00062578  0.00556563\n",
      "   0.04743013  0.20075788 -0.26519198  0.37149281 -0.22127893]\n",
      " [-0.15389043 -0.0105104  -0.06101629  0.18716605  0.00556563  1.00062578\n",
      "   0.66808426 -0.02195956  0.07042154  0.0516899  -0.06945179]\n",
      " [-0.11325227  0.07651786  0.03555526  0.20315493  0.04743013  0.66808426\n",
      "   1.00062578  0.07131408 -0.06653617  0.04297371 -0.20578264]\n",
      " [ 0.66846534  0.02204002  0.36517555  0.3555057   0.20075788 -0.02195956\n",
      "   0.07131408  1.00062578 -0.34191316  0.14859934 -0.49649027]\n",
      " [-0.68340559  0.23508431 -0.54224326 -0.08570602 -0.26519198  0.07042154\n",
      "  -0.06653617 -0.34191316  1.00062578 -0.19677066  0.20576119]\n",
      " [ 0.18312019 -0.26115001  0.31296577  0.00553058  0.37149281  0.0516899\n",
      "   0.04297371  0.14859934 -0.19677066  1.00062578  0.09365332]\n",
      " [-0.06170686 -0.20241462  0.10997202  0.04210177 -0.22127893 -0.06945179\n",
      "  -0.20578264 -0.49649027  0.20576119  0.09365332  1.00062578]]\n"
     ]
    }
   ],
   "source": [
    "mean_vec = np.mean(X_std, axis=0)\n",
    "cov_mat = (X_std - mean_vec).T.dot((X_std - mean_vec)) / (X_std.shape[0]-1)\n",
    "print('Covariance matrix \\n%s' %cov_mat)"
   ]
  },
  {
   "cell_type": "code",
   "execution_count": 14,
   "metadata": {},
   "outputs": [
    {
     "name": "stdout",
     "output_type": "stream",
     "text": [
      "Eigenvectors \n",
      "[[ 0.48931422 -0.11050274 -0.12330157 -0.22961737 -0.08261366 -0.63969145\n",
      "  -0.24952314  0.19402091 -0.17759545 -0.35022736  0.10147858]\n",
      " [-0.23858436  0.27493048 -0.44996253  0.07895978  0.21873452 -0.0023886\n",
      "   0.36592473 -0.1291103  -0.07877531 -0.5337351   0.41144893]\n",
      " [ 0.46363166 -0.15179136  0.23824707 -0.07941826 -0.05857268  0.0709103\n",
      "   0.62167708 -0.38144967 -0.37751558  0.10549701  0.06959338]\n",
      " [ 0.14610715  0.27208024  0.10128338 -0.37279256  0.73214429 -0.18402996\n",
      "   0.09287208  0.00752295  0.29984469  0.29066341  0.04915555]\n",
      " [ 0.21224658  0.14805156 -0.09261383  0.66619476  0.2465009  -0.05306532\n",
      "  -0.21767112  0.11133867 -0.35700936  0.37041337  0.30433857]\n",
      " [-0.03615752  0.51356681  0.42879287 -0.04353782 -0.15915198  0.05142086\n",
      "   0.24848326  0.63540522 -0.2047805  -0.11659611 -0.01400021]\n",
      " [ 0.02357485  0.56948696  0.3224145  -0.03457712 -0.22246456 -0.0687016\n",
      "  -0.37075027 -0.59211589  0.01903597 -0.09366237  0.13630755]\n",
      " [ 0.39535301  0.23357549 -0.33887135 -0.17449976  0.15707671  0.5673319\n",
      "  -0.23999012  0.02071868 -0.23922267 -0.17048116 -0.3911523 ]\n",
      " [-0.43851962  0.00671079  0.05769735 -0.00378775  0.26752977 -0.3407109\n",
      "  -0.0109696  -0.16774589 -0.56139075 -0.02513762 -0.52211645]\n",
      " [ 0.24292133 -0.03755392  0.27978615  0.55087236  0.22596222 -0.06955538\n",
      "   0.11232046 -0.05836706  0.37460432 -0.44746911 -0.38126343]\n",
      " [-0.11323207 -0.38618096  0.47167322 -0.12218109  0.35068141  0.31452591\n",
      "  -0.3030145   0.03760311 -0.21762556 -0.3276509   0.36164504]]\n",
      "\n",
      "Eigenvalues \n",
      "[3.10107182 1.92711489 1.55151379 1.21399175 0.95989238 0.05959558\n",
      " 0.18144664 0.34485779 0.42322138 0.58415655 0.66002104]\n"
     ]
    }
   ],
   "source": [
    "cov_mat = np.cov(X_std.T)\n",
    "\n",
    "eig_vals, eig_vecs = np.linalg.eig(cov_mat)\n",
    "\n",
    "print('Eigenvectors \\n%s' %eig_vecs)\n",
    "print('\\nEigenvalues \\n%s' %eig_vals)"
   ]
  },
  {
   "cell_type": "markdown",
   "metadata": {},
   "source": [
    "### Question 1: Find out the eigenvector of the 5th component"
   ]
  },
  {
   "cell_type": "code",
   "execution_count": 15,
   "metadata": {},
   "outputs": [
    {
     "data": {
      "text/plain": [
       "array([ 0.21224658,  0.14805156, -0.09261383,  0.66619476,  0.2465009 ,\n",
       "       -0.05306532, -0.21767112,  0.11133867, -0.35700936,  0.37041337,\n",
       "        0.30433857])"
      ]
     },
     "execution_count": 15,
     "metadata": {},
     "output_type": "execute_result"
    }
   ],
   "source": [
    "eig_vecs[4] #fifth component"
   ]
  },
  {
   "cell_type": "markdown",
   "metadata": {},
   "source": [
    "### Question 2: How much cumulative variance is explained by first four components?"
   ]
  },
  {
   "cell_type": "code",
   "execution_count": 16,
   "metadata": {},
   "outputs": [
    {
     "data": {
      "text/plain": [
       "array([ 28.17393128,  45.68220118,  59.77805108,  70.80743772,\n",
       "        79.52827474,  85.52471351,  90.83190641,  94.67696732,\n",
       "        97.81007747,  99.4585608 , 100.        ])"
      ]
     },
     "execution_count": 16,
     "metadata": {},
     "output_type": "execute_result"
    }
   ],
   "source": [
    "tot = sum(eig_vals) # calculate the total value of eigen values\n",
    "var_exp = [(i / tot)*100 for i in sorted(eig_vals, reverse=True)] # looping to calculate variance explained %\n",
    "cum_var_exp = np.cumsum(var_exp) # using numpy cumsum to create an array of cumsum of var_exp\n",
    "cum_var_exp"
   ]
  },
  {
   "cell_type": "markdown",
   "metadata": {},
   "source": [
    "### Question 3: As per given Scree Plot, how many principal components are preferred?"
   ]
  },
  {
   "cell_type": "code",
   "execution_count": 17,
   "metadata": {},
   "outputs": [
    {
     "data": {
      "image/png": "[encoded data removed]",
      "text/plain": [
       "<Figure size 576x360 with 1 Axes>"
      ]
     },
     "metadata": {
      "needs_background": "light"
     },
     "output_type": "display_data"
    }
   ],
   "source": [
    "fig = plt.figure(figsize=(8,5))\n",
    "sing_vals = range(wine.shape[1])\n",
    "plt.plot(sing_vals, eig_vals, 'ro-', linewidth=2)\n",
    "plt.plot(range(0,11),np.ones(11))\n",
    "plt.title('Scree Plot')\n",
    "plt.xlabel('Principal Component')\n",
    "plt.ylabel('Eigenvalue')\n",
    "plt.grid()\n",
    "plt.show()"
   ]
  },
  {
   "cell_type": "markdown",
   "metadata": {},
   "source": [
    "### Question 4: What is explained variances for each of 4 components while performing PCA?"
   ]
  },
  {
   "cell_type": "code",
   "execution_count": 18,
   "metadata": {},
   "outputs": [
    {
     "data": {
      "text/plain": [
       "array([3.10107182, 1.92711489, 1.55151379, 1.21399175])"
      ]
     },
     "execution_count": 18,
     "metadata": {},
     "output_type": "execute_result"
    }
   ],
   "source": [
    "pca = PCA(n_components=4)\n",
    "X_pca= pca.fit_transform(X_std)\n",
    "pca.explained_variance_"
   ]
  },
  {
   "cell_type": "markdown",
   "metadata": {},
   "source": [
    "### Question 5: Which of the following is linear equation of third Principal component in terms of eigenvectors?"
   ]
  },
  {
   "cell_type": "code",
   "execution_count": 19,
   "metadata": {},
   "outputs": [
    {
     "data": {
      "text/plain": [
       "Index(['Tartaric Acid', 'Grape Density', 'Citric Acid', 'Residual.sugar',\n",
       "       'Sodium chloride', 'Free.sulfur.dioxide', 'Bound.sulfur.dioxide',\n",
       "       'Alcohol Density', 'PH Levels', 'Potassium chloride',\n",
       "       'Alcohol Content'],\n",
       "      dtype='object')"
      ]
     },
     "execution_count": 19,
     "metadata": {},
     "output_type": "execute_result"
    }
   ],
   "source": [
    "wine.columns"
   ]
  },
  {
   "cell_type": "code",
   "execution_count": 20,
   "metadata": {},
   "outputs": [
    {
     "data": {
      "text/plain": [
       "array([-0.12330157, -0.44996253,  0.23824707,  0.10128338, -0.09261383,\n",
       "        0.42879287,  0.3224145 , -0.33887135,  0.05769735,  0.27978615,\n",
       "        0.47167322])"
      ]
     },
     "execution_count": 20,
     "metadata": {},
     "output_type": "execute_result"
    }
   ],
   "source": [
    "pca.components_[2]"
   ]
  },
  {
   "cell_type": "code",
   "execution_count": null,
   "metadata": {},
   "outputs": [],
   "source": [
    "print('The Linear eq of 3rd component: ')\n",
    "for i in range(0,wine.shape[1]):\n",
    "    print('{} * {}'.format(np.round(pca.components_[2][i],3),wine.columns[i]),end=' + ')"
   ]
  },
  {
   "cell_type": "code",
   "execution_count": null,
   "metadata": {},
   "outputs": [],
   "source": []
  },
  {
   "cell_type": "code",
   "execution_count": null,
   "metadata": {},
   "outputs": [],
   "source": []
  },
  {
   "cell_type": "code",
   "execution_count": null,
   "metadata": {},
   "outputs": [],
   "source": []
  },
  {
   "cell_type": "code",
   "execution_count": null,
   "metadata": {},
   "outputs": [],
   "source": []
  }
 ],
 "metadata": {
  "kernelspec": {
   "display_name": "Python 3",
   "language": "python",
   "name": "python3"
  },
  "language_info": {
   "codemirror_mode": {
    "name": "ipython",
    "version": 3
   },
   "file_extension": ".py",
   "mimetype": "text/x-python",
   "name": "python",
   "nbconvert_exporter": "python",
   "pygments_lexer": "ipython3",
   "version": "3.7.6"
  }
 },
 "nbformat": 4,
 "nbformat_minor": 4
}
