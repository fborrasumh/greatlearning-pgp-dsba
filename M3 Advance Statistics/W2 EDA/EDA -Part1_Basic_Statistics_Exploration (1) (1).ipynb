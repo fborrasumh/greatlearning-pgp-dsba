{
 "cells": [
  {
   "cell_type": "markdown",
   "metadata": {
    "colab_type": "text",
    "id": "CVXeL1uDNzSF"
   },
   "source": [
    "# <span style=\"font-family: Arial; font-weight:bold;font-size:1.5em;color:#00b3e5;\">Contents:\n",
    "\n",
    "[EDA](#EDA)\n",
    "\n",
    "[DATA](#DATA)\n",
    "\n",
    "[Examples for data types](#Examples-for-data-types)\n",
    "\n",
    "[Variable](#Variable)\n",
    "\n",
    "[Descriptive data measures ](#measures)\n",
    "\n",
    "[Measures of central tendency](#ct)\n",
    "\n",
    "[Measures of dispersion](#dispersion)\n",
    "\n",
    "[Five Number Summary](#fivepoint)\n",
    "\n",
    "[Shape of the data](#shape)\n",
    "\n",
    "[Boxplot](#box)\n",
    "\n",
    "[Co-variance and Co-efficient of correlation](#cov)\n",
    "\n",
    "[Let's get our hands dirty with some code ](#code)\n",
    "\n",
    "<a id='the_destination'></a>\n"
   ]
  },
  {
   "cell_type": "markdown",
   "metadata": {
    "colab_type": "text",
    "id": "fJ44FiAjiwgj"
   },
   "source": [
    "<a id='EDA'></a>\n",
    "\n",
    "## <span style=\"font-family: Arial; font-weight:bold;font-size:1.5em;color:#00b3e5;\">  EDA\n",
    "    \n",
    "<font color=darkblue>Tukey defined data analysis in 1961 as: \"Procedures for analyzing data, techniques for interpreting the results of such procedures, ways of planning the gathering of data to make its analysis easier, more precise or more accurate, and all the machinery and results of (mathematical) statistics which apply to analyzing data\"\n",
    " </font> \n"
   ]
  },
  {
   "cell_type": "markdown",
   "metadata": {
    "colab_type": "text",
    "id": "DXpN6nZliZzv"
   },
   "source": [
    "## <span style=\"font-family: Arial; font-weight:bold;font-size:1.5em;color:#00b3e5;\">   DATA\n",
    "<a id='DATA'></a>\n",
    "\n",
    "<font color=darkblue> \n",
    "* Apart from the regular understanding of Data, in the context of Machine Learning, Data refers to the data that we use to \"train\", \"test\" or \"validate\" a model.\n",
    "* A very common kind of data we deal with is Structured Data i.e, data in tabular format. It is no different from the regular excel spreadsheet we often encounter. We have rows and columns- rows represent individual observations columns represent attributes/features/variables of the observations. \n",
    "    \n",
    "| Name  | Gender  |  Location |  Education_level | Age | Employement_status  | \n",
    "|---|---|---|---|---|---|\n",
    "| Yogesh  | Male  | Delhi  | PhD  | 40 | employed  |\n",
    "| Anisha  | Female  | Mumbai  | Master's | 25 | employed  |\n",
    "| Tanul  | Female  | Pune  | Master's  | 37 | Unemployed  |\n",
    "    \n",
    "&nbsp;\n",
    "\n",
    "* Besides the regular tabular data, we also encounter Unstructured data - Text, images, audio, video, analog data etc\n",
    "\n",
    "* Despite the kind of data, we always convert them into arrays of numbers"
   ]
  },
  {
   "cell_type": "markdown",
   "metadata": {
    "colab_type": "text",
    "id": "5k2yToDgiZz2"
   },
   "source": [
    "## <span style=\"font-family: Arial; font-weight:bold;font-size:1.5em;color:#00b3e5;\"> Examples for data types\n",
    "<a id='Examples-for-data-types'></a>\n",
    " \n",
    "<font color=darkblue> Since Python is an object oriented language we have a wide range of specialized datatypes.\n",
    "\n",
    "Some common built-in data types are list, dict, str, int, tuple, set etc\n",
    "\n",
    "Refer: https://docs.python.org/3/library/datatypes.html"
   ]
  },
  {
   "cell_type": "markdown",
   "metadata": {
    "colab_type": "text",
    "id": "y6LEr2dniZz8"
   },
   "source": [
    "## <span style=\"font-family: Arial; font-weight:bold;font-size:1.5em;color:#00b3e5;\"> Variable\n",
    "<a id='Variable'></a>\n"
   ]
  },
  {
   "cell_type": "markdown",
   "metadata": {
    "colab_type": "text",
    "id": "IpG9sCOyNzSO"
   },
   "source": [
    "## <font color=darkblue> Qualitative Variable\n",
    "\n",
    "\n",
    "<font color=darkblue> \n",
    "* A broad category for any variable that can't be counted (i.e, has no numerical value)\n",
    "* Nominal and ordinal variables fall under this category </font> \n",
    "\n",
    "## <font color=darkblue> Quantitative Variable\n",
    "\n",
    "<font color=darkblue> \n",
    "* A broad category for any variable that can be counted, or has a numerical value associated with it\n",
    "* Examples of variables that fall into this category include discrete and ratio variables\n",
    "    \n",
    "Note:\n",
    "* As we progress in the course, we will refer qualitative variables as 'Categorical variables'\n",
    "* Quantitative variables as 'Continuous variables'\n",
    "* Any attribute whose values cannot be used for arthematic operations, we dub its datatype as a categorical datatype\n",
    "* Any attribute whose values can be used for arthematic operations, we dub its datatype as a continuous datatype\n"
   ]
  },
  {
   "cell_type": "markdown",
   "metadata": {
    "colab_type": "text",
    "id": "421wuggEiZ0e"
   },
   "source": [
    "## <span style=\"font-family: Arial; font-weight:bold;font-size:1.5em;color:#00b3e5;\"> Descriptive data measures \n",
    "<a id='measures'></a>"
   ]
  },
  {
   "cell_type": "markdown",
   "metadata": {
    "colab_type": "text",
    "id": "jK8RUpLFiZ0h"
   },
   "source": [
    "###  <span style=\"font-family: Arial; font-weight:bold;font-size:1.5em;color:#00b3e5;\">Measure of Central Tendency\n",
    "<a id='ct'></a>\n"
   ]
  },
  {
   "cell_type": "markdown",
   "metadata": {
    "colab_type": "text",
    "id": "nQFvAXFSNzSR"
   },
   "source": [
    "<center> <font color=red>  Mode  </font> <font color=blue>  Median  </font> <font color=green>  Mean  </font> </center>\n",
    "\n",
    "<font color=darkblue> \n",
    "* When we measure things of same kind, fairly large number of such measurements will tend to cluster around the middle value. Such a value is called a measure of Central Tendency or Measures of location or Statistical Average\n",
    "* Measures of central tendency include mean, median and mode"
   ]
  },
  {
   "cell_type": "markdown",
   "metadata": {
    "colab_type": "text",
    "id": "yMf8SYZlNzSS"
   },
   "source": [
    "###  <span style=\"font-family: Arial; font-weight:bold;font-size:1.3em;color:#00b3e5;\"> Mean: \n",
    "<font color=darkblue> \n",
    "The general mathematical average.\n",
    "\n",
    "    \n",
    "$$\\mu  = \\frac{1}{n} \\sum_{i=0}^{n} a_i $$\n",
    "\n",
    "&nbsp;\n",
    "\n",
    "\n",
    "$$ mean = \\frac{Sum\\;of\\;all\\;elements\\;in\\;set}{number\\;of\\;elements\\;in\\;set} $$\n",
    "&nbsp;\n",
    "\n",
    "* Arithematic mean is very susceptible to extreme values or fluctions in data\n",
    "* Not the right measure to consider when the data contains a lot of extreme values"
   ]
  },
  {
   "cell_type": "markdown",
   "metadata": {
    "colab_type": "text",
    "id": "uPBBVe9biZ0p"
   },
   "source": [
    "###  <span style=\"font-family: Arial; font-weight:bold;font-size:1.3em;color:#00b3e5;\"> Median: \n",
    "<font color=darkblue> \n",
    "The central value in an ordered set by position.\n",
    "\n",
    "&nbsp;\n",
    "\n",
    "\n",
    "$$ median = \\frac{no.\\;of\\;observations+1}{2}\\;th \\;value\\;in\\;an\\;ordered\\;set$$ \n",
    "&nbsp;\n",
    "\n",
    "* Median is such that 50% of the observations are above the median and 50% of the observations are below the median\n",
    "* It has better resistance to outliers compared to mean"
   ]
  },
  {
   "cell_type": "markdown",
   "metadata": {
    "colab_type": "text",
    "id": "53G-vY14iZ0z"
   },
   "source": [
    "###  <span style=\"font-family: Arial; font-weight:bold;font-size:1.3em;color:#00b3e5;\"> Mode: \n",
    "<font color=darkblue> \n",
    "* Mode is that value which occurs most often. In other words mode has the maximum frequency of occurance.\n",
    "* Mode also is highly resistant to outliers"
   ]
  },
  {
   "cell_type": "markdown",
   "metadata": {
    "colab_type": "text",
    "id": "mCBlfblUiZ0-"
   },
   "source": [
    "## <span style=\"font-family: Arial; font-weight:bold;font-size:1.5em;color:#00b3e5;\"> Measure of dispersion\n",
    "<a id='dispersion'></a>"
   ]
  },
  {
   "cell_type": "markdown",
   "metadata": {
    "colab_type": "text",
    "id": "CillPd4LNzS1"
   },
   "source": [
    "<font color=darkblue> \n",
    "#### Central tendency describes the central point in a data set whereas dispersion or variability describes the spread of the data.\n",
    "&nbsp;\n",
    "\n",
    "* Measures of dispersion include standard deviation, range, kurtosis and skewness"
   ]
  },
  {
   "cell_type": "markdown",
   "metadata": {
    "colab_type": "text",
    "id": "u6Ul3aFDNzS2"
   },
   "source": [
    "<span style=\"font-family: Arial; font-weight:bold;font-size:1.3em;color:#00b3e5;\"> Variance, Standard Deviation and the relation between the two: \n",
    "\n",
    "<font color=darkblue> \n",
    "\n",
    "* The following is the formula for variance\n",
    "$$ \\sigma^2 = \\frac{\\displaystyle\\sum_{i=1}^{n}(x_i - \\mu)^2} {n} $$\n",
    "\n",
    "&nbsp;\n",
    "\n",
    "* The average of the squared differences from the Mean, is Variance\n",
    "* Standard deviation is a quantity expressing by how much each datapoint differs from the average(mean)\n",
    "* Standard deviation is obtained by calculating the square root of variance\n",
    "* Standard deviation is represented by  ' σ '\n",
    "\n",
    "\n"
   ]
  },
  {
   "cell_type": "markdown",
   "metadata": {
    "colab_type": "text",
    "id": "tNnODNlFNzS5"
   },
   "source": [
    "<span style=\"font-family: Arial; font-weight:bold;font-size:1.3em;color:#00b3e5;\"> Range\n",
    "<font color=darkblue> \n",
    "    \n",
    "The difference between the highest and lowest value of a set\n",
    "\n",
    "&nbsp;\n",
    "\n",
    "<center> Range = Max(X) - Min(X)  \n",
    "\n",
    "&nbsp;  \n",
    "where 'X' is a numeric variable\n"
   ]
  },
  {
   "cell_type": "markdown",
   "metadata": {
    "colab_type": "text",
    "id": "rH-TpbUpNzS7"
   },
   "source": [
    "<span style=\"font-family: Arial; font-weight:bold;font-size:1.3em;color:#00b3e5;\"> Quartiles\n",
    "<font color=darkblue>\n",
    "* Quartiles split the values into four equal parts\n",
    "* First Quartile divides the smallest 25% of the values from the rest that are larger\n",
    "* Second Quartils, which indeed is the median divides the 50% of the values from the rest that are larger or equal to median\n",
    "* Third Quartile divides the smallest 75% of the values from the rest that are larger.\n",
    "\n",
    "&nbsp;\n",
    "\n",
    "$$ Q1 = \\frac{no.\\;of\\;observations+1}{4}\\;th \\;value\\;in\\;an\\;ordered\\;set$$ \n",
    "&nbsp;\n",
    "$$ Q2 = \\frac{no.\\;of\\;observations+1}{2}\\;th \\;value\\;in\\;an\\;ordered\\;set$$ \n",
    "&nbsp;\n",
    "$$ Q3 = \\frac{3*(no.\\;of\\;observations+1)}{4}\\;th \\;value\\;in\\;an\\;ordered\\;set$$ \n",
    "&nbsp;\n",
    "\n",
    "Note:\n",
    "* Percentiles split a variable into 100 equal parts\n",
    "* First quartile is equivalent to 25th percentile\n",
    "* Second quartile is equivalent to 50th percentile\n",
    "* Third quartile is equivalent to 75th percentile\n",
    "\n"
   ]
  },
  {
   "cell_type": "markdown",
   "metadata": {
    "colab_type": "text",
    "id": "9XkLGjq_NzS8"
   },
   "source": [
    "<span style=\"font-family: Arial; font-weight:bold;font-size:1.3em;color:#00b3e5;\"> IQR ( Inter Quartile Range )\n",
    "<font color=darkblue>\n",
    "* It is nothing but Range computed only for the middle 50% of the data\n",
    "<center> IQR = Q3 - Q1 \n"
   ]
  },
  {
   "cell_type": "markdown",
   "metadata": {
    "colab_type": "text",
    "id": "6foM62mTNzS9"
   },
   "source": [
    "<span style=\"font-family: Arial; font-weight:bold;font-size:1.3em;color:#00b3e5;\"> Coefficient of variation\n",
    "<font color=darkblue>\n",
    "&nbsp;\n",
    "\n",
    "Coefficient of variation is a relative measure to compare distributions with respect to their standard deviations\n",
    "\n",
    "&nbsp;\n",
    "$$ CV = \\frac{\\sigma}{\\bar{x}} * 100 $$ \n",
    "\n",
    "\n",
    "* Greater the number, greater the variability in the data irrespective of scale\n"
   ]
  },
  {
   "cell_type": "markdown",
   "metadata": {
    "colab_type": "text",
    "id": "QIcauRCgNzS-"
   },
   "source": [
    "<span style=\"font-family: Arial; font-weight:bold;font-size:1.3em;color:#00b3e5;\"> Z score \n",
    "<font color=darkblue>\n",
    "&nbsp;\n",
    "\n",
    "For a given set, the z score of a value is the difference between a value and the mean of the set, divided by the standard deviation of the set\n",
    "\n",
    "&nbsp;\n",
    "\n",
    "$$ z = \\frac{x - \\bar{x}}{\\sigma} $$ \n",
    "&nbsp;\n",
    "\n",
    "* A Z score of zero means the value IS the mean of the data\n",
    "* Depending on the sign of the Z score (positive or negative) we can say if the value is above or below the mean\n",
    "* The magnitude of the Z score tells us how far away the value is from the mean in terms of standard deviations"
   ]
  },
  {
   "cell_type": "markdown",
   "metadata": {
    "colab_type": "text",
    "id": "T4H0FF72iZ1_"
   },
   "source": [
    "<a id='fivepoint'></a>\n",
    "## <span style=\"font-family: Arial; font-weight:bold;font-size:1.5em;color:#00b3e5;\">  Five Number Summary\n",
    "<font color=darkblue>\n",
    "&nbsp;  \n",
    "\n",
    "The five number summary helps describe the center, spread and shape of data. The five summary statistics are as follows,\n",
    "\n",
    "&nbsp;\n",
    "\n",
    "* Minimum\n",
    "* Q1\n",
    "* Q2\n",
    "* Q3\n",
    "* Maximum"
   ]
  },
  {
   "cell_type": "markdown",
   "metadata": {
    "colab_type": "text",
    "id": "hwgkE2maiZ2B"
   },
   "source": [
    "## <span style=\"font-family: Arial; font-weight:bold;font-size:1.5em;color:#00b3e5;\"> Shape of data\n",
    "<a id='shape'></a>"
   ]
  },
  {
   "cell_type": "markdown",
   "metadata": {
    "colab_type": "text",
    "id": "zAYNd4XtiZ2C"
   },
   "source": [
    "<span style=\"font-family: Arial; font-weight:bold;font-size:1.3em;color:#00b3e5;\"> Skeweness\n"
   ]
  },
  {
   "cell_type": "markdown",
   "metadata": {
    "colab_type": "text",
    "id": "-9sPg4mMNzTC"
   },
   "source": [
    "<center> <font color=red>  Mode  </font> <font color=blue>  Median  </font> <font color=green>  Mean  </font> </center>\n",
    "<font color=darkblue> \n",
    "\n",
    "&nbsp;\n",
    "\n",
    "Extent to which the data values are not symmetrical around the mean\n",
    "![alt text](skeweness.png \"Skewed vs normal distribution\")\n",
    "<font color=darkblue> \n",
    "\n",
    "$$skeweness = \\frac{\\sum_{i=1}^{n}(x_i - \\bar{x})^3} {(n-1)*\\sigma^3}$$\n",
    "\n",
    "\n",
    "&nbsp;\n",
    "\n",
    "&nbsp;\n",
    "\n",
    "\n",
    "* Mean > Median : Positive or right skewed distribution\n",
    "* Mean = Median: Zero skewness or symmetrical distribution\n",
    "* Mean < Median : Negative or left skewed distribution\n"
   ]
  },
  {
   "cell_type": "markdown",
   "metadata": {
    "colab_type": "text",
    "id": "PZYEUBdgiZ2I"
   },
   "source": [
    "### <span style=\"font-family: Arial; font-weight:bold;font-size:1.5em;color:#00b3e5;\">Box-Plot\n",
    "\n",
    "![alt text](Boxplot.png \"Five Number Summary with Boxplot\")\n",
    "<font color=darkblue> \n",
    "<a id='box'></a>\n",
    "&nbsp;\n",
    "\n",
    "A visual representation of the five number summary"
   ]
  },
  {
   "cell_type": "markdown",
   "metadata": {
    "colab_type": "text",
    "id": "ltOFQwjUiZ2L"
   },
   "source": [
    "### <span style=\"font-family: Arial; font-weight:bold;font-size:1.5em;color:#00b3e5;\"> Distribution of shape and Box-Plot "
   ]
  },
  {
   "cell_type": "markdown",
   "metadata": {
    "colab_type": "text",
    "id": "RSvk9jIlNzTH"
   },
   "source": [
    "<font color=darkblue> \n",
    "Determining the skeweness of a data from its box plot\n",
    "\n",
    "\n",
    "![alt text](skeweness_and_boxplots.png \"Boxplots\")\n",
    "    \n",
    "* The side of the bigger segment tells us how the data is skewed\n",
    "* If both segments are equal, then it is a symmetric distribution"
   ]
  },
  {
   "cell_type": "markdown",
   "metadata": {
    "colab_type": "text",
    "id": "yioHKwbPiZ2P"
   },
   "source": [
    "### <span style=\"font-family: Arial; font-weight:bold;font-size:1.5em;color:#00b3e5;\"> Box-Plot to check the presence of outliers"
   ]
  },
  {
   "cell_type": "markdown",
   "metadata": {
    "colab": {
     "base_uri": "https://localhost:8080/",
     "height": 129
    },
    "colab_type": "code",
    "executionInfo": {
     "elapsed": 2117,
     "status": "error",
     "timestamp": 1565938956859,
     "user": {
      "displayName": "Mohita Ajmera",
      "photoUrl": "",
      "userId": "09032215537667954779"
     },
     "user_tz": -330
    },
    "id": "Qm3B_QksiZ2P",
    "outputId": "ca719629-3e5a-4a3d-984c-16665347f545"
   },
   "source": [
    "<font color=darkblue> \n",
    "\n",
    "Detecting the presence of outliers in data\n",
    "\n",
    "![alt text](outlier.png \"outlier\")\n",
    "\n",
    "* The points on the right are the outliers\n",
    "\n",
    "\n",
    "\n",
    "Note:\n",
    "*     Presence of datapoints beyond the whiskers/fences desn't necessarily mean there are outliers\n",
    "*     The rule that box plot follows to decide what should be an outlier is that \"any point greater than Q3 + 1.5IQR or lesser than Q1 - 1.5IQR is an outlier \""
   ]
  },
  {
   "cell_type": "markdown",
   "metadata": {
    "colab_type": "text",
    "id": "n3DhxhwniZ2R"
   },
   "source": [
    "<a id='cov'></a>\n",
    "### <span style=\"font-family: Arial; font-weight:bold;font-size:1.5em;color:#00b3e5;\">Co-variance and Co-efficient of correlation"
   ]
  },
  {
   "cell_type": "markdown",
   "metadata": {
    "colab_type": "text",
    "id": "4NtWCD-nNzTO"
   },
   "source": [
    "<font color=darkblue> \n",
    "\n",
    "To measure how one variable varies with respect to the variation of another variable, we compute Co-variance.\n",
    "\n",
    "&nbsp;\n",
    "\n",
    "\n",
    "$$ \\text{cov(X, Y)} = \\frac{\\displaystyle\\sum(X_i - \\bar{X})*(Y_i - \\bar{Y})} {n} $$\n",
    "&nbsp;\n",
    "\n",
    "\n",
    "* The metric only tells us to what extent two variables change together\n",
    "* The metric cannot be the only evidence to conclude that variation in one variable is causing the variation in the other variable\n",
    "* A positive value indicates that the two variables move in the same direction\n",
    "* A negative value indicates that the two variables move in the opposite direction to each other"
   ]
  },
  {
   "cell_type": "markdown",
   "metadata": {
    "colab_type": "text",
    "id": "wZ9sUK-qNzTP"
   },
   "source": [
    "<font color=darkblue> \n",
    "\n",
    "We can only determine the direction of the relationship between two variables but to determine the strength of the relationship, we compute the Correlation coefficient of the two variables.\n",
    "\n",
    "&nbsp;\n",
    "\n",
    "\n",
    "$$\\rho = \\frac{\\text{cov}(X,Y)}{\\sigma_x \\sigma_y}$$\n",
    "\n",
    "&nbsp;\n",
    "\n",
    "* Unlike co-variance, correlation coefficient is independant of scale\n",
    "* The range of values correlation coefficient can take is from -1 to +1\n",
    "* A value closer to -1 or +1 means a strong correlation and a value close to zero means weak correlation\n",
    "\n",
    "Note:\n",
    "Correlation does not imply causation\n"
   ]
  },
  {
   "cell_type": "markdown",
   "metadata": {
    "colab_type": "text",
    "id": "KpViI3mIiZ2W"
   },
   "source": [
    "---------------------------------------"
   ]
  },
  {
   "cell_type": "markdown",
   "metadata": {
    "colab_type": "text",
    "id": "V1IhT_VliZ2W"
   },
   "source": [
    "<a id='code'></a>\n",
    "\n",
    "## <span style=\"font-family: Arial; font-weight:bold;font-size:1.5em;color:#00b3e5;\"> Let's get our hands dirty with some code "
   ]
  },
  {
   "cell_type": "markdown",
   "metadata": {
    "colab_type": "text",
    "id": "pLpCv1t-iZ2X"
   },
   "source": [
    "This dataset is created for prediction of Graduate Admissions from an Indian perspective.\n",
    "\n",
    "    1. GRE Scores ( 290 of 340 ) \n",
    "    2. TOEFL Scores ( 92 of 120 ) \n",
    "    3. University Rating ( 1 of 5 )\n",
    "    4. Statement of Purpose ( 1 of 5 )  \n",
    "    5. Letter of Recommendation Strength ( 1 of 5 ) \n",
    "    6. Undergraduate GPA ( 6.8 of 10 ) \n",
    "    7. Research Experience ( 0 or 1 ) \n",
    "    8. Chance of Admit ( ranging from  0.34 to 0.97)\n",
    "    "
   ]
  },
  {
   "cell_type": "markdown",
   "metadata": {
    "colab_type": "text",
    "id": "xz4bWpAViZ2X"
   },
   "source": [
    "<span style=\"font-family: Arial; font-weight:bold;font-size:1.5em;color:#00b3e5;\">1.1 Load the libraries:"
   ]
  },
  {
   "cell_type": "code",
   "execution_count": 1,
   "metadata": {
    "colab": {},
    "colab_type": "code",
    "id": "UOixtWz5iZ2Y"
   },
   "outputs": [
    {
     "name": "stderr",
     "output_type": "stream",
     "text": [
      "In C:\\Users\\King\\anaconda3\\lib\\site-packages\\matplotlib\\mpl-data\\stylelib\\_classic_test.mplstyle: \n",
      "The text.latex.preview rcparam was deprecated in Matplotlib 3.3 and will be removed two minor releases later.\n",
      "In C:\\Users\\King\\anaconda3\\lib\\site-packages\\matplotlib\\mpl-data\\stylelib\\_classic_test.mplstyle: \n",
      "The mathtext.fallback_to_cm rcparam was deprecated in Matplotlib 3.3 and will be removed two minor releases later.\n",
      "In C:\\Users\\King\\anaconda3\\lib\\site-packages\\matplotlib\\mpl-data\\stylelib\\_classic_test.mplstyle: Support for setting the 'mathtext.fallback_to_cm' rcParam is deprecated since 3.3 and will be removed two minor releases later; use 'mathtext.fallback : 'cm' instead.\n",
      "In C:\\Users\\King\\anaconda3\\lib\\site-packages\\matplotlib\\mpl-data\\stylelib\\_classic_test.mplstyle: \n",
      "The validate_bool_maybe_none function was deprecated in Matplotlib 3.3 and will be removed two minor releases later.\n",
      "In C:\\Users\\King\\anaconda3\\lib\\site-packages\\matplotlib\\mpl-data\\stylelib\\_classic_test.mplstyle: \n",
      "The savefig.jpeg_quality rcparam was deprecated in Matplotlib 3.3 and will be removed two minor releases later.\n",
      "In C:\\Users\\King\\anaconda3\\lib\\site-packages\\matplotlib\\mpl-data\\stylelib\\_classic_test.mplstyle: \n",
      "The keymap.all_axes rcparam was deprecated in Matplotlib 3.3 and will be removed two minor releases later.\n",
      "In C:\\Users\\King\\anaconda3\\lib\\site-packages\\matplotlib\\mpl-data\\stylelib\\_classic_test.mplstyle: \n",
      "The animation.avconv_path rcparam was deprecated in Matplotlib 3.3 and will be removed two minor releases later.\n",
      "In C:\\Users\\King\\anaconda3\\lib\\site-packages\\matplotlib\\mpl-data\\stylelib\\_classic_test.mplstyle: \n",
      "The animation.avconv_args rcparam was deprecated in Matplotlib 3.3 and will be removed two minor releases later.\n"
     ]
    }
   ],
   "source": [
    "import numpy as np\n",
    "import pandas as pd\n",
    "import matplotlib.pyplot as plt"
   ]
  },
  {
   "cell_type": "markdown",
   "metadata": {
    "colab_type": "text",
    "id": "iiITFYuEiZ2Z"
   },
   "source": [
    "<span style=\"font-family: Arial; font-weight:bold;font-size:1.5em;color:#00b3e5;\">1.2. Import the dataset(Graduate Admissions.csv):"
   ]
  },
  {
   "cell_type": "code",
   "execution_count": 2,
   "metadata": {
    "colab": {
     "base_uri": "https://localhost:8080/",
     "height": 391
    },
    "colab_type": "code",
    "executionInfo": {
     "elapsed": 3298,
     "status": "error",
     "timestamp": 1565938913394,
     "user": {
      "displayName": "Mohita Ajmera",
      "photoUrl": "",
      "userId": "09032215537667954779"
     },
     "user_tz": -330
    },
    "id": "yVyVtRXQiZ2a",
    "outputId": "c55a8914-77ba-4dba-a293-2a9fe2f10ee2",
    "scrolled": true
   },
   "outputs": [
    {
     "data": {
      "text/html": [
       "<div>\n",
       "<style scoped>\n",
       "    .dataframe tbody tr th:only-of-type {\n",
       "        vertical-align: middle;\n",
       "    }\n",
       "\n",
       "    .dataframe tbody tr th {\n",
       "        vertical-align: top;\n",
       "    }\n",
       "\n",
       "    .dataframe thead th {\n",
       "        text-align: right;\n",
       "    }\n",
       "</style>\n",
       "<table border=\"1\" class=\"dataframe\">\n",
       "  <thead>\n",
       "    <tr style=\"text-align: right;\">\n",
       "      <th></th>\n",
       "      <th>Cement</th>\n",
       "      <th>Slag</th>\n",
       "      <th>Fly ash</th>\n",
       "      <th>Water</th>\n",
       "      <th>SP</th>\n",
       "      <th>Coarse</th>\n",
       "      <th>Fine</th>\n",
       "      <th>SLUMP</th>\n",
       "      <th>FLOW</th>\n",
       "      <th>Strength</th>\n",
       "    </tr>\n",
       "  </thead>\n",
       "  <tbody>\n",
       "    <tr>\n",
       "      <th>0</th>\n",
       "      <td>273.0</td>\n",
       "      <td>82.0</td>\n",
       "      <td>105.0</td>\n",
       "      <td>210.0</td>\n",
       "      <td>9.0</td>\n",
       "      <td>904.0</td>\n",
       "      <td>680.0</td>\n",
       "      <td>23.0</td>\n",
       "      <td>62.0</td>\n",
       "      <td>34.99</td>\n",
       "    </tr>\n",
       "    <tr>\n",
       "      <th>1</th>\n",
       "      <td>163.0</td>\n",
       "      <td>149.0</td>\n",
       "      <td>191.0</td>\n",
       "      <td>180.0</td>\n",
       "      <td>12.0</td>\n",
       "      <td>843.0</td>\n",
       "      <td>746.0</td>\n",
       "      <td>0.0</td>\n",
       "      <td>20.0</td>\n",
       "      <td>41.14</td>\n",
       "    </tr>\n",
       "    <tr>\n",
       "      <th>2</th>\n",
       "      <td>162.0</td>\n",
       "      <td>148.0</td>\n",
       "      <td>191.0</td>\n",
       "      <td>179.0</td>\n",
       "      <td>16.0</td>\n",
       "      <td>840.0</td>\n",
       "      <td>743.0</td>\n",
       "      <td>1.0</td>\n",
       "      <td>20.0</td>\n",
       "      <td>41.81</td>\n",
       "    </tr>\n",
       "    <tr>\n",
       "      <th>3</th>\n",
       "      <td>162.0</td>\n",
       "      <td>148.0</td>\n",
       "      <td>190.0</td>\n",
       "      <td>179.0</td>\n",
       "      <td>19.0</td>\n",
       "      <td>838.0</td>\n",
       "      <td>741.0</td>\n",
       "      <td>3.0</td>\n",
       "      <td>21.5</td>\n",
       "      <td>42.08</td>\n",
       "    </tr>\n",
       "    <tr>\n",
       "      <th>4</th>\n",
       "      <td>154.0</td>\n",
       "      <td>112.0</td>\n",
       "      <td>144.0</td>\n",
       "      <td>220.0</td>\n",
       "      <td>10.0</td>\n",
       "      <td>923.0</td>\n",
       "      <td>658.0</td>\n",
       "      <td>20.0</td>\n",
       "      <td>64.0</td>\n",
       "      <td>26.82</td>\n",
       "    </tr>\n",
       "  </tbody>\n",
       "</table>\n",
       "</div>"
      ],
      "text/plain": [
       "   Cement   Slag  Fly ash  Water    SP  Coarse   Fine  SLUMP  FLOW  Strength\n",
       "0   273.0   82.0    105.0  210.0   9.0   904.0  680.0   23.0  62.0     34.99\n",
       "1   163.0  149.0    191.0  180.0  12.0   843.0  746.0    0.0  20.0     41.14\n",
       "2   162.0  148.0    191.0  179.0  16.0   840.0  743.0    1.0  20.0     41.81\n",
       "3   162.0  148.0    190.0  179.0  19.0   838.0  741.0    3.0  21.5     42.08\n",
       "4   154.0  112.0    144.0  220.0  10.0   923.0  658.0   20.0  64.0     26.82"
      ]
     },
     "execution_count": 2,
     "metadata": {},
     "output_type": "execute_result"
    }
   ],
   "source": [
    "# Data  = pd.read_csv('Admission_Predict.csv') # Import the dataset named 'Admission_predict.csv'\n",
    "Data  = pd.read_csv('Slump+Test.csv')\n",
    "Data.head()  # view the first 5 rows of the data"
   ]
  },
  {
   "cell_type": "markdown",
   "metadata": {
    "colab_type": "text",
    "id": "J7aaIZwLiZ2c"
   },
   "source": [
    "<span style=\"font-family: Arial; font-weight:bold;font-size:1.5em;color:#00b3e5;\">1.3 Check the Dimension of data?"
   ]
  },
  {
   "cell_type": "code",
   "execution_count": 3,
   "metadata": {
    "colab": {},
    "colab_type": "code",
    "id": "a7ktnKa0iZ2c",
    "scrolled": true
   },
   "outputs": [
    {
     "data": {
      "text/plain": [
       "(103, 10)"
      ]
     },
     "execution_count": 3,
     "metadata": {},
     "output_type": "execute_result"
    }
   ],
   "source": [
    "Data.shape # see the shape of the data"
   ]
  },
  {
   "cell_type": "markdown",
   "metadata": {
    "colab_type": "text",
    "id": "Q6BrUhFgiZ2d"
   },
   "source": [
    "**There are 400 Observations / Rows and 9 Attributes / Columns.**"
   ]
  },
  {
   "cell_type": "markdown",
   "metadata": {
    "colab_type": "text",
    "id": "32FvG6oaiZ2e"
   },
   "source": [
    "<span style=\"font-family: Arial; font-weight:bold;font-size:1.5em;color:#00b3e5;\">1.4 Check the Information about the data and the datatypes of each respective attributes."
   ]
  },
  {
   "cell_type": "code",
   "execution_count": 4,
   "metadata": {
    "colab": {},
    "colab_type": "code",
    "id": "_28s6jX8iZ2e",
    "scrolled": true
   },
   "outputs": [
    {
     "name": "stdout",
     "output_type": "stream",
     "text": [
      "<class 'pandas.core.frame.DataFrame'>\n",
      "RangeIndex: 103 entries, 0 to 102\n",
      "Data columns (total 10 columns):\n",
      " #   Column    Non-Null Count  Dtype  \n",
      "---  ------    --------------  -----  \n",
      " 0   Cement    103 non-null    float64\n",
      " 1   Slag      103 non-null    float64\n",
      " 2   Fly ash   103 non-null    float64\n",
      " 3   Water     103 non-null    float64\n",
      " 4   SP        103 non-null    float64\n",
      " 5   Coarse    103 non-null    float64\n",
      " 6   Fine      103 non-null    float64\n",
      " 7   SLUMP     103 non-null    float64\n",
      " 8   FLOW      103 non-null    float64\n",
      " 9   Strength  103 non-null    float64\n",
      "dtypes: float64(10)\n",
      "memory usage: 8.2 KB\n"
     ]
    }
   ],
   "source": [
    "Data.info() # To see the data type of each of the variable, number of values entered in each of the variable"
   ]
  },
  {
   "cell_type": "markdown",
   "metadata": {
    "colab_type": "text",
    "id": "4OczvBWBiZ2g"
   },
   "source": [
    "<span style=\"font-family: Arial; font-weight:bold;font-size:1.7em;color:#00b3e5;\">EDA Descriptive Statistics"
   ]
  },
  {
   "cell_type": "markdown",
   "metadata": {
    "colab_type": "text",
    "id": "9F-E2ZtgiZ2g"
   },
   "source": [
    "### Mean"
   ]
  },
  {
   "cell_type": "code",
   "execution_count": 5,
   "metadata": {
    "colab": {},
    "colab_type": "code",
    "id": "MF268TejiZ2h"
   },
   "outputs": [
    {
     "name": "stdout",
     "output_type": "stream",
     "text": [
      "Data: Cement      229.894175\n",
      "Slag         77.973786\n",
      "Fly ash     149.014563\n",
      "Water       197.167961\n",
      "SP            8.539806\n",
      "Coarse      883.978641\n",
      "Fine        739.604854\n",
      "SLUMP        18.048544\n",
      "FLOW         49.610680\n",
      "Strength     36.039417\n",
      "dtype: float64\n"
     ]
    }
   ],
   "source": [
    "print(\"Data:\",Data.mean())  # print the mean of each attribute. Ignore \"Serial No. as it is not a continuous variable\""
   ]
  },
  {
   "cell_type": "markdown",
   "metadata": {
    "colab_type": "text",
    "id": "zLyR6FxaiZ2l"
   },
   "source": [
    "### Mode"
   ]
  },
  {
   "cell_type": "code",
   "execution_count": 6,
   "metadata": {
    "colab": {},
    "colab_type": "code",
    "id": "ch9S0uYZiZ2m",
    "scrolled": true
   },
   "outputs": [
    {
     "ename": "KeyError",
     "evalue": "'GRE Score'",
     "output_type": "error",
     "traceback": [
      "\u001b[1;31m---------------------------------------------------------------------------\u001b[0m",
      "\u001b[1;31mKeyError\u001b[0m                                  Traceback (most recent call last)",
      "\u001b[1;32m~\\anaconda3\\lib\\site-packages\\pandas\\core\\indexes\\base.py\u001b[0m in \u001b[0;36mget_loc\u001b[1;34m(self, key, method, tolerance)\u001b[0m\n\u001b[0;32m   2890\u001b[0m             \u001b[1;32mtry\u001b[0m\u001b[1;33m:\u001b[0m\u001b[1;33m\u001b[0m\u001b[1;33m\u001b[0m\u001b[0m\n\u001b[1;32m-> 2891\u001b[1;33m                 \u001b[1;32mreturn\u001b[0m \u001b[0mself\u001b[0m\u001b[1;33m.\u001b[0m\u001b[0m_engine\u001b[0m\u001b[1;33m.\u001b[0m\u001b[0mget_loc\u001b[0m\u001b[1;33m(\u001b[0m\u001b[0mcasted_key\u001b[0m\u001b[1;33m)\u001b[0m\u001b[1;33m\u001b[0m\u001b[1;33m\u001b[0m\u001b[0m\n\u001b[0m\u001b[0;32m   2892\u001b[0m             \u001b[1;32mexcept\u001b[0m \u001b[0mKeyError\u001b[0m \u001b[1;32mas\u001b[0m \u001b[0merr\u001b[0m\u001b[1;33m:\u001b[0m\u001b[1;33m\u001b[0m\u001b[1;33m\u001b[0m\u001b[0m\n",
      "\u001b[1;32mpandas\\_libs\\index.pyx\u001b[0m in \u001b[0;36mpandas._libs.index.IndexEngine.get_loc\u001b[1;34m()\u001b[0m\n",
      "\u001b[1;32mpandas\\_libs\\index.pyx\u001b[0m in \u001b[0;36mpandas._libs.index.IndexEngine.get_loc\u001b[1;34m()\u001b[0m\n",
      "\u001b[1;32mpandas\\_libs\\hashtable_class_helper.pxi\u001b[0m in \u001b[0;36mpandas._libs.hashtable.PyObjectHashTable.get_item\u001b[1;34m()\u001b[0m\n",
      "\u001b[1;32mpandas\\_libs\\hashtable_class_helper.pxi\u001b[0m in \u001b[0;36mpandas._libs.hashtable.PyObjectHashTable.get_item\u001b[1;34m()\u001b[0m\n",
      "\u001b[1;31mKeyError\u001b[0m: 'GRE Score'",
      "\nThe above exception was the direct cause of the following exception:\n",
      "\u001b[1;31mKeyError\u001b[0m                                  Traceback (most recent call last)",
      "\u001b[1;32m<ipython-input-6-8f4f11e5572d>\u001b[0m in \u001b[0;36m<module>\u001b[1;34m\u001b[0m\n\u001b[1;32m----> 1\u001b[1;33m \u001b[0mprint\u001b[0m\u001b[1;33m(\u001b[0m\u001b[0mData\u001b[0m\u001b[1;33m[\u001b[0m\u001b[1;34m'GRE Score'\u001b[0m\u001b[1;33m]\u001b[0m\u001b[1;33m.\u001b[0m\u001b[0mmode\u001b[0m\u001b[1;33m(\u001b[0m\u001b[1;33m)\u001b[0m\u001b[1;33m)\u001b[0m  \u001b[1;31m# Prints the mode of the attribute. There are two values with the same frequency\u001b[0m\u001b[1;33m\u001b[0m\u001b[1;33m\u001b[0m\u001b[0m\n\u001b[0m",
      "\u001b[1;32m~\\anaconda3\\lib\\site-packages\\pandas\\core\\frame.py\u001b[0m in \u001b[0;36m__getitem__\u001b[1;34m(self, key)\u001b[0m\n\u001b[0;32m   2900\u001b[0m             \u001b[1;32mif\u001b[0m \u001b[0mself\u001b[0m\u001b[1;33m.\u001b[0m\u001b[0mcolumns\u001b[0m\u001b[1;33m.\u001b[0m\u001b[0mnlevels\u001b[0m \u001b[1;33m>\u001b[0m \u001b[1;36m1\u001b[0m\u001b[1;33m:\u001b[0m\u001b[1;33m\u001b[0m\u001b[1;33m\u001b[0m\u001b[0m\n\u001b[0;32m   2901\u001b[0m                 \u001b[1;32mreturn\u001b[0m \u001b[0mself\u001b[0m\u001b[1;33m.\u001b[0m\u001b[0m_getitem_multilevel\u001b[0m\u001b[1;33m(\u001b[0m\u001b[0mkey\u001b[0m\u001b[1;33m)\u001b[0m\u001b[1;33m\u001b[0m\u001b[1;33m\u001b[0m\u001b[0m\n\u001b[1;32m-> 2902\u001b[1;33m             \u001b[0mindexer\u001b[0m \u001b[1;33m=\u001b[0m \u001b[0mself\u001b[0m\u001b[1;33m.\u001b[0m\u001b[0mcolumns\u001b[0m\u001b[1;33m.\u001b[0m\u001b[0mget_loc\u001b[0m\u001b[1;33m(\u001b[0m\u001b[0mkey\u001b[0m\u001b[1;33m)\u001b[0m\u001b[1;33m\u001b[0m\u001b[1;33m\u001b[0m\u001b[0m\n\u001b[0m\u001b[0;32m   2903\u001b[0m             \u001b[1;32mif\u001b[0m \u001b[0mis_integer\u001b[0m\u001b[1;33m(\u001b[0m\u001b[0mindexer\u001b[0m\u001b[1;33m)\u001b[0m\u001b[1;33m:\u001b[0m\u001b[1;33m\u001b[0m\u001b[1;33m\u001b[0m\u001b[0m\n\u001b[0;32m   2904\u001b[0m                 \u001b[0mindexer\u001b[0m \u001b[1;33m=\u001b[0m \u001b[1;33m[\u001b[0m\u001b[0mindexer\u001b[0m\u001b[1;33m]\u001b[0m\u001b[1;33m\u001b[0m\u001b[1;33m\u001b[0m\u001b[0m\n",
      "\u001b[1;32m~\\anaconda3\\lib\\site-packages\\pandas\\core\\indexes\\base.py\u001b[0m in \u001b[0;36mget_loc\u001b[1;34m(self, key, method, tolerance)\u001b[0m\n\u001b[0;32m   2891\u001b[0m                 \u001b[1;32mreturn\u001b[0m \u001b[0mself\u001b[0m\u001b[1;33m.\u001b[0m\u001b[0m_engine\u001b[0m\u001b[1;33m.\u001b[0m\u001b[0mget_loc\u001b[0m\u001b[1;33m(\u001b[0m\u001b[0mcasted_key\u001b[0m\u001b[1;33m)\u001b[0m\u001b[1;33m\u001b[0m\u001b[1;33m\u001b[0m\u001b[0m\n\u001b[0;32m   2892\u001b[0m             \u001b[1;32mexcept\u001b[0m \u001b[0mKeyError\u001b[0m \u001b[1;32mas\u001b[0m \u001b[0merr\u001b[0m\u001b[1;33m:\u001b[0m\u001b[1;33m\u001b[0m\u001b[1;33m\u001b[0m\u001b[0m\n\u001b[1;32m-> 2893\u001b[1;33m                 \u001b[1;32mraise\u001b[0m \u001b[0mKeyError\u001b[0m\u001b[1;33m(\u001b[0m\u001b[0mkey\u001b[0m\u001b[1;33m)\u001b[0m \u001b[1;32mfrom\u001b[0m \u001b[0merr\u001b[0m\u001b[1;33m\u001b[0m\u001b[1;33m\u001b[0m\u001b[0m\n\u001b[0m\u001b[0;32m   2894\u001b[0m \u001b[1;33m\u001b[0m\u001b[0m\n\u001b[0;32m   2895\u001b[0m         \u001b[1;32mif\u001b[0m \u001b[0mtolerance\u001b[0m \u001b[1;32mis\u001b[0m \u001b[1;32mnot\u001b[0m \u001b[1;32mNone\u001b[0m\u001b[1;33m:\u001b[0m\u001b[1;33m\u001b[0m\u001b[1;33m\u001b[0m\u001b[0m\n",
      "\u001b[1;31mKeyError\u001b[0m: 'GRE Score'"
     ]
    }
   ],
   "source": [
    "print(Data['GRE Score'].mode())  # Prints the mode of the attribute. There are two values with the same frequency"
   ]
  },
  {
   "cell_type": "markdown",
   "metadata": {
    "colab_type": "text",
    "id": "-0mllQjOiZ2o"
   },
   "source": [
    "### Median"
   ]
  },
  {
   "cell_type": "code",
   "execution_count": 7,
   "metadata": {
    "colab": {},
    "colab_type": "code",
    "id": "zJXMhZnfiZ2p",
    "scrolled": true
   },
   "outputs": [
    {
     "name": "stdout",
     "output_type": "stream",
     "text": [
      "Data: Cement      248.00\n",
      "Slag        100.00\n",
      "Fly ash     164.00\n",
      "Water       196.00\n",
      "SP            8.00\n",
      "Coarse      879.00\n",
      "Fine        742.70\n",
      "SLUMP        21.50\n",
      "FLOW         54.00\n",
      "Strength     35.52\n",
      "dtype: float64\n"
     ]
    }
   ],
   "source": [
    "print(\"Data:\",Data.median())  # Print the median values of the data.\n",
    "\n",
    "# Observe that the values of mean and median are almost the same for most of the attributes"
   ]
  },
  {
   "cell_type": "markdown",
   "metadata": {
    "colab_type": "text",
    "id": "JTVsJ-DjiZ2s"
   },
   "source": [
    "### Quantile 25%"
   ]
  },
  {
   "cell_type": "code",
   "execution_count": 8,
   "metadata": {
    "colab": {},
    "colab_type": "code",
    "id": "aH8F1NZniZ2s"
   },
   "outputs": [
    {
     "name": "stdout",
     "output_type": "stream",
     "text": [
      "Data_quantile(25%): Cement      152.00\n",
      "Slag          0.05\n",
      "Fly ash     115.50\n",
      "Water       180.00\n",
      "SP            6.00\n",
      "Coarse      819.50\n",
      "Fine        684.50\n",
      "SLUMP        14.50\n",
      "FLOW         38.50\n",
      "Strength     30.90\n",
      "Name: 0.25, dtype: float64\n"
     ]
    }
   ],
   "source": [
    "print(\"Data_quantile(25%):\",Data.quantile(q=0.25))  # Prints the value below which 25% of the data lies"
   ]
  },
  {
   "cell_type": "markdown",
   "metadata": {
    "colab_type": "text",
    "id": "uZuj6H5KiZ2x"
   },
   "source": [
    "### Quantile 50%"
   ]
  },
  {
   "cell_type": "code",
   "execution_count": 9,
   "metadata": {
    "colab": {},
    "colab_type": "code",
    "id": "ecXSt5xRiZ2y"
   },
   "outputs": [
    {
     "name": "stdout",
     "output_type": "stream",
     "text": [
      "Data_quantile(50%): Serial No.           200.50\n",
      "GRE Score            317.00\n",
      "TOEFL Score          107.00\n",
      "University Rating      3.00\n",
      "SOP                    3.50\n",
      "LOR                    3.50\n",
      "CGPA                   8.61\n",
      "Research               1.00\n",
      "Chance of Admit        0.73\n",
      "Name: 0.5, dtype: float64\n"
     ]
    }
   ],
   "source": [
    "print(\"Data_quantile(50%):\",Data.quantile(q=0.50))  # Prints the value below which 50% of the data lies"
   ]
  },
  {
   "cell_type": "markdown",
   "metadata": {
    "colab_type": "text",
    "id": "NkSUBKAXiZ23"
   },
   "source": [
    "### Quantile 75%"
   ]
  },
  {
   "cell_type": "code",
   "execution_count": 10,
   "metadata": {
    "colab": {},
    "colab_type": "code",
    "id": "js6H32xEiZ24",
    "scrolled": false
   },
   "outputs": [
    {
     "name": "stdout",
     "output_type": "stream",
     "text": [
      "Data_quantile(75%): Serial No.           300.2500\n",
      "GRE Score            325.0000\n",
      "TOEFL Score          112.0000\n",
      "University Rating      4.0000\n",
      "SOP                    4.0000\n",
      "LOR                    4.0000\n",
      "CGPA                   9.0625\n",
      "Research               1.0000\n",
      "Chance of Admit        0.8300\n",
      "Name: 0.75, dtype: float64\n"
     ]
    }
   ],
   "source": [
    "print(\"Data_quantile(75%):\",Data.quantile(q=0.75))   # Prints the value below which 75% of the data lies"
   ]
  },
  {
   "cell_type": "markdown",
   "metadata": {
    "colab_type": "text",
    "id": "NWZgIg-GiZ28"
   },
   "source": [
    "<span style=\"font-family: Arial; font-weight:bold;font-size:1.5em;color:#00b3e5;\">1.5a) Plotting the summery mean,mode,median using histogram"
   ]
  },
  {
   "cell_type": "code",
   "execution_count": 11,
   "metadata": {
    "colab": {},
    "colab_type": "code",
    "id": "DtLl_I9piZ28"
   },
   "outputs": [
    {
     "name": "stdout",
     "output_type": "stream",
     "text": [
      "Mean:  316.8075 \n",
      "Median:  317.0 \n",
      "Mode:  312\n"
     ]
    },
    {
     "data": {
      "image/png": "[encoded data removed]",
      "text/plain": [
       "<Figure size 720x360 with 1 Axes>"
      ]
     },
     "metadata": {
      "needs_background": "light"
     },
     "output_type": "display_data"
    }
   ],
   "source": [
    "mean=Data['GRE Score'].mean()\n",
    "median=Data['GRE Score'].median()\n",
    "mode=Data['GRE Score'].mode()\n",
    "\n",
    "print('Mean: ',mean,'\\nMedian: ',median,'\\nMode: ',mode[0])\n",
    "\n",
    "plt.figure(figsize=(10,5)) # set the figure size\n",
    "plt.hist(Data['GRE Score'],bins=100,color='lightblue') #Plot the histogram\n",
    "\n",
    "plt.axvline(mean,color='green',label='Mean')     # Draw lines on the plot for mean median and the two modes we have in GRE Score\n",
    "plt.axvline(median,color='blue',label='Median')\n",
    "plt.axvline(mode[0],color='red',label='Mode1')\n",
    "plt.axvline(mode[1],color='red',label='Mode2')\n",
    "\n",
    "plt.xlabel('GRE Score')   # label the x-axis\n",
    "plt.ylabel('Frequency')   # label the y-axis\n",
    "plt.legend()              # Plot the legend\n",
    "plt.show()"
   ]
  },
  {
   "cell_type": "markdown",
   "metadata": {
    "colab_type": "text",
    "id": "Dp4D_ecPiZ2-"
   },
   "source": [
    "<span style=\"font-family: Arial; font-weight:bold;font-size:1.5em;color:#00b3e5;\">1.6 Check the data.describe()"
   ]
  },
  {
   "cell_type": "code",
   "execution_count": 9,
   "metadata": {
    "colab": {},
    "colab_type": "code",
    "id": "AV8MK7X5iZ2_",
    "scrolled": false
   },
   "outputs": [
    {
     "data": {
      "text/html": [
       "<div>\n",
       "<style scoped>\n",
       "    .dataframe tbody tr th:only-of-type {\n",
       "        vertical-align: middle;\n",
       "    }\n",
       "\n",
       "    .dataframe tbody tr th {\n",
       "        vertical-align: top;\n",
       "    }\n",
       "\n",
       "    .dataframe thead th {\n",
       "        text-align: right;\n",
       "    }\n",
       "</style>\n",
       "<table border=\"1\" class=\"dataframe\">\n",
       "  <thead>\n",
       "    <tr style=\"text-align: right;\">\n",
       "      <th></th>\n",
       "      <th>Cement</th>\n",
       "      <th>Slag</th>\n",
       "      <th>Fly ash</th>\n",
       "      <th>Water</th>\n",
       "      <th>SP</th>\n",
       "      <th>Coarse</th>\n",
       "      <th>Fine</th>\n",
       "      <th>SLUMP</th>\n",
       "      <th>FLOW</th>\n",
       "      <th>Strength</th>\n",
       "    </tr>\n",
       "  </thead>\n",
       "  <tbody>\n",
       "    <tr>\n",
       "      <th>count</th>\n",
       "      <td>103.000000</td>\n",
       "      <td>103.000000</td>\n",
       "      <td>103.000000</td>\n",
       "      <td>103.000000</td>\n",
       "      <td>103.000000</td>\n",
       "      <td>103.000000</td>\n",
       "      <td>103.000000</td>\n",
       "      <td>103.000000</td>\n",
       "      <td>103.00000</td>\n",
       "      <td>103.000000</td>\n",
       "    </tr>\n",
       "    <tr>\n",
       "      <th>mean</th>\n",
       "      <td>229.894175</td>\n",
       "      <td>77.973786</td>\n",
       "      <td>149.014563</td>\n",
       "      <td>197.167961</td>\n",
       "      <td>8.539806</td>\n",
       "      <td>883.978641</td>\n",
       "      <td>739.604854</td>\n",
       "      <td>18.048544</td>\n",
       "      <td>49.61068</td>\n",
       "      <td>36.039417</td>\n",
       "    </tr>\n",
       "    <tr>\n",
       "      <th>std</th>\n",
       "      <td>78.877230</td>\n",
       "      <td>60.461363</td>\n",
       "      <td>85.418080</td>\n",
       "      <td>20.208158</td>\n",
       "      <td>2.807530</td>\n",
       "      <td>88.391393</td>\n",
       "      <td>63.342117</td>\n",
       "      <td>8.750844</td>\n",
       "      <td>17.56861</td>\n",
       "      <td>7.838232</td>\n",
       "    </tr>\n",
       "    <tr>\n",
       "      <th>min</th>\n",
       "      <td>137.000000</td>\n",
       "      <td>0.000000</td>\n",
       "      <td>0.000000</td>\n",
       "      <td>160.000000</td>\n",
       "      <td>4.400000</td>\n",
       "      <td>708.000000</td>\n",
       "      <td>640.600000</td>\n",
       "      <td>0.000000</td>\n",
       "      <td>20.00000</td>\n",
       "      <td>17.190000</td>\n",
       "    </tr>\n",
       "    <tr>\n",
       "      <th>25%</th>\n",
       "      <td>152.000000</td>\n",
       "      <td>0.050000</td>\n",
       "      <td>115.500000</td>\n",
       "      <td>180.000000</td>\n",
       "      <td>6.000000</td>\n",
       "      <td>819.500000</td>\n",
       "      <td>684.500000</td>\n",
       "      <td>14.500000</td>\n",
       "      <td>38.50000</td>\n",
       "      <td>30.900000</td>\n",
       "    </tr>\n",
       "    <tr>\n",
       "      <th>50%</th>\n",
       "      <td>248.000000</td>\n",
       "      <td>100.000000</td>\n",
       "      <td>164.000000</td>\n",
       "      <td>196.000000</td>\n",
       "      <td>8.000000</td>\n",
       "      <td>879.000000</td>\n",
       "      <td>742.700000</td>\n",
       "      <td>21.500000</td>\n",
       "      <td>54.00000</td>\n",
       "      <td>35.520000</td>\n",
       "    </tr>\n",
       "    <tr>\n",
       "      <th>75%</th>\n",
       "      <td>303.900000</td>\n",
       "      <td>125.000000</td>\n",
       "      <td>235.950000</td>\n",
       "      <td>209.500000</td>\n",
       "      <td>10.000000</td>\n",
       "      <td>952.800000</td>\n",
       "      <td>788.000000</td>\n",
       "      <td>24.000000</td>\n",
       "      <td>63.75000</td>\n",
       "      <td>41.205000</td>\n",
       "    </tr>\n",
       "    <tr>\n",
       "      <th>max</th>\n",
       "      <td>374.000000</td>\n",
       "      <td>193.000000</td>\n",
       "      <td>260.000000</td>\n",
       "      <td>240.000000</td>\n",
       "      <td>19.000000</td>\n",
       "      <td>1049.900000</td>\n",
       "      <td>902.000000</td>\n",
       "      <td>29.000000</td>\n",
       "      <td>78.00000</td>\n",
       "      <td>58.530000</td>\n",
       "    </tr>\n",
       "  </tbody>\n",
       "</table>\n",
       "</div>"
      ],
      "text/plain": [
       "           Cement        Slag     Fly ash       Water          SP  \\\n",
       "count  103.000000  103.000000  103.000000  103.000000  103.000000   \n",
       "mean   229.894175   77.973786  149.014563  197.167961    8.539806   \n",
       "std     78.877230   60.461363   85.418080   20.208158    2.807530   \n",
       "min    137.000000    0.000000    0.000000  160.000000    4.400000   \n",
       "25%    152.000000    0.050000  115.500000  180.000000    6.000000   \n",
       "50%    248.000000  100.000000  164.000000  196.000000    8.000000   \n",
       "75%    303.900000  125.000000  235.950000  209.500000   10.000000   \n",
       "max    374.000000  193.000000  260.000000  240.000000   19.000000   \n",
       "\n",
       "            Coarse        Fine       SLUMP       FLOW    Strength  \n",
       "count   103.000000  103.000000  103.000000  103.00000  103.000000  \n",
       "mean    883.978641  739.604854   18.048544   49.61068   36.039417  \n",
       "std      88.391393   63.342117    8.750844   17.56861    7.838232  \n",
       "min     708.000000  640.600000    0.000000   20.00000   17.190000  \n",
       "25%     819.500000  684.500000   14.500000   38.50000   30.900000  \n",
       "50%     879.000000  742.700000   21.500000   54.00000   35.520000  \n",
       "75%     952.800000  788.000000   24.000000   63.75000   41.205000  \n",
       "max    1049.900000  902.000000   29.000000   78.00000   58.530000  "
      ]
     },
     "execution_count": 9,
     "metadata": {},
     "output_type": "execute_result"
    }
   ],
   "source": [
    "Data.describe() # the output results provide the five number summary of the data."
   ]
  },
  {
   "cell_type": "markdown",
   "metadata": {
    "colab_type": "text",
    "id": "lMBHr-0fiZ3B"
   },
   "source": [
    "<span style=\"font-family: Arial; font-weight:bold;font-size:1.5em;color:#00b3e5;\"> IQR Value for TOEFL Score"
   ]
  },
  {
   "cell_type": "code",
   "execution_count": 13,
   "metadata": {
    "colab": {},
    "colab_type": "code",
    "id": "YO9yOi-IiZ3B",
    "scrolled": true
   },
   "outputs": [
    {
     "data": {
      "text/plain": [
       "9.0"
      ]
     },
     "execution_count": 13,
     "metadata": {},
     "output_type": "execute_result"
    }
   ],
   "source": [
    "Data[\"TOEFL Score\"].quantile(0.75) - Data[\"TOEFL Score\"].quantile(0.25)"
   ]
  },
  {
   "cell_type": "markdown",
   "metadata": {
    "colab_type": "text",
    "id": "b6v6kqKeiZ3C"
   },
   "source": [
    "<span style=\"font-family: Arial; font-weight:bold;font-size:1.5em;color:#00b3e5;\"> 1.6a)Undestanding the summary of Statistics plotting  Box plots"
   ]
  },
  {
   "cell_type": "code",
   "execution_count": 15,
   "metadata": {
    "colab": {},
    "colab_type": "code",
    "id": "r3zMycT-iZ3C"
   },
   "outputs": [
    {
     "data": {
      "text/plain": [
       "Text(0.7, 107.5, 'IQR')"
      ]
     },
     "execution_count": 15,
     "metadata": {},
     "output_type": "execute_result"
    },
    {
     "data": {
      "image/png": "[encoded data removed]",
      "text/plain": [
       "<Figure size 576x576 with 1 Axes>"
      ]
     },
     "metadata": {
      "needs_background": "light"
     },
     "output_type": "display_data"
    }
   ],
   "source": [
    "# Create boxplot for column=\"mpg\"\n",
    "Data.boxplot(column=\"TOEFL Score\",return_type='axes',figsize=(8,8))\n",
    "\n",
    "# create text(x=0.74, y=22.25, s=\"3rd Quartile\")like Median, 1st Quartile,Min,Max,IQR:\n",
    "plt.text(x=0.74, y=112.00, s=\"3rd Quartile\")\n",
    "plt.text(x=0.8, y=107.00, s=\"Median\")\n",
    "plt.text(x=0.75, y=103.00, s=\"1st Quartile\")\n",
    "plt.text(x=0.9, y=92.00, s=\"Min\")\n",
    "plt.text(x=0.9, y=120.00, s=\"Max\")\n",
    "plt.text(x=0.7, y=107.5, s=\"IQR\", rotation=90, size=25)"
   ]
  },
  {
   "cell_type": "code",
   "execution_count": 16,
   "metadata": {
    "colab": {},
    "colab_type": "code",
    "id": "6WFg4LEMiZ3D"
   },
   "outputs": [],
   "source": [
    "# we can observe from above graph that there are no extreme values / outliers.the data was equally distributed ."
   ]
  },
  {
   "cell_type": "markdown",
   "metadata": {
    "colab_type": "text",
    "id": "Wa5Gz9koiZ3E"
   },
   "source": [
    " <span style=\"font-family: Arial; font-weight:bold;font-size:1.5em;color:#00b3e5;\">1.7 Check the Measures of Dispersion:"
   ]
  },
  {
   "cell_type": "markdown",
   "metadata": {
    "colab_type": "text",
    "id": "ITJjJdhIiZ3E"
   },
   "source": [
    "### IQR"
   ]
  },
  {
   "cell_type": "code",
   "execution_count": 17,
   "metadata": {
    "colab": {},
    "colab_type": "code",
    "id": "Xoeeb-B7iZ3F"
   },
   "outputs": [
    {
     "data": {
      "text/plain": [
       "Serial No.           199.5000\n",
       "GRE Score             17.0000\n",
       "TOEFL Score            9.0000\n",
       "University Rating      2.0000\n",
       "SOP                    1.5000\n",
       "LOR                    1.0000\n",
       "CGPA                   0.8925\n",
       "Research               1.0000\n",
       "Chance of Admit        0.1900\n",
       "dtype: float64"
      ]
     },
     "execution_count": 17,
     "metadata": {},
     "output_type": "execute_result"
    }
   ],
   "source": [
    "Data.quantile(0.75) - Data.quantile(0.25)"
   ]
  },
  {
   "cell_type": "code",
   "execution_count": 18,
   "metadata": {
    "colab": {},
    "colab_type": "code",
    "id": "RAuw4jJ2iZ3G"
   },
   "outputs": [],
   "source": [
    "# the above output represents the IQR values for all the attributed."
   ]
  },
  {
   "cell_type": "markdown",
   "metadata": {
    "colab_type": "text",
    "id": "6XcIT_NjiZ3H"
   },
   "source": [
    "### Range"
   ]
  },
  {
   "cell_type": "code",
   "execution_count": 19,
   "metadata": {
    "colab": {},
    "colab_type": "code",
    "id": "EA9icHmbiZ3H"
   },
   "outputs": [
    {
     "name": "stdout",
     "output_type": "stream",
     "text": [
      "Serial No.           399.00\n",
      "GRE Score             50.00\n",
      "TOEFL Score           28.00\n",
      "University Rating      4.00\n",
      "SOP                    4.00\n",
      "LOR                    4.00\n",
      "CGPA                   3.12\n",
      "Research               1.00\n",
      "Chance of Admit        0.63\n",
      "dtype: float64\n"
     ]
    }
   ],
   "source": [
    "print(Data.max() - Data.min())"
   ]
  },
  {
   "cell_type": "code",
   "execution_count": 20,
   "metadata": {
    "colab": {},
    "colab_type": "code",
    "id": "3uIcUZOTiZ3J"
   },
   "outputs": [],
   "source": [
    "# the above represents the difference between the highest value and lowest values for all individual attributes."
   ]
  },
  {
   "cell_type": "markdown",
   "metadata": {
    "colab_type": "text",
    "id": "Ns-YER_RiZ3K"
   },
   "source": [
    "### Variance"
   ]
  },
  {
   "cell_type": "code",
   "execution_count": 21,
   "metadata": {
    "colab": {},
    "colab_type": "code",
    "id": "g1yz0Mi3iZ3K"
   },
   "outputs": [
    {
     "name": "stdout",
     "output_type": "stream",
     "text": [
      "Serial No.           13366.666667\n",
      "GRE Score              131.644555\n",
      "TOEFL Score             36.838997\n",
      "University Rating        1.308114\n",
      "SOP                      1.013784\n",
      "LOR                      0.807262\n",
      "CGPA                     0.355594\n",
      "Research                 0.248365\n",
      "Chance of Admit          0.020337\n",
      "dtype: float64\n"
     ]
    }
   ],
   "source": [
    "print(Data.var())"
   ]
  },
  {
   "cell_type": "code",
   "execution_count": 22,
   "metadata": {
    "colab": {},
    "colab_type": "code",
    "id": "Gt5pfijdiZ3L"
   },
   "outputs": [],
   "source": [
    "# the above output brief's regarding how much was the data dispersion ."
   ]
  },
  {
   "cell_type": "markdown",
   "metadata": {
    "colab_type": "text",
    "id": "XsZbLNTCiZ3M"
   },
   "source": [
    "### Standard Deviation"
   ]
  },
  {
   "cell_type": "code",
   "execution_count": 23,
   "metadata": {
    "colab": {},
    "colab_type": "code",
    "id": "eQankRxGiZ3M"
   },
   "outputs": [
    {
     "name": "stdout",
     "output_type": "stream",
     "text": [
      "Serial No.           115.614301\n",
      "GRE Score             11.473646\n",
      "TOEFL Score            6.069514\n",
      "University Rating      1.143728\n",
      "SOP                    1.006869\n",
      "LOR                    0.898478\n",
      "CGPA                   0.596317\n",
      "Research               0.498362\n",
      "Chance of Admit        0.142609\n",
      "dtype: float64\n"
     ]
    }
   ],
   "source": [
    "print(Data.std())"
   ]
  },
  {
   "cell_type": "code",
   "execution_count": 24,
   "metadata": {
    "colab": {},
    "colab_type": "code",
    "id": "ck1j-CtQiZ3N"
   },
   "outputs": [],
   "source": [
    "# the above output brief's regarding how much was the data deviated away from the mean ."
   ]
  },
  {
   "cell_type": "markdown",
   "metadata": {
    "colab_type": "text",
    "id": "2M59P81siZ3P"
   },
   "source": [
    "<span style=\"font-family: Arial; font-weight:bold;font-size:1.5em;color:#00b3e5;\">1.8 Check Covariance and Correlation"
   ]
  },
  {
   "cell_type": "markdown",
   "metadata": {
    "colab_type": "text",
    "id": "rX3DPaMpiZ3P"
   },
   "source": [
    "### Covariance"
   ]
  },
  {
   "cell_type": "code",
   "execution_count": 26,
   "metadata": {
    "colab": {},
    "colab_type": "code",
    "id": "Ws1UO-KciZ3Q"
   },
   "outputs": [
    {
     "data": {
      "text/html": [
       "<div>\n",
       "<style scoped>\n",
       "    .dataframe tbody tr th:only-of-type {\n",
       "        vertical-align: middle;\n",
       "    }\n",
       "\n",
       "    .dataframe tbody tr th {\n",
       "        vertical-align: top;\n",
       "    }\n",
       "\n",
       "    .dataframe thead th {\n",
       "        text-align: right;\n",
       "    }\n",
       "</style>\n",
       "<table border=\"1\" class=\"dataframe\">\n",
       "  <thead>\n",
       "    <tr style=\"text-align: right;\">\n",
       "      <th></th>\n",
       "      <th>Serial No.</th>\n",
       "      <th>GRE Score</th>\n",
       "      <th>TOEFL Score</th>\n",
       "      <th>University Rating</th>\n",
       "      <th>SOP</th>\n",
       "      <th>LOR</th>\n",
       "      <th>CGPA</th>\n",
       "      <th>Research</th>\n",
       "      <th>Chance of Admit</th>\n",
       "    </tr>\n",
       "  </thead>\n",
       "  <tbody>\n",
       "    <tr>\n",
       "      <th>Serial No.</th>\n",
       "      <td>13366.666667</td>\n",
       "      <td>-129.369674</td>\n",
       "      <td>-103.807018</td>\n",
       "      <td>-22.472431</td>\n",
       "      <td>-19.432331</td>\n",
       "      <td>-9.164160</td>\n",
       "      <td>-3.144373</td>\n",
       "      <td>-3.637845</td>\n",
       "      <td>0.698020</td>\n",
       "    </tr>\n",
       "    <tr>\n",
       "      <th>GRE Score</th>\n",
       "      <td>-129.369674</td>\n",
       "      <td>131.644555</td>\n",
       "      <td>58.216967</td>\n",
       "      <td>8.778791</td>\n",
       "      <td>7.079699</td>\n",
       "      <td>5.747726</td>\n",
       "      <td>5.699742</td>\n",
       "      <td>3.318690</td>\n",
       "      <td>1.313271</td>\n",
       "    </tr>\n",
       "    <tr>\n",
       "      <th>TOEFL Score</th>\n",
       "      <td>-103.807018</td>\n",
       "      <td>58.216967</td>\n",
       "      <td>36.838997</td>\n",
       "      <td>4.828697</td>\n",
       "      <td>4.021053</td>\n",
       "      <td>3.095965</td>\n",
       "      <td>2.998337</td>\n",
       "      <td>1.481729</td>\n",
       "      <td>0.685179</td>\n",
       "    </tr>\n",
       "    <tr>\n",
       "      <th>University Rating</th>\n",
       "      <td>-22.472431</td>\n",
       "      <td>8.778791</td>\n",
       "      <td>4.828697</td>\n",
       "      <td>1.308114</td>\n",
       "      <td>0.845865</td>\n",
       "      <td>0.678352</td>\n",
       "      <td>0.509117</td>\n",
       "      <td>0.255232</td>\n",
       "      <td>0.116009</td>\n",
       "    </tr>\n",
       "    <tr>\n",
       "      <th>SOP</th>\n",
       "      <td>-19.432331</td>\n",
       "      <td>7.079699</td>\n",
       "      <td>4.021053</td>\n",
       "      <td>0.845865</td>\n",
       "      <td>1.013784</td>\n",
       "      <td>0.660025</td>\n",
       "      <td>0.431183</td>\n",
       "      <td>0.222807</td>\n",
       "      <td>0.097028</td>\n",
       "    </tr>\n",
       "    <tr>\n",
       "      <th>LOR</th>\n",
       "      <td>-9.164160</td>\n",
       "      <td>5.747726</td>\n",
       "      <td>3.095965</td>\n",
       "      <td>0.678352</td>\n",
       "      <td>0.660025</td>\n",
       "      <td>0.807262</td>\n",
       "      <td>0.359084</td>\n",
       "      <td>0.177701</td>\n",
       "      <td>0.085834</td>\n",
       "    </tr>\n",
       "    <tr>\n",
       "      <th>CGPA</th>\n",
       "      <td>-3.144373</td>\n",
       "      <td>5.699742</td>\n",
       "      <td>2.998337</td>\n",
       "      <td>0.509117</td>\n",
       "      <td>0.431183</td>\n",
       "      <td>0.359084</td>\n",
       "      <td>0.355594</td>\n",
       "      <td>0.155026</td>\n",
       "      <td>0.074265</td>\n",
       "    </tr>\n",
       "    <tr>\n",
       "      <th>Research</th>\n",
       "      <td>-3.637845</td>\n",
       "      <td>3.318690</td>\n",
       "      <td>1.481729</td>\n",
       "      <td>0.255232</td>\n",
       "      <td>0.222807</td>\n",
       "      <td>0.177701</td>\n",
       "      <td>0.155026</td>\n",
       "      <td>0.248365</td>\n",
       "      <td>0.039317</td>\n",
       "    </tr>\n",
       "    <tr>\n",
       "      <th>Chance of Admit</th>\n",
       "      <td>0.698020</td>\n",
       "      <td>1.313271</td>\n",
       "      <td>0.685179</td>\n",
       "      <td>0.116009</td>\n",
       "      <td>0.097028</td>\n",
       "      <td>0.085834</td>\n",
       "      <td>0.074265</td>\n",
       "      <td>0.039317</td>\n",
       "      <td>0.020337</td>\n",
       "    </tr>\n",
       "  </tbody>\n",
       "</table>\n",
       "</div>"
      ],
      "text/plain": [
       "                     Serial No.   GRE Score  TOEFL Score  University Rating  \\\n",
       "Serial No.         13366.666667 -129.369674  -103.807018         -22.472431   \n",
       "GRE Score           -129.369674  131.644555    58.216967           8.778791   \n",
       "TOEFL Score         -103.807018   58.216967    36.838997           4.828697   \n",
       "University Rating    -22.472431    8.778791     4.828697           1.308114   \n",
       "SOP                  -19.432331    7.079699     4.021053           0.845865   \n",
       "LOR                   -9.164160    5.747726     3.095965           0.678352   \n",
       "CGPA                  -3.144373    5.699742     2.998337           0.509117   \n",
       "Research              -3.637845    3.318690     1.481729           0.255232   \n",
       "Chance of Admit        0.698020    1.313271     0.685179           0.116009   \n",
       "\n",
       "                         SOP      LOR       CGPA  Research  Chance of Admit   \n",
       "Serial No.        -19.432331 -9.164160 -3.144373 -3.637845          0.698020  \n",
       "GRE Score           7.079699  5.747726  5.699742  3.318690          1.313271  \n",
       "TOEFL Score         4.021053  3.095965  2.998337  1.481729          0.685179  \n",
       "University Rating   0.845865  0.678352  0.509117  0.255232          0.116009  \n",
       "SOP                 1.013784  0.660025  0.431183  0.222807          0.097028  \n",
       "LOR                 0.660025  0.807262  0.359084  0.177701          0.085834  \n",
       "CGPA                0.431183  0.359084  0.355594  0.155026          0.074265  \n",
       "Research            0.222807  0.177701  0.155026  0.248365          0.039317  \n",
       "Chance of Admit     0.097028  0.085834  0.074265  0.039317          0.020337  "
      ]
     },
     "execution_count": 26,
     "metadata": {},
     "output_type": "execute_result"
    }
   ],
   "source": [
    "Data.cov() # Prints the covariance of each attribute against every other attribute"
   ]
  },
  {
   "cell_type": "markdown",
   "metadata": {
    "colab_type": "text",
    "id": "GatjC3BHiZ3R"
   },
   "source": [
    "### Correlation"
   ]
  },
  {
   "cell_type": "code",
   "execution_count": 27,
   "metadata": {
    "colab": {},
    "colab_type": "code",
    "id": "xHrLkFOaiZ3S",
    "scrolled": false
   },
   "outputs": [
    {
     "data": {
      "text/html": [
       "<div>\n",
       "<style scoped>\n",
       "    .dataframe tbody tr th:only-of-type {\n",
       "        vertical-align: middle;\n",
       "    }\n",
       "\n",
       "    .dataframe tbody tr th {\n",
       "        vertical-align: top;\n",
       "    }\n",
       "\n",
       "    .dataframe thead th {\n",
       "        text-align: right;\n",
       "    }\n",
       "</style>\n",
       "<table border=\"1\" class=\"dataframe\">\n",
       "  <thead>\n",
       "    <tr style=\"text-align: right;\">\n",
       "      <th></th>\n",
       "      <th>Serial No.</th>\n",
       "      <th>GRE Score</th>\n",
       "      <th>TOEFL Score</th>\n",
       "      <th>University Rating</th>\n",
       "      <th>SOP</th>\n",
       "      <th>LOR</th>\n",
       "      <th>CGPA</th>\n",
       "      <th>Research</th>\n",
       "      <th>Chance of Admit</th>\n",
       "    </tr>\n",
       "  </thead>\n",
       "  <tbody>\n",
       "    <tr>\n",
       "      <th>Serial No.</th>\n",
       "      <td>1.000000</td>\n",
       "      <td>-0.097526</td>\n",
       "      <td>-0.147932</td>\n",
       "      <td>-0.169948</td>\n",
       "      <td>-0.166932</td>\n",
       "      <td>-0.088221</td>\n",
       "      <td>-0.045608</td>\n",
       "      <td>-0.063138</td>\n",
       "      <td>0.042336</td>\n",
       "    </tr>\n",
       "    <tr>\n",
       "      <th>GRE Score</th>\n",
       "      <td>-0.097526</td>\n",
       "      <td>1.000000</td>\n",
       "      <td>0.835977</td>\n",
       "      <td>0.668976</td>\n",
       "      <td>0.612831</td>\n",
       "      <td>0.557555</td>\n",
       "      <td>0.833060</td>\n",
       "      <td>0.580391</td>\n",
       "      <td>0.802610</td>\n",
       "    </tr>\n",
       "    <tr>\n",
       "      <th>TOEFL Score</th>\n",
       "      <td>-0.147932</td>\n",
       "      <td>0.835977</td>\n",
       "      <td>1.000000</td>\n",
       "      <td>0.695590</td>\n",
       "      <td>0.657981</td>\n",
       "      <td>0.567721</td>\n",
       "      <td>0.828417</td>\n",
       "      <td>0.489858</td>\n",
       "      <td>0.791594</td>\n",
       "    </tr>\n",
       "    <tr>\n",
       "      <th>University Rating</th>\n",
       "      <td>-0.169948</td>\n",
       "      <td>0.668976</td>\n",
       "      <td>0.695590</td>\n",
       "      <td>1.000000</td>\n",
       "      <td>0.734523</td>\n",
       "      <td>0.660123</td>\n",
       "      <td>0.746479</td>\n",
       "      <td>0.447783</td>\n",
       "      <td>0.711250</td>\n",
       "    </tr>\n",
       "    <tr>\n",
       "      <th>SOP</th>\n",
       "      <td>-0.166932</td>\n",
       "      <td>0.612831</td>\n",
       "      <td>0.657981</td>\n",
       "      <td>0.734523</td>\n",
       "      <td>1.000000</td>\n",
       "      <td>0.729593</td>\n",
       "      <td>0.718144</td>\n",
       "      <td>0.444029</td>\n",
       "      <td>0.675732</td>\n",
       "    </tr>\n",
       "    <tr>\n",
       "      <th>LOR</th>\n",
       "      <td>-0.088221</td>\n",
       "      <td>0.557555</td>\n",
       "      <td>0.567721</td>\n",
       "      <td>0.660123</td>\n",
       "      <td>0.729593</td>\n",
       "      <td>1.000000</td>\n",
       "      <td>0.670211</td>\n",
       "      <td>0.396859</td>\n",
       "      <td>0.669889</td>\n",
       "    </tr>\n",
       "    <tr>\n",
       "      <th>CGPA</th>\n",
       "      <td>-0.045608</td>\n",
       "      <td>0.833060</td>\n",
       "      <td>0.828417</td>\n",
       "      <td>0.746479</td>\n",
       "      <td>0.718144</td>\n",
       "      <td>0.670211</td>\n",
       "      <td>1.000000</td>\n",
       "      <td>0.521654</td>\n",
       "      <td>0.873289</td>\n",
       "    </tr>\n",
       "    <tr>\n",
       "      <th>Research</th>\n",
       "      <td>-0.063138</td>\n",
       "      <td>0.580391</td>\n",
       "      <td>0.489858</td>\n",
       "      <td>0.447783</td>\n",
       "      <td>0.444029</td>\n",
       "      <td>0.396859</td>\n",
       "      <td>0.521654</td>\n",
       "      <td>1.000000</td>\n",
       "      <td>0.553202</td>\n",
       "    </tr>\n",
       "    <tr>\n",
       "      <th>Chance of Admit</th>\n",
       "      <td>0.042336</td>\n",
       "      <td>0.802610</td>\n",
       "      <td>0.791594</td>\n",
       "      <td>0.711250</td>\n",
       "      <td>0.675732</td>\n",
       "      <td>0.669889</td>\n",
       "      <td>0.873289</td>\n",
       "      <td>0.553202</td>\n",
       "      <td>1.000000</td>\n",
       "    </tr>\n",
       "  </tbody>\n",
       "</table>\n",
       "</div>"
      ],
      "text/plain": [
       "                   Serial No.  GRE Score  TOEFL Score  University Rating  \\\n",
       "Serial No.           1.000000  -0.097526    -0.147932          -0.169948   \n",
       "GRE Score           -0.097526   1.000000     0.835977           0.668976   \n",
       "TOEFL Score         -0.147932   0.835977     1.000000           0.695590   \n",
       "University Rating   -0.169948   0.668976     0.695590           1.000000   \n",
       "SOP                 -0.166932   0.612831     0.657981           0.734523   \n",
       "LOR                 -0.088221   0.557555     0.567721           0.660123   \n",
       "CGPA                -0.045608   0.833060     0.828417           0.746479   \n",
       "Research            -0.063138   0.580391     0.489858           0.447783   \n",
       "Chance of Admit      0.042336   0.802610     0.791594           0.711250   \n",
       "\n",
       "                        SOP      LOR       CGPA  Research  Chance of Admit   \n",
       "Serial No.        -0.166932 -0.088221 -0.045608 -0.063138          0.042336  \n",
       "GRE Score          0.612831  0.557555  0.833060  0.580391          0.802610  \n",
       "TOEFL Score        0.657981  0.567721  0.828417  0.489858          0.791594  \n",
       "University Rating  0.734523  0.660123  0.746479  0.447783          0.711250  \n",
       "SOP                1.000000  0.729593  0.718144  0.444029          0.675732  \n",
       "LOR                0.729593  1.000000  0.670211  0.396859          0.669889  \n",
       "CGPA               0.718144  0.670211  1.000000  0.521654          0.873289  \n",
       "Research           0.444029  0.396859  0.521654  1.000000          0.553202  \n",
       "Chance of Admit    0.675732  0.669889  0.873289  0.553202          1.000000  "
      ]
     },
     "execution_count": 27,
     "metadata": {},
     "output_type": "execute_result"
    }
   ],
   "source": [
    "Data.corr()  # prints the correlation coefficient between every pair of attributes"
   ]
  },
  {
   "cell_type": "markdown",
   "metadata": {
    "colab_type": "text",
    "id": "kBeh0SW1iZ3T"
   },
   "source": [
    "<span style=\"font-family: Arial; font-weight:bold;font-size:1.5em;color:#00b3e5;\"> 1.8a) Pairplot for checking the correlation?"
   ]
  },
  {
   "cell_type": "code",
   "execution_count": null,
   "metadata": {
    "colab": {},
    "colab_type": "code",
    "id": "bKleullFiZ3T",
    "scrolled": true
   },
   "outputs": [],
   "source": [
    "import seaborn as sns\n",
    "\n",
    "sns.pairplot(Data, kind=\"reg\")  # plots scatter plots for every pair of attributes and histograms along the diagonal\n",
    "plt.show()"
   ]
  },
  {
   "cell_type": "markdown",
   "metadata": {
    "colab_type": "text",
    "id": "Q1KAzy9iiZ3U"
   },
   "source": [
    "* Here we can see that TOEFL, GRE and CGPA Scores highly correlate with the chance of admission\n",
    "* All of the attributes have good correlation with the chance of admission\n",
    "* Apart from the target variable, there is fair amount of correlation amongst the other variables\n"
   ]
  },
  {
   "cell_type": "code",
   "execution_count": null,
   "metadata": {
    "colab": {},
    "colab_type": "code",
    "id": "5meBzMwqiZ3U"
   },
   "outputs": [],
   "source": [
    "Data.drop('Serial No.', axis=1, inplace=True)  # to drop a column from the original dataframe"
   ]
  },
  {
   "cell_type": "markdown",
   "metadata": {
    "colab_type": "text",
    "id": "HDNgeFMPiZ3V"
   },
   "source": [
    "<span style=\"font-family: Arial; font-weight:bold;font-size:1.5em;color:#00b3e5;\"> 1.8b) Heatmap For checking the correlation?"
   ]
  },
  {
   "cell_type": "code",
   "execution_count": 2,
   "metadata": {
    "colab": {},
    "colab_type": "code",
    "id": "wMlrnR4liZ3W",
    "scrolled": true
   },
   "outputs": [
    {
     "ename": "NameError",
     "evalue": "name 'plt' is not defined",
     "output_type": "error",
     "traceback": [
      "\u001b[1;31m---------------------------------------------------------------------------\u001b[0m",
      "\u001b[1;31mNameError\u001b[0m                                 Traceback (most recent call last)",
      "\u001b[1;32m<ipython-input-2-dd158bf4fa46>\u001b[0m in \u001b[0;36m<module>\u001b[1;34m\u001b[0m\n\u001b[1;32m----> 1\u001b[1;33m \u001b[0mfig\u001b[0m\u001b[1;33m,\u001b[0m\u001b[0max\u001b[0m \u001b[1;33m=\u001b[0m \u001b[0mplt\u001b[0m\u001b[1;33m.\u001b[0m\u001b[0msubplots\u001b[0m\u001b[1;33m(\u001b[0m\u001b[0mfigsize\u001b[0m\u001b[1;33m=\u001b[0m\u001b[1;33m(\u001b[0m\u001b[1;36m10\u001b[0m\u001b[1;33m,\u001b[0m \u001b[1;36m10\u001b[0m\u001b[1;33m)\u001b[0m\u001b[1;33m)\u001b[0m\u001b[1;33m\u001b[0m\u001b[1;33m\u001b[0m\u001b[0m\n\u001b[0m\u001b[0;32m      2\u001b[0m \u001b[0msns\u001b[0m\u001b[1;33m.\u001b[0m\u001b[0mheatmap\u001b[0m\u001b[1;33m(\u001b[0m\u001b[0mData\u001b[0m\u001b[1;33m.\u001b[0m\u001b[0mcorr\u001b[0m\u001b[1;33m(\u001b[0m\u001b[1;33m)\u001b[0m\u001b[1;33m,\u001b[0m \u001b[0max\u001b[0m\u001b[1;33m=\u001b[0m\u001b[0max\u001b[0m\u001b[1;33m,\u001b[0m \u001b[0mannot\u001b[0m\u001b[1;33m=\u001b[0m\u001b[1;32mTrue\u001b[0m\u001b[1;33m,\u001b[0m \u001b[0mlinewidths\u001b[0m\u001b[1;33m=\u001b[0m\u001b[1;36m0.05\u001b[0m\u001b[1;33m,\u001b[0m \u001b[0mfmt\u001b[0m\u001b[1;33m=\u001b[0m \u001b[1;34m'.2f'\u001b[0m\u001b[1;33m,\u001b[0m\u001b[0mcmap\u001b[0m\u001b[1;33m=\u001b[0m\u001b[1;34m\"magma\"\u001b[0m\u001b[1;33m)\u001b[0m \u001b[1;31m# the color intensity is based on\u001b[0m\u001b[1;33m\u001b[0m\u001b[1;33m\u001b[0m\u001b[0m\n\u001b[0;32m      3\u001b[0m \u001b[0mplt\u001b[0m\u001b[1;33m.\u001b[0m\u001b[0mshow\u001b[0m\u001b[1;33m(\u001b[0m\u001b[1;33m)\u001b[0m\u001b[1;33m\u001b[0m\u001b[1;33m\u001b[0m\u001b[0m\n",
      "\u001b[1;31mNameError\u001b[0m: name 'plt' is not defined"
     ]
    }
   ],
   "source": [
    "fig,ax = plt.subplots(figsize=(10, 10))   \n",
    "sns.heatmap(Data.corr(), ax=ax, annot=True, linewidths=0.05, fmt= '.2f',cmap=\"magma\") # the color intensity is based on \n",
    "plt.show()"
   ]
  },
  {
   "cell_type": "code",
   "execution_count": 29,
   "metadata": {
    "colab": {},
    "colab_type": "code",
    "id": "ZJTuIvQZiZ3X"
   },
   "outputs": [],
   "source": [
    "# we can confirm that TOEFL Score has highest postive co-relation with all the attributes."
   ]
  },
  {
   "cell_type": "markdown",
   "metadata": {
    "colab_type": "text",
    "id": "zilyL0Q7iZ3X"
   },
   "source": [
    "<span style=\"font-family: Arial; font-weight:bold;font-size:1.5em;color:#00b3e5;\"> 1.9 Check the Skewness and Kurtosis"
   ]
  },
  {
   "cell_type": "markdown",
   "metadata": {
    "colab_type": "text",
    "id": "NVlEOnOLiZ3Y"
   },
   "source": [
    "**Positively skewed:** Most frequent values are low and tail is towards high values.\n",
    "\n",
    "**Negatively skewed:** Most frequent values are high and tail is towards low values."
   ]
  },
  {
   "cell_type": "markdown",
   "metadata": {
    "colab_type": "text",
    "id": "gLIgzGcQiZ3Y"
   },
   "source": [
    "If **Mode< Median< Mean** then the distribution is positively skewed.\n",
    "\n",
    "If **Mode> Median> Mean** then the distribution is negatively skewed."
   ]
  },
  {
   "cell_type": "code",
   "execution_count": 30,
   "metadata": {
    "colab": {},
    "colab_type": "code",
    "id": "25RQaVxqiZ3Y"
   },
   "outputs": [
    {
     "data": {
      "text/plain": [
       "GRE Score           -0.062893\n",
       "TOEFL Score          0.057216\n",
       "University Rating    0.171260\n",
       "SOP                 -0.275761\n",
       "LOR                 -0.106991\n",
       "CGPA                -0.065991\n",
       "Research            -0.191582\n",
       "Chance of Admit     -0.353448\n",
       "dtype: float64"
      ]
     },
     "execution_count": 30,
     "metadata": {},
     "output_type": "execute_result"
    }
   ],
   "source": [
    "Data.skew()   # to measure the skeweness of every attribute"
   ]
  },
  {
   "cell_type": "markdown",
   "metadata": {
    "colab_type": "text",
    "id": "fe6zPNH8iZ3f"
   },
   "source": [
    "<span style=\"font-family: Arial; font-weight:bold;font-size:1.5em;color:#00b3e5;\"> 1.10 Histogram for checking the Skewness"
   ]
  },
  {
   "cell_type": "code",
   "execution_count": 11,
   "metadata": {
    "colab": {},
    "colab_type": "code",
    "id": "si3Ygq8uiZ3g"
   },
   "outputs": [
    {
     "ename": "AttributeError",
     "evalue": "'Rectangle' object has no property 'normed'",
     "output_type": "error",
     "traceback": [
      "\u001b[1;31m---------------------------------------------------------------------------\u001b[0m",
      "\u001b[1;31mAttributeError\u001b[0m                            Traceback (most recent call last)",
      "\u001b[1;32m<ipython-input-11-e5dda93ee69f>\u001b[0m in \u001b[0;36m<module>\u001b[1;34m\u001b[0m\n\u001b[0;32m     10\u001b[0m \u001b[1;31m#plot both series on the histogram\u001b[0m\u001b[1;33m\u001b[0m\u001b[1;33m\u001b[0m\u001b[1;33m\u001b[0m\u001b[0m\n\u001b[0;32m     11\u001b[0m \u001b[1;31m# plt.plot(h,fit,'-',linewidth = 2,label=\"Normal distribution with same mean and var\")\u001b[0m\u001b[1;33m\u001b[0m\u001b[1;33m\u001b[0m\u001b[1;33m\u001b[0m\u001b[0m\n\u001b[1;32m---> 12\u001b[1;33m \u001b[0mplt\u001b[0m\u001b[1;33m.\u001b[0m\u001b[0mhist\u001b[0m\u001b[1;33m(\u001b[0m\u001b[0mh\u001b[0m\u001b[1;33m,\u001b[0m\u001b[0mnormed\u001b[0m\u001b[1;33m=\u001b[0m\u001b[1;32mTrue\u001b[0m\u001b[1;33m,\u001b[0m\u001b[0mbins\u001b[0m \u001b[1;33m=\u001b[0m \u001b[1;36m100\u001b[0m\u001b[1;33m,\u001b[0m\u001b[0mlabel\u001b[0m\u001b[1;33m=\u001b[0m\u001b[1;34m\"Actual distribution\"\u001b[0m\u001b[1;33m)\u001b[0m\u001b[1;33m\u001b[0m\u001b[1;33m\u001b[0m\u001b[0m\n\u001b[0m\u001b[0;32m     13\u001b[0m \u001b[0mplt\u001b[0m\u001b[1;33m.\u001b[0m\u001b[0mlegend\u001b[0m\u001b[1;33m(\u001b[0m\u001b[1;33m)\u001b[0m\u001b[1;33m\u001b[0m\u001b[1;33m\u001b[0m\u001b[0m\n\u001b[0;32m     14\u001b[0m \u001b[0mplt\u001b[0m\u001b[1;33m.\u001b[0m\u001b[0mshow\u001b[0m\u001b[1;33m(\u001b[0m\u001b[1;33m)\u001b[0m\u001b[1;33m\u001b[0m\u001b[1;33m\u001b[0m\u001b[0m\n",
      "\u001b[1;32m~\\anaconda3\\lib\\site-packages\\matplotlib\\pyplot.py\u001b[0m in \u001b[0;36mhist\u001b[1;34m(x, bins, range, density, weights, cumulative, bottom, histtype, align, orientation, rwidth, log, color, label, stacked, data, **kwargs)\u001b[0m\n\u001b[0;32m   2672\u001b[0m         \u001b[0malign\u001b[0m\u001b[1;33m=\u001b[0m\u001b[0malign\u001b[0m\u001b[1;33m,\u001b[0m \u001b[0morientation\u001b[0m\u001b[1;33m=\u001b[0m\u001b[0morientation\u001b[0m\u001b[1;33m,\u001b[0m \u001b[0mrwidth\u001b[0m\u001b[1;33m=\u001b[0m\u001b[0mrwidth\u001b[0m\u001b[1;33m,\u001b[0m \u001b[0mlog\u001b[0m\u001b[1;33m=\u001b[0m\u001b[0mlog\u001b[0m\u001b[1;33m,\u001b[0m\u001b[1;33m\u001b[0m\u001b[1;33m\u001b[0m\u001b[0m\n\u001b[0;32m   2673\u001b[0m         \u001b[0mcolor\u001b[0m\u001b[1;33m=\u001b[0m\u001b[0mcolor\u001b[0m\u001b[1;33m,\u001b[0m \u001b[0mlabel\u001b[0m\u001b[1;33m=\u001b[0m\u001b[0mlabel\u001b[0m\u001b[1;33m,\u001b[0m \u001b[0mstacked\u001b[0m\u001b[1;33m=\u001b[0m\u001b[0mstacked\u001b[0m\u001b[1;33m,\u001b[0m\u001b[1;33m\u001b[0m\u001b[1;33m\u001b[0m\u001b[0m\n\u001b[1;32m-> 2674\u001b[1;33m         **({\"data\": data} if data is not None else {}), **kwargs)\n\u001b[0m\u001b[0;32m   2675\u001b[0m \u001b[1;33m\u001b[0m\u001b[0m\n\u001b[0;32m   2676\u001b[0m \u001b[1;33m\u001b[0m\u001b[0m\n",
      "\u001b[1;32m~\\anaconda3\\lib\\site-packages\\matplotlib\\__init__.py\u001b[0m in \u001b[0;36minner\u001b[1;34m(ax, data, *args, **kwargs)\u001b[0m\n\u001b[0;32m   1436\u001b[0m     \u001b[1;32mdef\u001b[0m \u001b[0minner\u001b[0m\u001b[1;33m(\u001b[0m\u001b[0max\u001b[0m\u001b[1;33m,\u001b[0m \u001b[1;33m*\u001b[0m\u001b[0margs\u001b[0m\u001b[1;33m,\u001b[0m \u001b[0mdata\u001b[0m\u001b[1;33m=\u001b[0m\u001b[1;32mNone\u001b[0m\u001b[1;33m,\u001b[0m \u001b[1;33m**\u001b[0m\u001b[0mkwargs\u001b[0m\u001b[1;33m)\u001b[0m\u001b[1;33m:\u001b[0m\u001b[1;33m\u001b[0m\u001b[1;33m\u001b[0m\u001b[0m\n\u001b[0;32m   1437\u001b[0m         \u001b[1;32mif\u001b[0m \u001b[0mdata\u001b[0m \u001b[1;32mis\u001b[0m \u001b[1;32mNone\u001b[0m\u001b[1;33m:\u001b[0m\u001b[1;33m\u001b[0m\u001b[1;33m\u001b[0m\u001b[0m\n\u001b[1;32m-> 1438\u001b[1;33m             \u001b[1;32mreturn\u001b[0m \u001b[0mfunc\u001b[0m\u001b[1;33m(\u001b[0m\u001b[0max\u001b[0m\u001b[1;33m,\u001b[0m \u001b[1;33m*\u001b[0m\u001b[0mmap\u001b[0m\u001b[1;33m(\u001b[0m\u001b[0msanitize_sequence\u001b[0m\u001b[1;33m,\u001b[0m \u001b[0margs\u001b[0m\u001b[1;33m)\u001b[0m\u001b[1;33m,\u001b[0m \u001b[1;33m**\u001b[0m\u001b[0mkwargs\u001b[0m\u001b[1;33m)\u001b[0m\u001b[1;33m\u001b[0m\u001b[1;33m\u001b[0m\u001b[0m\n\u001b[0m\u001b[0;32m   1439\u001b[0m \u001b[1;33m\u001b[0m\u001b[0m\n\u001b[0;32m   1440\u001b[0m         \u001b[0mbound\u001b[0m \u001b[1;33m=\u001b[0m \u001b[0mnew_sig\u001b[0m\u001b[1;33m.\u001b[0m\u001b[0mbind\u001b[0m\u001b[1;33m(\u001b[0m\u001b[0max\u001b[0m\u001b[1;33m,\u001b[0m \u001b[1;33m*\u001b[0m\u001b[0margs\u001b[0m\u001b[1;33m,\u001b[0m \u001b[1;33m**\u001b[0m\u001b[0mkwargs\u001b[0m\u001b[1;33m)\u001b[0m\u001b[1;33m\u001b[0m\u001b[1;33m\u001b[0m\u001b[0m\n",
      "\u001b[1;32m~\\anaconda3\\lib\\site-packages\\matplotlib\\axes\\_axes.py\u001b[0m in \u001b[0;36mhist\u001b[1;34m(self, x, bins, range, density, weights, cumulative, bottom, histtype, align, orientation, rwidth, log, color, label, stacked, **kwargs)\u001b[0m\n\u001b[0;32m   6804\u001b[0m             \u001b[1;32mif\u001b[0m \u001b[0mpatch\u001b[0m\u001b[1;33m:\u001b[0m\u001b[1;33m\u001b[0m\u001b[1;33m\u001b[0m\u001b[0m\n\u001b[0;32m   6805\u001b[0m                 \u001b[0mp\u001b[0m \u001b[1;33m=\u001b[0m \u001b[0mpatch\u001b[0m\u001b[1;33m[\u001b[0m\u001b[1;36m0\u001b[0m\u001b[1;33m]\u001b[0m\u001b[1;33m\u001b[0m\u001b[1;33m\u001b[0m\u001b[0m\n\u001b[1;32m-> 6806\u001b[1;33m                 \u001b[0mp\u001b[0m\u001b[1;33m.\u001b[0m\u001b[0mupdate\u001b[0m\u001b[1;33m(\u001b[0m\u001b[0mkwargs\u001b[0m\u001b[1;33m)\u001b[0m\u001b[1;33m\u001b[0m\u001b[1;33m\u001b[0m\u001b[0m\n\u001b[0m\u001b[0;32m   6807\u001b[0m                 \u001b[1;32mif\u001b[0m \u001b[0mlbl\u001b[0m \u001b[1;32mis\u001b[0m \u001b[1;32mnot\u001b[0m \u001b[1;32mNone\u001b[0m\u001b[1;33m:\u001b[0m\u001b[1;33m\u001b[0m\u001b[1;33m\u001b[0m\u001b[0m\n\u001b[0;32m   6808\u001b[0m                     \u001b[0mp\u001b[0m\u001b[1;33m.\u001b[0m\u001b[0mset_label\u001b[0m\u001b[1;33m(\u001b[0m\u001b[0mlbl\u001b[0m\u001b[1;33m)\u001b[0m\u001b[1;33m\u001b[0m\u001b[1;33m\u001b[0m\u001b[0m\n",
      "\u001b[1;32m~\\anaconda3\\lib\\site-packages\\matplotlib\\artist.py\u001b[0m in \u001b[0;36mupdate\u001b[1;34m(self, props)\u001b[0m\n\u001b[0;32m    994\u001b[0m                     \u001b[0mfunc\u001b[0m \u001b[1;33m=\u001b[0m \u001b[0mgetattr\u001b[0m\u001b[1;33m(\u001b[0m\u001b[0mself\u001b[0m\u001b[1;33m,\u001b[0m \u001b[1;34mf\"set_{k}\"\u001b[0m\u001b[1;33m,\u001b[0m \u001b[1;32mNone\u001b[0m\u001b[1;33m)\u001b[0m\u001b[1;33m\u001b[0m\u001b[1;33m\u001b[0m\u001b[0m\n\u001b[0;32m    995\u001b[0m                     \u001b[1;32mif\u001b[0m \u001b[1;32mnot\u001b[0m \u001b[0mcallable\u001b[0m\u001b[1;33m(\u001b[0m\u001b[0mfunc\u001b[0m\u001b[1;33m)\u001b[0m\u001b[1;33m:\u001b[0m\u001b[1;33m\u001b[0m\u001b[1;33m\u001b[0m\u001b[0m\n\u001b[1;32m--> 996\u001b[1;33m                         raise AttributeError(f\"{type(self).__name__!r} object \"\n\u001b[0m\u001b[0;32m    997\u001b[0m                                              f\"has no property {k!r}\")\n\u001b[0;32m    998\u001b[0m                     \u001b[0mret\u001b[0m\u001b[1;33m.\u001b[0m\u001b[0mappend\u001b[0m\u001b[1;33m(\u001b[0m\u001b[0mfunc\u001b[0m\u001b[1;33m(\u001b[0m\u001b[0mv\u001b[0m\u001b[1;33m)\u001b[0m\u001b[1;33m)\u001b[0m\u001b[1;33m\u001b[0m\u001b[1;33m\u001b[0m\u001b[0m\n",
      "\u001b[1;31mAttributeError\u001b[0m: 'Rectangle' object has no property 'normed'"
     ]
    },
    {
     "data": {
      "image/png": "[encoded data removed]",
      "text/plain": [
       "<Figure size 432x288 with 1 Axes>"
      ]
     },
     "metadata": {
      "needs_background": "light"
     },
     "output_type": "display_data"
    }
   ],
   "source": [
    "import scipy.stats as stats\n",
    "\n",
    "#convert pandas DataFrame object to numpy array and sort\n",
    "h = np.asarray(Data['Fly ash'])\n",
    "h = sorted(h)\n",
    " \n",
    "#use the scipy stats module to fit a normal distirbution with same mean and standard deviation\n",
    "fit = stats.norm.pdf(h, np.mean(h), np.std(h)) \n",
    " \n",
    "#plot both series on the histogram\n",
    "# plt.plot(h,fit,'-',linewidth = 2,label=\"Normal distribution with same mean and var\")\n",
    "plt.hist(h,normed=True,bins = 100,label=\"Actual distribution\")      \n",
    "plt.legend()\n",
    "plt.show()"
   ]
  },
  {
   "cell_type": "markdown",
   "metadata": {
    "colab_type": "text",
    "id": "tBAWLjFZiZ3i"
   },
   "source": [
    "* We can see int the above graph that it is negative skewed with skewness score -0.06 and also has Negative kurtosis(k=-0.70)"
   ]
  },
  {
   "cell_type": "markdown",
   "metadata": {
    "colab_type": "text",
    "id": "inRbgoYxNzVB"
   },
   "source": [
    "<font color=darkblue>\n",
    "\n",
    "#### To conclude, we have done some amount of data exploration above. Nevertheless, we will be covering them more in detail and how we use the insights generated through data exploration to build machine learning models."
   ]
  },
  {
   "cell_type": "markdown",
   "metadata": {
    "colab_type": "text",
    "id": "ZXjmY2HIiZ3j"
   },
   "source": [
    "-------------------------------"
   ]
  },
  {
   "cell_type": "markdown",
   "metadata": {
    "colab_type": "text",
    "id": "1Hf3wekKiZ3j"
   },
   "source": [
    "<span style=\"font-family: Arial; font-weight:bold;font-size:1.9em;color:#f97102;\"> ---------------------------- HAPPY LEARNING -----------------------------------"
   ]
  },
  {
   "cell_type": "markdown",
   "metadata": {
    "colab_type": "text",
    "id": "mab0TpUViZ3j"
   },
   "source": [
    "----------------------------------------"
   ]
  }
 ],
 "metadata": {
  "colab": {
   "name": "EDA -Part1_Basic_Statistics_Exploration.ipynb",
   "provenance": [],
   "toc_visible": true,
   "version": "0.3.2"
  },
  "kernelspec": {
   "display_name": "Python 3",
   "language": "python",
   "name": "python3"
  },
  "language_info": {
   "codemirror_mode": {
    "name": "ipython",
    "version": 3
   },
   "file_extension": ".py",
   "mimetype": "text/x-python",
   "name": "python",
   "nbconvert_exporter": "python",
   "pygments_lexer": "ipython3",
   "version": "3.7.6"
  }
 },
 "nbformat": 4,
 "nbformat_minor": 1
}
