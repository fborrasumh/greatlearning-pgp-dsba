{
 "cells": [
  {
   "cell_type": "code",
   "execution_count": 2,
   "metadata": {},
   "outputs": [],
   "source": [
    "import numpy as np"
   ]
  },
  {
   "cell_type": "code",
   "execution_count": 60,
   "metadata": {
    "tags": []
   },
   "outputs": [
    {
     "output_type": "stream",
     "name": "stdout",
     "text": "[[1 2 3]\n [4 5 6]\n [7 8 9]]\n[4 5 6]\n[[1 4 7]\n [2 5 8]\n [3 6 9]]\n"
    }
   ],
   "source": [
    "vectorA = np.array ([[1,2,3],[4,5,6],[7,8,9]])\n",
    "print(vectorA) # horizontal\n",
    "print(vectorA[1])\n",
    "print(vectorA.T) # TRANSPOSE -vertical"
   ]
  },
  {
   "cell_type": "code",
   "execution_count": 61,
   "metadata": {
    "tags": []
   },
   "outputs": [
    {
     "output_type": "stream",
     "name": "stdout",
     "text": "[[1 2 3]\n [4 5 6]\n [7 8 9]] \n0th element=\n [1 2 3] \nElement 0:1=\n [[1 2 3]\n [4 5 6]]\n[0 1 2 3 4 5 6 7 8 9] \n [0]\n"
    }
   ],
   "source": [
    "vactorA = np.arange(0,10)\n",
    "print(vectorA,'\\n0th element=\\n',vectorA[0],'\\nElement 0:1=\\n',vectorA[0:2])\n",
    "# vactorA = np.arange(0,30,2)\n",
    "print(vactorA,'\\n',vactorA[np.arange(0,1,5)]) # Question"
   ]
  },
  {
   "cell_type": "code",
   "execution_count": 41,
   "metadata": {
    "tags": []
   },
   "outputs": [
    {
     "output_type": "stream",
     "name": "stdout",
     "text": "[0.         0.55555556 1.11111111 1.66666667 2.22222222 2.77777778\n 3.33333333 3.88888889 4.44444444 5.        ]\n[[1 2 3 4 5 6 7 8 9]]\n"
    }
   ],
   "source": [
    "vactorA = np.linspace(0,5,10) # Starting from 0 to 5, give me 10 equal parts\n",
    "print(vactorA)\n",
    "print(vectorA.reshape(1,9))"
   ]
  },
  {
   "cell_type": "code",
   "execution_count": 59,
   "metadata": {
    "tags": []
   },
   "outputs": [
    {
     "output_type": "stream",
     "name": "stdout",
     "text": "[[1 2 3]\n [4 5 6]\n [7 8 9]]\n[[1 2 3]\n [4 5 6]\n [7 8 9]]\n[[1. 0. 0. 0. 0.]\n [0. 1. 0. 0. 0.]\n [0. 0. 1. 0. 0.]\n [0. 0. 0. 1. 0.]\n [0. 0. 0. 0. 1.]]\n"
    }
   ],
   "source": [
    "vactorA = np.zeros([5,3])\n",
    "print(vectorA)\n",
    "vactorA = np.ones([5,3])\n",
    "print(vectorA)\n",
    "vectorA = np.eye(5)\n",
    "print(vectorA)"
   ]
  },
  {
   "cell_type": "code",
   "execution_count": 23,
   "metadata": {
    "tags": []
   },
   "outputs": [
    {
     "output_type": "stream",
     "name": "stdout",
     "text": "---vector---\n vectorA \n [0 1 2 3 4 5 6 7 8 9] \n vectorB\n [0 1 2 3 4 5 6 7 8 9] ------\n---vector addition---\n [ 0  2  4  6  8 10 12 14 16 18] ------\n---vector multiplication---\n [ 0  1  4  9 16 25 36 49 64 81] ------\n---vector division---\n [       inf 1.         0.5        0.33333333 0.25       0.2\n 0.16666667 0.14285714 0.125      0.11111111] ------\n---vector sqrt---\n [0.         1.         1.41421356 1.73205081 2.         2.23606798\n 2.44948974 2.64575131 2.82842712 3.        ] ------\n---vector mutual-multiplication---\n 285 ------\n"
    }
   ],
   "source": [
    "vector1 = np.arange(0,10)\n",
    "vector2 = np.arange(0,10)\n",
    "print('---vector---\\n vectorA \\n',vector1 ,'\\n vectorB\\n',vector2,'------')\n",
    "print('---vector addition---\\n',(vector1+vector2),'------')\n",
    "print('---vector multiplication---\\n',vector1*vector2,'------')\n",
    "print('---vector division---\\n',1/vector1,'------')\n",
    "print('---vector sqrt---\\n',np.sqrt(vector1),'------')\n",
    "print('---vector mutual-multiplication---\\n',np.matmul(vector1,vector2),'------') # Question"
   ]
  },
  {
   "cell_type": "code",
   "execution_count": 27,
   "metadata": {
    "tags": []
   },
   "outputs": [
    {
     "output_type": "stream",
     "name": "stdout",
     "text": "['1' '2' '3' 'Blue' 'black' 'blue' 'pink' 'rEd' 'red']\n"
    }
   ],
   "source": [
    "vectorColor = np.array(['red',1,2,3,'rEd',1,2,3,'Blue','black','pink','blue'])\n",
    "print(np.unique(vectorColor))"
   ]
  },
  {
   "cell_type": "code",
   "execution_count": 28,
   "metadata": {
    "tags": []
   },
   "outputs": [
    {
     "output_type": "stream",
     "name": "stdout",
     "text": "---Random Variables---\n uniformRandomSamples \n [[0.12686709 0.24804372 0.20876652 0.51027694 0.74845018]\n [0.21092188 0.31682707 0.84443771 0.39541074 0.80277039]\n [0.47763408 0.37162785 0.78817343 0.85908491 0.01549653]\n [0.72288632 0.01959985 0.86778719 0.6067957  0.46605894]\n [0.22493122 0.32570817 0.57682472 0.29481424 0.03526682]] \n standardRandomSamples\n [[-0.42869955  1.68432145 -2.19551989 -0.26044136  0.27332362]\n [ 0.96636984  0.73235216  1.22049571 -1.95919513  0.41942256]\n [ 1.26632257  0.9225325  -0.18652501 -0.11546404  0.35920106]\n [-0.05512461 -0.78198477  0.50351657  1.77202777  1.06293586]\n [ 1.54397835  0.39131473  0.23271975  0.51938161  0.82189056]] ------\n"
    }
   ],
   "source": [
    "uniformRandomSamples = np.random.rand(5,5)\n",
    "standardRandomSamples = np.random.randn(5,5)\n",
    "print('---Random Variables---\\n uniformRandomSamples \\n',uniformRandomSamples ,'\\n standardRandomSamples\\n',standardRandomSamples,'------')\n"
   ]
  },
  {
   "cell_type": "code",
   "execution_count": 38,
   "metadata": {
    "tags": []
   },
   "outputs": [
    {
     "output_type": "stream",
     "name": "stdout",
     "text": "---Statistics Operation---\n Mean = 0.442618487782219 \n Standard Daviation= 0.2733075931111982 \n Min= 0.015496534364560555 \n Max= 0.8677871864832831 \n------\n"
    }
   ],
   "source": [
    "print('---Statistics Operation---\\n Mean =',np.mean(uniformRandomSamples),\n",
    "'\\n Standard Daviation=',np.std(uniformRandomSamples),\n",
    "'\\n Min=',np.min(uniformRandomSamples),\n",
    "'\\n Max=',np.max(uniformRandomSamples),'\\n------')"
   ]
  },
  {
   "cell_type": "code",
   "execution_count": 72,
   "metadata": {
    "tags": []
   },
   "outputs": [
    {
     "output_type": "stream",
     "name": "stdout",
     "text": "[0.95988409 0.1905789  0.21916171 0.23983516 0.36048616 0.87250333\n 0.82214054 0.65558482 0.58997939 0.42948262 0.14644716 0.01958496\n 0.30202483 0.87059372 0.69068973 0.7402552  0.56949094 0.30795787\n 0.47382961]\n[0.95988409 0.1905789  0.21916171 7.         7.         0.87250333\n 0.82214054 0.65558482 0.58997939 0.42948262 0.14644716 0.01958496\n 0.30202483 0.87059372 0.69068973 0.7402552  0.56949094 0.30795787\n 0.47382961]\n[0.95988409 0.1905789  0.21916171 8.         8.         0.87250333\n 0.82214054 0.65558482 0.58997939 0.42948262 0.14644716 0.01958496\n 0.30202483 0.87059372 0.69068973 0.7402552  0.56949094 0.30795787\n 0.47382961]\n"
    }
   ],
   "source": [
    "rand_vec = np.random.rand(19)\n",
    "print(rand_vec)\n",
    "rand_vec[3:5]=7\n",
    "print(rand_vec)\n",
    "rand_vec[3:5]=[8,8]\n",
    "print(rand_vec)"
   ]
  },
  {
   "cell_type": "code",
   "execution_count": 73,
   "metadata": {},
   "outputs": [
    {
     "output_type": "error",
     "ename": "IndexError",
     "evalue": "too many indices for array",
     "traceback": [
      "\u001b[1;31m---------------------------------------------------------------------------\u001b[0m",
      "\u001b[1;31mIndexError\u001b[0m                                Traceback (most recent call last)",
      "\u001b[1;32m<ipython-input-73-ad7c4d482532>\u001b[0m in \u001b[0;36m<module>\u001b[1;34m\u001b[0m\n\u001b[1;32m----> 1\u001b[1;33m \u001b[0msub_mat\u001b[0m \u001b[1;33m=\u001b[0m \u001b[0mrand_vec\u001b[0m\u001b[1;33m[\u001b[0m\u001b[1;36m0\u001b[0m\u001b[1;33m:\u001b[0m\u001b[1;36m2\u001b[0m\u001b[1;33m,\u001b[0m\u001b[1;36m0\u001b[0m\u001b[1;33m:\u001b[0m\u001b[1;36m3\u001b[0m\u001b[1;33m]\u001b[0m\u001b[1;33m\u001b[0m\u001b[1;33m\u001b[0m\u001b[0m\n\u001b[0m\u001b[0;32m      2\u001b[0m \u001b[0mprint\u001b[0m\u001b[1;33m(\u001b[0m\u001b[0msub_mat\u001b[0m\u001b[1;33m)\u001b[0m\u001b[1;33m\u001b[0m\u001b[1;33m\u001b[0m\u001b[0m\n\u001b[0;32m      3\u001b[0m \u001b[0msub_mat\u001b[0m\u001b[1;33m[\u001b[0m\u001b[1;33m:\u001b[0m\u001b[1;33m]\u001b[0m\u001b[1;33m=\u001b[0m\u001b[1;36m7\u001b[0m\u001b[1;33m\u001b[0m\u001b[1;33m\u001b[0m\u001b[0m\n\u001b[0;32m      4\u001b[0m \u001b[0mprint\u001b[0m\u001b[1;33m(\u001b[0m\u001b[0msub_mat\u001b[0m\u001b[1;33m)\u001b[0m\u001b[1;33m\u001b[0m\u001b[1;33m\u001b[0m\u001b[0m\n",
      "\u001b[1;31mIndexError\u001b[0m: too many indices for array"
     ]
    }
   ],
   "source": []
  }
 ],
 "metadata": {
  "language_info": {
   "codemirror_mode": {
    "name": "ipython",
    "version": 3
   },
   "file_extension": ".py",
   "mimetype": "text/x-python",
   "name": "python",
   "nbconvert_exporter": "python",
   "pygments_lexer": "ipython3",
   "version": 3
  },
  "orig_nbformat": 2,
  "kernelspec": {
   "name": "python_defaultSpec_1594967034928",
   "display_name": "Python 3.7.6 64-bit ('KING': virtualenv)"
  }
 },
 "nbformat": 4,
 "nbformat_minor": 2
}