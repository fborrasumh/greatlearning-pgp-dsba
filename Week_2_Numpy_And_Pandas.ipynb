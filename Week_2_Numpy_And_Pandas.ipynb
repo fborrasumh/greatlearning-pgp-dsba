{
 "cells": [
  {
   "cell_type": "code",
   "execution_count": 2,
   "metadata": {},
   "outputs": [],
   "source": [
    "import numpy as np"
   ]
  },
  {
   "cell_type": "code",
   "execution_count": 4,
   "metadata": {
    "tags": []
   },
   "outputs": [
    {
     "output_type": "stream",
     "name": "stdout",
     "text": "[[1 2 3]\n [4 5 6]\n [7 8 9]]\n[[1 4 7]\n [2 5 8]\n [3 6 9]]\n"
    }
   ],
   "source": [
    "vectorA = np.array ([[1,2,3],[4,5,6],[7,8,9]])\n",
    "print(vectorA) # horizontal\n",
    "print(vectorA.T) # TRANSPOSE -vertical"
   ]
  },
  {
   "cell_type": "code",
   "execution_count": 8,
   "metadata": {
    "tags": []
   },
   "outputs": [
    {
     "output_type": "stream",
     "name": "stdout",
     "text": "[[1 2 3]\n [4 5 6]\n [7 8 9]]\n[ 0  2  4  6  8 10 12 14 16 18 20 22 24 26 28]\n"
    }
   ],
   "source": [
    "vactorA = np.arange(0,10)\n",
    "print(vectorA)\n",
    "vactorA = np.arange(0,30,2)\n",
    "print(vactorA)"
   ]
  },
  {
   "cell_type": "code",
   "execution_count": 25,
   "metadata": {
    "tags": []
   },
   "outputs": [
    {
     "output_type": "stream",
     "name": "stdout",
     "text": "[0.         0.55555556 1.11111111 1.66666667 2.22222222 2.77777778\n 3.33333333 3.88888889 4.44444444 5.        ]\n[[1 2 3 4 5 6 7 8 9]]\n"
    }
   ],
   "source": [
    "vactorA = np.linspace(0,5,10) # Starting from 0 to 5, give me 10 equal parts\n",
    "print(vactorA)\n",
    "print(vectorA.reshape(1,9))"
   ]
  },
  {
   "cell_type": "code",
   "execution_count": 5,
   "metadata": {
    "tags": []
   },
   "outputs": [
    {
     "output_type": "stream",
     "name": "stdout",
     "text": "[[1 2 3]\n [4 5 6]\n [7 8 9]]\n[[1 2 3]\n [4 5 6]\n [7 8 9]]\n[[1. 0. 0. 0. 0.]\n [0. 1. 0. 0. 0.]\n [0. 0. 1. 0. 0.]\n [0. 0. 0. 1. 0.]\n [0. 0. 0. 0. 1.]]\n"
    }
   ],
   "source": [
    "vactorA = np.zeros([5,3])\n",
    "print(vectorA)\n",
    "vactorA = np.ones([5,3])\n",
    "print(vectorA)\n",
    "vectorA = np.eye(5)\n",
    "print(vectorA)"
   ]
  },
  {
   "cell_type": "code",
   "execution_count": 23,
   "metadata": {
    "tags": []
   },
   "outputs": [
    {
     "output_type": "stream",
     "name": "stdout",
     "text": "---vector---\n vectorA \n [0 1 2 3 4 5 6 7 8 9] \n vectorB\n [0 1 2 3 4 5 6 7 8 9] ------\n---vector addition---\n [ 0  2  4  6  8 10 12 14 16 18] ------\n---vector multiplication---\n [ 0  1  4  9 16 25 36 49 64 81] ------\n---vector division---\n [       inf 1.         0.5        0.33333333 0.25       0.2\n 0.16666667 0.14285714 0.125      0.11111111] ------\n---vector sqrt---\n [0.         1.         1.41421356 1.73205081 2.         2.23606798\n 2.44948974 2.64575131 2.82842712 3.        ] ------\n---vector mutual-multiplication---\n 285 ------\n"
    }
   ],
   "source": [
    "vector1 = np.arange(0,10)\n",
    "vector2 = np.arange(0,10)\n",
    "print('---vector---\\n vectorA \\n',vector1 ,'\\n vectorB\\n',vector2,'------')\n",
    "print('---vector addition---\\n',(vector1+vector2),'------')\n",
    "print('---vector multiplication---\\n',vector1*vector2,'------')\n",
    "print('---vector division---\\n',1/vector1,'------')\n",
    "print('---vector sqrt---\\n',np.sqrt(vector1),'------')\n",
    "print('---vector mutual-multiplication---\\n',np.matmul(vector1,vector2),'------')"
   ]
  },
  {
   "cell_type": "code",
   "execution_count": 26,
   "metadata": {
    "tags": []
   },
   "outputs": [
    {
     "output_type": "stream",
     "name": "stdout",
     "text": "['1' '2' '3' 'black' 'blue' 'pink' 'red']\n"
    }
   ],
   "source": [
    "vectorColor = np.array(['red',1,2,3,'red',1,2,3,'blue','black','pink','blue'])\n",
    "print(np.unique(vectorColor))"
   ]
  },
  {
   "cell_type": "code",
   "execution_count": null,
   "metadata": {},
   "outputs": [],
   "source": []
  }
 ],
 "metadata": {
  "language_info": {
   "codemirror_mode": {
    "name": "ipython",
    "version": 3
   },
   "file_extension": ".py",
   "mimetype": "text/x-python",
   "name": "python",
   "nbconvert_exporter": "python",
   "pygments_lexer": "ipython3",
   "version": 3
  },
  "orig_nbformat": 2,
  "kernelspec": {
   "name": "python_defaultSpec_1594967034928",
   "display_name": "Python 3.7.6 64-bit ('KING': virtualenv)"
  }
 },
 "nbformat": 4,
 "nbformat_minor": 2
}