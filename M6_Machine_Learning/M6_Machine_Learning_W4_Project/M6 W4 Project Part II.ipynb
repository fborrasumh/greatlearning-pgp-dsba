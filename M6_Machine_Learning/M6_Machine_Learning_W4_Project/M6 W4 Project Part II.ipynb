{
 "cells": [
  {
   "cell_type": "markdown",
   "metadata": {},
   "source": [
    "## Problem Statement Text Analytics"
   ]
  },
  {
   "cell_type": "markdown",
   "metadata": {},
   "source": [
    "In this particular project, we are going to work on the inaugural corpora from the nltk in Python. We will be looking at the following speeches of the Presidents of the United States of America:\n",
    "\n",
    "President Franklin D. Roosevelt in 1941\n",
    "President John F. Kennedy in 1961\n",
    "President Richard Nixon in 1973\n",
    "Find the number of characters, words and sentences for the mentioned documents. – 3 Marks\n",
    "(Hint: use .words(), .raw(), .sent() for extracting counts)\n",
    "\n",
    "Remove all the stopwords from all the three speeches. – 3 Marks\n",
    "Which word occurs the most number of times in his inaugural address for each president? Mention the top three words. (after removing the stopwords) – 3 Marks\n",
    "Plot the word cloud of each of the speeches of the variable. (after removing the stopwords) – 3 Marks"
   ]
  },
  {
   "cell_type": "markdown",
   "metadata": {},
   "source": [
    "# Using: nltk.NaiveBayesClassifier"
   ]
  },
  {
   "cell_type": "code",
   "execution_count": 1,
   "metadata": {
    "ExecuteTime": {
     "end_time": "2020-09-17T13:15:50.209160Z",
     "start_time": "2020-09-17T13:15:50.204146Z"
    }
   },
   "outputs": [],
   "source": [
    "## Importing the necessary libraries along with the standard import\n",
    "\n",
    "import numpy as np \n",
    "import pandas as pd \n",
    "import re # this is the regular expression library which helps us manipulate text (strings) fairly easily and intuitively\n",
    "import nltk # this is the Natural Language Tool Kit which contains a lot of functionalities for text analytics\n",
    "import matplotlib.pyplot as plt\n",
    "import string # this is used for string manipulations\n",
    "import matplotlib"
   ]
  },
  {
   "cell_type": "markdown",
   "metadata": {},
   "source": [
    "Load the csv file available in the working or specified directory"
   ]
  },
  {
   "cell_type": "code",
   "execution_count": 2,
   "metadata": {
    "ExecuteTime": {
     "end_time": "2020-09-17T13:15:52.824801Z",
     "start_time": "2020-09-17T13:15:52.815780Z"
    }
   },
   "outputs": [],
   "source": [
    "## Loading the dataset\n",
    "#import nltk\n",
    "#nltk.download('inaugural')\n",
    "#from nltk.corpus import inaugural\n",
    "#inaugural.fileids()\n",
    "#inaugural.raw('1941-Roosevelt.txt')\n",
    "#inaugural.raw('1961-Kennedy.txt')\n",
    "#inaugural.raw('1973-Nixon.txt')"
   ]
  },
  {
   "cell_type": "code",
   "execution_count": 39,
   "metadata": {},
   "outputs": [],
   "source": [
    "roosevelt = pd.read_csv('1941-Roosevelt.txt', delimiter = \"\\t\", header = None)\n",
    "kennedy = pd.read_csv('1961-Kennedy.txt', delimiter = \"\\t\", header = None)\n",
    "nixon = pd.read_csv('1973-Nixon.txt', delimiter = \"\\t\", header = None)"
   ]
  },
  {
   "cell_type": "code",
   "execution_count": 41,
   "metadata": {
    "ExecuteTime": {
     "end_time": "2020-09-17T13:15:54.849855Z",
     "start_time": "2020-09-17T13:15:54.832865Z"
    }
   },
   "outputs": [],
   "source": [
    "roosevelt[0] = roosevelt[0].str.replace('[^\\w\\s]','')\n",
    "kennedy[0] = kennedy[0].str.replace('[^\\w\\s]','')\n",
    "nixon[0] = nixon[0].str.replace('[^\\w\\s]','')\n",
    "#\\w: Returns a match where the string contains any word characters (characters from a to Z, digits from 0-9, and the underscore _ character)\n",
    "#\\s: Returns a match where the string contains a white space character.\n",
    "#[^]: Returns a match for any character EXCEPT what is written after it."
   ]
  },
  {
   "cell_type": "code",
   "execution_count": 42,
   "metadata": {
    "ExecuteTime": {
     "end_time": "2020-09-17T13:15:56.545810Z",
     "start_time": "2020-09-17T13:15:55.835184Z"
    }
   },
   "outputs": [],
   "source": [
    "## Converting all the words to lower case\n",
    "roosevelt[0] = roosevelt[0].apply(lambda x: \" \".join(x.lower() for x in x.split()))\n",
    "kennedy[0] = kennedy[0].apply(lambda x: \" \".join(x.lower() for x in x.split()))\n",
    "nixon[0] = nixon[0].apply(lambda x: \" \".join(x.lower() for x in x.split()))"
   ]
  },
  {
   "cell_type": "code",
   "execution_count": 47,
   "metadata": {},
   "outputs": [],
   "source": [
    "roosevelt['char_count'] = roosevelt[0].str.len()\n",
    "kennedy['char_count'] = kennedy[0].str.len()\n",
    "nixon['char_count'] = nixon[0].str.len()"
   ]
  },
  {
   "cell_type": "code",
   "execution_count": 48,
   "metadata": {
    "ExecuteTime": {
     "end_time": "2020-09-17T13:15:58.807767Z",
     "start_time": "2020-09-17T13:15:58.804777Z"
    }
   },
   "outputs": [],
   "source": [
    "## Let's get a word count without writing a lambda function\n",
    "roosevelt['totalwords'] = [len(x.split()) for x in roosevelt[0].tolist()]\n",
    "kennedy['totalwords'] = [len(x.split()) for x in kennedy[0].tolist()]\n",
    "nixon['totalwords'] = [len(x.split()) for x in nixon[0].tolist()]"
   ]
  },
  {
   "cell_type": "markdown",
   "metadata": {},
   "source": [
    "### Average Word Length"
   ]
  },
  {
   "cell_type": "code",
   "execution_count": 49,
   "metadata": {},
   "outputs": [],
   "source": [
    "def avg_word(sentence):\n",
    "    words = sentence.split() #splitting the words separately from the input taken\n",
    "    return (sum(len(word) for word in words)/len(words)) # getting the average number of words in the each of the entries\n",
    "\n",
    "roosevelt['avg_word'] = roosevelt[0].apply(lambda x: avg_word(x))\n",
    "kennedy['avg_word'] = kennedy[0].apply(lambda x: avg_word(x))\n",
    "nixon['avg_word'] = nixon[0].apply(lambda x: avg_word(x))"
   ]
  },
  {
   "cell_type": "markdown",
   "metadata": {},
   "source": [
    "### Number of stop Words"
   ]
  },
  {
   "cell_type": "code",
   "execution_count": 51,
   "metadata": {},
   "outputs": [],
   "source": [
    "from nltk.corpus import stopwords\n",
    "stop = stopwords.words('english')\n",
    "\n",
    "roosevelt['stopwords'] = roosevelt[0].apply(lambda x: len([x for x in x.split() if x in stop]))\n",
    "kennedy['stopwords'] = kennedy[0].apply(lambda x: len([x for x in x.split() if x in stop]))\n",
    "nixon['stopwords'] = nixon[0].apply(lambda x: len([x for x in x.split() if x in stop]))"
   ]
  },
  {
   "cell_type": "markdown",
   "metadata": {},
   "source": [
    "### Number of hastags"
   ]
  },
  {
   "cell_type": "code",
   "execution_count": 52,
   "metadata": {},
   "outputs": [],
   "source": [
    "roosevelt['hastags'] = roosevelt[0].apply(lambda x: len([x for x in x.split() if x.startswith('#')]))\n",
    "kennedy['hastags'] = kennedy[0].apply(lambda x: len([x for x in x.split() if x.startswith('#')]))\n",
    "nixon['hastags'] = nixon[0].apply(lambda x: len([x for x in x.split() if x.startswith('#')]))"
   ]
  },
  {
   "cell_type": "markdown",
   "metadata": {},
   "source": [
    "### Number of numerics"
   ]
  },
  {
   "cell_type": "code",
   "execution_count": 53,
   "metadata": {},
   "outputs": [],
   "source": [
    "roosevelt['numerics'] = roosevelt[0].apply(lambda x: len(re.findall(r'[0-9]',x)))\n",
    "kennedy['numerics'] = kennedy[0].apply(lambda x: len(re.findall(r'[0-9]',x)))\n",
    "nixon['numerics'] = nixon[0].apply(lambda x: len(re.findall(r'[0-9]',x)))"
   ]
  },
  {
   "cell_type": "markdown",
   "metadata": {},
   "source": [
    "### Number of Uppercase Words"
   ]
  },
  {
   "cell_type": "code",
   "execution_count": null,
   "metadata": {},
   "outputs": [],
   "source": [
    "roosevelt['upper_words'] = roosevelt[0].apply(lambda x: len([x for x in x.split() if x.isupper()]))\n",
    "kennedy['upper_words'] = kennedy[0].apply(lambda x: len([x for x in x.split() if x.isupper()]))\n",
    "nixon['upper_words'] = nixon[0].apply(lambda x: len([x for x in x.split() if x.isupper()]))"
   ]
  },
  {
   "cell_type": "markdown",
   "metadata": {},
   "source": [
    "### Number of Uppercase Letters"
   ]
  },
  {
   "cell_type": "code",
   "execution_count": null,
   "metadata": {},
   "outputs": [],
   "source": [
    "roosevelt['upper_letter'] = roosevelt[0].apply(lambda x: len(re.findall(r'[A-Z]',x)))\n",
    "kennedy['upper_letter'] = kennedy[0].apply(lambda x: len(re.findall(r'[A-Z]',x)))\n",
    "nixon['upper_letter'] = nixon[0].apply(lambda x: len(re.findall(r'[A-Z]',x)))"
   ]
  },
  {
   "cell_type": "code",
   "execution_count": 70,
   "metadata": {},
   "outputs": [],
   "source": [
    "from nltk.tokenize import sent_tokenize\n",
    "roosevelt['sentence '] = roosevelt[0].apply(lambda x: len(sent_tokenize(x)))\n",
    "kennedy['sentence '] = kennedy[0].apply(lambda x: len(sent_tokenize(x)))\n",
    "nixon['sentence '] = nixon[0].apply(lambda x: len(sent_tokenize(x)))"
   ]
  },
  {
   "cell_type": "markdown",
   "metadata": {},
   "source": [
    "### 2.1) Find the number of characters, words and sentences for the mentioned documents. (Hint: use .words(), .raw(), .sent() for extracting counts) .....3"
   ]
  },
  {
   "cell_type": "code",
   "execution_count": 71,
   "metadata": {},
   "outputs": [
    {
     "data": {
      "text/html": [
       "<div>\n",
       "<style scoped>\n",
       "    .dataframe tbody tr th:only-of-type {\n",
       "        vertical-align: middle;\n",
       "    }\n",
       "\n",
       "    .dataframe tbody tr th {\n",
       "        vertical-align: top;\n",
       "    }\n",
       "\n",
       "    .dataframe thead th {\n",
       "        text-align: right;\n",
       "    }\n",
       "</style>\n",
       "<table border=\"1\" class=\"dataframe\">\n",
       "  <thead>\n",
       "    <tr style=\"text-align: right;\">\n",
       "      <th></th>\n",
       "      <th>0</th>\n",
       "      <th>char_count</th>\n",
       "      <th>totalwords</th>\n",
       "      <th>avg_word</th>\n",
       "      <th>stopwords</th>\n",
       "      <th>hastags</th>\n",
       "      <th>numerics</th>\n",
       "      <th>sentence</th>\n",
       "    </tr>\n",
       "  </thead>\n",
       "  <tbody>\n",
       "    <tr>\n",
       "      <th>0</th>\n",
       "      <td>on each national day of inauguration since 178...</td>\n",
       "      <td>118</td>\n",
       "      <td>20</td>\n",
       "      <td>4.950000</td>\n",
       "      <td>9</td>\n",
       "      <td>0</td>\n",
       "      <td>4</td>\n",
       "      <td>1</td>\n",
       "    </tr>\n",
       "    <tr>\n",
       "      <th>1</th>\n",
       "      <td>in washingtons day the task of the people was ...</td>\n",
       "      <td>82</td>\n",
       "      <td>16</td>\n",
       "      <td>4.187500</td>\n",
       "      <td>8</td>\n",
       "      <td>0</td>\n",
       "      <td>0</td>\n",
       "      <td>1</td>\n",
       "    </tr>\n",
       "    <tr>\n",
       "      <th>2</th>\n",
       "      <td>in lincolns day the task of the people was to ...</td>\n",
       "      <td>94</td>\n",
       "      <td>17</td>\n",
       "      <td>4.588235</td>\n",
       "      <td>9</td>\n",
       "      <td>0</td>\n",
       "      <td>0</td>\n",
       "      <td>1</td>\n",
       "    </tr>\n",
       "    <tr>\n",
       "      <th>3</th>\n",
       "      <td>in this day the task of the people is to save ...</td>\n",
       "      <td>107</td>\n",
       "      <td>20</td>\n",
       "      <td>4.400000</td>\n",
       "      <td>12</td>\n",
       "      <td>0</td>\n",
       "      <td>0</td>\n",
       "      <td>1</td>\n",
       "    </tr>\n",
       "    <tr>\n",
       "      <th>4</th>\n",
       "      <td>to us there has come a time in the midst of sw...</td>\n",
       "      <td>239</td>\n",
       "      <td>52</td>\n",
       "      <td>3.615385</td>\n",
       "      <td>33</td>\n",
       "      <td>0</td>\n",
       "      <td>0</td>\n",
       "      <td>1</td>\n",
       "    </tr>\n",
       "  </tbody>\n",
       "</table>\n",
       "</div>"
      ],
      "text/plain": [
       "                                                   0  char_count  totalwords  \\\n",
       "0  on each national day of inauguration since 178...         118          20   \n",
       "1  in washingtons day the task of the people was ...          82          16   \n",
       "2  in lincolns day the task of the people was to ...          94          17   \n",
       "3  in this day the task of the people is to save ...         107          20   \n",
       "4  to us there has come a time in the midst of sw...         239          52   \n",
       "\n",
       "   avg_word  stopwords  hastags  numerics  sentence   \n",
       "0  4.950000          9        0         4          1  \n",
       "1  4.187500          8        0         0          1  \n",
       "2  4.588235          9        0         0          1  \n",
       "3  4.400000         12        0         0          1  \n",
       "4  3.615385         33        0         0          1  "
      ]
     },
     "execution_count": 71,
     "metadata": {},
     "output_type": "execute_result"
    }
   ],
   "source": [
    "roosevelt.head()"
   ]
  },
  {
   "cell_type": "code",
   "execution_count": 82,
   "metadata": {},
   "outputs": [
    {
     "name": "stdout",
     "output_type": "stream",
     "text": [
      "*****************   Roosevelt Speech Results   **************************\n",
      "Number Of Total Characters:  7262\n",
      "Number Of Total Words:  1338\n"
     ]
    },
    {
     "ename": "KeyError",
     "evalue": "'sentence'",
     "output_type": "error",
     "traceback": [
      "\u001b[1;31m---------------------------------------------------------------------------\u001b[0m",
      "\u001b[1;31mKeyError\u001b[0m                                  Traceback (most recent call last)",
      "\u001b[1;32mC:\\ProgramData\\Anaconda3\\lib\\site-packages\\pandas\\core\\indexes\\base.py\u001b[0m in \u001b[0;36mget_loc\u001b[1;34m(self, key, method, tolerance)\u001b[0m\n\u001b[0;32m   2645\u001b[0m             \u001b[1;32mtry\u001b[0m\u001b[1;33m:\u001b[0m\u001b[1;33m\u001b[0m\u001b[1;33m\u001b[0m\u001b[0m\n\u001b[1;32m-> 2646\u001b[1;33m                 \u001b[1;32mreturn\u001b[0m \u001b[0mself\u001b[0m\u001b[1;33m.\u001b[0m\u001b[0m_engine\u001b[0m\u001b[1;33m.\u001b[0m\u001b[0mget_loc\u001b[0m\u001b[1;33m(\u001b[0m\u001b[0mkey\u001b[0m\u001b[1;33m)\u001b[0m\u001b[1;33m\u001b[0m\u001b[1;33m\u001b[0m\u001b[0m\n\u001b[0m\u001b[0;32m   2647\u001b[0m             \u001b[1;32mexcept\u001b[0m \u001b[0mKeyError\u001b[0m\u001b[1;33m:\u001b[0m\u001b[1;33m\u001b[0m\u001b[1;33m\u001b[0m\u001b[0m\n",
      "\u001b[1;32mpandas\\_libs\\index.pyx\u001b[0m in \u001b[0;36mpandas._libs.index.IndexEngine.get_loc\u001b[1;34m()\u001b[0m\n",
      "\u001b[1;32mpandas\\_libs\\index.pyx\u001b[0m in \u001b[0;36mpandas._libs.index.IndexEngine.get_loc\u001b[1;34m()\u001b[0m\n",
      "\u001b[1;32mpandas\\_libs\\hashtable_class_helper.pxi\u001b[0m in \u001b[0;36mpandas._libs.hashtable.PyObjectHashTable.get_item\u001b[1;34m()\u001b[0m\n",
      "\u001b[1;32mpandas\\_libs\\hashtable_class_helper.pxi\u001b[0m in \u001b[0;36mpandas._libs.hashtable.PyObjectHashTable.get_item\u001b[1;34m()\u001b[0m\n",
      "\u001b[1;31mKeyError\u001b[0m: 'sentence'",
      "\nDuring handling of the above exception, another exception occurred:\n",
      "\u001b[1;31mKeyError\u001b[0m                                  Traceback (most recent call last)",
      "\u001b[1;32m<ipython-input-82-21c8ec9eb3a4>\u001b[0m in \u001b[0;36m<module>\u001b[1;34m\u001b[0m\n\u001b[0;32m      2\u001b[0m \u001b[0mprint\u001b[0m\u001b[1;33m(\u001b[0m\u001b[1;34m'Number Of Total Characters: '\u001b[0m\u001b[1;33m,\u001b[0m\u001b[0mroosevelt\u001b[0m\u001b[1;33m[\u001b[0m\u001b[1;34m'char_count'\u001b[0m\u001b[1;33m]\u001b[0m\u001b[1;33m.\u001b[0m\u001b[0msum\u001b[0m\u001b[1;33m(\u001b[0m\u001b[0maxis\u001b[0m\u001b[1;33m=\u001b[0m\u001b[1;36m0\u001b[0m\u001b[1;33m)\u001b[0m\u001b[1;33m)\u001b[0m\u001b[1;33m\u001b[0m\u001b[1;33m\u001b[0m\u001b[0m\n\u001b[0;32m      3\u001b[0m \u001b[0mprint\u001b[0m\u001b[1;33m(\u001b[0m\u001b[1;34m'Number Of Total Words: '\u001b[0m\u001b[1;33m,\u001b[0m\u001b[0mroosevelt\u001b[0m\u001b[1;33m[\u001b[0m\u001b[1;34m'totalwords'\u001b[0m\u001b[1;33m]\u001b[0m\u001b[1;33m.\u001b[0m\u001b[0msum\u001b[0m\u001b[1;33m(\u001b[0m\u001b[0maxis\u001b[0m\u001b[1;33m=\u001b[0m\u001b[1;36m0\u001b[0m\u001b[1;33m)\u001b[0m\u001b[1;33m)\u001b[0m\u001b[1;33m\u001b[0m\u001b[1;33m\u001b[0m\u001b[0m\n\u001b[1;32m----> 4\u001b[1;33m \u001b[0mprint\u001b[0m\u001b[1;33m(\u001b[0m\u001b[1;34m'Number Of Total Sentence: '\u001b[0m\u001b[1;33m,\u001b[0m\u001b[0mroosevelt\u001b[0m\u001b[1;33m[\u001b[0m\u001b[1;34m'sentence'\u001b[0m\u001b[1;33m]\u001b[0m\u001b[1;33m.\u001b[0m\u001b[0msum\u001b[0m\u001b[1;33m(\u001b[0m\u001b[0maxis\u001b[0m\u001b[1;33m=\u001b[0m\u001b[1;36m0\u001b[0m\u001b[1;33m)\u001b[0m\u001b[1;33m)\u001b[0m\u001b[1;33m\u001b[0m\u001b[1;33m\u001b[0m\u001b[0m\n\u001b[0m",
      "\u001b[1;32mC:\\ProgramData\\Anaconda3\\lib\\site-packages\\pandas\\core\\frame.py\u001b[0m in \u001b[0;36m__getitem__\u001b[1;34m(self, key)\u001b[0m\n\u001b[0;32m   2798\u001b[0m             \u001b[1;32mif\u001b[0m \u001b[0mself\u001b[0m\u001b[1;33m.\u001b[0m\u001b[0mcolumns\u001b[0m\u001b[1;33m.\u001b[0m\u001b[0mnlevels\u001b[0m \u001b[1;33m>\u001b[0m \u001b[1;36m1\u001b[0m\u001b[1;33m:\u001b[0m\u001b[1;33m\u001b[0m\u001b[1;33m\u001b[0m\u001b[0m\n\u001b[0;32m   2799\u001b[0m                 \u001b[1;32mreturn\u001b[0m \u001b[0mself\u001b[0m\u001b[1;33m.\u001b[0m\u001b[0m_getitem_multilevel\u001b[0m\u001b[1;33m(\u001b[0m\u001b[0mkey\u001b[0m\u001b[1;33m)\u001b[0m\u001b[1;33m\u001b[0m\u001b[1;33m\u001b[0m\u001b[0m\n\u001b[1;32m-> 2800\u001b[1;33m             \u001b[0mindexer\u001b[0m \u001b[1;33m=\u001b[0m \u001b[0mself\u001b[0m\u001b[1;33m.\u001b[0m\u001b[0mcolumns\u001b[0m\u001b[1;33m.\u001b[0m\u001b[0mget_loc\u001b[0m\u001b[1;33m(\u001b[0m\u001b[0mkey\u001b[0m\u001b[1;33m)\u001b[0m\u001b[1;33m\u001b[0m\u001b[1;33m\u001b[0m\u001b[0m\n\u001b[0m\u001b[0;32m   2801\u001b[0m             \u001b[1;32mif\u001b[0m \u001b[0mis_integer\u001b[0m\u001b[1;33m(\u001b[0m\u001b[0mindexer\u001b[0m\u001b[1;33m)\u001b[0m\u001b[1;33m:\u001b[0m\u001b[1;33m\u001b[0m\u001b[1;33m\u001b[0m\u001b[0m\n\u001b[0;32m   2802\u001b[0m                 \u001b[0mindexer\u001b[0m \u001b[1;33m=\u001b[0m \u001b[1;33m[\u001b[0m\u001b[0mindexer\u001b[0m\u001b[1;33m]\u001b[0m\u001b[1;33m\u001b[0m\u001b[1;33m\u001b[0m\u001b[0m\n",
      "\u001b[1;32mC:\\ProgramData\\Anaconda3\\lib\\site-packages\\pandas\\core\\indexes\\base.py\u001b[0m in \u001b[0;36mget_loc\u001b[1;34m(self, key, method, tolerance)\u001b[0m\n\u001b[0;32m   2646\u001b[0m                 \u001b[1;32mreturn\u001b[0m \u001b[0mself\u001b[0m\u001b[1;33m.\u001b[0m\u001b[0m_engine\u001b[0m\u001b[1;33m.\u001b[0m\u001b[0mget_loc\u001b[0m\u001b[1;33m(\u001b[0m\u001b[0mkey\u001b[0m\u001b[1;33m)\u001b[0m\u001b[1;33m\u001b[0m\u001b[1;33m\u001b[0m\u001b[0m\n\u001b[0;32m   2647\u001b[0m             \u001b[1;32mexcept\u001b[0m \u001b[0mKeyError\u001b[0m\u001b[1;33m:\u001b[0m\u001b[1;33m\u001b[0m\u001b[1;33m\u001b[0m\u001b[0m\n\u001b[1;32m-> 2648\u001b[1;33m                 \u001b[1;32mreturn\u001b[0m \u001b[0mself\u001b[0m\u001b[1;33m.\u001b[0m\u001b[0m_engine\u001b[0m\u001b[1;33m.\u001b[0m\u001b[0mget_loc\u001b[0m\u001b[1;33m(\u001b[0m\u001b[0mself\u001b[0m\u001b[1;33m.\u001b[0m\u001b[0m_maybe_cast_indexer\u001b[0m\u001b[1;33m(\u001b[0m\u001b[0mkey\u001b[0m\u001b[1;33m)\u001b[0m\u001b[1;33m)\u001b[0m\u001b[1;33m\u001b[0m\u001b[1;33m\u001b[0m\u001b[0m\n\u001b[0m\u001b[0;32m   2649\u001b[0m         \u001b[0mindexer\u001b[0m \u001b[1;33m=\u001b[0m \u001b[0mself\u001b[0m\u001b[1;33m.\u001b[0m\u001b[0mget_indexer\u001b[0m\u001b[1;33m(\u001b[0m\u001b[1;33m[\u001b[0m\u001b[0mkey\u001b[0m\u001b[1;33m]\u001b[0m\u001b[1;33m,\u001b[0m \u001b[0mmethod\u001b[0m\u001b[1;33m=\u001b[0m\u001b[0mmethod\u001b[0m\u001b[1;33m,\u001b[0m \u001b[0mtolerance\u001b[0m\u001b[1;33m=\u001b[0m\u001b[0mtolerance\u001b[0m\u001b[1;33m)\u001b[0m\u001b[1;33m\u001b[0m\u001b[1;33m\u001b[0m\u001b[0m\n\u001b[0;32m   2650\u001b[0m         \u001b[1;32mif\u001b[0m \u001b[0mindexer\u001b[0m\u001b[1;33m.\u001b[0m\u001b[0mndim\u001b[0m \u001b[1;33m>\u001b[0m \u001b[1;36m1\u001b[0m \u001b[1;32mor\u001b[0m \u001b[0mindexer\u001b[0m\u001b[1;33m.\u001b[0m\u001b[0msize\u001b[0m \u001b[1;33m>\u001b[0m \u001b[1;36m1\u001b[0m\u001b[1;33m:\u001b[0m\u001b[1;33m\u001b[0m\u001b[1;33m\u001b[0m\u001b[0m\n",
      "\u001b[1;32mpandas\\_libs\\index.pyx\u001b[0m in \u001b[0;36mpandas._libs.index.IndexEngine.get_loc\u001b[1;34m()\u001b[0m\n",
      "\u001b[1;32mpandas\\_libs\\index.pyx\u001b[0m in \u001b[0;36mpandas._libs.index.IndexEngine.get_loc\u001b[1;34m()\u001b[0m\n",
      "\u001b[1;32mpandas\\_libs\\hashtable_class_helper.pxi\u001b[0m in \u001b[0;36mpandas._libs.hashtable.PyObjectHashTable.get_item\u001b[1;34m()\u001b[0m\n",
      "\u001b[1;32mpandas\\_libs\\hashtable_class_helper.pxi\u001b[0m in \u001b[0;36mpandas._libs.hashtable.PyObjectHashTable.get_item\u001b[1;34m()\u001b[0m\n",
      "\u001b[1;31mKeyError\u001b[0m: 'sentence'"
     ]
    }
   ],
   "source": [
    "print('*****************   Roosevelt Speech Results   **************************')\n",
    "print('Number Of Total Characters: ',roosevelt['char_count'].sum(axis=0))\n",
    "print('Number Of Total Words: ',roosevelt['totalwords'].sum(axis=0))\n",
    "print('Number Of Total Sentence: ',roosevelt['sentence'].sum(axis=0))"
   ]
  },
  {
   "cell_type": "code",
   "execution_count": 68,
   "metadata": {},
   "outputs": [
    {
     "data": {
      "text/html": [
       "<div>\n",
       "<style scoped>\n",
       "    .dataframe tbody tr th:only-of-type {\n",
       "        vertical-align: middle;\n",
       "    }\n",
       "\n",
       "    .dataframe tbody tr th {\n",
       "        vertical-align: top;\n",
       "    }\n",
       "\n",
       "    .dataframe thead th {\n",
       "        text-align: right;\n",
       "    }\n",
       "</style>\n",
       "<table border=\"1\" class=\"dataframe\">\n",
       "  <thead>\n",
       "    <tr style=\"text-align: right;\">\n",
       "      <th></th>\n",
       "      <th>0</th>\n",
       "      <th>char_count</th>\n",
       "      <th>totalwords</th>\n",
       "      <th>avg_word</th>\n",
       "      <th>stopwords</th>\n",
       "      <th>hastags</th>\n",
       "      <th>numerics</th>\n",
       "    </tr>\n",
       "  </thead>\n",
       "  <tbody>\n",
       "    <tr>\n",
       "      <th>0</th>\n",
       "      <td>vice president johnson, mr. speaker, mr. chief...</td>\n",
       "      <td>445</td>\n",
       "      <td>73</td>\n",
       "      <td>5.109589</td>\n",
       "      <td>25</td>\n",
       "      <td>0</td>\n",
       "      <td>0</td>\n",
       "    </tr>\n",
       "    <tr>\n",
       "      <th>1</th>\n",
       "      <td>the world is very different now. for man holds...</td>\n",
       "      <td>355</td>\n",
       "      <td>68</td>\n",
       "      <td>4.235294</td>\n",
       "      <td>35</td>\n",
       "      <td>0</td>\n",
       "      <td>0</td>\n",
       "    </tr>\n",
       "    <tr>\n",
       "      <th>2</th>\n",
       "      <td>we dare not forget today that we are the heirs...</td>\n",
       "      <td>512</td>\n",
       "      <td>96</td>\n",
       "      <td>4.343750</td>\n",
       "      <td>48</td>\n",
       "      <td>0</td>\n",
       "      <td>0</td>\n",
       "    </tr>\n",
       "    <tr>\n",
       "      <th>3</th>\n",
       "      <td>let every nation know, whether it wishes us we...</td>\n",
       "      <td>217</td>\n",
       "      <td>40</td>\n",
       "      <td>4.450000</td>\n",
       "      <td>15</td>\n",
       "      <td>0</td>\n",
       "      <td>0</td>\n",
       "    </tr>\n",
       "    <tr>\n",
       "      <th>4</th>\n",
       "      <td>this much we pledge -- and more.</td>\n",
       "      <td>32</td>\n",
       "      <td>7</td>\n",
       "      <td>3.714286</td>\n",
       "      <td>3</td>\n",
       "      <td>0</td>\n",
       "      <td>0</td>\n",
       "    </tr>\n",
       "  </tbody>\n",
       "</table>\n",
       "</div>"
      ],
      "text/plain": [
       "                                                   0  char_count  totalwords  \\\n",
       "0  vice president johnson, mr. speaker, mr. chief...         445          73   \n",
       "1  the world is very different now. for man holds...         355          68   \n",
       "2  we dare not forget today that we are the heirs...         512          96   \n",
       "3  let every nation know, whether it wishes us we...         217          40   \n",
       "4                   this much we pledge -- and more.          32           7   \n",
       "\n",
       "   avg_word  stopwords  hastags  numerics  \n",
       "0  5.109589         25        0         0  \n",
       "1  4.235294         35        0         0  \n",
       "2  4.343750         48        0         0  \n",
       "3  4.450000         15        0         0  \n",
       "4  3.714286          3        0         0  "
      ]
     },
     "execution_count": 68,
     "metadata": {},
     "output_type": "execute_result"
    }
   ],
   "source": [
    "kennedy.head()"
   ]
  },
  {
   "cell_type": "code",
   "execution_count": 69,
   "metadata": {},
   "outputs": [
    {
     "data": {
      "text/html": [
       "<div>\n",
       "<style scoped>\n",
       "    .dataframe tbody tr th:only-of-type {\n",
       "        vertical-align: middle;\n",
       "    }\n",
       "\n",
       "    .dataframe tbody tr th {\n",
       "        vertical-align: top;\n",
       "    }\n",
       "\n",
       "    .dataframe thead th {\n",
       "        text-align: right;\n",
       "    }\n",
       "</style>\n",
       "<table border=\"1\" class=\"dataframe\">\n",
       "  <thead>\n",
       "    <tr style=\"text-align: right;\">\n",
       "      <th></th>\n",
       "      <th>0</th>\n",
       "      <th>char_count</th>\n",
       "      <th>totalwords</th>\n",
       "      <th>avg_word</th>\n",
       "      <th>stopwords</th>\n",
       "      <th>hastags</th>\n",
       "      <th>numerics</th>\n",
       "    </tr>\n",
       "  </thead>\n",
       "  <tbody>\n",
       "    <tr>\n",
       "      <th>0</th>\n",
       "      <td>mr. vice president, mr. speaker, mr. chief jus...</td>\n",
       "      <td>155</td>\n",
       "      <td>25</td>\n",
       "      <td>5.240000</td>\n",
       "      <td>6</td>\n",
       "      <td>0</td>\n",
       "      <td>0</td>\n",
       "    </tr>\n",
       "    <tr>\n",
       "      <th>1</th>\n",
       "      <td>when we met here four years ago, america was b...</td>\n",
       "      <td>156</td>\n",
       "      <td>27</td>\n",
       "      <td>4.814815</td>\n",
       "      <td>11</td>\n",
       "      <td>0</td>\n",
       "      <td>0</td>\n",
       "    </tr>\n",
       "    <tr>\n",
       "      <th>2</th>\n",
       "      <td>as we meet here today, we stand on the thresho...</td>\n",
       "      <td>84</td>\n",
       "      <td>19</td>\n",
       "      <td>3.473684</td>\n",
       "      <td>11</td>\n",
       "      <td>0</td>\n",
       "      <td>0</td>\n",
       "    </tr>\n",
       "    <tr>\n",
       "      <th>3</th>\n",
       "      <td>the central question before us is: how shall w...</td>\n",
       "      <td>269</td>\n",
       "      <td>51</td>\n",
       "      <td>4.294118</td>\n",
       "      <td>25</td>\n",
       "      <td>0</td>\n",
       "      <td>0</td>\n",
       "    </tr>\n",
       "    <tr>\n",
       "      <th>4</th>\n",
       "      <td>let us resolve that this will be what it can b...</td>\n",
       "      <td>199</td>\n",
       "      <td>38</td>\n",
       "      <td>4.263158</td>\n",
       "      <td>21</td>\n",
       "      <td>0</td>\n",
       "      <td>0</td>\n",
       "    </tr>\n",
       "  </tbody>\n",
       "</table>\n",
       "</div>"
      ],
      "text/plain": [
       "                                                   0  char_count  totalwords  \\\n",
       "0  mr. vice president, mr. speaker, mr. chief jus...         155          25   \n",
       "1  when we met here four years ago, america was b...         156          27   \n",
       "2  as we meet here today, we stand on the thresho...          84          19   \n",
       "3  the central question before us is: how shall w...         269          51   \n",
       "4  let us resolve that this will be what it can b...         199          38   \n",
       "\n",
       "   avg_word  stopwords  hastags  numerics  \n",
       "0  5.240000          6        0         0  \n",
       "1  4.814815         11        0         0  \n",
       "2  3.473684         11        0         0  \n",
       "3  4.294118         25        0         0  \n",
       "4  4.263158         21        0         0  "
      ]
     },
     "execution_count": 69,
     "metadata": {},
     "output_type": "execute_result"
    }
   ],
   "source": [
    "nixon.head()"
   ]
  },
  {
   "cell_type": "markdown",
   "metadata": {},
   "source": [
    "## Creating a Wordcloud"
   ]
  },
  {
   "cell_type": "code",
   "execution_count": 55,
   "metadata": {},
   "outputs": [
    {
     "data": {
      "text/plain": [
       "30    government must learn to take less from people...\n",
       "Name: 0, dtype: object"
      ]
     },
     "execution_count": 55,
     "metadata": {},
     "output_type": "execute_result"
    }
   ],
   "source": [
    "# Recall Apple_Tweets['Tweet'] from above. It has been processed at a basic level!\n",
    "\n",
    "roosevelt[0].iloc[30:31] #Checking a tweet at random!\n",
    "kennedy[0].iloc[30:31] #Checking a tweet at random!\n",
    "nixon[0].iloc[30:31] #Checking a tweet at random!"
   ]
  },
  {
   "cell_type": "code",
   "execution_count": 56,
   "metadata": {},
   "outputs": [],
   "source": [
    "# Removing symbols and punctuations \n",
    "# further_clean = Apple_tweets['Tweet'].str.replace('[^\\w\\s]','')\n",
    "\n",
    "# Extending the list of stop words (including words like Apple, bitly, dear, please, etc.)\n",
    "stop_words = list(stopwords.words('english'))\n",
    "stop_words.extend([\"apple\", \"http\",\"bit\",\"bitly\",\"bit ly\", \"dear\", \"im\", \"i'm\", \"please\"])"
   ]
  },
  {
   "cell_type": "code",
   "execution_count": 59,
   "metadata": {},
   "outputs": [],
   "source": [
    "#Removing stop words (extended list as above) from the corpus \n",
    "\n",
    "corpus_r = roosevelt[0].apply(lambda x: ' '.join([z for z in x.split() if z not in stop_words])) \n",
    "corpus_k = kennedy[0].apply(lambda x: ' '.join([z for z in x.split() if z not in stop_words])) \n",
    "corpus_n = nixon[0].apply(lambda x: ' '.join([z for z in x.split() if z not in stop_words])) "
   ]
  },
  {
   "cell_type": "code",
   "execution_count": 60,
   "metadata": {},
   "outputs": [],
   "source": [
    "wc_r = ' '.join(corpus_r)\n",
    "wc_k = ' '.join(corpus_k)\n",
    "wc_n = ' '.join(corpus_n)"
   ]
  },
  {
   "cell_type": "code",
   "execution_count": 61,
   "metadata": {},
   "outputs": [
    {
     "name": "stdout",
     "output_type": "stream",
     "text": [
      "Word Cloud for Apple_Tweets (after cleaning)!!\n"
     ]
    },
    {
     "data": {
      "image/png": "[encoded data removed]",
      "text/plain": [
       "<Figure size 576x576 with 1 Axes>"
      ]
     },
     "metadata": {
      "needs_background": "light"
     },
     "output_type": "display_data"
    }
   ],
   "source": [
    "# Word Cloud \n",
    "from wordcloud import WordCloud\n",
    "wordcloud_r = WordCloud(width = 3000, height = 3000, \n",
    "                background_color ='black', \n",
    "                min_font_size = 10, random_state=100).generate(wc_r) \n",
    "  \n",
    "# plot the WordCloud image                        \n",
    "plt.figure(figsize = (8, 8), facecolor = None) \n",
    "plt.imshow(wordcloud_r) \n",
    "plt.axis(\"off\")\n",
    "plt.xlabel('Word Cloud')\n",
    "plt.tight_layout(pad = 0) \n",
    "\n",
    "print(\"Word Cloud for 1941-Roosevelt Speech\")\n",
    "plt.show()\n",
    "\n",
    "#Tip: You can specify stopwords, regex (punctuations/symbols) in the wordcloud itself, check CTRL+TAB on the wordcloud fuction!"
   ]
  },
  {
   "cell_type": "code",
   "execution_count": 62,
   "metadata": {},
   "outputs": [
    {
     "name": "stdout",
     "output_type": "stream",
     "text": [
      "Word Cloud for 1941-Roosevelt Speech\n"
     ]
    },
    {
     "data": {
      "image/png": "[encoded data removed]",
      "text/plain": [
       "<Figure size 576x576 with 1 Axes>"
      ]
     },
     "metadata": {
      "needs_background": "light"
     },
     "output_type": "display_data"
    }
   ],
   "source": [
    "# Word Cloud \n",
    "from wordcloud import WordCloud\n",
    "wordcloud = WordCloud(width = 3000, height = 3000, \n",
    "                background_color ='black', \n",
    "                min_font_size = 10, random_state=100).generate(wc_k) \n",
    "  \n",
    "# plot the WordCloud image                        \n",
    "plt.figure(figsize = (8, 8), facecolor = None) \n",
    "plt.imshow(wordcloud) \n",
    "plt.axis(\"off\")\n",
    "plt.xlabel('Word Cloud')\n",
    "plt.tight_layout(pad = 0) \n",
    "\n",
    "print(\"Word Cloud for 1961-Kennedy Speech\")\n",
    "plt.show()\n",
    "\n",
    "#Tip: You can specify stopwords, regex (punctuations/symbols) in the wordcloud itself, check CTRL+TAB on the wordcloud fuction!"
   ]
  },
  {
   "cell_type": "code",
   "execution_count": 63,
   "metadata": {},
   "outputs": [
    {
     "name": "stdout",
     "output_type": "stream",
     "text": [
      "Word Cloud for 1941-Roosevelt Speech\n"
     ]
    },
    {
     "data": {
      "image/png": "[encoded data removed]",
      "text/plain": [
       "<Figure size 576x576 with 1 Axes>"
      ]
     },
     "metadata": {
      "needs_background": "light"
     },
     "output_type": "display_data"
    }
   ],
   "source": [
    "# Word Cloud \n",
    "from wordcloud import WordCloud\n",
    "wordcloud = WordCloud(width = 3000, height = 3000, \n",
    "                background_color ='black', \n",
    "                min_font_size = 10, random_state=100).generate(wc_n) \n",
    "  \n",
    "# plot the WordCloud image                        \n",
    "plt.figure(figsize = (8, 8), facecolor = None) \n",
    "plt.imshow(wordcloud) \n",
    "plt.axis(\"off\")\n",
    "plt.xlabel('Word Cloud')\n",
    "plt.tight_layout(pad = 0) \n",
    "\n",
    "print(\"Word Cloud for 1973-Nixon Speech\")\n",
    "plt.show()\n",
    "\n",
    "#Tip: You can specify stopwords, regex (punctuations/symbols) in the wordcloud itself, check CTRL+TAB on the wordcloud fuction!"
   ]
  },
  {
   "cell_type": "code",
   "execution_count": null,
   "metadata": {},
   "outputs": [],
   "source": []
  },
  {
   "cell_type": "code",
   "execution_count": null,
   "metadata": {},
   "outputs": [],
   "source": []
  },
  {
   "cell_type": "code",
   "execution_count": null,
   "metadata": {},
   "outputs": [],
   "source": []
  },
  {
   "cell_type": "code",
   "execution_count": null,
   "metadata": {},
   "outputs": [],
   "source": []
  },
  {
   "cell_type": "code",
   "execution_count": null,
   "metadata": {},
   "outputs": [],
   "source": []
  },
  {
   "cell_type": "code",
   "execution_count": 10,
   "metadata": {
    "ExecuteTime": {
     "end_time": "2020-09-17T13:16:06.510796Z",
     "start_time": "2020-09-17T13:16:06.501855Z"
    }
   },
   "outputs": [],
   "source": [
    "all_Words=[x for x in pd.Series(' '.join(Apple_tweets[0]).split())] \n",
    "# 1st we are spliting each row of the dataframe into words.\n",
    "# 2nd we are joining all the above words with a space between them.\n",
    "# 3rd we are making a Series out of it.\n",
    "# 4th we we are extracting each word one by one and storing it in the variable all_Words."
   ]
  },
  {
   "cell_type": "code",
   "execution_count": 11,
   "metadata": {},
   "outputs": [
    {
     "name": "stderr",
     "output_type": "stream",
     "text": [
      "[nltk_data] Downloading package stopwords to\n",
      "[nltk_data]     C:\\Users\\Jinendra\\AppData\\Roaming\\nltk_data...\n",
      "[nltk_data]   Package stopwords is already up-to-date!\n"
     ]
    },
    {
     "data": {
      "text/plain": [
       "True"
      ]
     },
     "execution_count": 11,
     "metadata": {},
     "output_type": "execute_result"
    }
   ],
   "source": [
    "#!pip install nltk\n",
    "import nltk\n",
    "nltk.download('stopwords')"
   ]
  },
  {
   "cell_type": "code",
   "execution_count": 12,
   "metadata": {
    "ExecuteTime": {
     "end_time": "2020-09-17T13:16:07.538085Z",
     "start_time": "2020-09-17T13:16:07.522092Z"
    }
   },
   "outputs": [
    {
     "data": {
      "text/plain": [
       "[('the', 114),\n",
       " ('of', 81),\n",
       " ('and', 46),\n",
       " ('to', 36),\n",
       " ('in', 35),\n",
       " ('we', 32),\n",
       " ('a', 30),\n",
       " ('it', 28),\n",
       " ('is', 24),\n",
       " ('that', 23)]"
      ]
     },
     "execution_count": 12,
     "metadata": {},
     "output_type": "execute_result"
    }
   ],
   "source": [
    "nltk.FreqDist(all_Words).most_common(10)"
   ]
  },
  {
   "cell_type": "code",
   "execution_count": 13,
   "metadata": {
    "ExecuteTime": {
     "end_time": "2020-09-17T13:16:09.863497Z",
     "start_time": "2020-09-17T13:16:09.804626Z"
    }
   },
   "outputs": [],
   "source": [
    "# Defining a variable 'stopwords' which contains the list of punctuations from the string library and the english stopwords\n",
    "# from nltk\n",
    "stopwords = nltk.corpus.stopwords.words('english') +list(string.punctuation)\n",
    "\n",
    "# Converting all the words to lower casse\n",
    "all_words = (x.lower() for x in all_Words)# we can skip this line since we have already converted all the words to lowercase\n",
    "# Only keeping the words which are not the 'stopwords'\n",
    "all_words_clean = [word for word in all_words if word not in stopwords]\n",
    "\n",
    "\n",
    "# Creating a frequency distribution of the lower case words which does not contain any stopwords\n",
    "all_words_freq = nltk.FreqDist(all_words_clean)\n",
    "\n",
    "# Extracting the  most common 2000 words after the list of words have been converted to lowercase and the stopwords \n",
    "word_features = [item[0] for item in all_words_freq.most_common(2000)]"
   ]
  },
  {
   "cell_type": "code",
   "execution_count": 14,
   "metadata": {
    "ExecuteTime": {
     "end_time": "2020-09-17T13:16:10.908667Z",
     "start_time": "2020-09-17T13:16:10.889717Z"
    }
   },
   "outputs": [
    {
     "data": {
      "text/plain": [
       "['nation',\n",
       " 'know',\n",
       " 'spirit',\n",
       " 'democracy',\n",
       " 'us',\n",
       " 'life',\n",
       " 'people',\n",
       " 'america',\n",
       " 'years',\n",
       " 'freedom',\n",
       " 'human',\n",
       " 'mind',\n",
       " 'speaks',\n",
       " 'day',\n",
       " 'states',\n",
       " 'nations',\n",
       " 'men',\n",
       " 'government',\n",
       " 'new',\n",
       " 'body',\n",
       " 'must',\n",
       " 'something',\n",
       " 'faith',\n",
       " 'united',\n",
       " 'task',\n",
       " 'within',\n",
       " 'history',\n",
       " 'live',\n",
       " 'future',\n",
       " 'free',\n",
       " 'alone',\n",
       " 'still',\n",
       " 'every',\n",
       " 'continent',\n",
       " 'like',\n",
       " 'person',\n",
       " 'world',\n",
       " 'sacred',\n",
       " 'came',\n",
       " 'first',\n",
       " 'destiny',\n",
       " 'national',\n",
       " '1789',\n",
       " 'sense',\n",
       " 'create',\n",
       " 'together',\n",
       " 'disruption',\n",
       " 'without',\n",
       " 'come',\n",
       " 'time',\n",
       " 'midst',\n",
       " 'stock',\n",
       " 'may',\n",
       " 'lives',\n",
       " 'little',\n",
       " 'measure',\n",
       " 'doubt',\n",
       " 'measured',\n",
       " 'americans',\n",
       " 'true',\n",
       " 'republic',\n",
       " 'acted',\n",
       " 'security',\n",
       " 'things',\n",
       " 'present',\n",
       " 'many',\n",
       " 'built',\n",
       " 'maintained',\n",
       " 'constitution',\n",
       " 'freely',\n",
       " 'american',\n",
       " 'seen',\n",
       " 'cannot',\n",
       " 'enterprise',\n",
       " 'forms',\n",
       " 'hopes',\n",
       " 'find',\n",
       " 'even',\n",
       " 'upon',\n",
       " 'early',\n",
       " 'peoples',\n",
       " 'written',\n",
       " 'land',\n",
       " 'could',\n",
       " 'forward',\n",
       " 'go',\n",
       " 'enough',\n",
       " 'would',\n",
       " 'seem',\n",
       " 'old',\n",
       " 'words',\n",
       " 'preservation',\n",
       " 'inauguration',\n",
       " 'since',\n",
       " 'renewed',\n",
       " 'dedication',\n",
       " 'washingtons',\n",
       " 'weld',\n",
       " 'lincolns',\n",
       " 'preserve',\n",
       " 'save',\n",
       " 'institutions',\n",
       " 'swift',\n",
       " 'happenings',\n",
       " 'pause',\n",
       " 'moment',\n",
       " 'take',\n",
       " 'recall',\n",
       " 'place',\n",
       " 'rediscover',\n",
       " 'risk',\n",
       " 'real',\n",
       " 'peril',\n",
       " 'inaction',\n",
       " 'determined',\n",
       " 'count',\n",
       " 'lifetime',\n",
       " 'man',\n",
       " 'threescore',\n",
       " 'ten',\n",
       " 'less',\n",
       " 'fullness',\n",
       " 'believe',\n",
       " 'form',\n",
       " 'frame',\n",
       " 'limited',\n",
       " 'kind',\n",
       " 'mystical',\n",
       " 'artificial',\n",
       " 'fate',\n",
       " 'unexplained',\n",
       " 'reason',\n",
       " 'tyranny',\n",
       " 'slavery',\n",
       " 'become',\n",
       " 'surging',\n",
       " 'wave',\n",
       " 'ebbing',\n",
       " 'tide',\n",
       " 'eight',\n",
       " 'ago',\n",
       " 'seemed',\n",
       " 'frozen',\n",
       " 'fatalistic',\n",
       " 'terror',\n",
       " 'proved',\n",
       " 'shock',\n",
       " 'quickly',\n",
       " 'boldly',\n",
       " 'decisively',\n",
       " 'later',\n",
       " 'living',\n",
       " 'fruitful',\n",
       " 'brought',\n",
       " 'greater',\n",
       " 'hope',\n",
       " 'better',\n",
       " 'understanding',\n",
       " 'lifes',\n",
       " 'ideals',\n",
       " 'material',\n",
       " 'vital',\n",
       " 'experience',\n",
       " 'successfully',\n",
       " 'survived',\n",
       " 'crisis',\n",
       " 'home',\n",
       " 'put',\n",
       " 'away',\n",
       " 'evil',\n",
       " 'structures',\n",
       " 'enduring',\n",
       " 'lines',\n",
       " 'fact',\n",
       " 'action',\n",
       " 'taken',\n",
       " 'threeway',\n",
       " 'framework',\n",
       " 'coordinate',\n",
       " 'branches',\n",
       " 'continue',\n",
       " 'function',\n",
       " 'bill',\n",
       " 'rights',\n",
       " 'remains',\n",
       " 'inviolate',\n",
       " 'elections',\n",
       " 'wholly',\n",
       " 'prophets',\n",
       " 'downfall',\n",
       " 'dire',\n",
       " 'predictions',\n",
       " 'naught',\n",
       " 'dying',\n",
       " 'reviveand',\n",
       " 'grow',\n",
       " 'die',\n",
       " 'unhampered',\n",
       " 'initiative',\n",
       " 'individual',\n",
       " 'women',\n",
       " 'joined',\n",
       " 'common',\n",
       " 'undertaken',\n",
       " 'carried',\n",
       " 'expression',\n",
       " 'majority',\n",
       " 'enlists',\n",
       " 'full',\n",
       " 'force',\n",
       " 'mens',\n",
       " 'enlightened',\n",
       " 'constructed',\n",
       " 'unlimited',\n",
       " 'civilization',\n",
       " 'capable',\n",
       " 'infinite',\n",
       " 'progress',\n",
       " 'improvement',\n",
       " 'look',\n",
       " 'surface',\n",
       " 'spreading',\n",
       " 'humane',\n",
       " 'advanced',\n",
       " 'end',\n",
       " 'unconquerable',\n",
       " 'society',\n",
       " 'bodya',\n",
       " 'fed',\n",
       " 'clothed',\n",
       " 'housed',\n",
       " 'invigorated',\n",
       " 'rested',\n",
       " 'manner',\n",
       " 'measures',\n",
       " 'objectives',\n",
       " 'kept',\n",
       " 'informed',\n",
       " 'alert',\n",
       " 'understands',\n",
       " 'needs',\n",
       " 'neighbors',\n",
       " 'narrowing',\n",
       " 'circle',\n",
       " 'deeper',\n",
       " 'permanent',\n",
       " 'larger',\n",
       " 'sum',\n",
       " 'parts',\n",
       " 'matters',\n",
       " 'calls',\n",
       " 'forth',\n",
       " 'guarding',\n",
       " 'thing',\n",
       " 'difficult',\n",
       " 'impossible',\n",
       " 'hit',\n",
       " 'single',\n",
       " 'simple',\n",
       " 'word',\n",
       " 'yet',\n",
       " 'understand',\n",
       " 'product',\n",
       " 'centuries',\n",
       " 'born',\n",
       " 'multitudes',\n",
       " 'lands',\n",
       " 'high',\n",
       " 'degree',\n",
       " 'mostly',\n",
       " 'plain',\n",
       " 'sought',\n",
       " 'late',\n",
       " 'democratic',\n",
       " 'aspiration',\n",
       " 'mere',\n",
       " 'recent',\n",
       " 'phase',\n",
       " 'permeated',\n",
       " 'ancient',\n",
       " 'blazed',\n",
       " 'anew',\n",
       " 'middle',\n",
       " 'ages',\n",
       " 'magna',\n",
       " 'charta',\n",
       " 'americas',\n",
       " 'impact',\n",
       " 'irresistible',\n",
       " 'tongues',\n",
       " 'newfound',\n",
       " 'believed',\n",
       " 'vitality',\n",
       " 'mayflower',\n",
       " 'compact',\n",
       " 'declaration',\n",
       " 'independence',\n",
       " 'gettysburg',\n",
       " 'address',\n",
       " 'carry',\n",
       " 'longings',\n",
       " 'millions',\n",
       " 'followed',\n",
       " 'sprang',\n",
       " 'moved',\n",
       " 'constantly',\n",
       " 'consistently',\n",
       " 'toward',\n",
       " 'ideal',\n",
       " 'gained',\n",
       " 'stature',\n",
       " 'clarity',\n",
       " 'generation',\n",
       " 'forever',\n",
       " 'tolerate',\n",
       " 'either',\n",
       " 'undeserved',\n",
       " 'poverty',\n",
       " 'selfserving',\n",
       " 'wealth',\n",
       " 'far',\n",
       " 'greatly',\n",
       " 'build',\n",
       " 'opportunity',\n",
       " 'knowledge',\n",
       " 'citizen',\n",
       " 'justified',\n",
       " 'resources',\n",
       " 'capacity',\n",
       " 'achieve',\n",
       " 'purposes',\n",
       " 'clothe',\n",
       " 'feed',\n",
       " 'instruct',\n",
       " 'inform',\n",
       " 'also',\n",
       " 'three',\n",
       " 'greatest',\n",
       " 'killed',\n",
       " 'though',\n",
       " 'constricted',\n",
       " 'alien',\n",
       " 'lived',\n",
       " 'perished',\n",
       " 'daily',\n",
       " 'ways',\n",
       " 'often',\n",
       " 'unnoticed',\n",
       " 'obvious',\n",
       " 'capital',\n",
       " 'processes',\n",
       " 'governing',\n",
       " 'sovereignties',\n",
       " '48',\n",
       " 'counties',\n",
       " 'cities',\n",
       " 'towns',\n",
       " 'villages',\n",
       " 'hemisphere',\n",
       " 'across',\n",
       " 'seas',\n",
       " 'enslaved',\n",
       " 'well',\n",
       " 'sometimes',\n",
       " 'fail',\n",
       " 'hear',\n",
       " 'heed',\n",
       " 'voices',\n",
       " 'privilege',\n",
       " 'story',\n",
       " 'proclaimed',\n",
       " 'prophecy',\n",
       " 'spoken',\n",
       " 'president',\n",
       " 'inaugural',\n",
       " 'almost',\n",
       " 'directed',\n",
       " 'year',\n",
       " '1941',\n",
       " 'fire',\n",
       " 'liberty',\n",
       " 'republican',\n",
       " 'model',\n",
       " 'justly',\n",
       " 'considered',\n",
       " 'deeply',\n",
       " 'finally',\n",
       " 'staked',\n",
       " 'experiment',\n",
       " 'intrusted',\n",
       " 'hands',\n",
       " 'lose',\n",
       " 'fireif',\n",
       " 'let',\n",
       " 'smothered',\n",
       " 'fear',\n",
       " 'shall',\n",
       " 'reject',\n",
       " 'washington',\n",
       " 'strove',\n",
       " 'valiantly',\n",
       " 'triumphantly',\n",
       " 'establish',\n",
       " 'furnish',\n",
       " 'highest',\n",
       " 'justification',\n",
       " 'sacrifice',\n",
       " 'make',\n",
       " 'cause',\n",
       " 'defense',\n",
       " 'face',\n",
       " 'great',\n",
       " 'perils',\n",
       " 'never',\n",
       " 'encountered',\n",
       " 'strong',\n",
       " 'purpose',\n",
       " 'protect',\n",
       " 'perpetuate',\n",
       " 'integrity',\n",
       " 'muster',\n",
       " 'retreat',\n",
       " 'content',\n",
       " 'stand',\n",
       " 'service',\n",
       " 'country',\n",
       " 'god']"
      ]
     },
     "execution_count": 14,
     "metadata": {},
     "output_type": "execute_result"
    }
   ],
   "source": [
    "word_features"
   ]
  },
  {
   "cell_type": "code",
   "execution_count": 15,
   "metadata": {
    "ExecuteTime": {
     "end_time": "2020-09-17T13:16:12.310839Z",
     "start_time": "2020-09-17T13:16:12.305829Z"
    }
   },
   "outputs": [],
   "source": [
    "## We are defining a function to appropriately process the text document\n",
    "\n",
    "def document_features(document): # we are naming the function as document_features\n",
    "    document_words = set(document) #getting the unique number of entries in the document variable\n",
    "    features = {} #defining an empty dictionary\n",
    "    for word in word_features: #looping over the 'word_features' which has been defined in the last code block\n",
    "        features['contains({})'.format(word)] = (word in document_words) #defining 'features' in  particular format\n",
    "        # and checking whether the unique elements of the input 'document' are contained in the 'word_features' \n",
    "        # defined before\n",
    "    return features"
   ]
  },
  {
   "cell_type": "code",
   "execution_count": 16,
   "metadata": {},
   "outputs": [
    {
     "name": "stderr",
     "output_type": "stream",
     "text": [
      "[nltk_data] Downloading package punkt to\n",
      "[nltk_data]     C:\\Users\\Jinendra\\AppData\\Roaming\\nltk_data...\n",
      "[nltk_data]   Package punkt is already up-to-date!\n"
     ]
    },
    {
     "data": {
      "text/plain": [
       "True"
      ]
     },
     "execution_count": 16,
     "metadata": {},
     "output_type": "execute_result"
    }
   ],
   "source": [
    "nltk.download('punkt')"
   ]
  },
  {
   "cell_type": "code",
   "execution_count": 17,
   "metadata": {
    "ExecuteTime": {
     "end_time": "2020-09-17T13:16:38.624419Z",
     "start_time": "2020-09-17T13:16:38.320001Z"
    }
   },
   "outputs": [
    {
     "ename": "ValueError",
     "evalue": "Length mismatch: Expected axis has 1 elements, new values have 2 elements",
     "output_type": "error",
     "traceback": [
      "\u001b[1;31m---------------------------------------------------------------------------\u001b[0m",
      "\u001b[1;31mValueError\u001b[0m                                Traceback (most recent call last)",
      "\u001b[1;32m<ipython-input-17-c2497e8e8cba>\u001b[0m in \u001b[0;36m<module>\u001b[1;34m\u001b[0m\n\u001b[0;32m      1\u001b[0m \u001b[0mframe\u001b[0m \u001b[1;33m=\u001b[0m \u001b[0mApple_tweets\u001b[0m\u001b[1;33m.\u001b[0m\u001b[0mcopy\u001b[0m\u001b[1;33m(\u001b[0m\u001b[1;33m)\u001b[0m \u001b[1;31m#storing Apple_tweets in another variables\u001b[0m\u001b[1;33m\u001b[0m\u001b[1;33m\u001b[0m\u001b[0m\n\u001b[1;32m----> 2\u001b[1;33m \u001b[0mframe\u001b[0m\u001b[1;33m.\u001b[0m\u001b[0mcolumns\u001b[0m \u001b[1;33m=\u001b[0m \u001b[1;33m[\u001b[0m\u001b[1;34m\"feature\"\u001b[0m\u001b[1;33m,\u001b[0m \u001b[1;34m\"label\"\u001b[0m\u001b[1;33m]\u001b[0m \u001b[1;31m# defning the names of the colummn of the data frame 'frame'\u001b[0m\u001b[1;33m\u001b[0m\u001b[1;33m\u001b[0m\u001b[0m\n\u001b[0m\u001b[0;32m      3\u001b[0m \u001b[0mframe\u001b[0m\u001b[1;33m[\u001b[0m\u001b[1;34m'feature'\u001b[0m\u001b[1;33m]\u001b[0m \u001b[1;33m=\u001b[0m \u001b[0mframe\u001b[0m\u001b[1;33m.\u001b[0m\u001b[0mapply\u001b[0m\u001b[1;33m(\u001b[0m\u001b[1;32mlambda\u001b[0m \u001b[0mrow\u001b[0m\u001b[1;33m:\u001b[0m \u001b[0mnltk\u001b[0m\u001b[1;33m.\u001b[0m\u001b[0mword_tokenize\u001b[0m\u001b[1;33m(\u001b[0m\u001b[0mstr\u001b[0m\u001b[1;33m(\u001b[0m\u001b[0mrow\u001b[0m\u001b[1;33m[\u001b[0m\u001b[1;34m'feature'\u001b[0m\u001b[1;33m]\u001b[0m\u001b[1;33m)\u001b[0m\u001b[1;33m)\u001b[0m\u001b[1;33m,\u001b[0m \u001b[0maxis\u001b[0m\u001b[1;33m=\u001b[0m\u001b[1;36m1\u001b[0m\u001b[1;33m)\u001b[0m \u001b[1;31m#the features of the 'frame' data frame are stored in the variable 'feature'\u001b[0m\u001b[1;33m\u001b[0m\u001b[1;33m\u001b[0m\u001b[0m\n\u001b[0;32m      4\u001b[0m \u001b[1;31m# In the above code snippet we are tokenizing the variables\u001b[0m\u001b[1;33m\u001b[0m\u001b[1;33m\u001b[0m\u001b[1;33m\u001b[0m\u001b[0m\n\u001b[0;32m      5\u001b[0m \u001b[0mframe\u001b[0m\u001b[1;33m[\u001b[0m\u001b[1;34m'label'\u001b[0m\u001b[1;33m]\u001b[0m \u001b[1;33m=\u001b[0m \u001b[0mframe\u001b[0m\u001b[1;33m.\u001b[0m\u001b[0mlabel\u001b[0m \u001b[1;31m# the labels of the 'frame' data frame are stored in the variable 'label'\u001b[0m\u001b[1;33m\u001b[0m\u001b[1;33m\u001b[0m\u001b[0m\n",
      "\u001b[1;32mC:\\ProgramData\\Anaconda3\\lib\\site-packages\\pandas\\core\\generic.py\u001b[0m in \u001b[0;36m__setattr__\u001b[1;34m(self, name, value)\u001b[0m\n\u001b[0;32m   5285\u001b[0m         \u001b[1;32mtry\u001b[0m\u001b[1;33m:\u001b[0m\u001b[1;33m\u001b[0m\u001b[1;33m\u001b[0m\u001b[0m\n\u001b[0;32m   5286\u001b[0m             \u001b[0mobject\u001b[0m\u001b[1;33m.\u001b[0m\u001b[0m__getattribute__\u001b[0m\u001b[1;33m(\u001b[0m\u001b[0mself\u001b[0m\u001b[1;33m,\u001b[0m \u001b[0mname\u001b[0m\u001b[1;33m)\u001b[0m\u001b[1;33m\u001b[0m\u001b[1;33m\u001b[0m\u001b[0m\n\u001b[1;32m-> 5287\u001b[1;33m             \u001b[1;32mreturn\u001b[0m \u001b[0mobject\u001b[0m\u001b[1;33m.\u001b[0m\u001b[0m__setattr__\u001b[0m\u001b[1;33m(\u001b[0m\u001b[0mself\u001b[0m\u001b[1;33m,\u001b[0m \u001b[0mname\u001b[0m\u001b[1;33m,\u001b[0m \u001b[0mvalue\u001b[0m\u001b[1;33m)\u001b[0m\u001b[1;33m\u001b[0m\u001b[1;33m\u001b[0m\u001b[0m\n\u001b[0m\u001b[0;32m   5288\u001b[0m         \u001b[1;32mexcept\u001b[0m \u001b[0mAttributeError\u001b[0m\u001b[1;33m:\u001b[0m\u001b[1;33m\u001b[0m\u001b[1;33m\u001b[0m\u001b[0m\n\u001b[0;32m   5289\u001b[0m             \u001b[1;32mpass\u001b[0m\u001b[1;33m\u001b[0m\u001b[1;33m\u001b[0m\u001b[0m\n",
      "\u001b[1;32mpandas\\_libs\\properties.pyx\u001b[0m in \u001b[0;36mpandas._libs.properties.AxisProperty.__set__\u001b[1;34m()\u001b[0m\n",
      "\u001b[1;32mC:\\ProgramData\\Anaconda3\\lib\\site-packages\\pandas\\core\\generic.py\u001b[0m in \u001b[0;36m_set_axis\u001b[1;34m(self, axis, labels)\u001b[0m\n\u001b[0;32m    659\u001b[0m \u001b[1;33m\u001b[0m\u001b[0m\n\u001b[0;32m    660\u001b[0m     \u001b[1;32mdef\u001b[0m \u001b[0m_set_axis\u001b[0m\u001b[1;33m(\u001b[0m\u001b[0mself\u001b[0m\u001b[1;33m,\u001b[0m \u001b[0maxis\u001b[0m\u001b[1;33m,\u001b[0m \u001b[0mlabels\u001b[0m\u001b[1;33m)\u001b[0m \u001b[1;33m->\u001b[0m \u001b[1;32mNone\u001b[0m\u001b[1;33m:\u001b[0m\u001b[1;33m\u001b[0m\u001b[1;33m\u001b[0m\u001b[0m\n\u001b[1;32m--> 661\u001b[1;33m         \u001b[0mself\u001b[0m\u001b[1;33m.\u001b[0m\u001b[0m_data\u001b[0m\u001b[1;33m.\u001b[0m\u001b[0mset_axis\u001b[0m\u001b[1;33m(\u001b[0m\u001b[0maxis\u001b[0m\u001b[1;33m,\u001b[0m \u001b[0mlabels\u001b[0m\u001b[1;33m)\u001b[0m\u001b[1;33m\u001b[0m\u001b[1;33m\u001b[0m\u001b[0m\n\u001b[0m\u001b[0;32m    662\u001b[0m         \u001b[0mself\u001b[0m\u001b[1;33m.\u001b[0m\u001b[0m_clear_item_cache\u001b[0m\u001b[1;33m(\u001b[0m\u001b[1;33m)\u001b[0m\u001b[1;33m\u001b[0m\u001b[1;33m\u001b[0m\u001b[0m\n\u001b[0;32m    663\u001b[0m \u001b[1;33m\u001b[0m\u001b[0m\n",
      "\u001b[1;32mC:\\ProgramData\\Anaconda3\\lib\\site-packages\\pandas\\core\\internals\\managers.py\u001b[0m in \u001b[0;36mset_axis\u001b[1;34m(self, axis, new_labels)\u001b[0m\n\u001b[0;32m    176\u001b[0m         \u001b[1;32mif\u001b[0m \u001b[0mnew_len\u001b[0m \u001b[1;33m!=\u001b[0m \u001b[0mold_len\u001b[0m\u001b[1;33m:\u001b[0m\u001b[1;33m\u001b[0m\u001b[1;33m\u001b[0m\u001b[0m\n\u001b[0;32m    177\u001b[0m             raise ValueError(\n\u001b[1;32m--> 178\u001b[1;33m                 \u001b[1;34mf\"Length mismatch: Expected axis has {old_len} elements, new \"\u001b[0m\u001b[1;33m\u001b[0m\u001b[1;33m\u001b[0m\u001b[0m\n\u001b[0m\u001b[0;32m    179\u001b[0m                 \u001b[1;34mf\"values have {new_len} elements\"\u001b[0m\u001b[1;33m\u001b[0m\u001b[1;33m\u001b[0m\u001b[0m\n\u001b[0;32m    180\u001b[0m             )\n",
      "\u001b[1;31mValueError\u001b[0m: Length mismatch: Expected axis has 1 elements, new values have 2 elements"
     ]
    }
   ],
   "source": [
    "frame = Apple_tweets.copy() #storing Apple_tweets in another variables\n",
    "frame.columns = [\"feature\", \"label\"] # defning the names of the colummn of the data frame 'frame'\n",
    "frame['feature'] = frame.apply(lambda row: nltk.word_tokenize(str(row['feature'])), axis=1) #the features of the 'frame' data frame are stored in the variable 'feature'\n",
    "# In the above code snippet we are tokenizing the variables\n",
    "frame['label'] = frame.label # the labels of the 'frame' data frame are stored in the variable 'label'"
   ]
  },
  {
   "cell_type": "code",
   "execution_count": 18,
   "metadata": {
    "ExecuteTime": {
     "end_time": "2020-09-17T13:16:39.644453Z",
     "start_time": "2020-09-17T13:16:39.635474Z"
    }
   },
   "outputs": [
    {
     "data": {
      "text/html": [
       "<div>\n",
       "<style scoped>\n",
       "    .dataframe tbody tr th:only-of-type {\n",
       "        vertical-align: middle;\n",
       "    }\n",
       "\n",
       "    .dataframe tbody tr th {\n",
       "        vertical-align: top;\n",
       "    }\n",
       "\n",
       "    .dataframe thead th {\n",
       "        text-align: right;\n",
       "    }\n",
       "</style>\n",
       "<table border=\"1\" class=\"dataframe\">\n",
       "  <thead>\n",
       "    <tr style=\"text-align: right;\">\n",
       "      <th></th>\n",
       "      <th>0</th>\n",
       "    </tr>\n",
       "  </thead>\n",
       "  <tbody>\n",
       "    <tr>\n",
       "      <th>0</th>\n",
       "      <td>on each national day of inauguration since 178...</td>\n",
       "    </tr>\n",
       "    <tr>\n",
       "      <th>1</th>\n",
       "      <td>in washingtons day the task of the people was ...</td>\n",
       "    </tr>\n",
       "    <tr>\n",
       "      <th>2</th>\n",
       "      <td>in lincolns day the task of the people was to ...</td>\n",
       "    </tr>\n",
       "    <tr>\n",
       "      <th>3</th>\n",
       "      <td>in this day the task of the people is to save ...</td>\n",
       "    </tr>\n",
       "    <tr>\n",
       "      <th>4</th>\n",
       "      <td>to us there has come a time in the midst of sw...</td>\n",
       "    </tr>\n",
       "    <tr>\n",
       "      <th>5</th>\n",
       "      <td>lives of nations are determined not by the cou...</td>\n",
       "    </tr>\n",
       "    <tr>\n",
       "      <th>6</th>\n",
       "      <td>there are men who doubt this there are men who...</td>\n",
       "    </tr>\n",
       "    <tr>\n",
       "      <th>7</th>\n",
       "      <td>but we americans know that this is not true</td>\n",
       "    </tr>\n",
       "    <tr>\n",
       "      <th>8</th>\n",
       "      <td>eight years ago when the life of this republic...</td>\n",
       "    </tr>\n",
       "    <tr>\n",
       "      <th>9</th>\n",
       "      <td>these later years have been living years fruit...</td>\n",
       "    </tr>\n",
       "    <tr>\n",
       "      <th>10</th>\n",
       "      <td>most vital to our present and our future is th...</td>\n",
       "    </tr>\n",
       "    <tr>\n",
       "      <th>11</th>\n",
       "      <td>for action has been taken within the threeway ...</td>\n",
       "    </tr>\n",
       "    <tr>\n",
       "      <th>12</th>\n",
       "      <td>democracy is not dying</td>\n",
       "    </tr>\n",
       "    <tr>\n",
       "      <th>13</th>\n",
       "      <td>we know it because we have seen it reviveand grow</td>\n",
       "    </tr>\n",
       "    <tr>\n",
       "      <th>14</th>\n",
       "      <td>we know it cannot die because it is built on t...</td>\n",
       "    </tr>\n",
       "    <tr>\n",
       "      <th>15</th>\n",
       "      <td>we know it because democracy alone of all form...</td>\n",
       "    </tr>\n",
       "    <tr>\n",
       "      <th>16</th>\n",
       "      <td>we know it because democracy alone has constru...</td>\n",
       "    </tr>\n",
       "    <tr>\n",
       "      <th>17</th>\n",
       "      <td>we know it because if we look below the surfac...</td>\n",
       "    </tr>\n",
       "    <tr>\n",
       "      <th>18</th>\n",
       "      <td>a nation like a person has a bodya body that m...</td>\n",
       "    </tr>\n",
       "    <tr>\n",
       "      <th>19</th>\n",
       "      <td>a nation like a person has a mind a mind that ...</td>\n",
       "    </tr>\n",
       "    <tr>\n",
       "      <th>20</th>\n",
       "      <td>and a nation like a person has something deepe...</td>\n",
       "    </tr>\n",
       "    <tr>\n",
       "      <th>21</th>\n",
       "      <td>it is a thing for which we find it difficult e...</td>\n",
       "    </tr>\n",
       "    <tr>\n",
       "      <th>22</th>\n",
       "      <td>and yet we all understand what it is the spiri...</td>\n",
       "    </tr>\n",
       "    <tr>\n",
       "      <th>23</th>\n",
       "      <td>the democratic aspiration is no mere recent ph...</td>\n",
       "    </tr>\n",
       "    <tr>\n",
       "      <th>24</th>\n",
       "      <td>in the americas its impact has been irresistib...</td>\n",
       "    </tr>\n",
       "    <tr>\n",
       "      <th>25</th>\n",
       "      <td>its vitality was written into our own mayflowe...</td>\n",
       "    </tr>\n",
       "    <tr>\n",
       "      <th>26</th>\n",
       "      <td>those who first came here to carry out the lon...</td>\n",
       "    </tr>\n",
       "    <tr>\n",
       "      <th>27</th>\n",
       "      <td>the hopes of the republic cannot forever toler...</td>\n",
       "    </tr>\n",
       "    <tr>\n",
       "      <th>28</th>\n",
       "      <td>we know that we still have far to go that we m...</td>\n",
       "    </tr>\n",
       "    <tr>\n",
       "      <th>29</th>\n",
       "      <td>but it is not enough to achieve these purposes...</td>\n",
       "    </tr>\n",
       "    <tr>\n",
       "      <th>30</th>\n",
       "      <td>without the body and the mind as all men know ...</td>\n",
       "    </tr>\n",
       "    <tr>\n",
       "      <th>31</th>\n",
       "      <td>but if the spirit of america were killed even ...</td>\n",
       "    </tr>\n",
       "    <tr>\n",
       "      <th>32</th>\n",
       "      <td>that spirit that faith speaks to us in our dai...</td>\n",
       "    </tr>\n",
       "    <tr>\n",
       "      <th>33</th>\n",
       "      <td>the destiny of america was proclaimed in words...</td>\n",
       "    </tr>\n",
       "    <tr>\n",
       "      <th>34</th>\n",
       "      <td>if we lose that sacred fireif we let it be smo...</td>\n",
       "    </tr>\n",
       "    <tr>\n",
       "      <th>35</th>\n",
       "      <td>in the face of great perils never before encou...</td>\n",
       "    </tr>\n",
       "    <tr>\n",
       "      <th>36</th>\n",
       "      <td>for this we muster the spirit of america and t...</td>\n",
       "    </tr>\n",
       "    <tr>\n",
       "      <th>37</th>\n",
       "      <td>we do not retreat we are not content to stand ...</td>\n",
       "    </tr>\n",
       "  </tbody>\n",
       "</table>\n",
       "</div>"
      ],
      "text/plain": [
       "                                                    0\n",
       "0   on each national day of inauguration since 178...\n",
       "1   in washingtons day the task of the people was ...\n",
       "2   in lincolns day the task of the people was to ...\n",
       "3   in this day the task of the people is to save ...\n",
       "4   to us there has come a time in the midst of sw...\n",
       "5   lives of nations are determined not by the cou...\n",
       "6   there are men who doubt this there are men who...\n",
       "7         but we americans know that this is not true\n",
       "8   eight years ago when the life of this republic...\n",
       "9   these later years have been living years fruit...\n",
       "10  most vital to our present and our future is th...\n",
       "11  for action has been taken within the threeway ...\n",
       "12                             democracy is not dying\n",
       "13  we know it because we have seen it reviveand grow\n",
       "14  we know it cannot die because it is built on t...\n",
       "15  we know it because democracy alone of all form...\n",
       "16  we know it because democracy alone has constru...\n",
       "17  we know it because if we look below the surfac...\n",
       "18  a nation like a person has a bodya body that m...\n",
       "19  a nation like a person has a mind a mind that ...\n",
       "20  and a nation like a person has something deepe...\n",
       "21  it is a thing for which we find it difficult e...\n",
       "22  and yet we all understand what it is the spiri...\n",
       "23  the democratic aspiration is no mere recent ph...\n",
       "24  in the americas its impact has been irresistib...\n",
       "25  its vitality was written into our own mayflowe...\n",
       "26  those who first came here to carry out the lon...\n",
       "27  the hopes of the republic cannot forever toler...\n",
       "28  we know that we still have far to go that we m...\n",
       "29  but it is not enough to achieve these purposes...\n",
       "30  without the body and the mind as all men know ...\n",
       "31  but if the spirit of america were killed even ...\n",
       "32  that spirit that faith speaks to us in our dai...\n",
       "33  the destiny of america was proclaimed in words...\n",
       "34  if we lose that sacred fireif we let it be smo...\n",
       "35  in the face of great perils never before encou...\n",
       "36  for this we muster the spirit of america and t...\n",
       "37  we do not retreat we are not content to stand ..."
      ]
     },
     "execution_count": 18,
     "metadata": {},
     "output_type": "execute_result"
    }
   ],
   "source": [
    "Apple_tweets"
   ]
  },
  {
   "cell_type": "code",
   "execution_count": 19,
   "metadata": {
    "ExecuteTime": {
     "end_time": "2020-09-17T13:16:40.664721Z",
     "start_time": "2020-09-17T13:16:40.649762Z"
    }
   },
   "outputs": [
    {
     "data": {
      "text/html": [
       "<div>\n",
       "<style scoped>\n",
       "    .dataframe tbody tr th:only-of-type {\n",
       "        vertical-align: middle;\n",
       "    }\n",
       "\n",
       "    .dataframe tbody tr th {\n",
       "        vertical-align: top;\n",
       "    }\n",
       "\n",
       "    .dataframe thead th {\n",
       "        text-align: right;\n",
       "    }\n",
       "</style>\n",
       "<table border=\"1\" class=\"dataframe\">\n",
       "  <thead>\n",
       "    <tr style=\"text-align: right;\">\n",
       "      <th></th>\n",
       "      <th>0</th>\n",
       "    </tr>\n",
       "  </thead>\n",
       "  <tbody>\n",
       "    <tr>\n",
       "      <th>0</th>\n",
       "      <td>on each national day of inauguration since 178...</td>\n",
       "    </tr>\n",
       "    <tr>\n",
       "      <th>1</th>\n",
       "      <td>in washingtons day the task of the people was ...</td>\n",
       "    </tr>\n",
       "    <tr>\n",
       "      <th>2</th>\n",
       "      <td>in lincolns day the task of the people was to ...</td>\n",
       "    </tr>\n",
       "    <tr>\n",
       "      <th>3</th>\n",
       "      <td>in this day the task of the people is to save ...</td>\n",
       "    </tr>\n",
       "    <tr>\n",
       "      <th>4</th>\n",
       "      <td>to us there has come a time in the midst of sw...</td>\n",
       "    </tr>\n",
       "    <tr>\n",
       "      <th>5</th>\n",
       "      <td>lives of nations are determined not by the cou...</td>\n",
       "    </tr>\n",
       "    <tr>\n",
       "      <th>6</th>\n",
       "      <td>there are men who doubt this there are men who...</td>\n",
       "    </tr>\n",
       "    <tr>\n",
       "      <th>7</th>\n",
       "      <td>but we americans know that this is not true</td>\n",
       "    </tr>\n",
       "    <tr>\n",
       "      <th>8</th>\n",
       "      <td>eight years ago when the life of this republic...</td>\n",
       "    </tr>\n",
       "    <tr>\n",
       "      <th>9</th>\n",
       "      <td>these later years have been living years fruit...</td>\n",
       "    </tr>\n",
       "    <tr>\n",
       "      <th>10</th>\n",
       "      <td>most vital to our present and our future is th...</td>\n",
       "    </tr>\n",
       "    <tr>\n",
       "      <th>11</th>\n",
       "      <td>for action has been taken within the threeway ...</td>\n",
       "    </tr>\n",
       "    <tr>\n",
       "      <th>12</th>\n",
       "      <td>democracy is not dying</td>\n",
       "    </tr>\n",
       "    <tr>\n",
       "      <th>13</th>\n",
       "      <td>we know it because we have seen it reviveand grow</td>\n",
       "    </tr>\n",
       "    <tr>\n",
       "      <th>14</th>\n",
       "      <td>we know it cannot die because it is built on t...</td>\n",
       "    </tr>\n",
       "    <tr>\n",
       "      <th>15</th>\n",
       "      <td>we know it because democracy alone of all form...</td>\n",
       "    </tr>\n",
       "    <tr>\n",
       "      <th>16</th>\n",
       "      <td>we know it because democracy alone has constru...</td>\n",
       "    </tr>\n",
       "    <tr>\n",
       "      <th>17</th>\n",
       "      <td>we know it because if we look below the surfac...</td>\n",
       "    </tr>\n",
       "    <tr>\n",
       "      <th>18</th>\n",
       "      <td>a nation like a person has a bodya body that m...</td>\n",
       "    </tr>\n",
       "    <tr>\n",
       "      <th>19</th>\n",
       "      <td>a nation like a person has a mind a mind that ...</td>\n",
       "    </tr>\n",
       "    <tr>\n",
       "      <th>20</th>\n",
       "      <td>and a nation like a person has something deepe...</td>\n",
       "    </tr>\n",
       "    <tr>\n",
       "      <th>21</th>\n",
       "      <td>it is a thing for which we find it difficult e...</td>\n",
       "    </tr>\n",
       "    <tr>\n",
       "      <th>22</th>\n",
       "      <td>and yet we all understand what it is the spiri...</td>\n",
       "    </tr>\n",
       "    <tr>\n",
       "      <th>23</th>\n",
       "      <td>the democratic aspiration is no mere recent ph...</td>\n",
       "    </tr>\n",
       "    <tr>\n",
       "      <th>24</th>\n",
       "      <td>in the americas its impact has been irresistib...</td>\n",
       "    </tr>\n",
       "    <tr>\n",
       "      <th>25</th>\n",
       "      <td>its vitality was written into our own mayflowe...</td>\n",
       "    </tr>\n",
       "    <tr>\n",
       "      <th>26</th>\n",
       "      <td>those who first came here to carry out the lon...</td>\n",
       "    </tr>\n",
       "    <tr>\n",
       "      <th>27</th>\n",
       "      <td>the hopes of the republic cannot forever toler...</td>\n",
       "    </tr>\n",
       "    <tr>\n",
       "      <th>28</th>\n",
       "      <td>we know that we still have far to go that we m...</td>\n",
       "    </tr>\n",
       "    <tr>\n",
       "      <th>29</th>\n",
       "      <td>but it is not enough to achieve these purposes...</td>\n",
       "    </tr>\n",
       "    <tr>\n",
       "      <th>30</th>\n",
       "      <td>without the body and the mind as all men know ...</td>\n",
       "    </tr>\n",
       "    <tr>\n",
       "      <th>31</th>\n",
       "      <td>but if the spirit of america were killed even ...</td>\n",
       "    </tr>\n",
       "    <tr>\n",
       "      <th>32</th>\n",
       "      <td>that spirit that faith speaks to us in our dai...</td>\n",
       "    </tr>\n",
       "    <tr>\n",
       "      <th>33</th>\n",
       "      <td>the destiny of america was proclaimed in words...</td>\n",
       "    </tr>\n",
       "    <tr>\n",
       "      <th>34</th>\n",
       "      <td>if we lose that sacred fireif we let it be smo...</td>\n",
       "    </tr>\n",
       "    <tr>\n",
       "      <th>35</th>\n",
       "      <td>in the face of great perils never before encou...</td>\n",
       "    </tr>\n",
       "    <tr>\n",
       "      <th>36</th>\n",
       "      <td>for this we muster the spirit of america and t...</td>\n",
       "    </tr>\n",
       "    <tr>\n",
       "      <th>37</th>\n",
       "      <td>we do not retreat we are not content to stand ...</td>\n",
       "    </tr>\n",
       "  </tbody>\n",
       "</table>\n",
       "</div>"
      ],
      "text/plain": [
       "                                                    0\n",
       "0   on each national day of inauguration since 178...\n",
       "1   in washingtons day the task of the people was ...\n",
       "2   in lincolns day the task of the people was to ...\n",
       "3   in this day the task of the people is to save ...\n",
       "4   to us there has come a time in the midst of sw...\n",
       "5   lives of nations are determined not by the cou...\n",
       "6   there are men who doubt this there are men who...\n",
       "7         but we americans know that this is not true\n",
       "8   eight years ago when the life of this republic...\n",
       "9   these later years have been living years fruit...\n",
       "10  most vital to our present and our future is th...\n",
       "11  for action has been taken within the threeway ...\n",
       "12                             democracy is not dying\n",
       "13  we know it because we have seen it reviveand grow\n",
       "14  we know it cannot die because it is built on t...\n",
       "15  we know it because democracy alone of all form...\n",
       "16  we know it because democracy alone has constru...\n",
       "17  we know it because if we look below the surfac...\n",
       "18  a nation like a person has a bodya body that m...\n",
       "19  a nation like a person has a mind a mind that ...\n",
       "20  and a nation like a person has something deepe...\n",
       "21  it is a thing for which we find it difficult e...\n",
       "22  and yet we all understand what it is the spiri...\n",
       "23  the democratic aspiration is no mere recent ph...\n",
       "24  in the americas its impact has been irresistib...\n",
       "25  its vitality was written into our own mayflowe...\n",
       "26  those who first came here to carry out the lon...\n",
       "27  the hopes of the republic cannot forever toler...\n",
       "28  we know that we still have far to go that we m...\n",
       "29  but it is not enough to achieve these purposes...\n",
       "30  without the body and the mind as all men know ...\n",
       "31  but if the spirit of america were killed even ...\n",
       "32  that spirit that faith speaks to us in our dai...\n",
       "33  the destiny of america was proclaimed in words...\n",
       "34  if we lose that sacred fireif we let it be smo...\n",
       "35  in the face of great perils never before encou...\n",
       "36  for this we muster the spirit of america and t...\n",
       "37  we do not retreat we are not content to stand ..."
      ]
     },
     "execution_count": 19,
     "metadata": {},
     "output_type": "execute_result"
    }
   ],
   "source": [
    "frame"
   ]
  },
  {
   "cell_type": "code",
   "execution_count": 20,
   "metadata": {
    "ExecuteTime": {
     "end_time": "2020-09-17T13:16:43.139929Z",
     "start_time": "2020-09-17T13:16:43.134979Z"
    }
   },
   "outputs": [
    {
     "ename": "KeyError",
     "evalue": "'feature'",
     "output_type": "error",
     "traceback": [
      "\u001b[1;31m---------------------------------------------------------------------------\u001b[0m",
      "\u001b[1;31mKeyError\u001b[0m                                  Traceback (most recent call last)",
      "\u001b[1;32mC:\\ProgramData\\Anaconda3\\lib\\site-packages\\pandas\\core\\indexes\\base.py\u001b[0m in \u001b[0;36mget_loc\u001b[1;34m(self, key, method, tolerance)\u001b[0m\n\u001b[0;32m   2645\u001b[0m             \u001b[1;32mtry\u001b[0m\u001b[1;33m:\u001b[0m\u001b[1;33m\u001b[0m\u001b[1;33m\u001b[0m\u001b[0m\n\u001b[1;32m-> 2646\u001b[1;33m                 \u001b[1;32mreturn\u001b[0m \u001b[0mself\u001b[0m\u001b[1;33m.\u001b[0m\u001b[0m_engine\u001b[0m\u001b[1;33m.\u001b[0m\u001b[0mget_loc\u001b[0m\u001b[1;33m(\u001b[0m\u001b[0mkey\u001b[0m\u001b[1;33m)\u001b[0m\u001b[1;33m\u001b[0m\u001b[1;33m\u001b[0m\u001b[0m\n\u001b[0m\u001b[0;32m   2647\u001b[0m             \u001b[1;32mexcept\u001b[0m \u001b[0mKeyError\u001b[0m\u001b[1;33m:\u001b[0m\u001b[1;33m\u001b[0m\u001b[1;33m\u001b[0m\u001b[0m\n",
      "\u001b[1;32mpandas\\_libs\\index.pyx\u001b[0m in \u001b[0;36mpandas._libs.index.IndexEngine.get_loc\u001b[1;34m()\u001b[0m\n",
      "\u001b[1;32mpandas\\_libs\\index.pyx\u001b[0m in \u001b[0;36mpandas._libs.index.IndexEngine.get_loc\u001b[1;34m()\u001b[0m\n",
      "\u001b[1;32mpandas\\_libs\\index_class_helper.pxi\u001b[0m in \u001b[0;36mpandas._libs.index.Int64Engine._check_type\u001b[1;34m()\u001b[0m\n",
      "\u001b[1;31mKeyError\u001b[0m: 'feature'",
      "\nDuring handling of the above exception, another exception occurred:\n",
      "\u001b[1;31mKeyError\u001b[0m                                  Traceback (most recent call last)",
      "\u001b[1;32m<ipython-input-20-4f3662ae4394>\u001b[0m in \u001b[0;36m<module>\u001b[1;34m\u001b[0m\n\u001b[1;32m----> 1\u001b[1;33m \u001b[0mframe\u001b[0m\u001b[1;33m[\u001b[0m\u001b[1;34m'feature'\u001b[0m\u001b[1;33m]\u001b[0m\u001b[1;33m[\u001b[0m\u001b[1;36m0\u001b[0m\u001b[1;33m]\u001b[0m\u001b[1;33m\u001b[0m\u001b[1;33m\u001b[0m\u001b[0m\n\u001b[0m",
      "\u001b[1;32mC:\\ProgramData\\Anaconda3\\lib\\site-packages\\pandas\\core\\frame.py\u001b[0m in \u001b[0;36m__getitem__\u001b[1;34m(self, key)\u001b[0m\n\u001b[0;32m   2798\u001b[0m             \u001b[1;32mif\u001b[0m \u001b[0mself\u001b[0m\u001b[1;33m.\u001b[0m\u001b[0mcolumns\u001b[0m\u001b[1;33m.\u001b[0m\u001b[0mnlevels\u001b[0m \u001b[1;33m>\u001b[0m \u001b[1;36m1\u001b[0m\u001b[1;33m:\u001b[0m\u001b[1;33m\u001b[0m\u001b[1;33m\u001b[0m\u001b[0m\n\u001b[0;32m   2799\u001b[0m                 \u001b[1;32mreturn\u001b[0m \u001b[0mself\u001b[0m\u001b[1;33m.\u001b[0m\u001b[0m_getitem_multilevel\u001b[0m\u001b[1;33m(\u001b[0m\u001b[0mkey\u001b[0m\u001b[1;33m)\u001b[0m\u001b[1;33m\u001b[0m\u001b[1;33m\u001b[0m\u001b[0m\n\u001b[1;32m-> 2800\u001b[1;33m             \u001b[0mindexer\u001b[0m \u001b[1;33m=\u001b[0m \u001b[0mself\u001b[0m\u001b[1;33m.\u001b[0m\u001b[0mcolumns\u001b[0m\u001b[1;33m.\u001b[0m\u001b[0mget_loc\u001b[0m\u001b[1;33m(\u001b[0m\u001b[0mkey\u001b[0m\u001b[1;33m)\u001b[0m\u001b[1;33m\u001b[0m\u001b[1;33m\u001b[0m\u001b[0m\n\u001b[0m\u001b[0;32m   2801\u001b[0m             \u001b[1;32mif\u001b[0m \u001b[0mis_integer\u001b[0m\u001b[1;33m(\u001b[0m\u001b[0mindexer\u001b[0m\u001b[1;33m)\u001b[0m\u001b[1;33m:\u001b[0m\u001b[1;33m\u001b[0m\u001b[1;33m\u001b[0m\u001b[0m\n\u001b[0;32m   2802\u001b[0m                 \u001b[0mindexer\u001b[0m \u001b[1;33m=\u001b[0m \u001b[1;33m[\u001b[0m\u001b[0mindexer\u001b[0m\u001b[1;33m]\u001b[0m\u001b[1;33m\u001b[0m\u001b[1;33m\u001b[0m\u001b[0m\n",
      "\u001b[1;32mC:\\ProgramData\\Anaconda3\\lib\\site-packages\\pandas\\core\\indexes\\base.py\u001b[0m in \u001b[0;36mget_loc\u001b[1;34m(self, key, method, tolerance)\u001b[0m\n\u001b[0;32m   2646\u001b[0m                 \u001b[1;32mreturn\u001b[0m \u001b[0mself\u001b[0m\u001b[1;33m.\u001b[0m\u001b[0m_engine\u001b[0m\u001b[1;33m.\u001b[0m\u001b[0mget_loc\u001b[0m\u001b[1;33m(\u001b[0m\u001b[0mkey\u001b[0m\u001b[1;33m)\u001b[0m\u001b[1;33m\u001b[0m\u001b[1;33m\u001b[0m\u001b[0m\n\u001b[0;32m   2647\u001b[0m             \u001b[1;32mexcept\u001b[0m \u001b[0mKeyError\u001b[0m\u001b[1;33m:\u001b[0m\u001b[1;33m\u001b[0m\u001b[1;33m\u001b[0m\u001b[0m\n\u001b[1;32m-> 2648\u001b[1;33m                 \u001b[1;32mreturn\u001b[0m \u001b[0mself\u001b[0m\u001b[1;33m.\u001b[0m\u001b[0m_engine\u001b[0m\u001b[1;33m.\u001b[0m\u001b[0mget_loc\u001b[0m\u001b[1;33m(\u001b[0m\u001b[0mself\u001b[0m\u001b[1;33m.\u001b[0m\u001b[0m_maybe_cast_indexer\u001b[0m\u001b[1;33m(\u001b[0m\u001b[0mkey\u001b[0m\u001b[1;33m)\u001b[0m\u001b[1;33m)\u001b[0m\u001b[1;33m\u001b[0m\u001b[1;33m\u001b[0m\u001b[0m\n\u001b[0m\u001b[0;32m   2649\u001b[0m         \u001b[0mindexer\u001b[0m \u001b[1;33m=\u001b[0m \u001b[0mself\u001b[0m\u001b[1;33m.\u001b[0m\u001b[0mget_indexer\u001b[0m\u001b[1;33m(\u001b[0m\u001b[1;33m[\u001b[0m\u001b[0mkey\u001b[0m\u001b[1;33m]\u001b[0m\u001b[1;33m,\u001b[0m \u001b[0mmethod\u001b[0m\u001b[1;33m=\u001b[0m\u001b[0mmethod\u001b[0m\u001b[1;33m,\u001b[0m \u001b[0mtolerance\u001b[0m\u001b[1;33m=\u001b[0m\u001b[0mtolerance\u001b[0m\u001b[1;33m)\u001b[0m\u001b[1;33m\u001b[0m\u001b[1;33m\u001b[0m\u001b[0m\n\u001b[0;32m   2650\u001b[0m         \u001b[1;32mif\u001b[0m \u001b[0mindexer\u001b[0m\u001b[1;33m.\u001b[0m\u001b[0mndim\u001b[0m \u001b[1;33m>\u001b[0m \u001b[1;36m1\u001b[0m \u001b[1;32mor\u001b[0m \u001b[0mindexer\u001b[0m\u001b[1;33m.\u001b[0m\u001b[0msize\u001b[0m \u001b[1;33m>\u001b[0m \u001b[1;36m1\u001b[0m\u001b[1;33m:\u001b[0m\u001b[1;33m\u001b[0m\u001b[1;33m\u001b[0m\u001b[0m\n",
      "\u001b[1;32mpandas\\_libs\\index.pyx\u001b[0m in \u001b[0;36mpandas._libs.index.IndexEngine.get_loc\u001b[1;34m()\u001b[0m\n",
      "\u001b[1;32mpandas\\_libs\\index.pyx\u001b[0m in \u001b[0;36mpandas._libs.index.IndexEngine.get_loc\u001b[1;34m()\u001b[0m\n",
      "\u001b[1;32mpandas\\_libs\\index_class_helper.pxi\u001b[0m in \u001b[0;36mpandas._libs.index.Int64Engine._check_type\u001b[1;34m()\u001b[0m\n",
      "\u001b[1;31mKeyError\u001b[0m: 'feature'"
     ]
    }
   ],
   "source": [
    "frame['feature'][0]"
   ]
  },
  {
   "cell_type": "code",
   "execution_count": 34,
   "metadata": {
    "ExecuteTime": {
     "end_time": "2020-09-17T13:16:45.741043Z",
     "start_time": "2020-09-17T13:16:44.660733Z"
    }
   },
   "outputs": [],
   "source": [
    "## We are defining our combined data frame which we will split into training and test before fitting a classifier\n",
    "\n",
    "# We are creating a list the entries of which are a tuple. We are appending the list with tuples whose entries are the \n",
    "# pre-processed tweets and the corresponding sentiment attached to it.\n",
    "featuresets = [(document_features(feature), label) for index, (feature, label) in frame.iterrows()]"
   ]
  },
  {
   "cell_type": "code",
   "execution_count": 35,
   "metadata": {
    "ExecuteTime": {
     "end_time": "2020-09-17T13:16:47.885839Z",
     "start_time": "2020-09-17T13:16:47.847978Z"
    }
   },
   "outputs": [
    {
     "data": {
      "text/plain": [
       "({'contains(apple)': True,\n",
       "  'contains(iphone)': False,\n",
       "  'contains(new)': False,\n",
       "  'contains(5s)': False,\n",
       "  'contains(ipad)': False,\n",
       "  'contains(itunes)': False,\n",
       "  'contains(phone)': False,\n",
       "  'contains(ipod)': False,\n",
       "  'contains(get)': False,\n",
       "  'contains(ipodplayerpromo)': False,\n",
       "  'contains(5c)': False,\n",
       "  'contains(im)': False,\n",
       "  'contains(dont)': False,\n",
       "  'contains(like)': False,\n",
       "  'contains(promoipodplayerpromo)': False,\n",
       "  'contains(itune)': False,\n",
       "  'contains(app)': False,\n",
       "  'contains(de)': False,\n",
       "  'contains(rt)': False,\n",
       "  'contains(ios)': False,\n",
       "  'contains(freak)': False,\n",
       "  'contains(make)': False,\n",
       "  'contains(store)': False,\n",
       "  'contains(one)': False,\n",
       "  'contains(iphone5c)': False,\n",
       "  'contains(iphone5s)': False,\n",
       "  'contains(apples)': False,\n",
       "  'contains(5)': False,\n",
       "  'contains(u)': False,\n",
       "  'contains(iphones)': False,\n",
       "  'contains(time)': False,\n",
       "  'contains(really)': False,\n",
       "  'contains(need)': False,\n",
       "  'contains(would)': False,\n",
       "  'contains(google)': False,\n",
       "  'contains(fingerprint)': False,\n",
       "  'contains(microsoft)': False,\n",
       "  'contains(think)': False,\n",
       "  'contains(7)': False,\n",
       "  'contains(samsung)': False,\n",
       "  'contains(thanks)': False,\n",
       "  'contains(ios7)': False,\n",
       "  'contains(android)': False,\n",
       "  'contains(want)': False,\n",
       "  'contains(cant)': False,\n",
       "  'contains(twitter)': False,\n",
       "  'contains(well)': False,\n",
       "  'contains(us)': False,\n",
       "  'contains(lol)': False,\n",
       "  'contains(please)': False,\n",
       "  'contains(back)': False,\n",
       "  'contains(promo)': False,\n",
       "  'contains(via)': False,\n",
       "  'contains(better)': False,\n",
       "  'contains(love)': False,\n",
       "  'contains(anyone)': False,\n",
       "  'contains(hate)': False,\n",
       "  'contains(use)': False,\n",
       "  'contains(still)': False,\n",
       "  'contains(battery)': False,\n",
       "  'contains(come)': False,\n",
       "  'contains(know)': False,\n",
       "  'contains(thats)': False,\n",
       "  'contains(look)': False,\n",
       "  'contains(buy)': False,\n",
       "  'contains(wont)': False,\n",
       "  'contains(devices)': False,\n",
       "  'contains(next)': False,\n",
       "  'contains(people)': False,\n",
       "  'contains(going)': False,\n",
       "  'contains(yall)': False,\n",
       "  'contains(hey)': False,\n",
       "  'contains(good)': False,\n",
       "  'contains(go)': False,\n",
       "  'contains(update)': False,\n",
       "  'contains(making)': False,\n",
       "  'contains(2)': False,\n",
       "  'contains(release)': False,\n",
       "  'contains(dear)': False,\n",
       "  'contains(sure)': False,\n",
       "  'contains(every)': False,\n",
       "  'contains(let)': False,\n",
       "  'contains(service)': False,\n",
       "  'contains(mobile)': False,\n",
       "  'contains(give)': False,\n",
       "  'contains(year)': False,\n",
       "  'contains(apps)': False,\n",
       "  'contains(nokia)': False,\n",
       "  'contains(free)': False,\n",
       "  'contains(help)': False,\n",
       "  'contains(news)': False,\n",
       "  'contains(using)': False,\n",
       "  'contains(cheap)': False,\n",
       "  'contains(wtf)': False,\n",
       "  'contains(freaking)': False,\n",
       "  'contains(could)': False,\n",
       "  'contains(facebook)': False,\n",
       "  'contains(much)': False,\n",
       "  'contains(work)': False,\n",
       "  'contains(got)': False,\n",
       "  'contains(doesnt)': False,\n",
       "  'contains(yet)': False,\n",
       "  'contains(stuff)': False,\n",
       "  'contains(youre)': False,\n",
       "  'contains(today)': False,\n",
       "  'contains(en)': False,\n",
       "  'contains(1)': False,\n",
       "  'contains(way)': False,\n",
       "  'contains(tech)': False,\n",
       "  'contains(fix)': False,\n",
       "  'contains(didnt)': False,\n",
       "  'contains(black)': False,\n",
       "  'contains(c)': False,\n",
       "  'contains(gold)': False,\n",
       "  'contains(right)': False,\n",
       "  'contains(instead)': False,\n",
       "  'contains(preorder)': False,\n",
       "  'contains(oh)': False,\n",
       "  'contains(siri)': False,\n",
       "  'contains(even)': False,\n",
       "  'contains(best)': False,\n",
       "  'contains(steve)': False,\n",
       "  'contains(que)': False,\n",
       "  'contains(price)': False,\n",
       "  'contains(amazon)': False,\n",
       "  'contains(data)': False,\n",
       "  'contains(stop)': False,\n",
       "  'contains(phones)': False,\n",
       "  'contains(getting)': False,\n",
       "  'contains(video)': False,\n",
       "  'contains(mi)': False,\n",
       "  'contains(care)': False,\n",
       "  'contains(marketing)': False,\n",
       "  'contains(chargers)': False,\n",
       "  'contains(wait)': False,\n",
       "  'contains(great)': False,\n",
       "  'contains(color)': False,\n",
       "  'contains(say)': False,\n",
       "  'contains(see)': False,\n",
       "  'contains(done)': False,\n",
       "  'contains(guys)': False,\n",
       "  'contains(already)': False,\n",
       "  'contains(isnt)': False,\n",
       "  'contains(products)': False,\n",
       "  'contains(support)': False,\n",
       "  'contains(big)': False,\n",
       "  'contains(screen)': False,\n",
       "  'contains(made)': False,\n",
       "  'contains(available)': False,\n",
       "  'contains(company)': False,\n",
       "  'contains(day)': False,\n",
       "  'contains(w)': False,\n",
       "  'contains(scanner)': False,\n",
       "  'contains(iphoto)': False,\n",
       "  'contains(nsa)': False,\n",
       "  'contains(el)': False,\n",
       "  'contains(old)': False,\n",
       "  'contains(plastic)': False,\n",
       "  'contains(macbook)': False,\n",
       "  'contains(never)': False,\n",
       "  'contains(nothing)': False,\n",
       "  'contains(httpbitly18xc8dk)': False,\n",
       "  'contains(blackberry)': False,\n",
       "  'contains(idea)': False,\n",
       "  'contains(motorola)': False,\n",
       "  'contains(windowsphone)': False,\n",
       "  'contains(emoji)': False,\n",
       "  'contains(cards)': False,\n",
       "  'contains(burberry)': False,\n",
       "  'contains(life)': False,\n",
       "  'contains(upgrade)': False,\n",
       "  'contains(la)': False,\n",
       "  'contains(gonna)': False,\n",
       "  'contains(os)': False,\n",
       "  'contains(coming)': False,\n",
       "  'contains(wow)': False,\n",
       "  'contains(makes)': False,\n",
       "  'contains(bit)': False,\n",
       "  'contains(ever)': False,\n",
       "  'contains(says)': False,\n",
       "  'contains(something)': False,\n",
       "  'contains(carbon)': False,\n",
       "  'contains(ya)': False,\n",
       "  'contains(since)': False,\n",
       "  'contains(thing)': False,\n",
       "  'contains(pictures)': False,\n",
       "  'contains(yo)': False,\n",
       "  'contains(ibrooklynb)': False,\n",
       "  'contains(mac)': False,\n",
       "  'contains(generation)': False,\n",
       "  'contains(send)': False,\n",
       "  'contains(working)': False,\n",
       "  'contains(mishi_za)': False,\n",
       "  'contains(samsungsa)': False,\n",
       "  'contains(fun)': False,\n",
       "  'contains(thank)': False,\n",
       "  'contains(always)': False,\n",
       "  'contains(finger)': False,\n",
       "  'contains(awesome)': False,\n",
       "  'contains(cdp)': False,\n",
       "  'contains(keynote)': False,\n",
       "  'contains(business)': False,\n",
       "  'contains(e)': False,\n",
       "  'contains(touchid)': False,\n",
       "  'contains(different)': False,\n",
       "  'contains(4)': False,\n",
       "  'contains(follow)': False,\n",
       "  'contains(worst)': False,\n",
       "  'contains(feature)': False,\n",
       "  'contains(ppl)': False,\n",
       "  'contains(actually)': False,\n",
       "  'contains(china)': False,\n",
       "  'contains(market)': False,\n",
       "  'contains(take)': False,\n",
       "  'contains(days)': False,\n",
       "  'contains(money)': False,\n",
       "  'contains(le)': False,\n",
       "  'contains(divulge)': False,\n",
       "  'contains(cc)': False,\n",
       "  'contains(wish)': False,\n",
       "  'contains(vs)': False,\n",
       "  'contains(genius)': False,\n",
       "  'contains(emissions)': False,\n",
       "  'contains(white)': False,\n",
       "  'contains(ill)': False,\n",
       "  'contains(darn)': False,\n",
       "  'contains(yes)': False,\n",
       "  'contains(arent)': False,\n",
       "  'contains(design)': False,\n",
       "  'contains(iphone5)': False,\n",
       "  'contains(missed)': False,\n",
       "  'contains(natz0711)': False,\n",
       "  'contains(discontinues)': False,\n",
       "  'contains(printing)': False,\n",
       "  'contains(recommends)': False,\n",
       "  'contains(many)': False,\n",
       "  'contains(vp)': False,\n",
       "  'contains(quiet)': False,\n",
       "  'contains(photogs)': False,\n",
       "  'contains(photography)': False,\n",
       "  'contains(condescension)': False,\n",
       "  'contains(stupid)': False,\n",
       "  'contains(man)': False,\n",
       "  'contains(needs)': False,\n",
       "  'contains(los)': False,\n",
       "  'contains(yooo)': False,\n",
       "  'contains(last)': False,\n",
       "  'contains(week)': False,\n",
       "  'contains(pro)': False,\n",
       "  'contains(x)': False,\n",
       "  'contains(sell)': False,\n",
       "  'contains(appstore)': False,\n",
       "  'contains(tho)': False,\n",
       "  'contains(customer)': False,\n",
       "  'contains(lo)': False,\n",
       "  'contains(said)': False,\n",
       "  'contains(tell)': False,\n",
       "  'contains(charge)': False,\n",
       "  'contains(amazing)': False,\n",
       "  'contains(7evenstarz)': False,\n",
       "  'contains(whats)': False,\n",
       "  'contains(looks)': False,\n",
       "  'contains(two)': False,\n",
       "  'contains(guess)': False,\n",
       "  'contains(jobs)': False,\n",
       "  'contains(es)': False,\n",
       "  'contains(first)': False,\n",
       "  'contains(technology)': False,\n",
       "  'contains(things)': False,\n",
       "  'contains(simple)': False,\n",
       "  'contains(short)': False,\n",
       "  'contains(called)': False,\n",
       "  'contains(date)': False,\n",
       "  'contains(innovation)': False,\n",
       "  'contains(smartphone)': False,\n",
       "  'contains(20)': False,\n",
       "  'contains(fingerprints)': False,\n",
       "  'contains(smart)': False,\n",
       "  'contains(try)': False,\n",
       "  'contains(event)': False,\n",
       "  'contains(put)': False,\n",
       "  'contains(hope)': False,\n",
       "  'contains(happy)': False,\n",
       "  'contains(together)': False,\n",
       "  'contains(waiting)': False,\n",
       "  'contains(security)': False,\n",
       "  'contains(touch)': False,\n",
       "  'contains(id)': False,\n",
       "  'contains(announcement)': False,\n",
       "  'contains(turn)': False,\n",
       "  'contains(perfect)': False,\n",
       "  'contains(seems)': False,\n",
       "  'contains(show)': False,\n",
       "  'contains(text)': False,\n",
       "  'contains(away)': False,\n",
       "  'contains(theyre)': False,\n",
       "  'contains(para)': False,\n",
       "  'contains(ok)': False,\n",
       "  'contains(music)': False,\n",
       "  'contains(everything)': False,\n",
       "  'contains(looking)': False,\n",
       "  'contains(without)': False,\n",
       "  'contains(feel)': False,\n",
       "  'contains(headphones)': False,\n",
       "  'contains(released)': False,\n",
       "  'contains(world)': False,\n",
       "  'contains(true)': False,\n",
       "  'contains(happen)': False,\n",
       "  'contains(lmao)': False,\n",
       "  'contains(maybe)': False,\n",
       "  'contains(ive)': False,\n",
       "  'contains(lost)': False,\n",
       "  'contains(244tsuyoponzu)': False,\n",
       "  'contains(nfc)': False,\n",
       "  'contains(stock)': False,\n",
       "  'contains(product)': False,\n",
       "  'contains(likes)': False,\n",
       "  'contains(female)': False,\n",
       "  'contains(condom)': False,\n",
       "  'contains(soon)': False,\n",
       "  'contains(10)': False,\n",
       "  'contains(internet)': False,\n",
       "  'contains(sprint)': False,\n",
       "  'contains(imessage)': False,\n",
       "  'contains(trying)': False,\n",
       "  'contains(users)': False,\n",
       "  'contains(cool)': False,\n",
       "  'contains(aint)': False,\n",
       "  'contains(refuse)': False,\n",
       "  'contains(break)': False,\n",
       "  'contains(case)': False,\n",
       "  'contains(deal)': False,\n",
       "  'contains(suck)': False,\n",
       "  'contains(quicker)': False,\n",
       "  'contains(waterproof)': False,\n",
       "  'contains(read)': False,\n",
       "  'contains(finally)': False,\n",
       "  'contains(httpbitlyyh1pyu)': False,\n",
       "  'contains(tv)': False,\n",
       "  'contains(watch)': False,\n",
       "  'contains(thought)': False,\n",
       "  'contains(stand)': False,\n",
       "  'contains(ayudamovistarve)': False,\n",
       "  'contains(iphone4s)': False,\n",
       "  'contains(adambain)': False,\n",
       "  'contains(um)': False,\n",
       "  'contains(ha)': False,\n",
       "  'contains(butt)': False,\n",
       "  'contains(also)': False,\n",
       "  'contains(huge)': False,\n",
       "  'contains(straight)': False,\n",
       "  'contains(green)': False,\n",
       "  'contains(continue)': False,\n",
       "  'contains(nuevos)': False,\n",
       "  'contains(sus)': False,\n",
       "  'contains(bring)': False,\n",
       "  'contains(ur)': False,\n",
       "  'contains(bubblemania)': False,\n",
       "  'contains(times)': False,\n",
       "  'contains(may)': False,\n",
       "  'contains(michaeljordan)': False,\n",
       "  'contains(figure)': False,\n",
       "  'contains(bad)': False,\n",
       "  'contains(fail)': False,\n",
       "  'contains(morning)': False,\n",
       "  'contains(comes)': False,\n",
       "  'contains(button)': False,\n",
       "  'contains(guy)': False,\n",
       "  'contains(hasnt)': False,\n",
       "  'contains(shame)': False,\n",
       "  'contains(article)': False,\n",
       "  'contains(switch)': False,\n",
       "  'contains(hour)': False,\n",
       "  'contains(n)': False,\n",
       "  'contains(enough)': False,\n",
       "  'contains(used)': False,\n",
       "  'contains(email)': False,\n",
       "  'contains(colors)': False,\n",
       "  'contains(god)': False,\n",
       "  'contains(sorry)': False,\n",
       "  'contains(watching)': False,\n",
       "  'contains(camera)': False,\n",
       "  'contains(hello)': False,\n",
       "  'contains(high)': False,\n",
       "  'contains(heck)': False,\n",
       "  'contains(india)': False,\n",
       "  'contains(night)': False,\n",
       "  'contains(add)': False,\n",
       "  'contains(appletweets)': False,\n",
       "  'contains(print)': False,\n",
       "  'contains(worth)': False,\n",
       "  'contains(someone)': False,\n",
       "  'contains(longer)': False,\n",
       "  'contains(joconfino)': False,\n",
       "  'contains(disgrace)': False,\n",
       "  'contains(electrafood)': False,\n",
       "  'contains(ugh)': False,\n",
       "  'contains(ichooseblackberry10)': False,\n",
       "  'contains(announces)': False,\n",
       "  'contains(line)': False,\n",
       "  'contains(rather)': False,\n",
       "  'contains(cut)': False,\n",
       "  'contains(access)': False,\n",
       "  'contains(couldnt)': False,\n",
       "  'contains(understand)': False,\n",
       "  'contains(slow)': False,\n",
       "  'contains(account)': False,\n",
       "  'contains(pay)': False,\n",
       "  'contains(bc)': False,\n",
       "  'contains(dropped)': False,\n",
       "  'contains(mini)': False,\n",
       "  'contains(real)': False,\n",
       "  'contains(years)': False,\n",
       "  'contains(shares)': False,\n",
       "  'contains(annoying)': False,\n",
       "  'contains(password)': False,\n",
       "  'contains(smh)': False,\n",
       "  'contains(companies)': False,\n",
       "  'contains(else)': False,\n",
       "  'contains(literally)': False,\n",
       "  'contains(excited)': False,\n",
       "  'contains(offer)': False,\n",
       "  'contains(neither)': False,\n",
       "  'contains(movistar)': False,\n",
       "  'contains(laptop)': False,\n",
       "  'contains(key)': False,\n",
       "  'contains(thepartycow)': False,\n",
       "  'contains(fire)': False,\n",
       "  'contains(64bit)': False,\n",
       "  'contains(left)': False,\n",
       "  'contains(don_1za)': False,\n",
       "  'contains(move)': False,\n",
       "  'contains(seem)': False,\n",
       "  'contains(r)': False,\n",
       "  'contains(create)': False,\n",
       "  'contains(20th)': False,\n",
       "  'contains(8)': False,\n",
       "  'contains(future)': False,\n",
       "  'contains(desperate)': False,\n",
       "  'contains(fast)': False,\n",
       "  'contains(turns)': False,\n",
       "  'contains(second)': False,\n",
       "  'contains(lxforever)': False,\n",
       "  'contains(features)': False,\n",
       "  'contains(cannot)': False,\n",
       "  'contains(haha)': False,\n",
       "  'contains(problem)': False,\n",
       "  'contains(sad)': False,\n",
       "  'contains(mati_ucurvegawd)': False,\n",
       "  'contains(safari)': False,\n",
       "  'contains(version)': False,\n",
       "  'contains(started)': False,\n",
       "  'contains(face)': False,\n",
       "  'contains(wasnt)': False,\n",
       "  'contains(absolutely)': False,\n",
       "  'contains(pages)': False,\n",
       "  'contains(imovie)': False,\n",
       "  'contains(brand)': False,\n",
       "  'contains(improved)': False,\n",
       "  'contains(gone)': False,\n",
       "  'contains(laurenjessa)': False,\n",
       "  'contains(windows)': False,\n",
       "  'contains(bueno)': False,\n",
       "  'contains(asi)': False,\n",
       "  'contains(mas)': False,\n",
       "  'contains(game)': False,\n",
       "  'contains(person)': False,\n",
       "  'contains(cracked)': False,\n",
       "  'contains(friday)': False,\n",
       "  'contains(yeah)': False,\n",
       "  'contains(share)': False,\n",
       "  'contains(experience)': False,\n",
       "  'contains(little)': False,\n",
       "  'contains(met)': False,\n",
       "  'contains(lock)': False,\n",
       "  'contains(wants)': False,\n",
       "  'contains(found)': False,\n",
       "  'contains(screens)': False,\n",
       "  'contains(alarm)': False,\n",
       "  'contains(taking)': False,\n",
       "  'contains(wanna)': False,\n",
       "  'contains(chip)': False,\n",
       "  'contains(maps)': False,\n",
       "  'contains(nokia_uk)': False,\n",
       "  'contains(texts)': False,\n",
       "  'contains(strategy)': False,\n",
       "  'contains(wifi)': False,\n",
       "  'contains(64)': False,\n",
       "  'contains(itunesfestival)': False,\n",
       "  'contains(stick)': False,\n",
       "  'contains(long)': False,\n",
       "  'contains(24)': False,\n",
       "  'contains(live)': False,\n",
       "  'contains(home)': False,\n",
       "  'contains(sold)': False,\n",
       "  'contains(acting)': False,\n",
       "  'contains(expect)': False,\n",
       "  'contains(2013)': False,\n",
       "  'contains(pretty)': False,\n",
       "  'contains(half)': False,\n",
       "  'contains(copy)': False,\n",
       "  'contains(ceo)': False,\n",
       "  'contains(piece)': False,\n",
       "  'contains(software)': False,\n",
       "  'contains(either)': False,\n",
       "  'contains(went)': False,\n",
       "  'contains(punk240z)': False,\n",
       "  'contains(team)': False,\n",
       "  'contains(check)': False,\n",
       "  'contains(preorders)': False,\n",
       "  'contains(jesus)': False,\n",
       "  'contains(basically)': False,\n",
       "  'contains(ugly)': False,\n",
       "  'contains(option)': False,\n",
       "  'contains(teamiphone)': False,\n",
       "  'contains(sound)': False,\n",
       "  'contains(apparently)': False,\n",
       "  'contains(appletv)': False,\n",
       "  'contains(nice)': False,\n",
       "  'contains(play)': False,\n",
       "  'contains(flash)': False,\n",
       "  'contains(buying)': False,\n",
       "  'contains(song)': False,\n",
       "  'contains(impressive)': False,\n",
       "  'contains(tells)': False,\n",
       "  'contains(global)': False,\n",
       "  'contains(change)': False,\n",
       "  'contains(wonder)': False,\n",
       "  'contains(se)': False,\n",
       "  'contains(latest)': False,\n",
       "  'contains(easier)': False,\n",
       "  'contains(gets)': False,\n",
       "  'contains(system)': False,\n",
       "  'contains(highlyhightori)': False,\n",
       "  'contains(cook)': False,\n",
       "  'contains(hours)': False,\n",
       "  'contains(course)': False,\n",
       "  'contains(fashion)': False,\n",
       "  'contains(johan_barnard)': False,\n",
       "  'contains(hahaha)': False,\n",
       "  'contains(thoughts)': False,\n",
       "  'contains(refusing)': False,\n",
       "  'contains(putting)': False,\n",
       "  'contains(red)': False,\n",
       "  'contains(las)': False,\n",
       "  'contains(spent)': False,\n",
       "  'contains(wrong)': False,\n",
       "  'contains(problems)': False,\n",
       "  'contains(lower)': False,\n",
       "  'contains(download)': False,\n",
       "  'contains(believe)': False,\n",
       "  'contains(4s)': False,\n",
       "  'contains(crap)': False,\n",
       "  'contains(em)': False,\n",
       "  'contains(complete)': False,\n",
       "  'contains(government)': False,\n",
       "  'contains(yh)': False,\n",
       "  'contains(inc)': False,\n",
       "  'contains(quite)': False,\n",
       "  'contains(loading)': False,\n",
       "  'contains(around)': False,\n",
       "  'contains(least)': False,\n",
       "  'contains(hopefully)': False,\n",
       "  'contains(introducing)': False,\n",
       "  'contains(youtube)': False,\n",
       "  'contains(difference)': False,\n",
       "  'contains(tf)': False,\n",
       "  'contains(identity)': False,\n",
       "  'contains(iwork)': False,\n",
       "  'contains(dude)': False,\n",
       "  'contains(almost)': False,\n",
       "  'contains(omfg)': False,\n",
       "  'contains(saved)': False,\n",
       "  'contains(though)': False,\n",
       "  'contains(months)': False,\n",
       "  'contains(uses)': False,\n",
       "  'contains(springsummer)': False,\n",
       "  'contains(2014)': False,\n",
       "  'contains(runway)': False,\n",
       "  'contains(biometrics)': False,\n",
       "  'contains(the_hott_spot)': False,\n",
       "  'contains(themixxhangout)': False,\n",
       "  'contains(mean)': False,\n",
       "  'contains(wheres)': False,\n",
       "  'contains(soooo)': False,\n",
       "  'contains(far)': False,\n",
       "  'contains(gifs)': False,\n",
       "  'contains(vulgar)': False,\n",
       "  'contains(samssung)': False,\n",
       "  'contains(office)': False,\n",
       "  'contains(quick)': False,\n",
       "  'contains(ipads)': False,\n",
       "  'contains(came)': False,\n",
       "  'contains(website)': False,\n",
       "  'contains(thx)': False,\n",
       "  'contains(simply)': False,\n",
       "  'contains(light)': False,\n",
       "  'contains(park)': False,\n",
       "  'contains(asks)': False,\n",
       "  'contains(updating)': False,\n",
       "  'contains(swagga_l)': False,\n",
       "  'contains(clear)': False,\n",
       "  'contains(cause)': False,\n",
       "  'contains(important)': False,\n",
       "  'contains(broke)': False,\n",
       "  'contains(075)': False,\n",
       "  'contains(numbers)': False,\n",
       "  'contains(jzfan)': False,\n",
       "  'contains(recognition)': False,\n",
       "  'contains(online)': False,\n",
       "  'contains(retail)': False,\n",
       "  'contains(needed)': False,\n",
       "  'contains(wo)': False,\n",
       "  'contains(anyway)': False,\n",
       "  'contains(auto)': False,\n",
       "  'contains(199)': False,\n",
       "  'contains(theres)': False,\n",
       "  'contains(level)': False,\n",
       "  'contains(cuando)': False,\n",
       "  'contains(baratos)': False,\n",
       "  'contains(asking)': False,\n",
       "  'contains(hard)': False,\n",
       "  'contains(lfw)': False,\n",
       "  'contains(weird)': False,\n",
       "  'contains(fr)': False,\n",
       "  'contains(3)': False,\n",
       "  'contains(ipo)': False,\n",
       "  'contains(social)': False,\n",
       "  'contains(media)': False,\n",
       "  'contains(hd)': False,\n",
       "  'contains(works)': False,\n",
       "  'contains(information)': False,\n",
       "  'contains(om)': False,\n",
       "  'contains(talk)': False,\n",
       "  'contains(force)': False,\n",
       "  'contains(issue)': False,\n",
       "  'contains(end)': False,\n",
       "  'contains(storage)': False,\n",
       "  'contains(k)': False,\n",
       "  'contains(verizon)': False,\n",
       "  'contains(verizonwireless)': False,\n",
       "  'contains(att)': False,\n",
       "  'contains(switching)': False,\n",
       "  'contains(1085)': False,\n",
       "  'contains(followers)': False,\n",
       "  'contains(excellent)': False,\n",
       "  'contains(glad)': False,\n",
       "  'contains(faster)': False,\n",
       "  'contains(ram)': False,\n",
       "  'contains(fact)': False,\n",
       "  'contains(process)': False,\n",
       "  'contains(laugh)': False,\n",
       "  'contains(sagarkamesh)': False,\n",
       "  'contains(wanted)': False,\n",
       "  'contains(happened)': False,\n",
       "  'contains(ad)': False,\n",
       "  'contains(tomorrow)': False,\n",
       "  'contains(colour)': False,\n",
       "  'contains(consumer)': False,\n",
       "  'contains(jonyive)': False,\n",
       "  'contains(kidding)': False,\n",
       "  'contains(fan)': False,\n",
       "  'contains(omg)': False,\n",
       "  'contains(sick)': False,\n",
       "  'contains(chrome)': False,\n",
       "  'contains(pandora)': False,\n",
       "  'contains(banca)': False,\n",
       "  'contains(rota)': False,\n",
       "  'contains(culpa)': False,\n",
       "  'contains(recent)': False,\n",
       "  'contains(innovative)': False,\n",
       "  'contains(launch)': False,\n",
       "  'contains(del)': False,\n",
       "  'contains(die)': False,\n",
       "  'contains(trick)': False,\n",
       "  'contains(jmlcolley)': False,\n",
       "  'contains(updates)': False,\n",
       "  'contains(calling)': False,\n",
       "  'contains(middle)': False,\n",
       "  'contains(meaning)': False,\n",
       "  'contains(seriously)': False,\n",
       "  'contains(cloud)': False,\n",
       "  'contains(lot)': False,\n",
       "  'contains(applenws)': False,\n",
       "  'contains(3g)': False,\n",
       "  'contains(created)': False,\n",
       "  'contains(group)': False,\n",
       "  'contains(totally)': False,\n",
       "  'contains(gb)': False,\n",
       "  'contains(drops)': False,\n",
       "  'contains(exactly)': False,\n",
       "  'contains(creativefutur)': False,\n",
       "  'contains(uwscreative)': False,\n",
       "  'contains(development)': False,\n",
       "  'contains(died)': False,\n",
       "  'contains(probably)': False,\n",
       "  'contains(stored)': False,\n",
       "  'contains(whitesilver)': False,\n",
       "  'contains(joke)': False,\n",
       "  'contains(disappointed)': False,\n",
       "  'contains(reason)': False,\n",
       "  'contains(developer)': False,\n",
       "  'contains(battalalgoos)': False,\n",
       "  'contains(jarvis)': False,\n",
       "  'contains(dougrtequan)': False,\n",
       "  'contains(harder)': False,\n",
       "  'contains(pls)': False,\n",
       "  'contains(charger)': False,\n",
       "  'contains(colours)': False,\n",
       "  'contains(cheaper)': False,\n",
       "  'contains(nasty)': False,\n",
       "  'contains(signal)': False,\n",
       "  'contains(nobody)': False,\n",
       "  'contains(hurt)': False,\n",
       "  'contains(rip)': False,\n",
       "  'contains(releases)': False,\n",
       "  'contains(another)': False,\n",
       "  'contains(champagne)': False,\n",
       "  'contains(m7)': False,\n",
       "  'contains(ready)': False,\n",
       "  'contains(fool)': False,\n",
       "  'contains(unlock)': False,\n",
       "  'contains(word)': False,\n",
       "  'contains(goes)': False,\n",
       "  'contains(view)': False,\n",
       "  'contains(al)': False,\n",
       "  'contains(announced)': False,\n",
       "  'contains(weeks)': False,\n",
       "  'contains(remains)': False,\n",
       "  'contains(ones)': False,\n",
       "  'contains(teaser)': False,\n",
       "  'contains(within)': False,\n",
       "  'contains(solar)': False,\n",
       "  'contains(acciones)': False,\n",
       "  'contains(page)': False,\n",
       "  'contains(mad)': False,\n",
       "  'contains(ijordans)': False,\n",
       "  'contains(might)': False,\n",
       "  'contains(become)': False,\n",
       "  'contains(dying)': False,\n",
       "  'contains(worse)': False,\n",
       "  'contains(ghostt_gaming)': False,\n",
       "  'contains(announce)': False,\n",
       "  'contains(mute)': False,\n",
       "  'contains(match)': False,\n",
       "  'contains(added)': False,\n",
       "  'contains(takes)': False,\n",
       "  'contains(stevejobs)': False,\n",
       "  'contains(emojis)': False,\n",
       "  'contains(infrastructure)': False,\n",
       "  'contains(freaked)': False,\n",
       "  'contains(test)': False,\n",
       "  'contains(low)': False,\n",
       "  'contains(cost)': False,\n",
       "  'contains(bbm4all)': False,\n",
       "  'contains(undefined)': False,\n",
       "  'contains(darrensproat)': False,\n",
       "  'contains(forget)': False,\n",
       "  'contains(httpbitly16lfd2s)': False,\n",
       "  'contains(shouldnt)': False,\n",
       "  'contains(archrival)': False,\n",
       "  'contains(outperforming)': False,\n",
       "  'contains(lets)': False,\n",
       "  'contains(diego)': False,\n",
       "  'contains(son)': False,\n",
       "  'contains(thieves)': False,\n",
       "  'contains(fingers)': False,\n",
       "  'contains(innovating)': False,\n",
       "  'contains(behind)': False,\n",
       "  'contains(strange)': False,\n",
       "  'contains(expensive)': False,\n",
       "  'contains(australia)': False,\n",
       "  'contains(stopped)': False,\n",
       "  'contains(anymore)': False,\n",
       "  'contains(havent)': False,\n",
       "  'contains(uksga)': False,\n",
       "  'contains(catscab)': False,\n",
       "  'contains(universityofky)': False,\n",
       "  'contains(students)': False,\n",
       "  'contains(signs)': False,\n",
       "  'contains(connect)': False,\n",
       "  'contains(chips)': False,\n",
       "  'contains(pschiller)': False,\n",
       "  'contains(stuck)': False,\n",
       "  'contains(warranty)': False,\n",
       "  'contains(plan)': False,\n",
       "  'contains(ears)': False,\n",
       "  'contains(colourful)': False,\n",
       "  'contains(brat)': False,\n",
       "  'contains(okay)': False,\n",
       "  'contains(review)': False,\n",
       "  'contains(jonjonnyp)': False,\n",
       "  'contains(unlocking)': False,\n",
       "  'contains(playing)': False,\n",
       "  'contains(write)': False,\n",
       "  'contains(prints)': False,\n",
       "  'contains(theft)': False,\n",
       "  'contains(recovery)': False,\n",
       "  'contains(picture)': False,\n",
       "  'contains(yesterday)': False,\n",
       "  'contains(position)': False,\n",
       "  'contains(tablets)': False,\n",
       "  'contains(highsnobiety)': False,\n",
       "  'contains(preordered)': False,\n",
       "  'contains(httpbitly1earplz)': False,\n",
       "  'contains(lusalazar)': False,\n",
       "  'contains(na)': False,\n",
       "  'contains(worldwide)': False,\n",
       "  'contains(pa)': False,\n",
       "  'contains(heart)': False,\n",
       "  'contains(ios7s)': False,\n",
       "  'contains(reveal)': False,\n",
       "  'contains(talked)': False,\n",
       "  'contains(lg)': False,\n",
       "  'contains(veel)': False,\n",
       "  'contains(applecare)': False,\n",
       "  'contains(era)': False,\n",
       "  'contains(loving)': False,\n",
       "  'contains(press)': False,\n",
       "  'contains(httpbitlya83mmb)': False,\n",
       "  'contains(banned)': False,\n",
       "  'contains(filsfan)': False,\n",
       "  'contains(ginianightly)': False,\n",
       "  'contains(jasonreiner)': False,\n",
       "  'contains(info)': False,\n",
       "  'contains(joshanderson09)': False,\n",
       "  'contains(guardiansustbiz)': False,\n",
       "  'contains(delilahevening)': False,\n",
       "  'contains(lame)': False,\n",
       "  'contains(a3)': False,\n",
       "  'contains(volleying)': False,\n",
       "  'contains(helping)': False,\n",
       "  'contains(raise)': False,\n",
       "  'contains(mobiles)': False,\n",
       "  'contains(speedux)': False,\n",
       "  'contains(mobilebiz)': False,\n",
       "  'contains(messages)': False,\n",
       "  'contains(ivizi_apr)': False,\n",
       "  'contains(improving)': False,\n",
       "  'contains(resumen)': False,\n",
       "  'contains(claves)': False,\n",
       "  'contains(lanzamiento)': False,\n",
       "  'contains(keep)': False,\n",
       "  'contains(display)': False,\n",
       "  'contains(reader)': False,\n",
       "  'contains(fails)': False,\n",
       "  'contains(folks)': False,\n",
       "  'contains(start)': False,\n",
       "  'contains(ser)': False,\n",
       "  'contains(instagram)': False,\n",
       "  'contains(tb)': False,\n",
       "  'contains(darnit)': False,\n",
       "  'contains(lose)': False,\n",
       "  'contains(willing)': False,\n",
       "  'contains(200)': False,\n",
       "  'contains(mans)': False,\n",
       "  'contains(final)': False,\n",
       "  'contains(french)': False,\n",
       "  'contains(dat)': False,\n",
       "  'contains(wen)': False,\n",
       "  'contains(hot)': False,\n",
       "  'contains(chance)': False,\n",
       "  'contains(b4)': False,\n",
       "  'contains(howswelegant)': False,\n",
       "  'contains(samsungmobile)': False,\n",
       "  'contains(sept)': False,\n",
       "  'contains(firstworldproblems)': False,\n",
       "  'contains(top)': False,\n",
       "  'contains(constantly)': False,\n",
       "  'contains(compete)': False,\n",
       "  'contains(led)': False,\n",
       "  'contains(ross)': False,\n",
       "  'contains(meant)': False,\n",
       "  'contains(ucuz)': False,\n",
       "  'contains(history)': False,\n",
       "  'contains(interesting)': False,\n",
       "  'contains(mind)': False,\n",
       "  'contains(joking)': False,\n",
       "  'contains(biometric)': False,\n",
       "  'contains(selling)': False,\n",
       "  'contains(point)': False,\n",
       "  'contains(post)': False,\n",
       "  'contains(snowden)': False,\n",
       "  'contains(content)': False,\n",
       "  'contains(walmart)': False,\n",
       "  'contains(discounts)': False,\n",
       "  'contains(drive)': False,\n",
       "  'contains(httpbitly14mbzlm)': False,\n",
       "  'contains(hit)': False,\n",
       "  'contains(spot)': False,\n",
       "  'contains(instore)': False,\n",
       "  'contains(applenews)': False,\n",
       "  'contains(starting)': False,\n",
       "  'contains(beautiful)': False,\n",
       "  'contains(replaced)': False,\n",
       "  'contains(protection)': False,\n",
       "  'contains(voor)': False,\n",
       "  'contains(nu)': False,\n",
       "  'contains(contract)': False,\n",
       "  'contains(549)': False,\n",
       "  'contains(aheaux)': False,\n",
       "  'contains(drop)': False,\n",
       "  'contains(como)': False,\n",
       "  'contains(saca)': False,\n",
       "  'contains(announcements)': False,\n",
       "  'contains(must)': False,\n",
       "  'contains(sent)': False,\n",
       "  'contains(repaired)': False,\n",
       "  'contains(battle)': False,\n",
       "  'contains(forward)': False,\n",
       "  'contains(finish)': False,\n",
       "  'contains(ago)': False,\n",
       "  'contains(nl)': False,\n",
       "  'contains(nieuws)': False,\n",
       "  'contains(heeft)': False,\n",
       "  'contains(een)': False,\n",
       "  'contains(brought)': False,\n",
       "  'contains(boo)': False,\n",
       "  'contains(pricing)': False,\n",
       "  'contains(aapl)': False,\n",
       "  'contains(jocofino)': False,\n",
       "  'contains(putins)': False,\n",
       "  'contains(pr)': False,\n",
       "  'contains(firm)': False,\n",
       "  'contains(twitters)': False,\n",
       "  'contains(socialwally)': False,\n",
       "  'contains(brings)': False,\n",
       "  'contains(posts)': False,\n",
       "  'contains(freakin)': False,\n",
       "  'contains(rest)': False,\n",
       "  'contains(httpgucomp3tyeptw)': False,\n",
       "  'contains(delete)': False,\n",
       "  'contains(presale)': False,\n",
       "  'contains(offers)': False,\n",
       "  'contains(details)': False,\n",
       "  'contains(hq)': False,\n",
       "  'contains(knew)': False,\n",
       "  'contains(glass)': False,\n",
       "  'contains(prior)': False,\n",
       "  'contains(messed)': False,\n",
       "  'contains(notifications)': False,\n",
       "  'contains(malik)': False,\n",
       "  'contains(httpbuffly1egmopu)': False,\n",
       "  'contains(ko)': False,\n",
       "  'contains(galaxy)': False,\n",
       "  'contains(cnet)': False,\n",
       "  'contains(silly)': False,\n",
       "  'contains(potential)': False,\n",
       "  'contains(commercial)': False,\n",
       "  'contains(ibeacon)': False,\n",
       "  'contains(network)': False,\n",
       "  'contains(downloaded)': False,\n",
       "  'contains(seen)': False,\n",
       "  'contains(stuffty)': False,\n",
       "  'contains(dead)': False,\n",
       "  'contains(upgraded)': False,\n",
       "  'contains(hear)': False,\n",
       "  'contains(functioning)': False,\n",
       "  'contains(decided)': False,\n",
       "  'contains(allow)': False,\n",
       "  'contains(call)': False,\n",
       "  'contains(tweet)': False,\n",
       "  'contains(eh)': False,\n",
       "  'contains(processor)': False,\n",
       "  'contains(stone)': False,\n",
       "  'contains(submitted)': False,\n",
       "  'contains(2005)': False,\n",
       "  'contains(took)': False,\n",
       "  'contains(barackobama)': False,\n",
       "  'contains(f)': False,\n",
       "  'contains(honest)': False,\n",
       "  'contains(piss)': False,\n",
       "  'contains(statement)': False,\n",
       "  'contains(nokias)': False,\n",
       "  'contains(patent)': False,\n",
       "  'contains(focus)': False,\n",
       "  'contains(hold)': False,\n",
       "  'contains(overpriced)': False,\n",
       "  'contains(argh)': False,\n",
       "  'contains(provide)': False,\n",
       "  'contains(voice)': False,\n",
       "  'contains(foh)': False,\n",
       "  'contains(5cheap)': False,\n",
       "  'contains(lawsuit)': False,\n",
       "  'contains(loved)': False,\n",
       "  'contains(backed)': False,\n",
       "  'contains(everyone)': False,\n",
       "  'contains(stay)': False,\n",
       "  'contains(original)': False,\n",
       "  'contains(lumia)': False,\n",
       "  'contains(hoping)': False,\n",
       "  'contains(laughing)': False,\n",
       "  'contains(manita)': False,\n",
       "  'contains(mizbuchitos)': False,\n",
       "  'contains(imo)': False,\n",
       "  'contains(5sc)': False,\n",
       "  'contains(privacy)': False,\n",
       "  'contains(sucks)': False,\n",
       "  'contains(woke)': False,\n",
       "  'contains(kemalnads)': False,\n",
       "  ...},\n",
       " 'Positive')"
      ]
     },
     "execution_count": 35,
     "metadata": {},
     "output_type": "execute_result"
    }
   ],
   "source": [
    "featuresets[0]"
   ]
  },
  {
   "cell_type": "code",
   "execution_count": 39,
   "metadata": {
    "ExecuteTime": {
     "end_time": "2020-09-17T13:16:53.055708Z",
     "start_time": "2020-09-17T13:16:51.397944Z"
    }
   },
   "outputs": [],
   "source": [
    "# Train Naive Bayes classifier\n",
    "train_set, test_set = featuresets[0:int(len(featuresets)*0.7)], featuresets[int(len(featuresets)*0.7):]\n",
    "\n",
    "classifier = nltk.NaiveBayesClassifier.train(train_set)"
   ]
  },
  {
   "cell_type": "code",
   "execution_count": 37,
   "metadata": {
    "ExecuteTime": {
     "end_time": "2020-09-17T13:16:56.212100Z",
     "start_time": "2020-09-17T13:16:54.053833Z"
    }
   },
   "outputs": [
    {
     "name": "stdout",
     "output_type": "stream",
     "text": [
      "0.6732394366197183\n"
     ]
    }
   ],
   "source": [
    "print(nltk.classify.accuracy(classifier, test_set))"
   ]
  },
  {
   "cell_type": "markdown",
   "metadata": {},
   "source": [
    "# Alternate Way: using Naive Bayes Classifier.\n",
    "Now, let us reload the data and look at a few other text mining functionalities that Python offers us and then go on to fit a classifier algorithm."
   ]
  },
  {
   "cell_type": "code",
   "execution_count": 40,
   "metadata": {
    "ExecuteTime": {
     "end_time": "2020-09-17T13:17:23.843541Z",
     "start_time": "2020-09-17T13:17:23.836513Z"
    }
   },
   "outputs": [],
   "source": [
    "## Loading the dataset\n",
    "Apple_tweets = pd.read_csv(\"Apple_tweets.csv\")"
   ]
  },
  {
   "cell_type": "markdown",
   "metadata": {},
   "source": [
    "## Basic Exploration in Text Mining"
   ]
  },
  {
   "cell_type": "markdown",
   "metadata": {},
   "source": [
    "### Number of words"
   ]
  },
  {
   "cell_type": "markdown",
   "metadata": {},
   "source": [
    "**To create a temporary function lambda can be used. These functions do not require a name like a def function, however the output is same as defining a permanent function**\n",
    "**As these function are temporary, memory comsumption is less in comparison to permanent function. Also there are multiple ways to get a similar output**\n"
   ]
  },
  {
   "cell_type": "code",
   "execution_count": 41,
   "metadata": {
    "ExecuteTime": {
     "end_time": "2020-09-17T13:17:54.915260Z",
     "start_time": "2020-09-17T13:17:54.880323Z"
    }
   },
   "outputs": [
    {
     "data": {
      "text/html": [
       "<div>\n",
       "<style scoped>\n",
       "    .dataframe tbody tr th:only-of-type {\n",
       "        vertical-align: middle;\n",
       "    }\n",
       "\n",
       "    .dataframe tbody tr th {\n",
       "        vertical-align: top;\n",
       "    }\n",
       "\n",
       "    .dataframe thead th {\n",
       "        text-align: right;\n",
       "    }\n",
       "</style>\n",
       "<table border=\"1\" class=\"dataframe\">\n",
       "  <thead>\n",
       "    <tr style=\"text-align: right;\">\n",
       "      <th></th>\n",
       "      <th>Tweet</th>\n",
       "      <th>totalwords</th>\n",
       "    </tr>\n",
       "  </thead>\n",
       "  <tbody>\n",
       "    <tr>\n",
       "      <th>0</th>\n",
       "      <td>I have to say, Apple has by far the best custo...</td>\n",
       "      <td>19</td>\n",
       "    </tr>\n",
       "    <tr>\n",
       "      <th>1</th>\n",
       "      <td>iOS 7 is so fricking smooth &amp; beautiful!! #Tha...</td>\n",
       "      <td>10</td>\n",
       "    </tr>\n",
       "    <tr>\n",
       "      <th>2</th>\n",
       "      <td>LOVE U @APPLE</td>\n",
       "      <td>3</td>\n",
       "    </tr>\n",
       "    <tr>\n",
       "      <th>3</th>\n",
       "      <td>Thank you @apple, loving my new iPhone 5S!!!!!...</td>\n",
       "      <td>11</td>\n",
       "    </tr>\n",
       "    <tr>\n",
       "      <th>4</th>\n",
       "      <td>.@apple has the best customer service. In and ...</td>\n",
       "      <td>16</td>\n",
       "    </tr>\n",
       "  </tbody>\n",
       "</table>\n",
       "</div>"
      ],
      "text/plain": [
       "                                               Tweet  totalwords\n",
       "0  I have to say, Apple has by far the best custo...          19\n",
       "1  iOS 7 is so fricking smooth & beautiful!! #Tha...          10\n",
       "2                                      LOVE U @APPLE           3\n",
       "3  Thank you @apple, loving my new iPhone 5S!!!!!...          11\n",
       "4  .@apple has the best customer service. In and ...          16"
      ]
     },
     "execution_count": 41,
     "metadata": {},
     "output_type": "execute_result"
    }
   ],
   "source": [
    "## Let's get a word count without writing a lambda function\n",
    "\n",
    "Apple_tweets['totalwords'] = [len(x.split()) for x in Apple_tweets['Tweet'].tolist()]\n",
    "Apple_tweets[['Tweet','totalwords']].head()"
   ]
  },
  {
   "cell_type": "code",
   "execution_count": 42,
   "metadata": {
    "ExecuteTime": {
     "end_time": "2020-09-17T13:24:09.462643Z",
     "start_time": "2020-09-17T13:24:09.449644Z"
    }
   },
   "outputs": [
    {
     "data": {
      "text/html": [
       "<div>\n",
       "<style scoped>\n",
       "    .dataframe tbody tr th:only-of-type {\n",
       "        vertical-align: middle;\n",
       "    }\n",
       "\n",
       "    .dataframe tbody tr th {\n",
       "        vertical-align: top;\n",
       "    }\n",
       "\n",
       "    .dataframe thead th {\n",
       "        text-align: right;\n",
       "    }\n",
       "</style>\n",
       "<table border=\"1\" class=\"dataframe\">\n",
       "  <thead>\n",
       "    <tr style=\"text-align: right;\">\n",
       "      <th></th>\n",
       "      <th>Tweet</th>\n",
       "      <th>word_count</th>\n",
       "    </tr>\n",
       "  </thead>\n",
       "  <tbody>\n",
       "    <tr>\n",
       "      <th>0</th>\n",
       "      <td>I have to say, Apple has by far the best custo...</td>\n",
       "      <td>19</td>\n",
       "    </tr>\n",
       "    <tr>\n",
       "      <th>1</th>\n",
       "      <td>iOS 7 is so fricking smooth &amp; beautiful!! #Tha...</td>\n",
       "      <td>10</td>\n",
       "    </tr>\n",
       "    <tr>\n",
       "      <th>2</th>\n",
       "      <td>LOVE U @APPLE</td>\n",
       "      <td>3</td>\n",
       "    </tr>\n",
       "    <tr>\n",
       "      <th>3</th>\n",
       "      <td>Thank you @apple, loving my new iPhone 5S!!!!!...</td>\n",
       "      <td>12</td>\n",
       "    </tr>\n",
       "    <tr>\n",
       "      <th>4</th>\n",
       "      <td>.@apple has the best customer service. In and ...</td>\n",
       "      <td>16</td>\n",
       "    </tr>\n",
       "  </tbody>\n",
       "</table>\n",
       "</div>"
      ],
      "text/plain": [
       "                                               Tweet  word_count\n",
       "0  I have to say, Apple has by far the best custo...          19\n",
       "1  iOS 7 is so fricking smooth & beautiful!! #Tha...          10\n",
       "2                                      LOVE U @APPLE           3\n",
       "3  Thank you @apple, loving my new iPhone 5S!!!!!...          12\n",
       "4  .@apple has the best customer service. In and ...          16"
      ]
     },
     "execution_count": 42,
     "metadata": {},
     "output_type": "execute_result"
    }
   ],
   "source": [
    "Apple_tweets['word_count'] = Apple_tweets['Tweet'].apply(lambda x: len(str(x).split(\" \")))\n",
    "Apple_tweets[['Tweet','word_count']].head()"
   ]
  },
  {
   "cell_type": "markdown",
   "metadata": {},
   "source": [
    "### Number of Characters- including spaces"
   ]
  },
  {
   "cell_type": "code",
   "execution_count": 43,
   "metadata": {
    "ExecuteTime": {
     "end_time": "2020-09-17T13:26:56.611074Z",
     "start_time": "2020-09-17T13:26:56.597112Z"
    }
   },
   "outputs": [
    {
     "data": {
      "text/html": [
       "<div>\n",
       "<style scoped>\n",
       "    .dataframe tbody tr th:only-of-type {\n",
       "        vertical-align: middle;\n",
       "    }\n",
       "\n",
       "    .dataframe tbody tr th {\n",
       "        vertical-align: top;\n",
       "    }\n",
       "\n",
       "    .dataframe thead th {\n",
       "        text-align: right;\n",
       "    }\n",
       "</style>\n",
       "<table border=\"1\" class=\"dataframe\">\n",
       "  <thead>\n",
       "    <tr style=\"text-align: right;\">\n",
       "      <th></th>\n",
       "      <th>Tweet</th>\n",
       "      <th>char_count</th>\n",
       "    </tr>\n",
       "  </thead>\n",
       "  <tbody>\n",
       "    <tr>\n",
       "      <th>0</th>\n",
       "      <td>I have to say, Apple has by far the best custo...</td>\n",
       "      <td>101</td>\n",
       "    </tr>\n",
       "    <tr>\n",
       "      <th>1</th>\n",
       "      <td>iOS 7 is so fricking smooth &amp; beautiful!! #Tha...</td>\n",
       "      <td>60</td>\n",
       "    </tr>\n",
       "    <tr>\n",
       "      <th>2</th>\n",
       "      <td>LOVE U @APPLE</td>\n",
       "      <td>13</td>\n",
       "    </tr>\n",
       "    <tr>\n",
       "      <th>3</th>\n",
       "      <td>Thank you @apple, loving my new iPhone 5S!!!!!...</td>\n",
       "      <td>91</td>\n",
       "    </tr>\n",
       "    <tr>\n",
       "      <th>4</th>\n",
       "      <td>.@apple has the best customer service. In and ...</td>\n",
       "      <td>82</td>\n",
       "    </tr>\n",
       "  </tbody>\n",
       "</table>\n",
       "</div>"
      ],
      "text/plain": [
       "                                               Tweet  char_count\n",
       "0  I have to say, Apple has by far the best custo...         101\n",
       "1  iOS 7 is so fricking smooth & beautiful!! #Tha...          60\n",
       "2                                      LOVE U @APPLE          13\n",
       "3  Thank you @apple, loving my new iPhone 5S!!!!!...          91\n",
       "4  .@apple has the best customer service. In and ...          82"
      ]
     },
     "execution_count": 43,
     "metadata": {},
     "output_type": "execute_result"
    }
   ],
   "source": [
    "Apple_tweets['char_count'] = Apple_tweets['Tweet'].str.len()\n",
    "Apple_tweets[['Tweet','char_count']].head()"
   ]
  },
  {
   "cell_type": "code",
   "execution_count": 44,
   "metadata": {
    "ExecuteTime": {
     "end_time": "2020-09-17T13:27:00.504042Z",
     "start_time": "2020-09-17T13:27:00.496067Z"
    }
   },
   "outputs": [
    {
     "data": {
      "text/plain": [
       "'I have to say, Apple has by far the best customer care service I have ever received! @Apple @AppStore'"
      ]
     },
     "execution_count": 44,
     "metadata": {},
     "output_type": "execute_result"
    }
   ],
   "source": [
    "Apple_tweets['Tweet'][0]"
   ]
  },
  {
   "cell_type": "code",
   "execution_count": 45,
   "metadata": {
    "ExecuteTime": {
     "end_time": "2020-09-17T13:27:01.901822Z",
     "start_time": "2020-09-17T13:27:01.895802Z"
    }
   },
   "outputs": [
    {
     "data": {
      "text/plain": [
       "101"
      ]
     },
     "execution_count": 45,
     "metadata": {},
     "output_type": "execute_result"
    }
   ],
   "source": [
    "len(Apple_tweets['Tweet'][0])"
   ]
  },
  {
   "cell_type": "markdown",
   "metadata": {},
   "source": [
    "### Average Word Length"
   ]
  },
  {
   "cell_type": "code",
   "execution_count": 46,
   "metadata": {
    "ExecuteTime": {
     "end_time": "2020-09-17T13:45:51.927637Z",
     "start_time": "2020-09-17T13:45:51.910685Z"
    }
   },
   "outputs": [
    {
     "data": {
      "text/html": [
       "<div>\n",
       "<style scoped>\n",
       "    .dataframe tbody tr th:only-of-type {\n",
       "        vertical-align: middle;\n",
       "    }\n",
       "\n",
       "    .dataframe tbody tr th {\n",
       "        vertical-align: top;\n",
       "    }\n",
       "\n",
       "    .dataframe thead th {\n",
       "        text-align: right;\n",
       "    }\n",
       "</style>\n",
       "<table border=\"1\" class=\"dataframe\">\n",
       "  <thead>\n",
       "    <tr style=\"text-align: right;\">\n",
       "      <th></th>\n",
       "      <th>Tweet</th>\n",
       "      <th>avg_word</th>\n",
       "    </tr>\n",
       "  </thead>\n",
       "  <tbody>\n",
       "    <tr>\n",
       "      <th>0</th>\n",
       "      <td>I have to say, Apple has by far the best custo...</td>\n",
       "      <td>4.368421</td>\n",
       "    </tr>\n",
       "    <tr>\n",
       "      <th>1</th>\n",
       "      <td>iOS 7 is so fricking smooth &amp; beautiful!! #Tha...</td>\n",
       "      <td>5.100000</td>\n",
       "    </tr>\n",
       "    <tr>\n",
       "      <th>2</th>\n",
       "      <td>LOVE U @APPLE</td>\n",
       "      <td>3.666667</td>\n",
       "    </tr>\n",
       "    <tr>\n",
       "      <th>3</th>\n",
       "      <td>Thank you @apple, loving my new iPhone 5S!!!!!...</td>\n",
       "      <td>7.272727</td>\n",
       "    </tr>\n",
       "    <tr>\n",
       "      <th>4</th>\n",
       "      <td>.@apple has the best customer service. In and ...</td>\n",
       "      <td>4.187500</td>\n",
       "    </tr>\n",
       "  </tbody>\n",
       "</table>\n",
       "</div>"
      ],
      "text/plain": [
       "                                               Tweet  avg_word\n",
       "0  I have to say, Apple has by far the best custo...  4.368421\n",
       "1  iOS 7 is so fricking smooth & beautiful!! #Tha...  5.100000\n",
       "2                                      LOVE U @APPLE  3.666667\n",
       "3  Thank you @apple, loving my new iPhone 5S!!!!!...  7.272727\n",
       "4  .@apple has the best customer service. In and ...  4.187500"
      ]
     },
     "execution_count": 46,
     "metadata": {},
     "output_type": "execute_result"
    }
   ],
   "source": [
    "def avg_word(sentence):\n",
    "    words = sentence.split() #splitting the words separately from the input taken\n",
    "    return (sum(len(word) for word in words)/len(words)) # getting the average number of words in the each of the entries\n",
    "\n",
    "Apple_tweets['avg_word'] = Apple_tweets['Tweet'].apply(lambda x: avg_word(x))\n",
    "Apple_tweets[['Tweet','avg_word']].head()"
   ]
  },
  {
   "cell_type": "markdown",
   "metadata": {},
   "source": [
    "### Number of stop Words"
   ]
  },
  {
   "cell_type": "code",
   "execution_count": 47,
   "metadata": {
    "ExecuteTime": {
     "end_time": "2020-09-17T13:46:06.469069Z",
     "start_time": "2020-09-17T13:46:06.418170Z"
    }
   },
   "outputs": [
    {
     "data": {
      "text/html": [
       "<div>\n",
       "<style scoped>\n",
       "    .dataframe tbody tr th:only-of-type {\n",
       "        vertical-align: middle;\n",
       "    }\n",
       "\n",
       "    .dataframe tbody tr th {\n",
       "        vertical-align: top;\n",
       "    }\n",
       "\n",
       "    .dataframe thead th {\n",
       "        text-align: right;\n",
       "    }\n",
       "</style>\n",
       "<table border=\"1\" class=\"dataframe\">\n",
       "  <thead>\n",
       "    <tr style=\"text-align: right;\">\n",
       "      <th></th>\n",
       "      <th>Tweet</th>\n",
       "      <th>stopwords</th>\n",
       "    </tr>\n",
       "  </thead>\n",
       "  <tbody>\n",
       "    <tr>\n",
       "      <th>0</th>\n",
       "      <td>I have to say, Apple has by far the best custo...</td>\n",
       "      <td>6</td>\n",
       "    </tr>\n",
       "    <tr>\n",
       "      <th>1</th>\n",
       "      <td>iOS 7 is so fricking smooth &amp; beautiful!! #Tha...</td>\n",
       "      <td>2</td>\n",
       "    </tr>\n",
       "    <tr>\n",
       "      <th>2</th>\n",
       "      <td>LOVE U @APPLE</td>\n",
       "      <td>0</td>\n",
       "    </tr>\n",
       "    <tr>\n",
       "      <th>3</th>\n",
       "      <td>Thank you @apple, loving my new iPhone 5S!!!!!...</td>\n",
       "      <td>2</td>\n",
       "    </tr>\n",
       "    <tr>\n",
       "      <th>4</th>\n",
       "      <td>.@apple has the best customer service. In and ...</td>\n",
       "      <td>8</td>\n",
       "    </tr>\n",
       "  </tbody>\n",
       "</table>\n",
       "</div>"
      ],
      "text/plain": [
       "                                               Tweet  stopwords\n",
       "0  I have to say, Apple has by far the best custo...          6\n",
       "1  iOS 7 is so fricking smooth & beautiful!! #Tha...          2\n",
       "2                                      LOVE U @APPLE          0\n",
       "3  Thank you @apple, loving my new iPhone 5S!!!!!...          2\n",
       "4  .@apple has the best customer service. In and ...          8"
      ]
     },
     "execution_count": 47,
     "metadata": {},
     "output_type": "execute_result"
    }
   ],
   "source": [
    "from nltk.corpus import stopwords\n",
    "stop = stopwords.words('english')\n",
    "\n",
    "Apple_tweets['stopwords'] = Apple_tweets['Tweet'].apply(lambda x: len([x for x in x.split() if x in stop]))\n",
    "Apple_tweets[['Tweet','stopwords']].head()"
   ]
  },
  {
   "cell_type": "markdown",
   "metadata": {},
   "source": [
    "### Number of special character"
   ]
  },
  {
   "cell_type": "code",
   "execution_count": 48,
   "metadata": {
    "ExecuteTime": {
     "end_time": "2020-09-17T13:46:07.922780Z",
     "start_time": "2020-09-17T13:46:07.904830Z"
    }
   },
   "outputs": [
    {
     "data": {
      "text/html": [
       "<div>\n",
       "<style scoped>\n",
       "    .dataframe tbody tr th:only-of-type {\n",
       "        vertical-align: middle;\n",
       "    }\n",
       "\n",
       "    .dataframe tbody tr th {\n",
       "        vertical-align: top;\n",
       "    }\n",
       "\n",
       "    .dataframe thead th {\n",
       "        text-align: right;\n",
       "    }\n",
       "</style>\n",
       "<table border=\"1\" class=\"dataframe\">\n",
       "  <thead>\n",
       "    <tr style=\"text-align: right;\">\n",
       "      <th></th>\n",
       "      <th>Tweet</th>\n",
       "      <th>hastags</th>\n",
       "    </tr>\n",
       "  </thead>\n",
       "  <tbody>\n",
       "    <tr>\n",
       "      <th>0</th>\n",
       "      <td>I have to say, Apple has by far the best custo...</td>\n",
       "      <td>0</td>\n",
       "    </tr>\n",
       "    <tr>\n",
       "      <th>1</th>\n",
       "      <td>iOS 7 is so fricking smooth &amp; beautiful!! #Tha...</td>\n",
       "      <td>1</td>\n",
       "    </tr>\n",
       "    <tr>\n",
       "      <th>2</th>\n",
       "      <td>LOVE U @APPLE</td>\n",
       "      <td>0</td>\n",
       "    </tr>\n",
       "    <tr>\n",
       "      <th>3</th>\n",
       "      <td>Thank you @apple, loving my new iPhone 5S!!!!!...</td>\n",
       "      <td>2</td>\n",
       "    </tr>\n",
       "    <tr>\n",
       "      <th>4</th>\n",
       "      <td>.@apple has the best customer service. In and ...</td>\n",
       "      <td>0</td>\n",
       "    </tr>\n",
       "  </tbody>\n",
       "</table>\n",
       "</div>"
      ],
      "text/plain": [
       "                                               Tweet  hastags\n",
       "0  I have to say, Apple has by far the best custo...        0\n",
       "1  iOS 7 is so fricking smooth & beautiful!! #Tha...        1\n",
       "2                                      LOVE U @APPLE        0\n",
       "3  Thank you @apple, loving my new iPhone 5S!!!!!...        2\n",
       "4  .@apple has the best customer service. In and ...        0"
      ]
     },
     "execution_count": 48,
     "metadata": {},
     "output_type": "execute_result"
    }
   ],
   "source": [
    "Apple_tweets['hastags'] = Apple_tweets['Tweet'].apply(lambda x: len([x for x in x.split() if x.startswith('#')]))\n",
    "Apple_tweets[['Tweet','hastags']].head()"
   ]
  },
  {
   "cell_type": "markdown",
   "metadata": {},
   "source": [
    "### Number of numerics"
   ]
  },
  {
   "cell_type": "code",
   "execution_count": 49,
   "metadata": {
    "ExecuteTime": {
     "end_time": "2020-09-17T13:47:02.420988Z",
     "start_time": "2020-09-17T13:47:02.407991Z"
    }
   },
   "outputs": [
    {
     "data": {
      "text/html": [
       "<div>\n",
       "<style scoped>\n",
       "    .dataframe tbody tr th:only-of-type {\n",
       "        vertical-align: middle;\n",
       "    }\n",
       "\n",
       "    .dataframe tbody tr th {\n",
       "        vertical-align: top;\n",
       "    }\n",
       "\n",
       "    .dataframe thead th {\n",
       "        text-align: right;\n",
       "    }\n",
       "</style>\n",
       "<table border=\"1\" class=\"dataframe\">\n",
       "  <thead>\n",
       "    <tr style=\"text-align: right;\">\n",
       "      <th></th>\n",
       "      <th>Tweet</th>\n",
       "      <th>numerics</th>\n",
       "    </tr>\n",
       "  </thead>\n",
       "  <tbody>\n",
       "    <tr>\n",
       "      <th>0</th>\n",
       "      <td>I have to say, Apple has by far the best custo...</td>\n",
       "      <td>0</td>\n",
       "    </tr>\n",
       "    <tr>\n",
       "      <th>1</th>\n",
       "      <td>iOS 7 is so fricking smooth &amp; beautiful!! #Tha...</td>\n",
       "      <td>1</td>\n",
       "    </tr>\n",
       "    <tr>\n",
       "      <th>2</th>\n",
       "      <td>LOVE U @APPLE</td>\n",
       "      <td>0</td>\n",
       "    </tr>\n",
       "    <tr>\n",
       "      <th>3</th>\n",
       "      <td>Thank you @apple, loving my new iPhone 5S!!!!!...</td>\n",
       "      <td>3</td>\n",
       "    </tr>\n",
       "    <tr>\n",
       "      <th>4</th>\n",
       "      <td>.@apple has the best customer service. In and ...</td>\n",
       "      <td>2</td>\n",
       "    </tr>\n",
       "  </tbody>\n",
       "</table>\n",
       "</div>"
      ],
      "text/plain": [
       "                                               Tweet  numerics\n",
       "0  I have to say, Apple has by far the best custo...         0\n",
       "1  iOS 7 is so fricking smooth & beautiful!! #Tha...         1\n",
       "2                                      LOVE U @APPLE         0\n",
       "3  Thank you @apple, loving my new iPhone 5S!!!!!...         3\n",
       "4  .@apple has the best customer service. In and ...         2"
      ]
     },
     "execution_count": 49,
     "metadata": {},
     "output_type": "execute_result"
    }
   ],
   "source": [
    "Apple_tweets['numerics'] = Apple_tweets['Tweet'].apply(lambda x: len(re.findall(r'[0-9]',x)))\n",
    "Apple_tweets[['Tweet','numerics']].head()"
   ]
  },
  {
   "cell_type": "markdown",
   "metadata": {},
   "source": [
    "### Number of Uppercase Words"
   ]
  },
  {
   "cell_type": "code",
   "execution_count": 50,
   "metadata": {
    "ExecuteTime": {
     "end_time": "2020-09-17T13:48:14.374796Z",
     "start_time": "2020-09-17T13:48:14.360836Z"
    }
   },
   "outputs": [
    {
     "data": {
      "text/html": [
       "<div>\n",
       "<style scoped>\n",
       "    .dataframe tbody tr th:only-of-type {\n",
       "        vertical-align: middle;\n",
       "    }\n",
       "\n",
       "    .dataframe tbody tr th {\n",
       "        vertical-align: top;\n",
       "    }\n",
       "\n",
       "    .dataframe thead th {\n",
       "        text-align: right;\n",
       "    }\n",
       "</style>\n",
       "<table border=\"1\" class=\"dataframe\">\n",
       "  <thead>\n",
       "    <tr style=\"text-align: right;\">\n",
       "      <th></th>\n",
       "      <th>Tweet</th>\n",
       "      <th>upper</th>\n",
       "    </tr>\n",
       "  </thead>\n",
       "  <tbody>\n",
       "    <tr>\n",
       "      <th>0</th>\n",
       "      <td>I have to say, Apple has by far the best custo...</td>\n",
       "      <td>2</td>\n",
       "    </tr>\n",
       "    <tr>\n",
       "      <th>1</th>\n",
       "      <td>iOS 7 is so fricking smooth &amp; beautiful!! #Tha...</td>\n",
       "      <td>0</td>\n",
       "    </tr>\n",
       "    <tr>\n",
       "      <th>2</th>\n",
       "      <td>LOVE U @APPLE</td>\n",
       "      <td>3</td>\n",
       "    </tr>\n",
       "    <tr>\n",
       "      <th>3</th>\n",
       "      <td>Thank you @apple, loving my new iPhone 5S!!!!!...</td>\n",
       "      <td>1</td>\n",
       "    </tr>\n",
       "    <tr>\n",
       "      <th>4</th>\n",
       "      <td>.@apple has the best customer service. In and ...</td>\n",
       "      <td>0</td>\n",
       "    </tr>\n",
       "  </tbody>\n",
       "</table>\n",
       "</div>"
      ],
      "text/plain": [
       "                                               Tweet  upper\n",
       "0  I have to say, Apple has by far the best custo...      2\n",
       "1  iOS 7 is so fricking smooth & beautiful!! #Tha...      0\n",
       "2                                      LOVE U @APPLE      3\n",
       "3  Thank you @apple, loving my new iPhone 5S!!!!!...      1\n",
       "4  .@apple has the best customer service. In and ...      0"
      ]
     },
     "execution_count": 50,
     "metadata": {},
     "output_type": "execute_result"
    }
   ],
   "source": [
    "Apple_tweets['upper'] = Apple_tweets['Tweet'].apply(lambda x: len([x for x in x.split() if x.isupper()]))\n",
    "Apple_tweets[['Tweet','upper']].head()"
   ]
  },
  {
   "cell_type": "markdown",
   "metadata": {},
   "source": [
    "### Number of Uppercase Letters"
   ]
  },
  {
   "cell_type": "code",
   "execution_count": 51,
   "metadata": {
    "ExecuteTime": {
     "end_time": "2020-09-17T13:48:38.429737Z",
     "start_time": "2020-09-17T13:48:38.412749Z"
    }
   },
   "outputs": [
    {
     "data": {
      "text/html": [
       "<div>\n",
       "<style scoped>\n",
       "    .dataframe tbody tr th:only-of-type {\n",
       "        vertical-align: middle;\n",
       "    }\n",
       "\n",
       "    .dataframe tbody tr th {\n",
       "        vertical-align: top;\n",
       "    }\n",
       "\n",
       "    .dataframe thead th {\n",
       "        text-align: right;\n",
       "    }\n",
       "</style>\n",
       "<table border=\"1\" class=\"dataframe\">\n",
       "  <thead>\n",
       "    <tr style=\"text-align: right;\">\n",
       "      <th></th>\n",
       "      <th>Tweet</th>\n",
       "      <th>upper_letter</th>\n",
       "    </tr>\n",
       "  </thead>\n",
       "  <tbody>\n",
       "    <tr>\n",
       "      <th>0</th>\n",
       "      <td>I have to say, Apple has by far the best custo...</td>\n",
       "      <td>6</td>\n",
       "    </tr>\n",
       "    <tr>\n",
       "      <th>1</th>\n",
       "      <td>iOS 7 is so fricking smooth &amp; beautiful!! #Tha...</td>\n",
       "      <td>5</td>\n",
       "    </tr>\n",
       "    <tr>\n",
       "      <th>2</th>\n",
       "      <td>LOVE U @APPLE</td>\n",
       "      <td>10</td>\n",
       "    </tr>\n",
       "    <tr>\n",
       "      <th>3</th>\n",
       "      <td>Thank you @apple, loving my new iPhone 5S!!!!!...</td>\n",
       "      <td>9</td>\n",
       "    </tr>\n",
       "    <tr>\n",
       "      <th>4</th>\n",
       "      <td>.@apple has the best customer service. In and ...</td>\n",
       "      <td>1</td>\n",
       "    </tr>\n",
       "  </tbody>\n",
       "</table>\n",
       "</div>"
      ],
      "text/plain": [
       "                                               Tweet  upper_letter\n",
       "0  I have to say, Apple has by far the best custo...             6\n",
       "1  iOS 7 is so fricking smooth & beautiful!! #Tha...             5\n",
       "2                                      LOVE U @APPLE            10\n",
       "3  Thank you @apple, loving my new iPhone 5S!!!!!...             9\n",
       "4  .@apple has the best customer service. In and ...             1"
      ]
     },
     "execution_count": 51,
     "metadata": {},
     "output_type": "execute_result"
    }
   ],
   "source": [
    "Apple_tweets['upper_letter'] = Apple_tweets['Tweet'].apply(lambda x: len(re.findall(r'[A-Z]',x)))\n",
    "Apple_tweets[['Tweet','upper_letter']].head()"
   ]
  },
  {
   "cell_type": "markdown",
   "metadata": {},
   "source": [
    "## Basic Pre-Processing"
   ]
  },
  {
   "cell_type": "markdown",
   "metadata": {},
   "source": [
    "### Lower Case conversion"
   ]
  },
  {
   "cell_type": "code",
   "execution_count": 52,
   "metadata": {
    "ExecuteTime": {
     "end_time": "2020-09-17T13:48:40.866892Z",
     "start_time": "2020-09-17T13:48:40.853895Z"
    }
   },
   "outputs": [
    {
     "data": {
      "text/plain": [
       "0    i have to say, apple has by far the best custo...\n",
       "1    ios 7 is so fricking smooth & beautiful!! #tha...\n",
       "2                                        love u @apple\n",
       "3    thank you @apple, loving my new iphone 5s!!!!!...\n",
       "4    .@apple has the best customer service. in and ...\n",
       "Name: Tweet, dtype: object"
      ]
     },
     "execution_count": 52,
     "metadata": {},
     "output_type": "execute_result"
    }
   ],
   "source": [
    "Apple_tweets['Tweet'] = Apple_tweets['Tweet'].apply(lambda x: \" \".join(x.lower() for x in x.split()))\n",
    "Apple_tweets['Tweet'].head()"
   ]
  },
  {
   "cell_type": "markdown",
   "metadata": {},
   "source": [
    "### Removal of Punctuation"
   ]
  },
  {
   "cell_type": "code",
   "execution_count": 53,
   "metadata": {
    "ExecuteTime": {
     "end_time": "2020-09-17T13:48:41.947072Z",
     "start_time": "2020-09-17T13:48:41.936063Z"
    }
   },
   "outputs": [
    {
     "data": {
      "text/plain": [
       "0    i have to say apple has by far the best custom...\n",
       "1    ios 7 is so fricking smooth  beautiful thanxap...\n",
       "2                                         love u apple\n",
       "3    thank you apple loving my new iphone 5s apple ...\n",
       "4    apple has the best customer service in and out...\n",
       "Name: Tweet, dtype: object"
      ]
     },
     "execution_count": 53,
     "metadata": {},
     "output_type": "execute_result"
    }
   ],
   "source": [
    "Apple_tweets['Tweet'] = Apple_tweets['Tweet'].str.replace('[^\\w\\s]','')\n",
    "#\\w: Returns a match where the string contains any word characters (characters from a to Z, digits from 0-9, and the underscore _ character)\n",
    "#\\s: Returns a match where the string contains a white space character.\n",
    "#[^]: Returns a match for any character EXCEPT what is written after it.\n",
    "Apple_tweets['Tweet'].head()"
   ]
  },
  {
   "cell_type": "markdown",
   "metadata": {},
   "source": [
    "### Removal of StopWords"
   ]
  },
  {
   "cell_type": "code",
   "execution_count": 54,
   "metadata": {
    "ExecuteTime": {
     "end_time": "2020-09-17T13:48:43.018210Z",
     "start_time": "2020-09-17T13:48:42.973290Z"
    }
   },
   "outputs": [
    {
     "data": {
      "text/plain": [
       "0    say apple far best customer care service ever ...\n",
       "1     ios 7 fricking smooth beautiful thanxapple apple\n",
       "2                                         love u apple\n",
       "3    thank apple loving new iphone 5s apple iphone5...\n",
       "4          apple best customer service new phone 10min\n",
       "Name: Tweet, dtype: object"
      ]
     },
     "execution_count": 54,
     "metadata": {},
     "output_type": "execute_result"
    }
   ],
   "source": [
    "from nltk.corpus import stopwords\n",
    "stop = stopwords.words('english')\n",
    "Apple_tweets['Tweet'] = Apple_tweets['Tweet'].apply(lambda x: \" \".join(x for x in x.split() if x not in stop))\n",
    "Apple_tweets['Tweet'].head()"
   ]
  },
  {
   "cell_type": "markdown",
   "metadata": {},
   "source": [
    "### Common Words Removal\n",
    "1. **We will create a list of 10 frequently occuring words and then decide if we need to remove it or retain it.**\n",
    "2. **Reason is that this file has tweets related to Apple.. So no point in keeping the word like Apple, unless we have tweets from other brands**"
   ]
  },
  {
   "cell_type": "code",
   "execution_count": 55,
   "metadata": {
    "ExecuteTime": {
     "end_time": "2020-09-17T13:48:44.047416Z",
     "start_time": "2020-09-17T13:48:44.034451Z"
    }
   },
   "outputs": [
    {
     "data": {
      "text/plain": [
       "apple              1297\n",
       "iphone              257\n",
       "new                 113\n",
       "5s                   91\n",
       "ipad                 88\n",
       "itunes               79\n",
       "phone                75\n",
       "ipod                 71\n",
       "get                  60\n",
       "ipodplayerpromo      60\n",
       "dtype: int64"
      ]
     },
     "execution_count": 55,
     "metadata": {},
     "output_type": "execute_result"
    }
   ],
   "source": [
    "freq = pd.Series(' '.join(Apple_tweets['Tweet']).split()).value_counts()[:10]\n",
    "freq"
   ]
  },
  {
   "cell_type": "code",
   "execution_count": 56,
   "metadata": {
    "ExecuteTime": {
     "end_time": "2020-09-17T13:48:45.188398Z",
     "start_time": "2020-09-17T13:48:45.184409Z"
    }
   },
   "outputs": [],
   "source": [
    "freq =['apple','get']"
   ]
  },
  {
   "cell_type": "markdown",
   "metadata": {},
   "source": [
    "1. **As we are talking about multiple products hence iphone will be kept, similarly some tweets do relate to old products without mentioning the word old, hence even new would be kept in the tweets.**\n",
    "2. **hence only apple and get would be removed**"
   ]
  },
  {
   "cell_type": "code",
   "execution_count": 57,
   "metadata": {
    "ExecuteTime": {
     "end_time": "2020-09-17T13:48:46.194713Z",
     "start_time": "2020-09-17T13:48:46.184700Z"
    }
   },
   "outputs": [
    {
     "data": {
      "text/plain": [
       "0    say far best customer care service ever receiv...\n",
       "1           ios 7 fricking smooth beautiful thanxapple\n",
       "2                                               love u\n",
       "3    thank loving new iphone 5s iphone5s pictwitter...\n",
       "4                best customer service new phone 10min\n",
       "Name: Tweet, dtype: object"
      ]
     },
     "execution_count": 57,
     "metadata": {},
     "output_type": "execute_result"
    }
   ],
   "source": [
    "Apple_tweets['Tweet'] = Apple_tweets['Tweet'].apply(lambda x: \" \".join(x for x in x.split() if x not in freq))\n",
    "Apple_tweets['Tweet'].head()"
   ]
  },
  {
   "cell_type": "markdown",
   "metadata": {},
   "source": [
    "### Rare Words Removal\n",
    "**This is done as association of these less occurring words with the existing words could be a noise**"
   ]
  },
  {
   "cell_type": "code",
   "execution_count": 58,
   "metadata": {
    "ExecuteTime": {
     "end_time": "2020-09-17T13:48:47.191921Z",
     "start_time": "2020-09-17T13:48:47.178880Z"
    }
   },
   "outputs": [
    {
     "data": {
      "text/plain": [
       "postproduction    1\n",
       "orra              1\n",
       "however           1\n",
       "qnx               1\n",
       "winphan           1\n",
       "courtesy          1\n",
       "xd                1\n",
       "americascup       1\n",
       "goede             1\n",
       "wsdot_traffic     1\n",
       "dtype: int64"
      ]
     },
     "execution_count": 58,
     "metadata": {},
     "output_type": "execute_result"
    }
   ],
   "source": [
    "freq = pd.Series(' '.join(Apple_tweets['Tweet']).split()).value_counts()[-10:]\n",
    "freq\n",
    "## As it is difficult to make out if these words will have association in text analytics or not, \n",
    "## hence to start with these words are kept in the dataset"
   ]
  },
  {
   "cell_type": "markdown",
   "metadata": {},
   "source": [
    "### Stemming -refers to the removal of suffices, like “ing”, “ly”, “s”, etc. by a simple rule-based approach"
   ]
  },
  {
   "cell_type": "code",
   "execution_count": 59,
   "metadata": {
    "ExecuteTime": {
     "end_time": "2020-09-17T13:48:49.524668Z",
     "start_time": "2020-09-17T13:48:49.303254Z"
    }
   },
   "outputs": [
    {
     "data": {
      "text/plain": [
       "0       say far best custom care servic ever receiv ap...\n",
       "1                      io 7 frick smooth beauti thanxappl\n",
       "2                                                  love u\n",
       "3       thank love new iphon 5s iphone5 pictwittercomx...\n",
       "4                      best custom servic new phone 10min\n",
       "                              ...                        \n",
       "1176                                                freak\n",
       "1177      cant freak see pictur tl im annoy freak twitter\n",
       "1178                                      freak cow freak\n",
       "1179                          hate phone work im go freak\n",
       "1180                     agounalaki that nasti nasti brat\n",
       "Name: Tweet, Length: 1181, dtype: object"
      ]
     },
     "execution_count": 59,
     "metadata": {},
     "output_type": "execute_result"
    }
   ],
   "source": [
    "from nltk.stem import PorterStemmer\n",
    "st = PorterStemmer()\n",
    "Apple_tweets['Tweet'].apply(lambda x: \" \".join([st.stem(word) for word in x.split()]))"
   ]
  },
  {
   "cell_type": "code",
   "execution_count": 60,
   "metadata": {
    "ExecuteTime": {
     "end_time": "2020-09-17T13:48:50.527947Z",
     "start_time": "2020-09-17T13:48:50.523957Z"
    }
   },
   "outputs": [],
   "source": [
    "def Tweet(x):\n",
    "    if x >= 0:\n",
    "        return \"Positive\"\n",
    "    else: return \"Negative\"\n"
   ]
  },
  {
   "cell_type": "markdown",
   "metadata": {
    "ExecuteTime": {
     "end_time": "2020-04-10T10:52:41.105760Z",
     "start_time": "2020-04-10T10:52:41.100002Z"
    }
   },
   "source": [
    "### Now to get the sentiments as positive and negative , convert the Avg column . If value is >= 0  then tweet is Positive, else tweet is Negative. This will make a dependent variable as a binary classifier"
   ]
  },
  {
   "cell_type": "code",
   "execution_count": 61,
   "metadata": {
    "ExecuteTime": {
     "end_time": "2020-09-17T13:48:51.525313Z",
     "start_time": "2020-09-17T13:48:51.511317Z"
    }
   },
   "outputs": [
    {
     "data": {
      "text/html": [
       "<div>\n",
       "<style scoped>\n",
       "    .dataframe tbody tr th:only-of-type {\n",
       "        vertical-align: middle;\n",
       "    }\n",
       "\n",
       "    .dataframe tbody tr th {\n",
       "        vertical-align: top;\n",
       "    }\n",
       "\n",
       "    .dataframe thead th {\n",
       "        text-align: right;\n",
       "    }\n",
       "</style>\n",
       "<table border=\"1\" class=\"dataframe\">\n",
       "  <thead>\n",
       "    <tr style=\"text-align: right;\">\n",
       "      <th></th>\n",
       "      <th>Tweet</th>\n",
       "      <th>Avg</th>\n",
       "      <th>totalwords</th>\n",
       "      <th>word_count</th>\n",
       "      <th>char_count</th>\n",
       "      <th>avg_word</th>\n",
       "      <th>stopwords</th>\n",
       "      <th>hastags</th>\n",
       "      <th>numerics</th>\n",
       "      <th>upper</th>\n",
       "      <th>upper_letter</th>\n",
       "      <th>Sentiment</th>\n",
       "    </tr>\n",
       "  </thead>\n",
       "  <tbody>\n",
       "    <tr>\n",
       "      <th>0</th>\n",
       "      <td>say far best customer care service ever receiv...</td>\n",
       "      <td>2.0</td>\n",
       "      <td>19</td>\n",
       "      <td>19</td>\n",
       "      <td>101</td>\n",
       "      <td>4.368421</td>\n",
       "      <td>6</td>\n",
       "      <td>0</td>\n",
       "      <td>0</td>\n",
       "      <td>2</td>\n",
       "      <td>6</td>\n",
       "      <td>Positive</td>\n",
       "    </tr>\n",
       "    <tr>\n",
       "      <th>1</th>\n",
       "      <td>ios 7 fricking smooth beautiful thanxapple</td>\n",
       "      <td>2.0</td>\n",
       "      <td>10</td>\n",
       "      <td>10</td>\n",
       "      <td>60</td>\n",
       "      <td>5.100000</td>\n",
       "      <td>2</td>\n",
       "      <td>1</td>\n",
       "      <td>1</td>\n",
       "      <td>0</td>\n",
       "      <td>5</td>\n",
       "      <td>Positive</td>\n",
       "    </tr>\n",
       "    <tr>\n",
       "      <th>2</th>\n",
       "      <td>love u</td>\n",
       "      <td>1.8</td>\n",
       "      <td>3</td>\n",
       "      <td>3</td>\n",
       "      <td>13</td>\n",
       "      <td>3.666667</td>\n",
       "      <td>0</td>\n",
       "      <td>0</td>\n",
       "      <td>0</td>\n",
       "      <td>3</td>\n",
       "      <td>10</td>\n",
       "      <td>Positive</td>\n",
       "    </tr>\n",
       "    <tr>\n",
       "      <th>3</th>\n",
       "      <td>thank loving new iphone 5s iphone5s pictwitter...</td>\n",
       "      <td>1.8</td>\n",
       "      <td>11</td>\n",
       "      <td>12</td>\n",
       "      <td>91</td>\n",
       "      <td>7.272727</td>\n",
       "      <td>2</td>\n",
       "      <td>2</td>\n",
       "      <td>3</td>\n",
       "      <td>1</td>\n",
       "      <td>9</td>\n",
       "      <td>Positive</td>\n",
       "    </tr>\n",
       "    <tr>\n",
       "      <th>4</th>\n",
       "      <td>best customer service new phone 10min</td>\n",
       "      <td>1.8</td>\n",
       "      <td>16</td>\n",
       "      <td>16</td>\n",
       "      <td>82</td>\n",
       "      <td>4.187500</td>\n",
       "      <td>8</td>\n",
       "      <td>0</td>\n",
       "      <td>2</td>\n",
       "      <td>0</td>\n",
       "      <td>1</td>\n",
       "      <td>Positive</td>\n",
       "    </tr>\n",
       "  </tbody>\n",
       "</table>\n",
       "</div>"
      ],
      "text/plain": [
       "                                               Tweet  Avg  totalwords  \\\n",
       "0  say far best customer care service ever receiv...  2.0          19   \n",
       "1         ios 7 fricking smooth beautiful thanxapple  2.0          10   \n",
       "2                                             love u  1.8           3   \n",
       "3  thank loving new iphone 5s iphone5s pictwitter...  1.8          11   \n",
       "4              best customer service new phone 10min  1.8          16   \n",
       "\n",
       "   word_count  char_count  avg_word  stopwords  hastags  numerics  upper  \\\n",
       "0          19         101  4.368421          6        0         0      2   \n",
       "1          10          60  5.100000          2        1         1      0   \n",
       "2           3          13  3.666667          0        0         0      3   \n",
       "3          12          91  7.272727          2        2         3      1   \n",
       "4          16          82  4.187500          8        0         2      0   \n",
       "\n",
       "   upper_letter Sentiment  \n",
       "0             6  Positive  \n",
       "1             5  Positive  \n",
       "2            10  Positive  \n",
       "3             9  Positive  \n",
       "4             1  Positive  "
      ]
     },
     "execution_count": 61,
     "metadata": {},
     "output_type": "execute_result"
    }
   ],
   "source": [
    "Apple_tweets[\"Sentiment\"] = Apple_tweets[\"Avg\"].apply(Tweet)\n",
    "\n",
    "Apple_tweets.head()"
   ]
  },
  {
   "cell_type": "code",
   "execution_count": 62,
   "metadata": {
    "ExecuteTime": {
     "end_time": "2020-09-17T13:48:52.541303Z",
     "start_time": "2020-09-17T13:48:52.504660Z"
    }
   },
   "outputs": [
    {
     "name": "stdout",
     "output_type": "stream",
     "text": [
      "<class 'pandas.core.frame.DataFrame'>\n",
      "RangeIndex: 1181 entries, 0 to 1180\n",
      "Data columns (total 12 columns):\n",
      " #   Column        Non-Null Count  Dtype  \n",
      "---  ------        --------------  -----  \n",
      " 0   Tweet         1181 non-null   object \n",
      " 1   Avg           1181 non-null   float64\n",
      " 2   totalwords    1181 non-null   int64  \n",
      " 3   word_count    1181 non-null   int64  \n",
      " 4   char_count    1181 non-null   int64  \n",
      " 5   avg_word      1181 non-null   float64\n",
      " 6   stopwords     1181 non-null   int64  \n",
      " 7   hastags       1181 non-null   int64  \n",
      " 8   numerics      1181 non-null   int64  \n",
      " 9   upper         1181 non-null   int64  \n",
      " 10  upper_letter  1181 non-null   int64  \n",
      " 11  Sentiment     1181 non-null   object \n",
      "dtypes: float64(2), int64(8), object(2)\n",
      "memory usage: 110.8+ KB\n"
     ]
    }
   ],
   "source": [
    "Apple_tweets.info()"
   ]
  },
  {
   "cell_type": "markdown",
   "metadata": {},
   "source": [
    "## Let's look at distribution of different sentiments"
   ]
  },
  {
   "cell_type": "code",
   "execution_count": 63,
   "metadata": {
    "ExecuteTime": {
     "end_time": "2020-09-17T13:48:54.107314Z",
     "start_time": "2020-09-17T13:48:53.521680Z"
    }
   },
   "outputs": [
    {
     "data": {
      "image/png": "[encoded data removed]",
      "text/plain": [
       "<Figure size 576x432 with 1 Axes>"
      ]
     },
     "metadata": {},
     "output_type": "display_data"
    }
   ],
   "source": [
    "plt.figure(figsize=(8,6))\n",
    "Apple_tweets.Sentiment.value_counts().plot(kind='pie', autopct='%1.0f%%', colors=[\"green\",\"red\"])\n",
    "plt.show()"
   ]
  },
  {
   "cell_type": "code",
   "execution_count": 64,
   "metadata": {
    "ExecuteTime": {
     "end_time": "2020-09-17T13:48:56.405729Z",
     "start_time": "2020-09-17T13:48:56.396722Z"
    }
   },
   "outputs": [
    {
     "name": "stdout",
     "output_type": "stream",
     "text": [
      "<class 'pandas.core.frame.DataFrame'>\n",
      "RangeIndex: 1181 entries, 0 to 1180\n",
      "Data columns (total 12 columns):\n",
      " #   Column        Non-Null Count  Dtype  \n",
      "---  ------        --------------  -----  \n",
      " 0   Tweet         1181 non-null   object \n",
      " 1   Avg           1181 non-null   float64\n",
      " 2   totalwords    1181 non-null   int64  \n",
      " 3   word_count    1181 non-null   int64  \n",
      " 4   char_count    1181 non-null   int64  \n",
      " 5   avg_word      1181 non-null   float64\n",
      " 6   stopwords     1181 non-null   int64  \n",
      " 7   hastags       1181 non-null   int64  \n",
      " 8   numerics      1181 non-null   int64  \n",
      " 9   upper         1181 non-null   int64  \n",
      " 10  upper_letter  1181 non-null   int64  \n",
      " 11  Sentiment     1181 non-null   object \n",
      "dtypes: float64(2), int64(8), object(2)\n",
      "memory usage: 110.8+ KB\n"
     ]
    }
   ],
   "source": [
    "Apple_tweets.info()"
   ]
  },
  {
   "cell_type": "code",
   "execution_count": 65,
   "metadata": {
    "ExecuteTime": {
     "end_time": "2020-09-17T13:51:28.302207Z",
     "start_time": "2020-09-17T13:51:28.298218Z"
    }
   },
   "outputs": [],
   "source": [
    "processed_features = Apple_tweets.iloc[:, 0].values\n",
    "labels = Apple_tweets.iloc[:, 11].values"
   ]
  },
  {
   "cell_type": "code",
   "execution_count": 66,
   "metadata": {
    "ExecuteTime": {
     "end_time": "2020-09-17T13:51:32.650071Z",
     "start_time": "2020-09-17T13:51:32.644088Z"
    }
   },
   "outputs": [
    {
     "data": {
      "text/plain": [
       "array(['say far best customer care service ever received appstore',\n",
       "       'ios 7 fricking smooth beautiful thanxapple', 'love u', ...,\n",
       "       'freaking cows freak', 'hate phone working im going freak',\n",
       "       'agounalakis thats nasty nasty brat'], dtype=object)"
      ]
     },
     "execution_count": 66,
     "metadata": {},
     "output_type": "execute_result"
    }
   ],
   "source": [
    "processed_features"
   ]
  },
  {
   "cell_type": "code",
   "execution_count": 67,
   "metadata": {
    "ExecuteTime": {
     "end_time": "2020-09-17T13:51:33.713226Z",
     "start_time": "2020-09-17T13:51:33.708242Z"
    }
   },
   "outputs": [
    {
     "data": {
      "text/plain": [
       "array(['Positive', 'Positive', 'Positive', ..., 'Negative', 'Negative',\n",
       "       'Negative'], dtype=object)"
      ]
     },
     "execution_count": 67,
     "metadata": {},
     "output_type": "execute_result"
    }
   ],
   "source": [
    "labels"
   ]
  },
  {
   "cell_type": "markdown",
   "metadata": {},
   "source": [
    "## TfidfVectorizer\n",
    "\n",
    "More here - https://scikit-learn.org/stable/modules/generated/sklearn.feature_extraction.text.TfidfVectorizer.html"
   ]
  },
  {
   "cell_type": "code",
   "execution_count": 68,
   "metadata": {
    "ExecuteTime": {
     "end_time": "2020-09-17T13:51:41.323542Z",
     "start_time": "2020-09-17T13:51:41.298612Z"
    }
   },
   "outputs": [],
   "source": [
    "from sklearn.feature_extraction.text import TfidfVectorizer\n",
    "\n",
    "vectorizer = TfidfVectorizer (max_features=2500, min_df=7, max_df=0.8)\n",
    "processed_features = vectorizer.fit_transform(processed_features).toarray()"
   ]
  },
  {
   "cell_type": "code",
   "execution_count": 69,
   "metadata": {
    "ExecuteTime": {
     "end_time": "2020-09-17T13:51:42.364669Z",
     "start_time": "2020-09-17T13:51:42.358685Z"
    }
   },
   "outputs": [
    {
     "data": {
      "text/plain": [
       "TfidfVectorizer(max_df=0.8, max_features=2500, min_df=7)"
      ]
     },
     "execution_count": 69,
     "metadata": {},
     "output_type": "execute_result"
    }
   ],
   "source": [
    "vectorizer"
   ]
  },
  {
   "cell_type": "code",
   "execution_count": 70,
   "metadata": {
    "ExecuteTime": {
     "end_time": "2020-09-17T13:51:43.387966Z",
     "start_time": "2020-09-17T13:51:43.361003Z"
    },
    "scrolled": false
   },
   "outputs": [
    {
     "data": {
      "text/html": [
       "<div>\n",
       "<style scoped>\n",
       "    .dataframe tbody tr th:only-of-type {\n",
       "        vertical-align: middle;\n",
       "    }\n",
       "\n",
       "    .dataframe tbody tr th {\n",
       "        vertical-align: top;\n",
       "    }\n",
       "\n",
       "    .dataframe thead th {\n",
       "        text-align: right;\n",
       "    }\n",
       "</style>\n",
       "<table border=\"1\" class=\"dataframe\">\n",
       "  <thead>\n",
       "    <tr style=\"text-align: right;\">\n",
       "      <th></th>\n",
       "      <th>5c</th>\n",
       "      <th>5s</th>\n",
       "      <th>7evenstarz</th>\n",
       "      <th>actually</th>\n",
       "      <th>already</th>\n",
       "      <th>always</th>\n",
       "      <th>amazing</th>\n",
       "      <th>amazon</th>\n",
       "      <th>android</th>\n",
       "      <th>anyone</th>\n",
       "      <th>...</th>\n",
       "      <th>wow</th>\n",
       "      <th>wtf</th>\n",
       "      <th>ya</th>\n",
       "      <th>yall</th>\n",
       "      <th>year</th>\n",
       "      <th>yes</th>\n",
       "      <th>yet</th>\n",
       "      <th>yo</th>\n",
       "      <th>yooo</th>\n",
       "      <th>youre</th>\n",
       "    </tr>\n",
       "  </thead>\n",
       "  <tbody>\n",
       "    <tr>\n",
       "      <th>742</th>\n",
       "      <td>0.0</td>\n",
       "      <td>1.000000</td>\n",
       "      <td>0.0</td>\n",
       "      <td>0.0</td>\n",
       "      <td>0.0</td>\n",
       "      <td>0.0</td>\n",
       "      <td>0.0</td>\n",
       "      <td>0.0</td>\n",
       "      <td>0.0</td>\n",
       "      <td>0.0</td>\n",
       "      <td>...</td>\n",
       "      <td>0.0</td>\n",
       "      <td>0.0</td>\n",
       "      <td>0.0</td>\n",
       "      <td>0.0</td>\n",
       "      <td>0.0</td>\n",
       "      <td>0.0</td>\n",
       "      <td>0.0</td>\n",
       "      <td>0.0</td>\n",
       "      <td>0.0</td>\n",
       "      <td>0.0</td>\n",
       "    </tr>\n",
       "    <tr>\n",
       "      <th>993</th>\n",
       "      <td>0.0</td>\n",
       "      <td>0.807513</td>\n",
       "      <td>0.0</td>\n",
       "      <td>0.0</td>\n",
       "      <td>0.0</td>\n",
       "      <td>0.0</td>\n",
       "      <td>0.0</td>\n",
       "      <td>0.0</td>\n",
       "      <td>0.0</td>\n",
       "      <td>0.0</td>\n",
       "      <td>...</td>\n",
       "      <td>0.0</td>\n",
       "      <td>0.0</td>\n",
       "      <td>0.0</td>\n",
       "      <td>0.0</td>\n",
       "      <td>0.0</td>\n",
       "      <td>0.0</td>\n",
       "      <td>0.0</td>\n",
       "      <td>0.0</td>\n",
       "      <td>0.0</td>\n",
       "      <td>0.0</td>\n",
       "    </tr>\n",
       "    <tr>\n",
       "      <th>507</th>\n",
       "      <td>0.0</td>\n",
       "      <td>0.807513</td>\n",
       "      <td>0.0</td>\n",
       "      <td>0.0</td>\n",
       "      <td>0.0</td>\n",
       "      <td>0.0</td>\n",
       "      <td>0.0</td>\n",
       "      <td>0.0</td>\n",
       "      <td>0.0</td>\n",
       "      <td>0.0</td>\n",
       "      <td>...</td>\n",
       "      <td>0.0</td>\n",
       "      <td>0.0</td>\n",
       "      <td>0.0</td>\n",
       "      <td>0.0</td>\n",
       "      <td>0.0</td>\n",
       "      <td>0.0</td>\n",
       "      <td>0.0</td>\n",
       "      <td>0.0</td>\n",
       "      <td>0.0</td>\n",
       "      <td>0.0</td>\n",
       "    </tr>\n",
       "    <tr>\n",
       "      <th>509</th>\n",
       "      <td>0.0</td>\n",
       "      <td>0.807513</td>\n",
       "      <td>0.0</td>\n",
       "      <td>0.0</td>\n",
       "      <td>0.0</td>\n",
       "      <td>0.0</td>\n",
       "      <td>0.0</td>\n",
       "      <td>0.0</td>\n",
       "      <td>0.0</td>\n",
       "      <td>0.0</td>\n",
       "      <td>...</td>\n",
       "      <td>0.0</td>\n",
       "      <td>0.0</td>\n",
       "      <td>0.0</td>\n",
       "      <td>0.0</td>\n",
       "      <td>0.0</td>\n",
       "      <td>0.0</td>\n",
       "      <td>0.0</td>\n",
       "      <td>0.0</td>\n",
       "      <td>0.0</td>\n",
       "      <td>0.0</td>\n",
       "    </tr>\n",
       "    <tr>\n",
       "      <th>97</th>\n",
       "      <td>0.0</td>\n",
       "      <td>0.807513</td>\n",
       "      <td>0.0</td>\n",
       "      <td>0.0</td>\n",
       "      <td>0.0</td>\n",
       "      <td>0.0</td>\n",
       "      <td>0.0</td>\n",
       "      <td>0.0</td>\n",
       "      <td>0.0</td>\n",
       "      <td>0.0</td>\n",
       "      <td>...</td>\n",
       "      <td>0.0</td>\n",
       "      <td>0.0</td>\n",
       "      <td>0.0</td>\n",
       "      <td>0.0</td>\n",
       "      <td>0.0</td>\n",
       "      <td>0.0</td>\n",
       "      <td>0.0</td>\n",
       "      <td>0.0</td>\n",
       "      <td>0.0</td>\n",
       "      <td>0.0</td>\n",
       "    </tr>\n",
       "  </tbody>\n",
       "</table>\n",
       "<p>5 rows × 248 columns</p>\n",
       "</div>"
      ],
      "text/plain": [
       "      5c        5s  7evenstarz  actually  already  always  amazing  amazon  \\\n",
       "742  0.0  1.000000         0.0       0.0      0.0     0.0      0.0     0.0   \n",
       "993  0.0  0.807513         0.0       0.0      0.0     0.0      0.0     0.0   \n",
       "507  0.0  0.807513         0.0       0.0      0.0     0.0      0.0     0.0   \n",
       "509  0.0  0.807513         0.0       0.0      0.0     0.0      0.0     0.0   \n",
       "97   0.0  0.807513         0.0       0.0      0.0     0.0      0.0     0.0   \n",
       "\n",
       "     android  anyone  ...  wow  wtf   ya  yall  year  yes  yet   yo  yooo  \\\n",
       "742      0.0     0.0  ...  0.0  0.0  0.0   0.0   0.0  0.0  0.0  0.0   0.0   \n",
       "993      0.0     0.0  ...  0.0  0.0  0.0   0.0   0.0  0.0  0.0  0.0   0.0   \n",
       "507      0.0     0.0  ...  0.0  0.0  0.0   0.0   0.0  0.0  0.0  0.0   0.0   \n",
       "509      0.0     0.0  ...  0.0  0.0  0.0   0.0   0.0  0.0  0.0  0.0   0.0   \n",
       "97       0.0     0.0  ...  0.0  0.0  0.0   0.0   0.0  0.0  0.0  0.0   0.0   \n",
       "\n",
       "     youre  \n",
       "742    0.0  \n",
       "993    0.0  \n",
       "507    0.0  \n",
       "509    0.0  \n",
       "97     0.0  \n",
       "\n",
       "[5 rows x 248 columns]"
      ]
     },
     "execution_count": 70,
     "metadata": {},
     "output_type": "execute_result"
    }
   ],
   "source": [
    "## Extra Knowledge Bytes (TF-IDF)\n",
    "\n",
    "# Let's see how our TD-IDF looks like (sorting by the feature named 5s)\n",
    "# Creating the TF-IDF with the feature names given by the TFIDF vectorizer, sorting it for unerstanding.\n",
    "# Let's chain the .head() method on the DataFrame to inspect the first few observations of the TD-IDF sorted by '5s'\n",
    "pd.DataFrame(processed_features, columns = vectorizer.get_feature_names()).sort_values(by = '5s', ascending=False).head()"
   ]
  },
  {
   "cell_type": "markdown",
   "metadata": {},
   "source": [
    "## Train-Test split"
   ]
  },
  {
   "cell_type": "code",
   "execution_count": 71,
   "metadata": {
    "ExecuteTime": {
     "end_time": "2020-09-17T13:59:11.835866Z",
     "start_time": "2020-09-17T13:59:11.830848Z"
    }
   },
   "outputs": [],
   "source": [
    "from sklearn.model_selection import train_test_split\n",
    "\n",
    "X_train, X_test, y_train, y_test = train_test_split(processed_features, labels, test_size=0.3, random_state=0)"
   ]
  },
  {
   "cell_type": "code",
   "execution_count": 72,
   "metadata": {
    "ExecuteTime": {
     "end_time": "2020-09-17T13:59:12.937885Z",
     "start_time": "2020-09-17T13:59:12.930903Z"
    }
   },
   "outputs": [
    {
     "data": {
      "text/plain": [
       "array(['Negative', 'Negative', 'Positive', 'Negative', 'Positive',\n",
       "       'Positive', 'Positive', 'Negative', 'Positive', 'Negative',\n",
       "       'Negative', 'Positive', 'Negative', 'Negative', 'Negative',\n",
       "       'Positive', 'Positive', 'Negative', 'Positive', 'Positive',\n",
       "       'Negative', 'Positive', 'Positive', 'Positive', 'Positive',\n",
       "       'Positive', 'Positive', 'Negative', 'Negative', 'Negative',\n",
       "       'Positive', 'Negative', 'Negative', 'Positive', 'Positive',\n",
       "       'Positive', 'Negative', 'Positive', 'Negative', 'Negative',\n",
       "       'Positive', 'Positive', 'Positive', 'Negative', 'Positive',\n",
       "       'Positive', 'Negative', 'Positive', 'Positive', 'Negative',\n",
       "       'Negative', 'Negative', 'Negative', 'Positive', 'Positive',\n",
       "       'Positive', 'Negative', 'Positive', 'Negative', 'Positive',\n",
       "       'Negative', 'Negative', 'Positive', 'Positive', 'Positive',\n",
       "       'Negative', 'Positive', 'Positive', 'Negative', 'Positive',\n",
       "       'Negative', 'Positive', 'Negative', 'Negative', 'Positive',\n",
       "       'Negative', 'Negative', 'Positive', 'Positive', 'Positive',\n",
       "       'Negative', 'Negative', 'Positive', 'Positive', 'Negative',\n",
       "       'Negative', 'Positive', 'Positive', 'Positive', 'Positive',\n",
       "       'Positive', 'Positive', 'Positive', 'Positive', 'Positive',\n",
       "       'Positive', 'Positive', 'Positive', 'Negative', 'Positive',\n",
       "       'Positive', 'Negative', 'Negative', 'Positive', 'Positive',\n",
       "       'Negative', 'Negative', 'Positive', 'Positive', 'Negative',\n",
       "       'Positive', 'Negative', 'Positive', 'Positive', 'Negative',\n",
       "       'Positive', 'Negative', 'Positive', 'Negative', 'Negative',\n",
       "       'Positive', 'Positive', 'Positive', 'Positive', 'Positive',\n",
       "       'Positive', 'Negative', 'Negative', 'Positive', 'Positive',\n",
       "       'Positive', 'Positive', 'Positive', 'Positive', 'Positive',\n",
       "       'Positive', 'Negative', 'Negative', 'Negative', 'Negative',\n",
       "       'Positive', 'Positive', 'Positive', 'Negative', 'Positive',\n",
       "       'Positive', 'Positive', 'Positive', 'Negative', 'Positive',\n",
       "       'Positive', 'Negative', 'Negative', 'Negative', 'Positive',\n",
       "       'Positive', 'Negative', 'Negative', 'Positive', 'Positive',\n",
       "       'Positive', 'Negative', 'Negative', 'Negative', 'Positive',\n",
       "       'Positive', 'Negative', 'Negative', 'Positive', 'Positive',\n",
       "       'Positive', 'Positive', 'Positive', 'Positive', 'Positive',\n",
       "       'Positive', 'Negative', 'Positive', 'Negative', 'Positive',\n",
       "       'Positive', 'Positive', 'Negative', 'Positive', 'Negative',\n",
       "       'Negative', 'Positive', 'Positive', 'Negative', 'Positive',\n",
       "       'Positive', 'Positive', 'Positive', 'Positive', 'Positive',\n",
       "       'Positive', 'Positive', 'Negative', 'Positive', 'Negative',\n",
       "       'Positive', 'Positive', 'Negative', 'Positive', 'Positive',\n",
       "       'Positive', 'Positive', 'Positive', 'Positive', 'Negative',\n",
       "       'Positive', 'Positive', 'Positive', 'Negative', 'Positive',\n",
       "       'Positive', 'Positive', 'Positive', 'Positive', 'Negative',\n",
       "       'Positive', 'Negative', 'Positive', 'Negative', 'Positive',\n",
       "       'Positive', 'Positive', 'Positive', 'Negative', 'Positive',\n",
       "       'Negative', 'Negative', 'Positive', 'Negative', 'Positive',\n",
       "       'Positive', 'Positive', 'Positive', 'Positive', 'Negative',\n",
       "       'Negative', 'Positive', 'Negative', 'Positive', 'Negative',\n",
       "       'Negative', 'Positive', 'Positive', 'Negative', 'Positive',\n",
       "       'Negative', 'Positive', 'Negative', 'Negative', 'Positive',\n",
       "       'Positive', 'Positive', 'Positive', 'Positive', 'Positive',\n",
       "       'Negative', 'Negative', 'Negative', 'Positive', 'Negative',\n",
       "       'Positive', 'Negative', 'Positive', 'Positive', 'Positive',\n",
       "       'Positive', 'Negative', 'Negative', 'Positive', 'Negative',\n",
       "       'Positive', 'Positive', 'Negative', 'Negative', 'Positive',\n",
       "       'Negative', 'Positive', 'Positive', 'Negative', 'Positive',\n",
       "       'Negative', 'Negative', 'Positive', 'Negative', 'Positive',\n",
       "       'Positive', 'Negative', 'Negative', 'Negative', 'Negative',\n",
       "       'Positive', 'Negative', 'Negative', 'Positive', 'Positive',\n",
       "       'Positive', 'Positive', 'Positive', 'Positive', 'Positive',\n",
       "       'Positive', 'Positive', 'Negative', 'Negative', 'Negative',\n",
       "       'Positive', 'Negative', 'Positive', 'Positive', 'Positive',\n",
       "       'Positive', 'Positive', 'Negative', 'Positive', 'Negative',\n",
       "       'Negative', 'Positive', 'Positive', 'Positive', 'Positive',\n",
       "       'Negative', 'Negative', 'Negative', 'Negative', 'Positive',\n",
       "       'Negative', 'Positive', 'Positive', 'Positive', 'Positive',\n",
       "       'Negative', 'Negative', 'Negative', 'Positive', 'Positive',\n",
       "       'Negative', 'Positive', 'Positive', 'Negative', 'Positive',\n",
       "       'Positive', 'Negative', 'Negative', 'Negative', 'Positive',\n",
       "       'Negative', 'Positive', 'Positive', 'Negative', 'Positive',\n",
       "       'Positive', 'Positive', 'Negative', 'Positive', 'Positive',\n",
       "       'Negative', 'Negative', 'Negative', 'Negative', 'Negative',\n",
       "       'Negative', 'Negative', 'Positive', 'Positive', 'Positive',\n",
       "       'Negative', 'Positive', 'Negative', 'Negative', 'Negative',\n",
       "       'Positive', 'Positive', 'Positive', 'Positive', 'Negative',\n",
       "       'Negative', 'Negative', 'Negative', 'Positive', 'Negative',\n",
       "       'Positive', 'Positive', 'Positive', 'Negative', 'Positive',\n",
       "       'Positive', 'Negative', 'Positive', 'Negative', 'Positive',\n",
       "       'Positive', 'Positive', 'Negative', 'Positive', 'Positive',\n",
       "       'Negative', 'Positive', 'Negative', 'Positive', 'Positive',\n",
       "       'Positive', 'Positive', 'Negative', 'Negative', 'Negative',\n",
       "       'Negative', 'Positive', 'Negative', 'Positive', 'Positive',\n",
       "       'Positive', 'Positive', 'Negative', 'Positive', 'Positive',\n",
       "       'Negative', 'Negative', 'Positive', 'Positive', 'Positive',\n",
       "       'Positive', 'Positive', 'Positive', 'Positive', 'Negative',\n",
       "       'Positive', 'Negative', 'Negative', 'Positive', 'Positive',\n",
       "       'Positive', 'Positive', 'Positive', 'Negative', 'Negative',\n",
       "       'Negative', 'Negative', 'Negative', 'Positive', 'Negative',\n",
       "       'Negative', 'Negative', 'Negative', 'Negative', 'Positive',\n",
       "       'Negative', 'Positive', 'Negative', 'Negative', 'Positive',\n",
       "       'Positive', 'Positive', 'Negative', 'Positive', 'Positive',\n",
       "       'Negative', 'Positive', 'Positive', 'Positive', 'Positive',\n",
       "       'Negative', 'Negative', 'Positive', 'Negative', 'Positive',\n",
       "       'Negative', 'Negative', 'Negative', 'Negative', 'Negative',\n",
       "       'Positive', 'Negative', 'Negative', 'Positive', 'Positive',\n",
       "       'Positive', 'Negative', 'Positive', 'Negative', 'Positive',\n",
       "       'Negative', 'Negative', 'Negative', 'Positive', 'Negative',\n",
       "       'Positive', 'Negative', 'Positive', 'Positive', 'Positive',\n",
       "       'Negative', 'Positive', 'Positive', 'Positive', 'Negative',\n",
       "       'Positive', 'Negative', 'Positive', 'Negative', 'Negative',\n",
       "       'Negative', 'Positive', 'Positive', 'Negative', 'Positive',\n",
       "       'Negative', 'Positive', 'Positive', 'Positive', 'Positive',\n",
       "       'Negative', 'Negative', 'Negative', 'Negative', 'Negative',\n",
       "       'Negative', 'Positive', 'Positive', 'Positive', 'Positive',\n",
       "       'Positive', 'Positive', 'Positive', 'Positive', 'Positive',\n",
       "       'Positive', 'Negative', 'Positive', 'Positive', 'Positive',\n",
       "       'Positive', 'Negative', 'Negative', 'Positive', 'Negative',\n",
       "       'Positive', 'Negative', 'Positive', 'Positive', 'Positive',\n",
       "       'Negative', 'Negative', 'Negative', 'Negative', 'Positive',\n",
       "       'Negative', 'Negative', 'Negative', 'Negative', 'Negative',\n",
       "       'Negative', 'Positive', 'Negative', 'Negative', 'Positive',\n",
       "       'Negative', 'Positive', 'Positive', 'Positive', 'Positive',\n",
       "       'Positive', 'Positive', 'Negative', 'Positive', 'Positive',\n",
       "       'Negative', 'Positive', 'Negative', 'Positive', 'Negative',\n",
       "       'Positive', 'Negative', 'Negative', 'Negative', 'Positive',\n",
       "       'Negative', 'Negative', 'Positive', 'Positive', 'Positive',\n",
       "       'Negative', 'Negative', 'Negative', 'Positive', 'Positive',\n",
       "       'Positive', 'Positive', 'Positive', 'Positive', 'Negative',\n",
       "       'Negative', 'Positive', 'Positive', 'Positive', 'Negative',\n",
       "       'Positive', 'Negative', 'Positive', 'Negative', 'Positive',\n",
       "       'Positive', 'Negative', 'Negative', 'Positive', 'Negative',\n",
       "       'Positive', 'Positive', 'Negative', 'Positive', 'Positive',\n",
       "       'Negative', 'Positive', 'Negative', 'Negative', 'Negative',\n",
       "       'Negative', 'Negative', 'Negative', 'Negative', 'Negative',\n",
       "       'Negative', 'Positive', 'Positive', 'Positive', 'Negative',\n",
       "       'Positive', 'Positive', 'Positive', 'Negative', 'Positive',\n",
       "       'Negative', 'Negative', 'Negative', 'Negative', 'Positive',\n",
       "       'Negative', 'Positive', 'Negative', 'Negative', 'Positive',\n",
       "       'Negative', 'Negative', 'Positive', 'Negative', 'Positive',\n",
       "       'Positive', 'Positive', 'Negative', 'Negative', 'Negative',\n",
       "       'Negative', 'Negative', 'Negative', 'Negative', 'Negative',\n",
       "       'Negative', 'Negative', 'Positive', 'Negative', 'Negative',\n",
       "       'Negative', 'Positive', 'Positive', 'Positive', 'Positive',\n",
       "       'Negative', 'Negative', 'Positive', 'Positive', 'Negative',\n",
       "       'Positive', 'Positive', 'Positive', 'Positive', 'Positive',\n",
       "       'Positive', 'Positive', 'Positive', 'Negative', 'Negative',\n",
       "       'Negative', 'Negative', 'Negative', 'Positive', 'Positive',\n",
       "       'Negative', 'Negative', 'Negative', 'Negative', 'Positive',\n",
       "       'Negative', 'Positive', 'Negative', 'Negative', 'Positive',\n",
       "       'Positive', 'Positive', 'Positive', 'Negative', 'Positive',\n",
       "       'Positive', 'Negative', 'Positive', 'Positive', 'Positive',\n",
       "       'Positive', 'Positive', 'Negative', 'Positive', 'Positive',\n",
       "       'Negative', 'Positive', 'Negative', 'Negative', 'Positive',\n",
       "       'Negative', 'Negative', 'Negative', 'Negative', 'Negative',\n",
       "       'Positive', 'Positive', 'Negative', 'Positive', 'Positive',\n",
       "       'Negative', 'Negative', 'Positive', 'Positive', 'Positive',\n",
       "       'Positive', 'Negative', 'Positive', 'Positive', 'Positive',\n",
       "       'Positive', 'Negative', 'Positive', 'Negative', 'Positive',\n",
       "       'Negative', 'Positive', 'Positive', 'Positive', 'Positive',\n",
       "       'Negative', 'Negative', 'Negative', 'Negative', 'Negative',\n",
       "       'Negative', 'Negative', 'Negative', 'Negative', 'Negative',\n",
       "       'Positive', 'Positive', 'Positive', 'Positive', 'Negative',\n",
       "       'Positive', 'Positive', 'Positive', 'Negative', 'Positive',\n",
       "       'Negative', 'Positive', 'Positive', 'Positive', 'Negative',\n",
       "       'Negative', 'Negative', 'Positive', 'Positive', 'Positive',\n",
       "       'Negative', 'Negative', 'Negative', 'Positive', 'Negative',\n",
       "       'Positive', 'Negative', 'Positive', 'Negative', 'Positive',\n",
       "       'Positive', 'Negative', 'Positive', 'Positive', 'Positive',\n",
       "       'Negative', 'Positive', 'Negative', 'Negative', 'Negative',\n",
       "       'Negative', 'Positive', 'Negative', 'Positive', 'Negative',\n",
       "       'Negative', 'Positive', 'Negative', 'Positive', 'Negative',\n",
       "       'Positive', 'Negative', 'Positive', 'Positive', 'Positive',\n",
       "       'Negative', 'Positive', 'Positive', 'Negative', 'Positive',\n",
       "       'Positive', 'Negative', 'Negative', 'Negative', 'Positive',\n",
       "       'Negative'], dtype=object)"
      ]
     },
     "execution_count": 72,
     "metadata": {},
     "output_type": "execute_result"
    }
   ],
   "source": [
    "y_train"
   ]
  },
  {
   "cell_type": "markdown",
   "metadata": {},
   "source": [
    "# Gaussian Naive Bayes"
   ]
  },
  {
   "cell_type": "code",
   "execution_count": 73,
   "metadata": {
    "ExecuteTime": {
     "end_time": "2020-09-17T13:59:14.276109Z",
     "start_time": "2020-09-17T13:59:13.935220Z"
    }
   },
   "outputs": [],
   "source": [
    "# To model the Gaussian Navie Bayes classifier\n",
    "from sklearn.naive_bayes import GaussianNB\n",
    "from sklearn import metrics"
   ]
  },
  {
   "cell_type": "code",
   "execution_count": 74,
   "metadata": {
    "ExecuteTime": {
     "end_time": "2020-09-17T13:59:15.280249Z",
     "start_time": "2020-09-17T13:59:15.270278Z"
    }
   },
   "outputs": [
    {
     "data": {
      "text/plain": [
       "GaussianNB()"
      ]
     },
     "execution_count": 74,
     "metadata": {},
     "output_type": "execute_result"
    }
   ],
   "source": [
    "NB_model = GaussianNB()\n",
    "NB_model.fit(X_train, y_train)"
   ]
  },
  {
   "cell_type": "code",
   "execution_count": 75,
   "metadata": {
    "ExecuteTime": {
     "end_time": "2020-09-17T13:59:16.332061Z",
     "start_time": "2020-09-17T13:59:16.258633Z"
    }
   },
   "outputs": [
    {
     "name": "stdout",
     "output_type": "stream",
     "text": [
      "0.7699757869249395\n",
      "[[198 168]\n",
      " [ 22 438]]\n",
      "              precision    recall  f1-score   support\n",
      "\n",
      "    Negative       0.90      0.54      0.68       366\n",
      "    Positive       0.72      0.95      0.82       460\n",
      "\n",
      "    accuracy                           0.77       826\n",
      "   macro avg       0.81      0.75      0.75       826\n",
      "weighted avg       0.80      0.77      0.76       826\n",
      "\n"
     ]
    }
   ],
   "source": [
    "y_train_predict = NB_model.predict(X_train)\n",
    "model_score = NB_model.score(X_train, y_train)                      ## Accuracy\n",
    "print(model_score)\n",
    "print(metrics.confusion_matrix(y_train, y_train_predict))          ## confusion_matrix\n",
    "print(metrics.classification_report(y_train, y_train_predict))     ## classification_report"
   ]
  },
  {
   "cell_type": "code",
   "execution_count": 76,
   "metadata": {
    "ExecuteTime": {
     "end_time": "2020-09-17T13:59:18.039302Z",
     "start_time": "2020-09-17T13:59:18.012345Z"
    },
    "scrolled": true
   },
   "outputs": [
    {
     "name": "stdout",
     "output_type": "stream",
     "text": [
      "0.6704225352112676\n",
      "[[ 92  83]\n",
      " [ 34 146]]\n",
      "              precision    recall  f1-score   support\n",
      "\n",
      "    Negative       0.73      0.53      0.61       175\n",
      "    Positive       0.64      0.81      0.71       180\n",
      "\n",
      "    accuracy                           0.67       355\n",
      "   macro avg       0.68      0.67      0.66       355\n",
      "weighted avg       0.68      0.67      0.66       355\n",
      "\n"
     ]
    }
   ],
   "source": [
    "## Performance Matrix on test data set\n",
    "y_test_predict = NB_model.predict(X_test)\n",
    "model_score = NB_model.score(X_test, y_test)                    ## Accuracy\n",
    "print(model_score)\n",
    "print(metrics.confusion_matrix(y_test, y_test_predict))         ## confusion_matrix\n",
    "print(metrics.classification_report(y_test, y_test_predict))    ## classification_report"
   ]
  },
  {
   "cell_type": "markdown",
   "metadata": {},
   "source": [
    "**Pl. note - Model building is an iterative process. Model performance both on the test and train dataset can be improved using feature engineering, feature extraction, hyper parameter tuning (including combination of various parameters).** \n",
    "\n",
    "**Model has to match the business objective and hence various permutation and combinations can be tried on to refine the model**"
   ]
  },
  {
   "cell_type": "markdown",
   "metadata": {},
   "source": [
    "## Creating a Wordcloud"
   ]
  },
  {
   "cell_type": "code",
   "execution_count": 77,
   "metadata": {
    "ExecuteTime": {
     "end_time": "2020-09-17T13:51:53.273873Z",
     "start_time": "2020-09-17T13:51:53.267852Z"
    }
   },
   "outputs": [
    {
     "data": {
      "text/plain": [
       "30    dear love new default alarm ringtone goodmorning\n",
       "Name: Tweet, dtype: object"
      ]
     },
     "execution_count": 77,
     "metadata": {},
     "output_type": "execute_result"
    }
   ],
   "source": [
    "# Recall Apple_Tweets['Tweet'] from above. It has been processed at a basic level!\n",
    "\n",
    "Apple_tweets['Tweet'].iloc[30:31] #Checking a tweet at random!"
   ]
  },
  {
   "cell_type": "code",
   "execution_count": 78,
   "metadata": {
    "ExecuteTime": {
     "end_time": "2020-09-17T13:51:54.343007Z",
     "start_time": "2020-09-17T13:51:54.338019Z"
    }
   },
   "outputs": [],
   "source": [
    "# Removing symbols and punctuations \n",
    "# further_clean = Apple_tweets['Tweet'].str.replace('[^\\w\\s]','')\n",
    "\n",
    "# Extending the list of stop words (including words like Apple, bitly, dear, please, etc.)\n",
    "stop_words = list(stopwords.words('english'))\n",
    "stop_words.extend([\"apple\", \"http\",\"bit\",\"bitly\",\"bit ly\", \"dear\", \"im\", \"i'm\", \"please\"])"
   ]
  },
  {
   "cell_type": "code",
   "execution_count": 79,
   "metadata": {
    "ExecuteTime": {
     "end_time": "2020-09-17T13:51:55.693364Z",
     "start_time": "2020-09-17T13:51:55.344534Z"
    }
   },
   "outputs": [
    {
     "data": {
      "text/plain": [
       "0       say far best customer care service ever receiv...\n",
       "1              ios 7 fricking smooth beautiful thanxapple\n",
       "2                                                  love u\n",
       "3       thank loving new iphone 5s iphone5s pictwitter...\n",
       "4                   best customer service new phone 10min\n",
       "                              ...                        \n",
       "1176                                                freak\n",
       "1177    cant freaking see pictures tl annoyed freak tw...\n",
       "1178                                  freaking cows freak\n",
       "1179                       hate phone working going freak\n",
       "1180                   agounalakis thats nasty nasty brat\n",
       "Name: Tweet, Length: 1181, dtype: object"
      ]
     },
     "execution_count": 79,
     "metadata": {},
     "output_type": "execute_result"
    }
   ],
   "source": [
    "#Removing stop words (extended list as above) from the corpus \n",
    "\n",
    "corpus = Apple_tweets['Tweet'].apply(lambda x: ' '.join([z for z in x.split() if z not in stop_words])) \n",
    "corpus"
   ]
  },
  {
   "cell_type": "code",
   "execution_count": 80,
   "metadata": {
    "ExecuteTime": {
     "end_time": "2020-09-17T13:51:56.694654Z",
     "start_time": "2020-09-17T13:51:56.691688Z"
    }
   },
   "outputs": [],
   "source": [
    "wc_a = ' '.join(corpus)"
   ]
  },
  {
   "cell_type": "code",
   "execution_count": 81,
   "metadata": {
    "ExecuteTime": {
     "end_time": "2020-09-17T13:52:15.853157Z",
     "start_time": "2020-09-17T13:51:57.709686Z"
    }
   },
   "outputs": [
    {
     "name": "stdout",
     "output_type": "stream",
     "text": [
      "Word Cloud for Apple_Tweets (after cleaning)!!\n"
     ]
    },
    {
     "data": {
      "image/png": "[encoded data removed]",
      "text/plain": [
       "<Figure size 576x576 with 1 Axes>"
      ]
     },
     "metadata": {
      "needs_background": "light"
     },
     "output_type": "display_data"
    }
   ],
   "source": [
    "# Word Cloud \n",
    "from wordcloud import WordCloud\n",
    "wordcloud = WordCloud(width = 3000, height = 3000, \n",
    "                background_color ='black', \n",
    "                min_font_size = 10, random_state=100).generate(wc_a) \n",
    "  \n",
    "# plot the WordCloud image                        \n",
    "plt.figure(figsize = (8, 8), facecolor = None) \n",
    "plt.imshow(wordcloud) \n",
    "plt.axis(\"off\")\n",
    "plt.xlabel('Word Cloud')\n",
    "plt.tight_layout(pad = 0) \n",
    "\n",
    "print(\"Word Cloud for Apple_Tweets (after cleaning)!!\")\n",
    "plt.show()\n",
    "\n",
    "#Tip: You can specify stopwords, regex (punctuations/symbols) in the wordcloud itself, check CTRL+TAB on the wordcloud fuction!"
   ]
  },
  {
   "cell_type": "markdown",
   "metadata": {},
   "source": [
    "# END"
   ]
  }
 ],
 "metadata": {
  "kernelspec": {
   "display_name": "Python 3",
   "language": "python",
   "name": "python3"
  },
  "language_info": {
   "codemirror_mode": {
    "name": "ipython",
    "version": 3
   },
   "file_extension": ".py",
   "mimetype": "text/x-python",
   "name": "python",
   "nbconvert_exporter": "python",
   "pygments_lexer": "ipython3",
   "version": "3.7.6"
  },
  "toc": {
   "base_numbering": 1,
   "nav_menu": {},
   "number_sections": true,
   "sideBar": true,
   "skip_h1_title": false,
   "title_cell": "Table of Contents",
   "title_sidebar": "Contents",
   "toc_cell": false,
   "toc_position": {},
   "toc_section_display": true,
   "toc_window_display": false
  },
  "varInspector": {
   "cols": {
    "lenName": 16,
    "lenType": 16,
    "lenVar": 40
   },
   "kernels_config": {
    "python": {
     "delete_cmd_postfix": "",
     "delete_cmd_prefix": "del ",
     "library": "var_list.py",
     "varRefreshCmd": "print(var_dic_list())"
    },
    "r": {
     "delete_cmd_postfix": ") ",
     "delete_cmd_prefix": "rm(",
     "library": "var_list.r",
     "varRefreshCmd": "cat(var_dic_list()) "
    }
   },
   "types_to_exclude": [
    "module",
    "function",
    "builtin_function_or_method",
    "instance",
    "_Feature"
   ],
   "window_display": false
  }
 },
 "nbformat": 4,
 "nbformat_minor": 2
}
